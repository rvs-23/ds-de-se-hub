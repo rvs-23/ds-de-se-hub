{
 "cells": [
  {
   "cell_type": "code",
   "execution_count": 1,
   "id": "marked-geography",
   "metadata": {},
   "outputs": [],
   "source": [
    "import re"
   ]
  },
  {
   "cell_type": "markdown",
   "id": "scientific-weather",
   "metadata": {},
   "source": [
    "## Matching Email Addresses"
   ]
  },
  {
   "cell_type": "code",
   "execution_count": 2,
   "id": "critical-president",
   "metadata": {},
   "outputs": [],
   "source": [
    "emails = \"\"\"\n",
    "RishavSharma@gmail.com\n",
    "rv.sharma@du.edu\n",
    "rv-23-sharma@my-company.net\n",
    "\"\"\""
   ]
  },
  {
   "cell_type": "markdown",
   "id": "guided-disability",
   "metadata": {},
   "source": [
    "#### To match the first email address, we see that it contains one or more lower and upper case letters till @ after which it contains one or more small letters, then a dot and then small letters."
   ]
  },
  {
   "cell_type": "code",
   "execution_count": 3,
   "id": "needed-astrology",
   "metadata": {},
   "outputs": [
    {
     "name": "stdout",
     "output_type": "stream",
     "text": [
      "<re.Match object; span=(1, 23), match='RishavSharma@gmail.com'>\n"
     ]
    }
   ],
   "source": [
    "pattern1 = re.compile(r'[a-zA-Z.]+@[a-z]+\\.com')\n",
    "\n",
    "matches = pattern1.finditer(emails)\n",
    "\n",
    "for match in matches:\n",
    "    print(match)"
   ]
  },
  {
   "cell_type": "markdown",
   "id": "manufactured-design",
   "metadata": {},
   "source": [
    "#### In order to get the next email address which contains .edu instead of .com, we can group com and edu together using or."
   ]
  },
  {
   "cell_type": "code",
   "execution_count": 4,
   "id": "usual-johnston",
   "metadata": {},
   "outputs": [
    {
     "name": "stdout",
     "output_type": "stream",
     "text": [
      "<re.Match object; span=(1, 23), match='RishavSharma@gmail.com'>\n",
      "<re.Match object; span=(24, 40), match='rv.sharma@du.edu'>\n"
     ]
    }
   ],
   "source": [
    "pattern2 = re.compile(r'[a-zA-Z.]+@[a-z]+\\.(com|edu)')\n",
    "\n",
    "matches = pattern2.finditer(emails)\n",
    "\n",
    "for match in matches:\n",
    "    print(match)"
   ]
  },
  {
   "cell_type": "markdown",
   "id": "occasional-meeting",
   "metadata": {},
   "source": [
    "#### To get the last email address, we also need to include the presence of digits in the pattern before @. Additionaly, we also need to add hyphens which are present in both the domain and the address"
   ]
  },
  {
   "cell_type": "code",
   "execution_count": 5,
   "id": "buried-delhi",
   "metadata": {},
   "outputs": [
    {
     "name": "stdout",
     "output_type": "stream",
     "text": [
      "<re.Match object; span=(1, 23), match='RishavSharma@gmail.com'>\n",
      "<re.Match object; span=(24, 40), match='rv.sharma@du.edu'>\n",
      "<re.Match object; span=(41, 68), match='rv-23-sharma@my-company.net'>\n"
     ]
    }
   ],
   "source": [
    "pattern3 = re.compile(r'[a-zA-Z0-9.-]+@[a-z-]+\\.(edu|net|com)')\n",
    "\n",
    "matches = pattern3.finditer(emails)\n",
    "\n",
    "for match in matches:\n",
    "    print(match)"
   ]
  },
  {
   "cell_type": "markdown",
   "id": "miniature-steps",
   "metadata": {},
   "source": [
    "## Capturing information from groups"
   ]
  },
  {
   "cell_type": "code",
   "execution_count": 6,
   "id": "provincial-multiple",
   "metadata": {},
   "outputs": [],
   "source": [
    "urls = \"\"\"\n",
    "https://www.google.com\n",
    "http://rvs.com\n",
    "https://youtube.com\n",
    "https://www.isro.gov.in\n",
    "\"\"\""
   ]
  },
  {
   "cell_type": "markdown",
   "id": "fantastic-liverpool",
   "metadata": {},
   "source": [
    "##### All the urls are inconsistent. Let's say for each of these URL's we wanted to grab the domain name followed by the top level domain.\n",
    "ex: isro.gov.in<br>\n",
    "How do we do it?"
   ]
  },
  {
   "cell_type": "markdown",
   "id": "sized-campaign",
   "metadata": {},
   "source": [
    "#### First let's write an expression that matches these URL's"
   ]
  },
  {
   "cell_type": "code",
   "execution_count": 7,
   "id": "vietnamese-coast",
   "metadata": {},
   "outputs": [
    {
     "name": "stdout",
     "output_type": "stream",
     "text": [
      "<re.Match object; span=(1, 23), match='https://www.google.com'>\n",
      "<re.Match object; span=(24, 38), match='http://rvs.com'>\n",
      "<re.Match object; span=(39, 58), match='https://youtube.com'>\n",
      "<re.Match object; span=(59, 82), match='https://www.isro.gov.in'>\n"
     ]
    }
   ],
   "source": [
    "pattern = re.compile(r'https?://(www\\.)?\\w+\\.\\w+\\.?(in)?')\n",
    "\n",
    "matches = pattern.finditer(urls)\n",
    "\n",
    "for match in matches:\n",
    "    print(match)"
   ]
  },
  {
   "cell_type": "markdown",
   "id": "tested-receiver",
   "metadata": {},
   "source": [
    "#### In order to capture the domain names, we can put them in a group by surrounding them with parenthesis."
   ]
  },
  {
   "cell_type": "code",
   "execution_count": 8,
   "id": "violent-electron",
   "metadata": {},
   "outputs": [
    {
     "name": "stdout",
     "output_type": "stream",
     "text": [
      "<re.Match object; span=(1, 23), match='https://www.google.com'>\n",
      "<re.Match object; span=(24, 38), match='http://rvs.com'>\n",
      "<re.Match object; span=(39, 58), match='https://youtube.com'>\n",
      "<re.Match object; span=(59, 82), match='https://www.isro.gov.in'>\n"
     ]
    }
   ],
   "source": [
    "pattern = re.compile(r'https?://(www\\.)?(\\w+)(\\.\\w+\\.?(in)?)')\n",
    "\n",
    "matches = pattern.finditer(urls)\n",
    "\n",
    "for match in matches:\n",
    "    print(match)"
   ]
  },
  {
   "cell_type": "markdown",
   "id": "yellow-september",
   "metadata": {},
   "source": [
    "#### Now we have three groups in the pattern:\n",
    "\n",
    "<pre>\n",
    "i) The first group is the optional www \n",
    "ii) The second group are the word chracters that make up the domain name.\n",
    "iii) The third group is the top level domain (.com, .gov)\n",
    "\n",
    "There's also a group 0 that captures the entire URL. Now, we can print out the group that we need.\n",
    "</pre>"
   ]
  },
  {
   "cell_type": "code",
   "execution_count": 9,
   "id": "specified-mattress",
   "metadata": {},
   "outputs": [
    {
     "name": "stdout",
     "output_type": "stream",
     "text": [
      "google\n",
      "rvs\n",
      "youtube\n",
      "isro\n"
     ]
    }
   ],
   "source": [
    "pattern = re.compile(r'https?://(www\\.)?(\\w+)(\\.\\w+\\.?(in)?)')\n",
    "\n",
    "matches = pattern.finditer(urls)\n",
    "\n",
    "for match in matches:\n",
    "    print(match.group(2))   # will give the domain name"
   ]
  },
  {
   "cell_type": "markdown",
   "id": "immune-findings",
   "metadata": {},
   "source": [
    "#### We will use the pattern to replace the entire URL with just the domain and top level domain. We can do that using the sub() function."
   ]
  },
  {
   "cell_type": "code",
   "execution_count": 10,
   "id": "hazardous-connection",
   "metadata": {},
   "outputs": [
    {
     "name": "stdout",
     "output_type": "stream",
     "text": [
      "\n",
      "google.com\n",
      "rvs.com\n",
      "youtube.com\n",
      "isro.gov.in\n",
      "\n"
     ]
    }
   ],
   "source": [
    "pattern = re.compile(r'https?://(www\\.)?(\\w+)(\\.\\w+\\.?(in)?)')\n",
    "\n",
    "subbed_urls = pattern.sub(r'\\2\\3', urls)  # groups 2 and 3 are the groups that contain what we want\n",
    "\n",
    "print(subbed_urls)"
   ]
  },
  {
   "cell_type": "markdown",
   "id": "still-disclosure",
   "metadata": {},
   "source": [
    "#### Instead of using the finditer() method througout, we can also use methods like: \n",
    "\n",
    "<pre>\n",
    "i) findall() - finditer returns extra information about the location of the pattern but findall just returns the matches in the form of a list.\n",
    "\n",
    "ii) match() - This will determine if a particular string STARTS with a particular pattern or not. This doesn't return an iterable. It only matches at the beginning of the string.\n",
    "\n",
    "iii) search() - This will return the first occurence of a particular patter. Returns None otherwise.\n",
    "</pre>"
   ]
  },
  {
   "cell_type": "markdown",
   "id": "adolescent-assumption",
   "metadata": {},
   "source": [
    "## We can use flags to make our lives easier."
   ]
  },
  {
   "cell_type": "code",
   "execution_count": 11,
   "id": "rental-detail",
   "metadata": {},
   "outputs": [],
   "source": [
    "sen = \"Dear Marie, tell me what it was I used to be.\""
   ]
  },
  {
   "cell_type": "markdown",
   "id": "adjacent-destiny",
   "metadata": {},
   "source": [
    "#### Let's say that the start can contain both lower and upper case characters. Writing regular expressions for all possibilities is a pain, so instead we can use a flag."
   ]
  },
  {
   "cell_type": "code",
   "execution_count": 12,
   "id": "active-german",
   "metadata": {},
   "outputs": [
    {
     "name": "stdout",
     "output_type": "stream",
     "text": [
      "<re.Match object; span=(0, 4), match='Dear'>\n"
     ]
    }
   ],
   "source": [
    "pattern = re.compile(r'DeAr', re.IGNORECASE)  # re.I is a shorthand which can also be used.\n",
    "\n",
    "matches = pattern.search(sen)\n",
    "\n",
    "print(matches)"
   ]
  },
  {
   "cell_type": "code",
   "execution_count": null,
   "id": "sixth-necklace",
   "metadata": {},
   "outputs": [],
   "source": []
  }
 ],
 "metadata": {
  "kernelspec": {
   "display_name": "Python 3",
   "language": "python",
   "name": "python3"
  },
  "language_info": {
   "codemirror_mode": {
    "name": "ipython",
    "version": 3
   },
   "file_extension": ".py",
   "mimetype": "text/x-python",
   "name": "python",
   "nbconvert_exporter": "python",
   "pygments_lexer": "ipython3",
   "version": "3.8.5"
  }
 },
 "nbformat": 4,
 "nbformat_minor": 5
}
