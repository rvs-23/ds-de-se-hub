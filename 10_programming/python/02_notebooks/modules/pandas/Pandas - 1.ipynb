{
 "cells": [
  {
   "cell_type": "markdown",
   "id": "dying-school",
   "metadata": {},
   "source": [
    "<a href=\"https://pandas.pydata.org/pandas-docs/stable/getting_started/tutorials.html\"> Pandas official community tutorials </a>"
   ]
  },
  {
   "cell_type": "markdown",
   "id": "technological-morris",
   "metadata": {},
   "source": [
    "<a href=\"https://www.dataschool.io/easier-data-analysis-with-pandas/\">Best Pandas video series tutorial by DataSchool</a>"
   ]
  },
  {
   "cell_type": "markdown",
   "id": "better-hungarian",
   "metadata": {},
   "source": [
    "<a href=\"https://stackoverflow.com/questions/tagged/pandas\">Pandas community Stack Overflow</a>"
   ]
  },
  {
   "cell_type": "markdown",
   "id": "reasonable-toilet",
   "metadata": {},
   "source": [
    "## 1. What is Pandas?\n",
    "\n",
    "#### Pandas is a fast, powerful, flexible and easy to use open source data analysis and manipulation tool, built on top of the Numpy (python)."
   ]
  },
  {
   "cell_type": "markdown",
   "id": "elementary-tourist",
   "metadata": {},
   "source": [
    "## 2. Features of Pandas."
   ]
  },
  {
   "cell_type": "markdown",
   "id": "enhanced-malaysia",
   "metadata": {},
   "source": [
    "<img src=\"pandas_features.png\" alt=\"Pandas Features (Wikipedia)\" width=\"900\" height=\"650\">"
   ]
  },
  {
   "cell_type": "markdown",
   "id": "reported-amino",
   "metadata": {},
   "source": [
    "There are many things to like about pandas: It's well-documented, has a huge amount of <a href=\"https://stackoverflow.com/questions/tagged/pandas\">community support</a> , is under active development, and plays well with other Python libraries (such as matplotlib, scikit-learn, and seaborn)."
   ]
  },
  {
   "cell_type": "markdown",
   "id": "raised-seminar",
   "metadata": {},
   "source": [
    "## 3. What kind of data does Pandas handle?"
   ]
  },
  {
   "cell_type": "markdown",
   "id": "usual-birmingham",
   "metadata": {},
   "source": [
    "##### Pandas supports two types of data structures:\n",
    "\n",
    "<ul>\n",
    "    <li>Series</li>\n",
    "    <li>Data Frames </li>\n",
    "</ul>"
   ]
  },
  {
   "cell_type": "markdown",
   "id": "alike-working",
   "metadata": {},
   "source": [
    "#### (a) What is a Series?"
   ]
  },
  {
   "cell_type": "markdown",
   "id": "unique-robinson",
   "metadata": {},
   "source": [
    "<b>Series is a one-dimensional labeled array capable of holding any data type (integers, strings, floating point numbers, Python objects, etc.).</b>\n",
    "\n",
    "```python\n",
    "pd.Series(data, index=index)\n",
    "```"
   ]
  },
  {
   "cell_type": "markdown",
   "id": "ultimate-republican",
   "metadata": {},
   "source": [
    "<b>Here, data can be many different things:</b>\n",
    "    \n",
    "<ul>\n",
    "        <li>A Python Dictionary</li>\n",
    "        <li>An ndarray</li>\n",
    "        <li>A scalar value (like 9)</li>\n",
    "</ul>"
   ]
  },
  {
   "cell_type": "markdown",
   "id": "suburban-absorption",
   "metadata": {},
   "source": [
    "### (b) What is a Data Frame?\n",
    "\n",
    "##### DataFrame is a 2-dimensional labeled data structure with columns of potentially different types. You can think of it like a spreadsheet or SQL table, or a dict of Series objects. It is generally the most commonly used pandas object. Like Series, DataFrame accepts many different kinds of input:\n",
    "\n",
    "<ul>\n",
    "    <li>Dict of 1D ndarrays, lists, dicts, or Series</li>\n",
    "    <li>2-D numpy.ndarray</li>\n",
    "    <li>A Series</li>\n",
    "    <li>Another DataFrame</li>\n",
    "</ul>\n",
    "\n",
    "```python\n",
    "pd.DataFrame(data, index, columns)\n",
    "```"
   ]
  },
  {
   "cell_type": "markdown",
   "id": "arctic-register",
   "metadata": {},
   "source": [
    "Along with the data, you can optionally pass index (row labels) and columns (column labels) arguments. If you pass an index and / or columns, you are guaranteeing the index and / or columns of the resulting DataFrame. Thus, a dict of Series plus a specific index will discard all data not matching up to the passed index."
   ]
  },
  {
   "cell_type": "markdown",
   "id": "rural-society",
   "metadata": {},
   "source": [
    "<img src='df.png' alt=\"DataFrame representation\" width=600 height=700>"
   ]
  },
  {
   "cell_type": "markdown",
   "id": "opponent-metabolism",
   "metadata": {},
   "source": [
    "## 4. Importing Pandas"
   ]
  },
  {
   "cell_type": "code",
   "execution_count": 1,
   "id": "authorized-trading",
   "metadata": {},
   "outputs": [],
   "source": [
    "import pandas as pd"
   ]
  },
  {
   "cell_type": "markdown",
   "id": "sustained-subscription",
   "metadata": {},
   "source": [
    "## 5. Essential Basic Functionality - I"
   ]
  },
  {
   "cell_type": "code",
   "execution_count": 2,
   "id": "considerable-title",
   "metadata": {},
   "outputs": [],
   "source": [
    "import numpy as np                         # needed in some parts"
   ]
  },
  {
   "cell_type": "markdown",
   "id": "creative-premiere",
   "metadata": {},
   "source": [
    "### (a) Object Creation - Series, DataFrames"
   ]
  },
  {
   "cell_type": "code",
   "execution_count": 3,
   "id": "angry-messenger",
   "metadata": {},
   "outputs": [
    {
     "data": {
      "text/plain": [
       "0     1.0\n",
       "1     5.0\n",
       "2     7.0\n",
       "3     NaN\n",
       "4    23.0\n",
       "5    77.0\n",
       "dtype: float64"
      ]
     },
     "execution_count": 3,
     "metadata": {},
     "output_type": "execute_result"
    }
   ],
   "source": [
    "s1 = pd.Series([1, 5, 7, np.nan, 23, 77])\n",
    "s1"
   ]
  },
  {
   "cell_type": "markdown",
   "id": "simplified-independence",
   "metadata": {},
   "source": [
    "##### Pandas objects have a number of attributes enabling you to access the metadata.\n",
    "\n",
    "<ul>\n",
    "    <li><b>shape:</b> Gives the axis dimensions of the object similar as numpy arrays.</li>\n",
    "    <li><b>Axis Labels:</b>\n",
    "        <ul>\n",
    "            <li>Series: index only(axis).</li>\n",
    "            <li>DataFrames: index(rows) and columns.</li>\n",
    "        </ul>\n",
    "    </li>\n",
    "</ul>\n",
    "An example is demonstrated below:"
   ]
  },
  {
   "cell_type": "code",
   "execution_count": 4,
   "id": "suspected-touch",
   "metadata": {},
   "outputs": [
    {
     "data": {
      "text/html": [
       "<div>\n",
       "<style scoped>\n",
       "    .dataframe tbody tr th:only-of-type {\n",
       "        vertical-align: middle;\n",
       "    }\n",
       "\n",
       "    .dataframe tbody tr th {\n",
       "        vertical-align: top;\n",
       "    }\n",
       "\n",
       "    .dataframe thead th {\n",
       "        text-align: right;\n",
       "    }\n",
       "</style>\n",
       "<table border=\"1\" class=\"dataframe\">\n",
       "  <thead>\n",
       "    <tr style=\"text-align: right;\">\n",
       "      <th></th>\n",
       "      <th>p</th>\n",
       "      <th>q</th>\n",
       "      <th>r</th>\n",
       "      <th>s</th>\n",
       "    </tr>\n",
       "  </thead>\n",
       "  <tbody>\n",
       "    <tr>\n",
       "      <th>x</th>\n",
       "      <td>1</td>\n",
       "      <td>-2</td>\n",
       "      <td>30</td>\n",
       "      <td>0</td>\n",
       "    </tr>\n",
       "    <tr>\n",
       "      <th>y</th>\n",
       "      <td>41</td>\n",
       "      <td>15</td>\n",
       "      <td>66</td>\n",
       "      <td>-5</td>\n",
       "    </tr>\n",
       "    <tr>\n",
       "      <th>z</th>\n",
       "      <td>7</td>\n",
       "      <td>8</td>\n",
       "      <td>9</td>\n",
       "      <td>-10</td>\n",
       "    </tr>\n",
       "  </tbody>\n",
       "</table>\n",
       "</div>"
      ],
      "text/plain": [
       "    p   q   r   s\n",
       "x   1  -2  30   0\n",
       "y  41  15  66  -5\n",
       "z   7   8   9 -10"
      ]
     },
     "execution_count": 4,
     "metadata": {},
     "output_type": "execute_result"
    }
   ],
   "source": [
    "df1 = pd.DataFrame(np.array([[1, -2, 30, 0], [41, 15, 66, -5], [7, 8, 9, -10]]),\n",
    "                   columns=['p', 'q', 'r', 's'], index=['x', 'y', 'z'])\n",
    "df1"
   ]
  },
  {
   "cell_type": "markdown",
   "id": "applicable-newman",
   "metadata": {},
   "source": [
    "##### Note:\n",
    "```python\n",
    "df.to_numpy() gives a numpy representation of the DataFrame.\n",
    "```"
   ]
  },
  {
   "cell_type": "code",
   "execution_count": 5,
   "id": "graphic-colon",
   "metadata": {},
   "outputs": [
    {
     "data": {
      "text/plain": [
       "array([[  1,  -2,  30,   0],\n",
       "       [ 41,  15,  66,  -5],\n",
       "       [  7,   8,   9, -10]])"
      ]
     },
     "execution_count": 5,
     "metadata": {},
     "output_type": "execute_result"
    }
   ],
   "source": [
    "df1.to_numpy()"
   ]
  },
  {
   "cell_type": "markdown",
   "id": "cordless-plymouth",
   "metadata": {},
   "source": [
    "#### Earlier df.values() was used to achieve the same result as above but going forward it's recommended to use:\n",
    "<pre>\n",
    "i) .array()\n",
    "ii) .to_numpy()\n",
    "</pre>"
   ]
  },
  {
   "cell_type": "markdown",
   "id": "spread-organ",
   "metadata": {},
   "source": [
    "<hr>"
   ]
  },
  {
   "cell_type": "markdown",
   "id": "decimal-audit",
   "metadata": {},
   "source": [
    "### (b) Boolean Reductions\n",
    "\n",
    "You can apply the following reductions to provide a way to summarize a boolean result.\n",
    "```python\n",
    "empty, any(), all(), and bool()\n",
    "``` \n"
   ]
  },
  {
   "cell_type": "code",
   "execution_count": 6,
   "id": "imposed-creek",
   "metadata": {},
   "outputs": [
    {
     "data": {
      "text/html": [
       "<div>\n",
       "<style scoped>\n",
       "    .dataframe tbody tr th:only-of-type {\n",
       "        vertical-align: middle;\n",
       "    }\n",
       "\n",
       "    .dataframe tbody tr th {\n",
       "        vertical-align: top;\n",
       "    }\n",
       "\n",
       "    .dataframe thead th {\n",
       "        text-align: right;\n",
       "    }\n",
       "</style>\n",
       "<table border=\"1\" class=\"dataframe\">\n",
       "  <thead>\n",
       "    <tr style=\"text-align: right;\">\n",
       "      <th></th>\n",
       "      <th>p</th>\n",
       "      <th>q</th>\n",
       "      <th>r</th>\n",
       "      <th>s</th>\n",
       "    </tr>\n",
       "  </thead>\n",
       "  <tbody>\n",
       "    <tr>\n",
       "      <th>x</th>\n",
       "      <td>1</td>\n",
       "      <td>-2</td>\n",
       "      <td>30</td>\n",
       "      <td>0</td>\n",
       "    </tr>\n",
       "    <tr>\n",
       "      <th>y</th>\n",
       "      <td>41</td>\n",
       "      <td>15</td>\n",
       "      <td>66</td>\n",
       "      <td>-5</td>\n",
       "    </tr>\n",
       "    <tr>\n",
       "      <th>z</th>\n",
       "      <td>7</td>\n",
       "      <td>8</td>\n",
       "      <td>9</td>\n",
       "      <td>-10</td>\n",
       "    </tr>\n",
       "  </tbody>\n",
       "</table>\n",
       "</div>"
      ],
      "text/plain": [
       "    p   q   r   s\n",
       "x   1  -2  30   0\n",
       "y  41  15  66  -5\n",
       "z   7   8   9 -10"
      ]
     },
     "execution_count": 6,
     "metadata": {},
     "output_type": "execute_result"
    }
   ],
   "source": [
    "df1"
   ]
  },
  {
   "cell_type": "code",
   "execution_count": 7,
   "id": "hollow-petroleum",
   "metadata": {},
   "outputs": [
    {
     "data": {
      "text/plain": [
       "p     True\n",
       "q     True\n",
       "r     True\n",
       "s    False\n",
       "dtype: bool"
      ]
     },
     "execution_count": 7,
     "metadata": {},
     "output_type": "execute_result"
    }
   ],
   "source": [
    "(df1>0).any()           # The column s has all <= 0 so returns False."
   ]
  },
  {
   "cell_type": "code",
   "execution_count": 8,
   "id": "musical-works",
   "metadata": {},
   "outputs": [
    {
     "data": {
      "text/plain": [
       "p     True\n",
       "q    False\n",
       "r     True\n",
       "s    False\n",
       "dtype: bool"
      ]
     },
     "execution_count": 8,
     "metadata": {},
     "output_type": "execute_result"
    }
   ],
   "source": [
    "(df1>0).all()"
   ]
  },
  {
   "cell_type": "markdown",
   "id": "exceptional-oakland",
   "metadata": {},
   "source": [
    "##### We can reduce to a final boolean value."
   ]
  },
  {
   "cell_type": "code",
   "execution_count": 9,
   "id": "direct-collector",
   "metadata": {},
   "outputs": [
    {
     "data": {
      "text/plain": [
       "True"
      ]
     },
     "execution_count": 9,
     "metadata": {},
     "output_type": "execute_result"
    }
   ],
   "source": [
    "(df1>0).all().any()"
   ]
  },
  {
   "cell_type": "code",
   "execution_count": 10,
   "id": "awful-pontiac",
   "metadata": {},
   "outputs": [
    {
     "data": {
      "text/plain": [
       "False"
      ]
     },
     "execution_count": 10,
     "metadata": {},
     "output_type": "execute_result"
    }
   ],
   "source": [
    "df1.empty"
   ]
  },
  {
   "cell_type": "markdown",
   "id": "neither-course",
   "metadata": {},
   "source": [
    "<u>Notice the following</u>"
   ]
  },
  {
   "cell_type": "code",
   "execution_count": 11,
   "id": "recreational-device",
   "metadata": {},
   "outputs": [
    {
     "data": {
      "text/plain": [
       "False"
      ]
     },
     "execution_count": 11,
     "metadata": {},
     "output_type": "execute_result"
    }
   ],
   "source": [
    "np.nan == np.nan"
   ]
  },
  {
   "cell_type": "markdown",
   "id": "minimal-birmingham",
   "metadata": {},
   "source": [
    "<hr>"
   ]
  },
  {
   "cell_type": "markdown",
   "id": "amateur-purple",
   "metadata": {},
   "source": [
    "### (c) Descriptive Statistics\n",
    "\n",
    "There exists a large number of methods for computing descriptive statistics and other related operations on Series, DataFrame. Most of these are aggregations (hence producing a lower-dimensional result) like sum(), mean(), and quantile(), but some of them, like cumsum() and cumprod(), produce an object of the same size. Generally speaking, these methods take an axis argument, just like ndarray.{sum, std, …}, but the axis can be specified by name or integer:\n",
    "\n",
    "<pre>\n",
    "i)<b>Series:</b>no axis argument necessary\n",
    "ii)<b>DataFrame:</b>\"index\"(default axis=0), \"columns\"(axis=1)\n",
    "</pre>"
   ]
  },
  {
   "cell_type": "code",
   "execution_count": 12,
   "id": "becoming-progress",
   "metadata": {},
   "outputs": [
    {
     "data": {
      "text/html": [
       "<div>\n",
       "<style scoped>\n",
       "    .dataframe tbody tr th:only-of-type {\n",
       "        vertical-align: middle;\n",
       "    }\n",
       "\n",
       "    .dataframe tbody tr th {\n",
       "        vertical-align: top;\n",
       "    }\n",
       "\n",
       "    .dataframe thead th {\n",
       "        text-align: right;\n",
       "    }\n",
       "</style>\n",
       "<table border=\"1\" class=\"dataframe\">\n",
       "  <thead>\n",
       "    <tr style=\"text-align: right;\">\n",
       "      <th></th>\n",
       "      <th>p</th>\n",
       "      <th>q</th>\n",
       "      <th>r</th>\n",
       "      <th>s</th>\n",
       "    </tr>\n",
       "  </thead>\n",
       "  <tbody>\n",
       "    <tr>\n",
       "      <th>x</th>\n",
       "      <td>1</td>\n",
       "      <td>-2</td>\n",
       "      <td>30</td>\n",
       "      <td>0</td>\n",
       "    </tr>\n",
       "    <tr>\n",
       "      <th>y</th>\n",
       "      <td>41</td>\n",
       "      <td>15</td>\n",
       "      <td>66</td>\n",
       "      <td>-5</td>\n",
       "    </tr>\n",
       "    <tr>\n",
       "      <th>z</th>\n",
       "      <td>7</td>\n",
       "      <td>8</td>\n",
       "      <td>9</td>\n",
       "      <td>-10</td>\n",
       "    </tr>\n",
       "  </tbody>\n",
       "</table>\n",
       "</div>"
      ],
      "text/plain": [
       "    p   q   r   s\n",
       "x   1  -2  30   0\n",
       "y  41  15  66  -5\n",
       "z   7   8   9 -10"
      ]
     },
     "execution_count": 12,
     "metadata": {},
     "output_type": "execute_result"
    }
   ],
   "source": [
    "df1"
   ]
  },
  {
   "cell_type": "code",
   "execution_count": 13,
   "id": "primary-mills",
   "metadata": {},
   "outputs": [
    {
     "data": {
      "text/plain": [
       "p     49\n",
       "q     21\n",
       "r    105\n",
       "s    -15\n",
       "dtype: int64"
      ]
     },
     "execution_count": 13,
     "metadata": {},
     "output_type": "execute_result"
    }
   ],
   "source": [
    "df1.sum()"
   ]
  },
  {
   "cell_type": "code",
   "execution_count": 14,
   "id": "religious-description",
   "metadata": {},
   "outputs": [
    {
     "data": {
      "text/plain": [
       "x     29\n",
       "y    117\n",
       "z     14\n",
       "dtype: int64"
      ]
     },
     "execution_count": 14,
     "metadata": {},
     "output_type": "execute_result"
    }
   ],
   "source": [
    "df1.sum(1)              # axis=1"
   ]
  },
  {
   "cell_type": "markdown",
   "id": "northern-absorption",
   "metadata": {},
   "source": [
    "##### <u>Note</u>: You can skip the NaN values by setting the skipna attribute to True inside any descriptive statistics function."
   ]
  },
  {
   "cell_type": "markdown",
   "id": "sustainable-darwin",
   "metadata": {},
   "source": [
    "Combined with the broadcasting / arithmetic behavior, one can describe various statistical procedures, like standardization (rendering data zero mean and standard deviation of 1), very concisely:"
   ]
  },
  {
   "cell_type": "code",
   "execution_count": 15,
   "id": "sublime-convenience",
   "metadata": {},
   "outputs": [
    {
     "data": {
      "text/plain": [
       "p    16.333333\n",
       "q     7.000000\n",
       "r    35.000000\n",
       "s    -5.000000\n",
       "dtype: float64"
      ]
     },
     "execution_count": 15,
     "metadata": {},
     "output_type": "execute_result"
    }
   ],
   "source": [
    "df1.mean()"
   ]
  },
  {
   "cell_type": "code",
   "execution_count": 16,
   "id": "adjacent-museum",
   "metadata": {},
   "outputs": [
    {
     "data": {
      "text/html": [
       "<div>\n",
       "<style scoped>\n",
       "    .dataframe tbody tr th:only-of-type {\n",
       "        vertical-align: middle;\n",
       "    }\n",
       "\n",
       "    .dataframe tbody tr th {\n",
       "        vertical-align: top;\n",
       "    }\n",
       "\n",
       "    .dataframe thead th {\n",
       "        text-align: right;\n",
       "    }\n",
       "</style>\n",
       "<table border=\"1\" class=\"dataframe\">\n",
       "  <thead>\n",
       "    <tr style=\"text-align: right;\">\n",
       "      <th></th>\n",
       "      <th>p</th>\n",
       "      <th>q</th>\n",
       "      <th>r</th>\n",
       "      <th>s</th>\n",
       "    </tr>\n",
       "  </thead>\n",
       "  <tbody>\n",
       "    <tr>\n",
       "      <th>x</th>\n",
       "      <td>-0.710812</td>\n",
       "      <td>-1.053370</td>\n",
       "      <td>-0.173448</td>\n",
       "      <td>1.0</td>\n",
       "    </tr>\n",
       "    <tr>\n",
       "      <th>y</th>\n",
       "      <td>1.143480</td>\n",
       "      <td>0.936329</td>\n",
       "      <td>1.075378</td>\n",
       "      <td>0.0</td>\n",
       "    </tr>\n",
       "    <tr>\n",
       "      <th>z</th>\n",
       "      <td>-0.432668</td>\n",
       "      <td>0.117041</td>\n",
       "      <td>-0.901930</td>\n",
       "      <td>-1.0</td>\n",
       "    </tr>\n",
       "  </tbody>\n",
       "</table>\n",
       "</div>"
      ],
      "text/plain": [
       "          p         q         r    s\n",
       "x -0.710812 -1.053370 -0.173448  1.0\n",
       "y  1.143480  0.936329  1.075378  0.0\n",
       "z -0.432668  0.117041 -0.901930 -1.0"
      ]
     },
     "execution_count": 16,
     "metadata": {},
     "output_type": "execute_result"
    }
   ],
   "source": [
    "df2 = (df1 - df1.mean())/df1.std()\n",
    "df2"
   ]
  },
  {
   "cell_type": "markdown",
   "id": "collected-young",
   "metadata": {},
   "source": [
    "##### Some more descriptive statistics functions:"
   ]
  },
  {
   "cell_type": "markdown",
   "id": "african-disposition",
   "metadata": {},
   "source": [
    "<img src=\"ds_func.png\" alt=\"Pandas DS functions\" width=300 height=150>"
   ]
  },
  {
   "cell_type": "code",
   "execution_count": 17,
   "id": "engaging-daniel",
   "metadata": {},
   "outputs": [
    {
     "data": {
      "text/plain": [
       "p    1.582523\n",
       "q   -0.519470\n",
       "r    0.757035\n",
       "s    0.000000\n",
       "dtype: float64"
      ]
     },
     "execution_count": 17,
     "metadata": {},
     "output_type": "execute_result"
    }
   ],
   "source": [
    "df1.skew()"
   ]
  },
  {
   "cell_type": "markdown",
   "id": "unknown-regression",
   "metadata": {},
   "source": [
    "#### Summarizing data: describe"
   ]
  },
  {
   "cell_type": "code",
   "execution_count": 18,
   "id": "massive-survivor",
   "metadata": {},
   "outputs": [
    {
     "data": {
      "text/html": [
       "<div>\n",
       "<style scoped>\n",
       "    .dataframe tbody tr th:only-of-type {\n",
       "        vertical-align: middle;\n",
       "    }\n",
       "\n",
       "    .dataframe tbody tr th {\n",
       "        vertical-align: top;\n",
       "    }\n",
       "\n",
       "    .dataframe thead th {\n",
       "        text-align: right;\n",
       "    }\n",
       "</style>\n",
       "<table border=\"1\" class=\"dataframe\">\n",
       "  <thead>\n",
       "    <tr style=\"text-align: right;\">\n",
       "      <th></th>\n",
       "      <th>p</th>\n",
       "      <th>q</th>\n",
       "      <th>r</th>\n",
       "      <th>s</th>\n",
       "    </tr>\n",
       "  </thead>\n",
       "  <tbody>\n",
       "    <tr>\n",
       "      <th>count</th>\n",
       "      <td>3.000000</td>\n",
       "      <td>3.000000</td>\n",
       "      <td>3.000000</td>\n",
       "      <td>3.0</td>\n",
       "    </tr>\n",
       "    <tr>\n",
       "      <th>mean</th>\n",
       "      <td>16.333333</td>\n",
       "      <td>7.000000</td>\n",
       "      <td>35.000000</td>\n",
       "      <td>-5.0</td>\n",
       "    </tr>\n",
       "    <tr>\n",
       "      <th>std</th>\n",
       "      <td>21.571586</td>\n",
       "      <td>8.544004</td>\n",
       "      <td>28.827071</td>\n",
       "      <td>5.0</td>\n",
       "    </tr>\n",
       "    <tr>\n",
       "      <th>min</th>\n",
       "      <td>1.000000</td>\n",
       "      <td>-2.000000</td>\n",
       "      <td>9.000000</td>\n",
       "      <td>-10.0</td>\n",
       "    </tr>\n",
       "    <tr>\n",
       "      <th>25%</th>\n",
       "      <td>4.000000</td>\n",
       "      <td>3.000000</td>\n",
       "      <td>19.500000</td>\n",
       "      <td>-7.5</td>\n",
       "    </tr>\n",
       "    <tr>\n",
       "      <th>50%</th>\n",
       "      <td>7.000000</td>\n",
       "      <td>8.000000</td>\n",
       "      <td>30.000000</td>\n",
       "      <td>-5.0</td>\n",
       "    </tr>\n",
       "    <tr>\n",
       "      <th>75%</th>\n",
       "      <td>24.000000</td>\n",
       "      <td>11.500000</td>\n",
       "      <td>48.000000</td>\n",
       "      <td>-2.5</td>\n",
       "    </tr>\n",
       "    <tr>\n",
       "      <th>max</th>\n",
       "      <td>41.000000</td>\n",
       "      <td>15.000000</td>\n",
       "      <td>66.000000</td>\n",
       "      <td>0.0</td>\n",
       "    </tr>\n",
       "  </tbody>\n",
       "</table>\n",
       "</div>"
      ],
      "text/plain": [
       "               p          q          r     s\n",
       "count   3.000000   3.000000   3.000000   3.0\n",
       "mean   16.333333   7.000000  35.000000  -5.0\n",
       "std    21.571586   8.544004  28.827071   5.0\n",
       "min     1.000000  -2.000000   9.000000 -10.0\n",
       "25%     4.000000   3.000000  19.500000  -7.5\n",
       "50%     7.000000   8.000000  30.000000  -5.0\n",
       "75%    24.000000  11.500000  48.000000  -2.5\n",
       "max    41.000000  15.000000  66.000000   0.0"
      ]
     },
     "execution_count": 18,
     "metadata": {},
     "output_type": "execute_result"
    }
   ],
   "source": [
    "df1.describe()"
   ]
  },
  {
   "cell_type": "code",
   "execution_count": 19,
   "id": "opponent-intake",
   "metadata": {},
   "outputs": [
    {
     "data": {
      "text/plain": [
       "count     3.000000\n",
       "mean     16.333333\n",
       "std      21.571586\n",
       "min       1.000000\n",
       "25%       4.000000\n",
       "50%       7.000000\n",
       "75%      24.000000\n",
       "max      41.000000\n",
       "Name: p, dtype: float64"
      ]
     },
     "execution_count": 19,
     "metadata": {},
     "output_type": "execute_result"
    }
   ],
   "source": [
    "df1.p.describe()"
   ]
  },
  {
   "cell_type": "markdown",
   "id": "functioning-council",
   "metadata": {},
   "source": [
    "### (d) Value Counts (Histogram mode)\n",
    "\n",
    "The value_counts() Series method and top-level function computes a histogram of a 1D array of values. It can also be used as a function on regular arrays:"
   ]
  },
  {
   "cell_type": "code",
   "execution_count": 20,
   "id": "friendly-sixth",
   "metadata": {},
   "outputs": [
    {
     "data": {
      "text/plain": [
       "0    4\n",
       "1    8\n",
       "2    8\n",
       "3    1\n",
       "4    8\n",
       "dtype: int32"
      ]
     },
     "execution_count": 20,
     "metadata": {},
     "output_type": "execute_result"
    }
   ],
   "source": [
    "data = np.random.randint(0, 9, size=70)\n",
    "df3 = pd.Series(data=data)\n",
    "df3.head()"
   ]
  },
  {
   "cell_type": "code",
   "execution_count": 21,
   "id": "whole-limitation",
   "metadata": {},
   "outputs": [
    {
     "data": {
      "text/plain": [
       "8    13\n",
       "5    11\n",
       "1    10\n",
       "6     9\n",
       "7     8\n",
       "4     7\n",
       "3     5\n",
       "0     4\n",
       "2     3\n",
       "dtype: int64"
      ]
     },
     "execution_count": 21,
     "metadata": {},
     "output_type": "execute_result"
    }
   ],
   "source": [
    "df3.value_counts()"
   ]
  },
  {
   "cell_type": "markdown",
   "id": "acute-guitar",
   "metadata": {},
   "source": [
    "### (e) Discretization and quantiling\n",
    "\n",
    "Continuous values can be discretized using the <b>cut()</b>(bins based on values) and <b>qcut()</b>(bins based on sample quantiles) functions."
   ]
  },
  {
   "cell_type": "code",
   "execution_count": 22,
   "id": "rolled-sculpture",
   "metadata": {},
   "outputs": [
    {
     "data": {
      "text/plain": [
       "array([5.17538357, 8.14428805, 9.9962756 , 0.55305944, 4.88880761,\n",
       "       1.42499739, 6.84171797, 2.74651899, 1.68054911, 6.39603468,\n",
       "       2.69736882, 2.94185812, 0.80335143, 3.38662762, 0.64211494,\n",
       "       3.62846163, 8.76264264, 1.02770565, 9.4045288 , 1.6339376 ,\n",
       "       2.89244431, 5.4732346 , 5.04116147, 4.27401359, 6.99971177,\n",
       "       5.92832892, 9.37997223, 2.08633634, 7.57831967, 2.79381578,\n",
       "       9.66108   , 9.63004171, 5.89835699, 1.52362602, 3.15385971,\n",
       "       1.64042774, 8.89569393, 9.10952997, 1.33594382, 4.13452733,\n",
       "       5.4494158 , 8.75168836, 2.48723568, 7.00076682, 4.76634114,\n",
       "       2.96145941, 8.31802864, 7.45255972, 7.8003416 , 9.98738527])"
      ]
     },
     "execution_count": 22,
     "metadata": {},
     "output_type": "execute_result"
    }
   ],
   "source": [
    "arr1 = np.random.uniform(0, 10, 50)\n",
    "arr1"
   ]
  },
  {
   "cell_type": "code",
   "execution_count": 23,
   "id": "outdoor-president",
   "metadata": {},
   "outputs": [
    {
     "data": {
      "text/plain": [
       "[(4.33, 6.219], (8.108, 9.996], (8.108, 9.996], (0.544, 2.442], (4.33, 6.219], ..., (2.442, 4.33], (8.108, 9.996], (6.219, 8.108], (6.219, 8.108], (8.108, 9.996]]\n",
       "Length: 50\n",
       "Categories (5, interval[float64]): [(0.544, 2.442] < (2.442, 4.33] < (4.33, 6.219] < (6.219, 8.108] < (8.108, 9.996]]"
      ]
     },
     "execution_count": 23,
     "metadata": {},
     "output_type": "execute_result"
    }
   ],
   "source": [
    "pd.cut(arr1, 5)                      # Divides the data into five intervals"
   ]
  },
  {
   "cell_type": "markdown",
   "id": "progressive-victoria",
   "metadata": {},
   "source": [
    "We can also pass infinite values to the bins."
   ]
  },
  {
   "cell_type": "code",
   "execution_count": 24,
   "id": "competent-peace",
   "metadata": {},
   "outputs": [
    {
     "data": {
      "text/plain": [
       "[(0.0, inf], (0.0, inf], (0.0, inf], (0.0, inf], (0.0, inf], ..., (0.0, inf], (0.0, inf], (0.0, inf], (0.0, inf], (0.0, inf]]\n",
       "Length: 50\n",
       "Categories (2, interval[float64]): [(-inf, 0.0] < (0.0, inf]]"
      ]
     },
     "execution_count": 24,
     "metadata": {},
     "output_type": "execute_result"
    }
   ],
   "source": [
    "pd.cut(arr1, [-np.inf, 0, np.inf])"
   ]
  },
  {
   "cell_type": "code",
   "execution_count": 25,
   "id": "deluxe-algebra",
   "metadata": {},
   "outputs": [
    {
     "data": {
      "text/plain": [
       "[(4.965, 7.745], (7.745, 9.996], (7.745, 9.996], (0.552, 2.71], (2.71, 4.965], ..., (2.71, 4.965], (7.745, 9.996], (4.965, 7.745], (7.745, 9.996], (7.745, 9.996]]\n",
       "Length: 50\n",
       "Categories (4, interval[float64]): [(0.552, 2.71] < (2.71, 4.965] < (4.965, 7.745] < (7.745, 9.996]]"
      ]
     },
     "execution_count": 25,
     "metadata": {},
     "output_type": "execute_result"
    }
   ],
   "source": [
    "factor = pd.qcut(arr1, [0, 0.25, 0.5, 0.75, 1])    # Divides the data into 25,50,75% quantiles\n",
    "factor"
   ]
  },
  {
   "cell_type": "markdown",
   "id": "realistic-rocket",
   "metadata": {},
   "source": [
    "<hr>"
   ]
  }
 ],
 "metadata": {
  "kernelspec": {
   "display_name": "Python 3 (ipykernel)",
   "language": "python",
   "name": "python3"
  },
  "language_info": {
   "codemirror_mode": {
    "name": "ipython",
    "version": 3
   },
   "file_extension": ".py",
   "mimetype": "text/x-python",
   "name": "python",
   "nbconvert_exporter": "python",
   "pygments_lexer": "ipython3",
   "version": "3.9.16"
  }
 },
 "nbformat": 4,
 "nbformat_minor": 5
}
