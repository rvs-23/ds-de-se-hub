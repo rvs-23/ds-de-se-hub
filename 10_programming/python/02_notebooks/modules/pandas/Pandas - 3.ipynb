{
 "cells": [
  {
   "cell_type": "markdown",
   "id": "broken-omaha",
   "metadata": {},
   "source": [
    "## Q1 - Import pandas and numpy. Check the version of pandas in the system and then check the ram availaible in your system."
   ]
  },
  {
   "cell_type": "code",
   "execution_count": 1,
   "id": "cultural-cliff",
   "metadata": {},
   "outputs": [
    {
     "data": {
      "text/plain": [
       "'1.2.3'"
      ]
     },
     "execution_count": 1,
     "metadata": {},
     "output_type": "execute_result"
    }
   ],
   "source": [
    "import pandas as pd\n",
    "import numpy as np\n",
    "\n",
    "pd.__version__"
   ]
  },
  {
   "cell_type": "code",
   "execution_count": 2,
   "id": "valued-capture",
   "metadata": {},
   "outputs": [
    {
     "name": "stdout",
     "output_type": "stream",
     "text": [
      "The available RAM in the system right now is 878.671875 MB\n"
     ]
    }
   ],
   "source": [
    "import psutil\n",
    "\n",
    "svmem = psutil.virtual_memory()\n",
    "kb = svmem.available/1024\n",
    "\n",
    "print(\"The available RAM in the system right now is {} MB\".format(kb/1024))"
   ]
  },
  {
   "cell_type": "markdown",
   "id": "finite-equation",
   "metadata": {},
   "source": [
    "## Q2 - Sort a Pandas Series and convery it into a numpy array."
   ]
  },
  {
   "cell_type": "code",
   "execution_count": 3,
   "id": "antique-canon",
   "metadata": {},
   "outputs": [
    {
     "data": {
      "text/plain": [
       "array(['0.3', '1.2', 'Hello', 'Learning Pandas'], dtype=object)"
      ]
     },
     "execution_count": 3,
     "metadata": {},
     "output_type": "execute_result"
    }
   ],
   "source": [
    "# necessary to mention the dtype while creating because of different types of values\n",
    "s1 = pd.Series(['Hello', 'Learning Pandas', 1.2, 0.3], dtype=\"str\")  \n",
    "s2 = s1.sort_values(ascending=True)   \n",
    "s2.to_numpy()"
   ]
  },
  {
   "cell_type": "markdown",
   "id": "internal-aberdeen",
   "metadata": {},
   "source": [
    "## Q3 - Accept a a series of numbers from 0-10 and print only the subset of odd numbers."
   ]
  },
  {
   "cell_type": "code",
   "execution_count": 4,
   "id": "patient-section",
   "metadata": {},
   "outputs": [
    {
     "data": {
      "text/plain": [
       "1    1\n",
       "3    3\n",
       "5    5\n",
       "7    7\n",
       "9    9\n",
       "dtype: int32"
      ]
     },
     "execution_count": 4,
     "metadata": {},
     "output_type": "execute_result"
    }
   ],
   "source": [
    "s3 = pd.Series(np.arange(11))\n",
    "s3 = s3[s3.apply(lambda x: x%2!=0)]\n",
    "s3"
   ]
  },
  {
   "cell_type": "markdown",
   "id": "suburban-incidence",
   "metadata": {},
   "source": [
    "## Q4 - Accept two series and print those elements which are present in only one Series and not the other."
   ]
  },
  {
   "cell_type": "code",
   "execution_count": 5,
   "id": "political-candy",
   "metadata": {},
   "outputs": [
    {
     "data": {
      "text/plain": [
       "0      1\n",
       "1      3\n",
       "2      5\n",
       "3      7\n",
       "4      6\n",
       "5      1\n",
       "6     84\n",
       "7      1\n",
       "8      4\n",
       "9      9\n",
       "10     4\n",
       "11    46\n",
       "12     6\n",
       "13     0\n",
       "dtype: int64"
      ]
     },
     "execution_count": 5,
     "metadata": {},
     "output_type": "execute_result"
    }
   ],
   "source": [
    "s4 = pd.Series([1,3,5,7,6,1,84,1,4,9,4,46,6,0])\n",
    "s5 = pd.Series([6,5,4,7,5,1,8,1,1,45,87,15,4,1,0,1,6, -1])\n",
    "s4"
   ]
  },
  {
   "cell_type": "code",
   "execution_count": 6,
   "id": "still-fruit",
   "metadata": {},
   "outputs": [
    {
     "data": {
      "text/plain": [
       "1      3\n",
       "6     84\n",
       "9      9\n",
       "11    46\n",
       "dtype: int64"
      ]
     },
     "execution_count": 6,
     "metadata": {},
     "output_type": "execute_result"
    }
   ],
   "source": [
    "s4[~s4.isin(s5)]                        # Getting the elements from s4 which are not present in s5"
   ]
  },
  {
   "cell_type": "markdown",
   "id": "conventional-lighter",
   "metadata": {},
   "source": [
    "## Q5 - Accept a series and display only the most frequent value in that series. Replace everything else with \"N/A\""
   ]
  },
  {
   "cell_type": "code",
   "execution_count": 7,
   "id": "pharmaceutical-simulation",
   "metadata": {},
   "outputs": [],
   "source": [
    "def replace_maxwithNA(s):\n",
    "    \n",
    "    max_freq_element = s.value_counts().index[:1]   # returns an array(which is necessary).Using s.value_counts().index[0] returns a scalar\n",
    "    print(\"Frequency Distribution\")\n",
    "    print(s.value_counts())\n",
    "    \n",
    "    # The isin() method that takes care of muliple occurences of values with the same maximum frequency.\n",
    "    \n",
    "    print(f\"\\n{max_freq_element[0]} occurs maximum times. Therefore, after replacement: \\n\")\n",
    "    s[~s.isin(max_freq_element)] = \"N/A\"\n",
    "    print(s)    "
   ]
  },
  {
   "cell_type": "code",
   "execution_count": 8,
   "id": "polish-flash",
   "metadata": {},
   "outputs": [
    {
     "name": "stdout",
     "output_type": "stream",
     "text": [
      "Frequency Distribution\n",
      "1    3\n",
      "5    3\n",
      "7    3\n",
      "9    3\n",
      "3    2\n",
      "4    2\n",
      "8    2\n",
      "2    1\n",
      "6    1\n",
      "dtype: int64\n",
      "\n",
      "1 occurs maximum times. Therefore, after replacement: \n",
      "\n",
      "0     N/A\n",
      "1     N/A\n",
      "2     N/A\n",
      "3     N/A\n",
      "4     N/A\n",
      "5     N/A\n",
      "6       1\n",
      "7       1\n",
      "8     N/A\n",
      "9     N/A\n",
      "10      1\n",
      "11    N/A\n",
      "12    N/A\n",
      "13    N/A\n",
      "14    N/A\n",
      "15    N/A\n",
      "16    N/A\n",
      "17    N/A\n",
      "18    N/A\n",
      "19    N/A\n",
      "dtype: object\n"
     ]
    }
   ],
   "source": [
    "#passing a random Series\n",
    "\n",
    "replace_maxwithNA(pd.Series(np.random.randint(1, 10, 20)))"
   ]
  },
  {
   "cell_type": "markdown",
   "id": "mechanical-assistant",
   "metadata": {},
   "source": [
    "## Q6 - Print the elements of a pandas Series at specific index positions."
   ]
  },
  {
   "cell_type": "code",
   "execution_count": 9,
   "id": "abstract-halloween",
   "metadata": {},
   "outputs": [
    {
     "data": {
      "text/plain": [
       "7     24\n",
       "17    35\n",
       "8     36\n",
       "22     9\n",
       "7     24\n",
       "19    34\n",
       "23    25\n",
       "19    34\n",
       "10    21\n",
       "17    35\n",
       "dtype: int32"
      ]
     },
     "execution_count": 9,
     "metadata": {},
     "output_type": "execute_result"
    }
   ],
   "source": [
    "def print_specific_indices(se,indices):\n",
    "    return se.take(indices)\n",
    "\n",
    "#printing random indices from a random array of integers\n",
    "print_specific_indices(pd.Series(np.random.randint(0, 50, 30)), indices=list(np.random.randint(0, 29, 10)))"
   ]
  },
  {
   "cell_type": "markdown",
   "id": "purple-fourth",
   "metadata": {},
   "source": [
    "<a href=\"https://github.com/guipsamora/pandas_exercises/blob/master/01_Getting_%26_Knowing_Your_Data/Chipotle/Exercise_with_Solutions.ipynb\"> A Walkthrough of getting to know your data(Chipotle) using Pandas. </a>"
   ]
  },
  {
   "cell_type": "markdown",
   "id": "forty-chosen",
   "metadata": {},
   "source": [
    "<a href=\"https://github.com/guipsamora/pandas_exercises\">All Pandas Exercises! </a>"
   ]
  }
 ],
 "metadata": {
  "kernelspec": {
   "display_name": "Python 3 (ipykernel)",
   "language": "python",
   "name": "python3"
  },
  "language_info": {
   "codemirror_mode": {
    "name": "ipython",
    "version": 3
   },
   "file_extension": ".py",
   "mimetype": "text/x-python",
   "name": "python",
   "nbconvert_exporter": "python",
   "pygments_lexer": "ipython3",
   "version": "3.8.8"
  }
 },
 "nbformat": 4,
 "nbformat_minor": 5
}
