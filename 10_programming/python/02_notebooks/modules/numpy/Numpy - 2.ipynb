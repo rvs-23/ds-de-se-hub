{
 "cells": [
  {
   "cell_type": "code",
   "execution_count": 1,
   "id": "sorted-physiology",
   "metadata": {},
   "outputs": [],
   "source": [
    "import numpy as np"
   ]
  },
  {
   "cell_type": "markdown",
   "id": "exterior-tongue",
   "metadata": {},
   "source": [
    "### 1. Creating Numpy arrays"
   ]
  },
  {
   "cell_type": "markdown",
   "id": "organic-breakfast",
   "metadata": {},
   "source": [
    "##### There are 5 general mechanisms for creating arrays:\n",
    "<ol>\n",
    "\n",
    "<li>Conversion from other Python structures (e.g., lists, tuples) </li>\n",
    "\n",
    "<li>Intrinsic numpy array creation objects (e.g., arange, ones, zeros, etc.)</li>\n",
    "\n",
    "<li>Reading arrays from disk, either from standard or custom formats</li>\n",
    "\n",
    "<li>Creating arrays from raw bytes through the use of strings or buffers</li>\n",
    "\n",
    "<li>Use of special library functions (e.g., random)</li>\n",
    "\n",
    "</ol>"
   ]
  },
  {
   "cell_type": "markdown",
   "id": "extensive-postage",
   "metadata": {},
   "source": [
    "#### a) Using inbuilt Python structures: "
   ]
  },
  {
   "cell_type": "code",
   "execution_count": 2,
   "id": "eligible-philippines",
   "metadata": {},
   "outputs": [
    {
     "name": "stdout",
     "output_type": "stream",
     "text": [
      "<class 'numpy.ndarray'>\n"
     ]
    },
    {
     "data": {
      "text/plain": [
       "array([  1,   5,  54, -25])"
      ]
     },
     "execution_count": 2,
     "metadata": {},
     "output_type": "execute_result"
    }
   ],
   "source": [
    "li1 = [1, 5, 54, -25]\n",
    "ar1 = np.array(li1)\n",
    "print(type(ar1))\n",
    "ar1"
   ]
  },
  {
   "cell_type": "code",
   "execution_count": 3,
   "id": "brave-private",
   "metadata": {},
   "outputs": [
    {
     "data": {
      "text/plain": [
       "array([[ 1,  0,  1],\n",
       "       [-1,  2,  5],\n",
       "       [ 5,  7, 99]])"
      ]
     },
     "execution_count": 3,
     "metadata": {},
     "output_type": "execute_result"
    }
   ],
   "source": [
    "ar2 = np.array([[1,0,1], [-1,2,5], (5,7,99)])\n",
    "ar2"
   ]
  },
  {
   "cell_type": "markdown",
   "id": "purple-chester",
   "metadata": {},
   "source": [
    "#### b) Using inbuilt numpy array creation functions"
   ]
  },
  {
   "cell_type": "code",
   "execution_count": 4,
   "id": "chicken-above",
   "metadata": {},
   "outputs": [
    {
     "data": {
      "text/plain": [
       "array([0, 0, 0, 0, 0], dtype=int8)"
      ]
     },
     "execution_count": 4,
     "metadata": {},
     "output_type": "execute_result"
    }
   ],
   "source": [
    "ar3 = np.zeros(5, dtype='int8')\n",
    "ar3"
   ]
  },
  {
   "cell_type": "code",
   "execution_count": 5,
   "id": "surface-glance",
   "metadata": {},
   "outputs": [
    {
     "data": {
      "text/plain": [
       "array([[0., 0., 0.],\n",
       "       [0., 0., 0.],\n",
       "       [0., 0., 0.],\n",
       "       [0., 0., 0.],\n",
       "       [0., 0., 0.]])"
      ]
     },
     "execution_count": 5,
     "metadata": {},
     "output_type": "execute_result"
    }
   ],
   "source": [
    "ar4 = np.zeros((5,3))                 # creates an array of zeros\n",
    "ar4"
   ]
  },
  {
   "cell_type": "code",
   "execution_count": 6,
   "id": "threatened-evans",
   "metadata": {},
   "outputs": [
    {
     "data": {
      "text/plain": [
       "array([[1., 1., 1., 1.],\n",
       "       [1., 1., 1., 1.],\n",
       "       [1., 1., 1., 1.]], dtype=float16)"
      ]
     },
     "execution_count": 6,
     "metadata": {},
     "output_type": "execute_result"
    }
   ],
   "source": [
    "ar5 = np.ones((3,4), dtype='float16')    # creates an array of ones\n",
    "ar5"
   ]
  },
  {
   "cell_type": "code",
   "execution_count": 7,
   "id": "animated-chorus",
   "metadata": {},
   "outputs": [
    {
     "data": {
      "text/plain": [
       "array([5. , 5.3, 5.6, 5.9, 6.2, 6.5, 6.8])"
      ]
     },
     "execution_count": 7,
     "metadata": {},
     "output_type": "execute_result"
    }
   ],
   "source": [
    "ar6 = np.arange(5, 7, 0.3)            # start, stop, step\n",
    "ar6"
   ]
  },
  {
   "cell_type": "markdown",
   "id": "impaired-secretariat",
   "metadata": {
    "tags": []
   },
   "source": [
    "##### linspace() will create arrays with a specified number of elements, and spaced equally between the specified beginning and end values. "
   ]
  },
  {
   "cell_type": "code",
   "execution_count": 8,
   "id": "vital-texture",
   "metadata": {},
   "outputs": [
    {
     "data": {
      "text/plain": [
       "array([5. , 5.5, 6. , 6.5, 7. ])"
      ]
     },
     "execution_count": 8,
     "metadata": {},
     "output_type": "execute_result"
    }
   ],
   "source": [
    "ar6 = np.linspace(5, 7, 5)     \n",
    "ar6"
   ]
  },
  {
   "cell_type": "markdown",
   "id": "visible-league",
   "metadata": {},
   "source": [
    "<a href=\"https://numpy.org/devdocs/user/quickstart.html\"> More Examples here! (Numpy quickstart)</a>"
   ]
  },
  {
   "cell_type": "markdown",
   "id": "preliminary-discharge",
   "metadata": {},
   "source": [
    "### 2. Some characteristics of numpy arrays"
   ]
  },
  {
   "cell_type": "code",
   "execution_count": 9,
   "id": "3616c64e-5a1f-4d69-b1fb-3eb5a5018239",
   "metadata": {},
   "outputs": [
    {
     "data": {
      "text/plain": [
       "array([[1., 1., 1., 1.],\n",
       "       [1., 1., 1., 1.],\n",
       "       [1., 1., 1., 1.]], dtype=float16)"
      ]
     },
     "execution_count": 9,
     "metadata": {},
     "output_type": "execute_result"
    }
   ],
   "source": [
    "ar5"
   ]
  },
  {
   "cell_type": "code",
   "execution_count": 10,
   "id": "italic-growing",
   "metadata": {},
   "outputs": [
    {
     "data": {
      "text/plain": [
       "2"
      ]
     },
     "execution_count": 10,
     "metadata": {},
     "output_type": "execute_result"
    }
   ],
   "source": [
    "ar5.ndim"
   ]
  },
  {
   "cell_type": "code",
   "execution_count": 11,
   "id": "light-printing",
   "metadata": {},
   "outputs": [
    {
     "data": {
      "text/plain": [
       "(3, 4)"
      ]
     },
     "execution_count": 11,
     "metadata": {},
     "output_type": "execute_result"
    }
   ],
   "source": [
    "ar5.shape"
   ]
  },
  {
   "cell_type": "code",
   "execution_count": 12,
   "id": "91450dd8-d85b-41d8-a3b9-f834fa7003d4",
   "metadata": {},
   "outputs": [
    {
     "data": {
      "text/plain": [
       "array([5. , 5.5, 6. , 6.5, 7. ])"
      ]
     },
     "execution_count": 12,
     "metadata": {},
     "output_type": "execute_result"
    }
   ],
   "source": [
    "ar6"
   ]
  },
  {
   "cell_type": "code",
   "execution_count": 13,
   "id": "empirical-company",
   "metadata": {},
   "outputs": [
    {
     "data": {
      "text/plain": [
       "dtype('float64')"
      ]
     },
     "execution_count": 13,
     "metadata": {},
     "output_type": "execute_result"
    }
   ],
   "source": [
    "ar6.dtype"
   ]
  },
  {
   "cell_type": "code",
   "execution_count": 14,
   "id": "effective-volleyball",
   "metadata": {},
   "outputs": [
    {
     "data": {
      "text/plain": [
       "9"
      ]
     },
     "execution_count": 14,
     "metadata": {},
     "output_type": "execute_result"
    }
   ],
   "source": [
    "ar2.size                # tells you the total number of elements of the array."
   ]
  },
  {
   "cell_type": "markdown",
   "id": "improved-destruction",
   "metadata": {},
   "source": [
    "### 3. Adding, removing, sorting elements"
   ]
  },
  {
   "cell_type": "code",
   "execution_count": 15,
   "id": "brown-arrival",
   "metadata": {},
   "outputs": [
    {
     "name": "stdout",
     "output_type": "stream",
     "text": [
      "ar5:\n",
      " [[1. 1. 1. 1.]\n",
      " [1. 1. 1. 1.]\n",
      " [1. 1. 1. 1.]]\n",
      "\n",
      "ar6: [5.  5.5 6.  6.5 7. ]\n"
     ]
    }
   ],
   "source": [
    "print(\"ar5:\\n\",ar5)\n",
    "print(\"\\nar6:\",ar6)"
   ]
  },
  {
   "cell_type": "code",
   "execution_count": 16,
   "id": "cleared-antique",
   "metadata": {},
   "outputs": [
    {
     "data": {
      "text/plain": [
       "array([0. , 2. , 2.5, 4. , 5. ])"
      ]
     },
     "execution_count": 16,
     "metadata": {},
     "output_type": "execute_result"
    }
   ],
   "source": [
    "np.sort([0,5,2,4,2.5])"
   ]
  },
  {
   "cell_type": "code",
   "execution_count": 17,
   "id": "e004f9f0-dfeb-44f6-84d7-daf37f1c87ac",
   "metadata": {},
   "outputs": [
    {
     "data": {
      "text/plain": [
       "array([  1,   5,  54, -25])"
      ]
     },
     "execution_count": 17,
     "metadata": {},
     "output_type": "execute_result"
    }
   ],
   "source": [
    "ar1"
   ]
  },
  {
   "cell_type": "code",
   "execution_count": 18,
   "id": "charged-china",
   "metadata": {},
   "outputs": [
    {
     "data": {
      "text/plain": [
       "array([  1. ,   5. ,  54. , -25. ,   5. ,   5.5,   6. ,   6.5,   7. ])"
      ]
     },
     "execution_count": 18,
     "metadata": {},
     "output_type": "execute_result"
    }
   ],
   "source": [
    "np.concatenate((ar1, ar6))     # inputs must have same dimensions"
   ]
  },
  {
   "cell_type": "code",
   "execution_count": 19,
   "id": "usual-content",
   "metadata": {},
   "outputs": [
    {
     "data": {
      "text/plain": [
       "array([[ 5,  4],\n",
       "       [ 0, -1]])"
      ]
     },
     "execution_count": 19,
     "metadata": {},
     "output_type": "execute_result"
    }
   ],
   "source": [
    "ar7 = np.array([[5,4], [0,-1]])\n",
    "ar8 = np.array([[54,55]])\n",
    "ar7"
   ]
  },
  {
   "cell_type": "code",
   "execution_count": 20,
   "id": "tough-arthur",
   "metadata": {},
   "outputs": [
    {
     "data": {
      "text/plain": [
       "array([[54, 55]])"
      ]
     },
     "execution_count": 20,
     "metadata": {},
     "output_type": "execute_result"
    }
   ],
   "source": [
    "ar8"
   ]
  },
  {
   "cell_type": "code",
   "execution_count": 21,
   "id": "direct-glenn",
   "metadata": {},
   "outputs": [
    {
     "data": {
      "text/plain": [
       "array([[ 5,  4],\n",
       "       [ 0, -1],\n",
       "       [54, 55]])"
      ]
     },
     "execution_count": 21,
     "metadata": {},
     "output_type": "execute_result"
    }
   ],
   "source": [
    "np.concatenate((ar7, ar8))"
   ]
  },
  {
   "cell_type": "markdown",
   "id": "unlimited-cycle",
   "metadata": {},
   "source": [
    "### 4. Can you reshape arrays?"
   ]
  },
  {
   "cell_type": "markdown",
   "id": "tight-patio",
   "metadata": {},
   "source": [
    "arr.reshape() will give a new shape to an array without changing the data. Just remember that when you use the reshape method, the array you want to produce needs to have the same number of elements as the original array. If you start with an array with 12 elements, you’ll need to make sure that your new array also has a total of 12 elements."
   ]
  },
  {
   "cell_type": "code",
   "execution_count": 22,
   "id": "inappropriate-newark",
   "metadata": {},
   "outputs": [
    {
     "data": {
      "text/plain": [
       "array([  1,   5,  54, -25])"
      ]
     },
     "execution_count": 22,
     "metadata": {},
     "output_type": "execute_result"
    }
   ],
   "source": [
    "ar1"
   ]
  },
  {
   "cell_type": "code",
   "execution_count": 23,
   "id": "cathedral-recognition",
   "metadata": {},
   "outputs": [
    {
     "data": {
      "text/plain": [
       "array([[  1,   5],\n",
       "       [ 54, -25]])"
      ]
     },
     "execution_count": 23,
     "metadata": {},
     "output_type": "execute_result"
    }
   ],
   "source": [
    "ar1.reshape((2,2))"
   ]
  },
  {
   "cell_type": "code",
   "execution_count": 24,
   "id": "determined-reader",
   "metadata": {},
   "outputs": [
    {
     "data": {
      "text/plain": [
       "array([[ 5,  4],\n",
       "       [ 0, -1]])"
      ]
     },
     "execution_count": 24,
     "metadata": {},
     "output_type": "execute_result"
    }
   ],
   "source": [
    "ar7"
   ]
  },
  {
   "cell_type": "code",
   "execution_count": 25,
   "id": "boxed-england",
   "metadata": {},
   "outputs": [
    {
     "data": {
      "text/plain": [
       "array([[ 5,  0],\n",
       "       [ 4, -1]])"
      ]
     },
     "execution_count": 25,
     "metadata": {},
     "output_type": "execute_result"
    }
   ],
   "source": [
    "ar7.T               # Used to get the transpose of an array"
   ]
  },
  {
   "cell_type": "markdown",
   "id": "continuous-astronomy",
   "metadata": {},
   "source": [
    "### 5. How to convert a 1D array into a 2D array (how to add a new axis to an array)"
   ]
  },
  {
   "cell_type": "code",
   "execution_count": 26,
   "id": "native-teddy",
   "metadata": {},
   "outputs": [
    {
     "data": {
      "text/plain": [
       "array([ 2,  3,  4,  5,  6,  7,  8,  9, 10, 11, 12, 13, 14])"
      ]
     },
     "execution_count": 26,
     "metadata": {},
     "output_type": "execute_result"
    }
   ],
   "source": [
    "ar9 = np.arange(2, 15)\n",
    "ar9"
   ]
  },
  {
   "cell_type": "code",
   "execution_count": 27,
   "id": "partial-graduation",
   "metadata": {},
   "outputs": [
    {
     "data": {
      "text/plain": [
       "(13,)"
      ]
     },
     "execution_count": 27,
     "metadata": {},
     "output_type": "execute_result"
    }
   ],
   "source": [
    "ar9.shape"
   ]
  },
  {
   "cell_type": "markdown",
   "id": "located-treatment",
   "metadata": {},
   "source": [
    "Using np.newaxis will increase the dimensions of your array by one dimension when used once. This means that a 1D array will become a 2D array, a 2D array will become a 3D array, and so on."
   ]
  },
  {
   "cell_type": "code",
   "execution_count": 28,
   "id": "demonstrated-march",
   "metadata": {},
   "outputs": [
    {
     "data": {
      "text/plain": [
       "array([[ 2],\n",
       "       [ 3],\n",
       "       [ 4],\n",
       "       [ 5],\n",
       "       [ 6],\n",
       "       [ 7],\n",
       "       [ 8],\n",
       "       [ 9],\n",
       "       [10],\n",
       "       [11],\n",
       "       [12],\n",
       "       [13],\n",
       "       [14]])"
      ]
     },
     "execution_count": 28,
     "metadata": {},
     "output_type": "execute_result"
    }
   ],
   "source": [
    "ar9_col_vector = ar9[:, np.newaxis]\n",
    "ar9_col_vector"
   ]
  },
  {
   "cell_type": "code",
   "execution_count": 29,
   "id": "bronze-isaac",
   "metadata": {},
   "outputs": [
    {
     "data": {
      "text/plain": [
       "(13, 1)"
      ]
     },
     "execution_count": 29,
     "metadata": {},
     "output_type": "execute_result"
    }
   ],
   "source": [
    "ar9_col_vector.shape"
   ]
  },
  {
   "cell_type": "markdown",
   "id": "placed-removal",
   "metadata": {},
   "source": [
    "### 6. Indexing and Slicing"
   ]
  },
  {
   "cell_type": "markdown",
   "id": "built-hammer",
   "metadata": {},
   "source": [
    "You can index and slice NumPy arrays in the same ways you can slice Python lists."
   ]
  },
  {
   "cell_type": "code",
   "execution_count": 30,
   "id": "desperate-original",
   "metadata": {},
   "outputs": [],
   "source": [
    "ar10 = np.array([[1 , 12, 3, 40], [55, 6, -7, 18], [9, 10, -11, 12]])"
   ]
  },
  {
   "cell_type": "code",
   "execution_count": 31,
   "id": "senior-visiting",
   "metadata": {},
   "outputs": [
    {
     "data": {
      "text/plain": [
       "array([[  1,  12,   3,  40],\n",
       "       [ 55,   6,  -7,  18],\n",
       "       [  9,  10, -11,  12]])"
      ]
     },
     "execution_count": 31,
     "metadata": {},
     "output_type": "execute_result"
    }
   ],
   "source": [
    "ar10"
   ]
  },
  {
   "cell_type": "code",
   "execution_count": 32,
   "id": "vocational-nashville",
   "metadata": {},
   "outputs": [
    {
     "data": {
      "text/plain": [
       "array([[  9,  10, -11,  12]])"
      ]
     },
     "execution_count": 32,
     "metadata": {},
     "output_type": "execute_result"
    }
   ],
   "source": [
    "ar10[2:]"
   ]
  },
  {
   "cell_type": "markdown",
   "id": "limited-registrar",
   "metadata": {},
   "source": [
    "You can very easily choose a certain subset of the array you are working with."
   ]
  },
  {
   "cell_type": "code",
   "execution_count": 33,
   "id": "arranged-checklist",
   "metadata": {},
   "outputs": [
    {
     "data": {
      "text/plain": [
       "array([ 1, 12,  3, 40, 55,  6, 18,  9, 10, 12])"
      ]
     },
     "execution_count": 33,
     "metadata": {},
     "output_type": "execute_result"
    }
   ],
   "source": [
    "ar10[ar10>0]"
   ]
  },
  {
   "cell_type": "markdown",
   "id": "political-collaboration",
   "metadata": {},
   "source": [
    "You can also make use of the logical operators in order to return boolean values that specify whether or not the values in an array fulfill a certain condition. This can be useful with arrays that contain names or other categorical values."
   ]
  },
  {
   "cell_type": "code",
   "execution_count": 34,
   "id": "appropriate-stevens",
   "metadata": {},
   "outputs": [
    {
     "data": {
      "text/plain": [
       "array([[False, False, False,  True],\n",
       "       [ True, False, False,  True],\n",
       "       [False, False, False, False]])"
      ]
     },
     "execution_count": 34,
     "metadata": {},
     "output_type": "execute_result"
    }
   ],
   "source": [
    "ar10>15"
   ]
  },
  {
   "cell_type": "markdown",
   "id": "likely-practitioner",
   "metadata": {},
   "source": [
    "#### Slicing ndarrays: creates a view, not a copy (unlike slicing built in sequence types)."
   ]
  },
  {
   "cell_type": "code",
   "execution_count": 35,
   "id": "seasonal-reasoning",
   "metadata": {},
   "outputs": [
    {
     "data": {
      "text/plain": [
       "array([ 2,  3,  4,  5,  6,  7,  8,  9, 10, 11, 12, 13, 14])"
      ]
     },
     "execution_count": 35,
     "metadata": {},
     "output_type": "execute_result"
    }
   ],
   "source": [
    "ar9"
   ]
  },
  {
   "cell_type": "code",
   "execution_count": 36,
   "id": "early-generator",
   "metadata": {},
   "outputs": [
    {
     "name": "stdout",
     "output_type": "stream",
     "text": [
      "[4 5 6]\n",
      "[14 15 16]\n"
     ]
    }
   ],
   "source": [
    "elements = ar9[2:5]                     # Slicing few elements from the array\n",
    "print(elements)\n",
    "elements += 10\n",
    "print(elements)"
   ]
  },
  {
   "cell_type": "markdown",
   "id": "corrected-virtue",
   "metadata": {},
   "source": [
    "#### We will notice that making any changes in a part of the array is going to be reflected in the entire array."
   ]
  },
  {
   "cell_type": "code",
   "execution_count": 37,
   "id": "weighted-literacy",
   "metadata": {},
   "outputs": [
    {
     "data": {
      "text/plain": [
       "array([ 2,  3, 14, 15, 16,  7,  8,  9, 10, 11, 12, 13, 14])"
      ]
     },
     "execution_count": 37,
     "metadata": {},
     "output_type": "execute_result"
    }
   ],
   "source": [
    "ar9"
   ]
  },
  {
   "cell_type": "markdown",
   "id": "precious-frost",
   "metadata": {},
   "source": [
    "### 7. Basic array operations"
   ]
  },
  {
   "cell_type": "code",
   "execution_count": 38,
   "id": "mobile-lloyd",
   "metadata": {},
   "outputs": [
    {
     "data": {
      "text/plain": [
       "array([  1,   5,  54, -25])"
      ]
     },
     "execution_count": 38,
     "metadata": {},
     "output_type": "execute_result"
    }
   ],
   "source": [
    "ar1"
   ]
  },
  {
   "cell_type": "code",
   "execution_count": 39,
   "id": "expected-milton",
   "metadata": {},
   "outputs": [
    {
     "data": {
      "text/plain": [
       "array([  2.,   6.,  55., -24.])"
      ]
     },
     "execution_count": 39,
     "metadata": {},
     "output_type": "execute_result"
    }
   ],
   "source": [
    "ar1 + np.ones(4)"
   ]
  },
  {
   "cell_type": "code",
   "execution_count": 40,
   "id": "republican-helen",
   "metadata": {},
   "outputs": [
    {
     "data": {
      "text/plain": [
       "array([[  1,  12,   3,  40],\n",
       "       [ 55,   6,  -7,  18],\n",
       "       [  9,  10, -11,  12]])"
      ]
     },
     "execution_count": 40,
     "metadata": {},
     "output_type": "execute_result"
    }
   ],
   "source": [
    "ar10"
   ]
  },
  {
   "cell_type": "code",
   "execution_count": 41,
   "id": "advised-motion",
   "metadata": {},
   "outputs": [
    {
     "data": {
      "text/plain": [
       "array([ 65,  28, -15,  70])"
      ]
     },
     "execution_count": 41,
     "metadata": {},
     "output_type": "execute_result"
    }
   ],
   "source": [
    "ar10.sum(axis=0)                       # Sums each column"
   ]
  },
  {
   "cell_type": "code",
   "execution_count": 42,
   "id": "waiting-gamma",
   "metadata": {},
   "outputs": [
    {
     "data": {
      "text/plain": [
       "array([[ 1,  0,  1],\n",
       "       [-1,  2,  5],\n",
       "       [ 5,  7, 99]])"
      ]
     },
     "execution_count": 42,
     "metadata": {},
     "output_type": "execute_result"
    }
   ],
   "source": [
    "ar2"
   ]
  },
  {
   "cell_type": "code",
   "execution_count": 43,
   "id": "electoral-madagascar",
   "metadata": {},
   "outputs": [
    {
     "data": {
      "text/plain": [
       "array([ 0, -1,  5])"
      ]
     },
     "execution_count": 43,
     "metadata": {},
     "output_type": "execute_result"
    }
   ],
   "source": [
    "ar2.min(axis=1)                       # Finds the minimum in each row"
   ]
  },
  {
   "cell_type": "code",
   "execution_count": 44,
   "id": "administrative-anxiety",
   "metadata": {},
   "outputs": [
    {
     "data": {
      "text/plain": [
       "array([11, 11, 12, 13, 14, 15, 16, 17, 12, 13, 11, 14, 18, 19, 20])"
      ]
     },
     "execution_count": 44,
     "metadata": {},
     "output_type": "execute_result"
    }
   ],
   "source": [
    "ar11 = np.array([11, 11, 12, 13, 14, 15, 16, 17, 12, 13, 11, 14, 18, 19, 20])\n",
    "ar11"
   ]
  },
  {
   "cell_type": "code",
   "execution_count": 45,
   "id": "loaded-partnership",
   "metadata": {},
   "outputs": [
    {
     "data": {
      "text/plain": [
       "array([11, 12, 13, 14, 15, 16, 17, 18, 19, 20])"
      ]
     },
     "execution_count": 45,
     "metadata": {},
     "output_type": "execute_result"
    }
   ],
   "source": [
    "np.unique(ar11)                      # Returns all the unique elements from an array"
   ]
  },
  {
   "cell_type": "markdown",
   "id": "atmospheric-promise",
   "metadata": {},
   "source": [
    "To get the indices of unique values in a NumPy array (an array of first index positions of unique values in the array), just pass the <i>return_index</i> argument in <b>np.unique()</b> as well as your array."
   ]
  },
  {
   "cell_type": "code",
   "execution_count": 46,
   "id": "outer-enzyme",
   "metadata": {},
   "outputs": [
    {
     "name": "stdout",
     "output_type": "stream",
     "text": [
      "[11 12 13 14 15 16 17 18 19 20]\n",
      "[ 0  2  3  4  5  6  7 12 13 14]\n"
     ]
    }
   ],
   "source": [
    "unique, index_u = np.unique(ar11, return_index=True)\n",
    "print(unique)\n",
    "print(index_u)"
   ]
  },
  {
   "cell_type": "markdown",
   "id": "split-mortgage",
   "metadata": {},
   "source": [
    "### 8. Flattening multidimensional arrays"
   ]
  },
  {
   "cell_type": "markdown",
   "id": "dated-mexican",
   "metadata": {},
   "source": [
    "There are two popular ways to flatten an array: <b>.flatten()</b> and <b>.ravel()</b>. The primary difference between the two is that the new array created using ravel() is actually a reference to the parent array (i.e., a “view”). This means that any changes to the new array will affect the parent array as well. Since ravel does not create a copy, it’s memory efficient."
   ]
  },
  {
   "cell_type": "code",
   "execution_count": 47,
   "id": "third-memorial",
   "metadata": {},
   "outputs": [
    {
     "data": {
      "text/plain": [
       "array([[ 5,  4],\n",
       "       [ 0, -1]])"
      ]
     },
     "execution_count": 47,
     "metadata": {},
     "output_type": "execute_result"
    }
   ],
   "source": [
    "ar7"
   ]
  },
  {
   "cell_type": "code",
   "execution_count": 48,
   "id": "checked-drive",
   "metadata": {},
   "outputs": [
    {
     "data": {
      "text/plain": [
       "array([ 5,  4,  0, -1])"
      ]
     },
     "execution_count": 48,
     "metadata": {},
     "output_type": "execute_result"
    }
   ],
   "source": [
    "ar7.flatten()"
   ]
  },
  {
   "cell_type": "code",
   "execution_count": 49,
   "id": "middle-diving",
   "metadata": {},
   "outputs": [
    {
     "data": {
      "text/plain": [
       "array([ 5,  4,  0, -1])"
      ]
     },
     "execution_count": 49,
     "metadata": {},
     "output_type": "execute_result"
    }
   ],
   "source": [
    "ar7.ravel()"
   ]
  },
  {
   "cell_type": "markdown",
   "id": "international-perth",
   "metadata": {},
   "source": [
    "When you use ravel, the changes you make to the new array will affect the parent array."
   ]
  },
  {
   "cell_type": "code",
   "execution_count": 50,
   "id": "norwegian-subsection",
   "metadata": {},
   "outputs": [],
   "source": [
    "x = np.array([[1 , 2, 3, 4], [5, 6, 7, 8], [9, 10, 11, 12]])"
   ]
  },
  {
   "cell_type": "code",
   "execution_count": 51,
   "id": "matched-information",
   "metadata": {},
   "outputs": [
    {
     "name": "stdout",
     "output_type": "stream",
     "text": [
      "[[98  2  3  4]\n",
      " [ 5  6  7  8]\n",
      " [ 9 10 11 12]]\n",
      "\n",
      "[98  2  3  4  5  6  7  8  9 10 11 12]\n"
     ]
    }
   ],
   "source": [
    "a2 = x.ravel()\n",
    "a2[0] = 98\n",
    "print(x)                         # Original array\n",
    "print()\n",
    "print(a2)                        # New array"
   ]
  },
  {
   "cell_type": "markdown",
   "id": "naughty-israeli",
   "metadata": {},
   "source": [
    "## To get help for any function from the documentation just add a <b>\"?\"</b> at the end."
   ]
  },
  {
   "cell_type": "markdown",
   "id": "hired-depression",
   "metadata": {},
   "source": [
    "### Example:"
   ]
  },
  {
   "cell_type": "code",
   "execution_count": 54,
   "id": "peaceful-crowd",
   "metadata": {},
   "outputs": [
    {
     "data": {
      "text/plain": [
       "\u001b[1;31mDocstring:\u001b[0m\n",
       "concatenate((a1, a2, ...), axis=0, out=None, dtype=None, casting=\"same_kind\")\n",
       "\n",
       "Join a sequence of arrays along an existing axis.\n",
       "\n",
       "Parameters\n",
       "----------\n",
       "a1, a2, ... : sequence of array_like\n",
       "    The arrays must have the same shape, except in the dimension\n",
       "    corresponding to `axis` (the first, by default).\n",
       "axis : int, optional\n",
       "    The axis along which the arrays will be joined.  If axis is None,\n",
       "    arrays are flattened before use.  Default is 0.\n",
       "out : ndarray, optional\n",
       "    If provided, the destination to place the result. The shape must be\n",
       "    correct, matching that of what concatenate would have returned if no\n",
       "    out argument were specified.\n",
       "dtype : str or dtype\n",
       "    If provided, the destination array will have this dtype. Cannot be\n",
       "    provided together with `out`.\n",
       "\n",
       "    .. versionadded:: 1.20.0\n",
       "\n",
       "casting : {'no', 'equiv', 'safe', 'same_kind', 'unsafe'}, optional\n",
       "    Controls what kind of data casting may occur. Defaults to 'same_kind'.\n",
       "\n",
       "    .. versionadded:: 1.20.0\n",
       "\n",
       "Returns\n",
       "-------\n",
       "res : ndarray\n",
       "    The concatenated array.\n",
       "\n",
       "See Also\n",
       "--------\n",
       "ma.concatenate : Concatenate function that preserves input masks.\n",
       "array_split : Split an array into multiple sub-arrays of equal or\n",
       "              near-equal size.\n",
       "split : Split array into a list of multiple sub-arrays of equal size.\n",
       "hsplit : Split array into multiple sub-arrays horizontally (column wise).\n",
       "vsplit : Split array into multiple sub-arrays vertically (row wise).\n",
       "dsplit : Split array into multiple sub-arrays along the 3rd axis (depth).\n",
       "stack : Stack a sequence of arrays along a new axis.\n",
       "block : Assemble arrays from blocks.\n",
       "hstack : Stack arrays in sequence horizontally (column wise).\n",
       "vstack : Stack arrays in sequence vertically (row wise).\n",
       "dstack : Stack arrays in sequence depth wise (along third dimension).\n",
       "column_stack : Stack 1-D arrays as columns into a 2-D array.\n",
       "\n",
       "Notes\n",
       "-----\n",
       "When one or more of the arrays to be concatenated is a MaskedArray,\n",
       "this function will return a MaskedArray object instead of an ndarray,\n",
       "but the input masks are *not* preserved. In cases where a MaskedArray\n",
       "is expected as input, use the ma.concatenate function from the masked\n",
       "array module instead.\n",
       "\n",
       "Examples\n",
       "--------\n",
       ">>> a = np.array([[1, 2], [3, 4]])\n",
       ">>> b = np.array([[5, 6]])\n",
       ">>> np.concatenate((a, b), axis=0)\n",
       "array([[1, 2],\n",
       "       [3, 4],\n",
       "       [5, 6]])\n",
       ">>> np.concatenate((a, b.T), axis=1)\n",
       "array([[1, 2, 5],\n",
       "       [3, 4, 6]])\n",
       ">>> np.concatenate((a, b), axis=None)\n",
       "array([1, 2, 3, 4, 5, 6])\n",
       "\n",
       "This function will not preserve masking of MaskedArray inputs.\n",
       "\n",
       ">>> a = np.ma.arange(3)\n",
       ">>> a[1] = np.ma.masked\n",
       ">>> b = np.arange(2, 5)\n",
       ">>> a\n",
       "masked_array(data=[0, --, 2],\n",
       "             mask=[False,  True, False],\n",
       "       fill_value=999999)\n",
       ">>> b\n",
       "array([2, 3, 4])\n",
       ">>> np.concatenate([a, b])\n",
       "masked_array(data=[0, 1, 2, 2, 3, 4],\n",
       "             mask=False,\n",
       "       fill_value=999999)\n",
       ">>> np.ma.concatenate([a, b])\n",
       "masked_array(data=[0, --, 2, 2, 3, 4],\n",
       "             mask=[False,  True, False, False, False, False],\n",
       "       fill_value=999999)\n",
       "\u001b[1;31mType:\u001b[0m      function\n"
      ]
     },
     "metadata": {},
     "output_type": "display_data"
    }
   ],
   "source": [
    "np.concatenate?"
   ]
  },
  {
   "cell_type": "code",
   "execution_count": null,
   "id": "loved-acquisition",
   "metadata": {},
   "outputs": [],
   "source": []
  }
 ],
 "metadata": {
  "kernelspec": {
   "display_name": "Python 3 (ipykernel)",
   "language": "python",
   "name": "python3"
  },
  "language_info": {
   "codemirror_mode": {
    "name": "ipython",
    "version": 3
   },
   "file_extension": ".py",
   "mimetype": "text/x-python",
   "name": "python",
   "nbconvert_exporter": "python",
   "pygments_lexer": "ipython3",
   "version": "3.9.13"
  }
 },
 "nbformat": 4,
 "nbformat_minor": 5
}
