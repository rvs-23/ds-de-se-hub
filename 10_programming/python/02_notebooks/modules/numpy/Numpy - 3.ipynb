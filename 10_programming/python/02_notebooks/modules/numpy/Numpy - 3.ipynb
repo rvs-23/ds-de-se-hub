{
 "cells": [
  {
   "cell_type": "markdown",
   "id": "alpha-episode",
   "metadata": {},
   "source": [
    "# Numpy exercises "
   ]
  },
  {
   "cell_type": "markdown",
   "id": "sharp-devil",
   "metadata": {},
   "source": [
    "<div class=\"alert alert-warning \" role=\"alert\" style=\"margin-top: 0px\">\n",
    "<h3> Question-0:</h3>\n",
    "    <b>Import numpy as np and display the version and configuration.</b>\n",
    "</div>"
   ]
  },
  {
   "cell_type": "code",
   "execution_count": 1,
   "id": "fitted-colony",
   "metadata": {},
   "outputs": [
    {
     "data": {
      "text/plain": [
       "'1.20.1'"
      ]
     },
     "execution_count": 1,
     "metadata": {},
     "output_type": "execute_result"
    }
   ],
   "source": [
    "import numpy as np\n",
    "\n",
    "np.version.version"
   ]
  },
  {
   "cell_type": "code",
   "execution_count": 2,
   "id": "upset-spiritual",
   "metadata": {},
   "outputs": [
    {
     "name": "stdout",
     "output_type": "stream",
     "text": [
      "blas_mkl_info:\n",
      "    libraries = ['mkl_rt']\n",
      "    library_dirs = ['C:/Users/23ris/anaconda3\\\\Library\\\\lib']\n",
      "    define_macros = [('SCIPY_MKL_H', None), ('HAVE_CBLAS', None)]\n",
      "    include_dirs = ['C:/Users/23ris/anaconda3\\\\Library\\\\include']\n",
      "blas_opt_info:\n",
      "    libraries = ['mkl_rt']\n",
      "    library_dirs = ['C:/Users/23ris/anaconda3\\\\Library\\\\lib']\n",
      "    define_macros = [('SCIPY_MKL_H', None), ('HAVE_CBLAS', None)]\n",
      "    include_dirs = ['C:/Users/23ris/anaconda3\\\\Library\\\\include']\n",
      "lapack_mkl_info:\n",
      "    libraries = ['mkl_rt']\n",
      "    library_dirs = ['C:/Users/23ris/anaconda3\\\\Library\\\\lib']\n",
      "    define_macros = [('SCIPY_MKL_H', None), ('HAVE_CBLAS', None)]\n",
      "    include_dirs = ['C:/Users/23ris/anaconda3\\\\Library\\\\include']\n",
      "lapack_opt_info:\n",
      "    libraries = ['mkl_rt']\n",
      "    library_dirs = ['C:/Users/23ris/anaconda3\\\\Library\\\\lib']\n",
      "    define_macros = [('SCIPY_MKL_H', None), ('HAVE_CBLAS', None)]\n",
      "    include_dirs = ['C:/Users/23ris/anaconda3\\\\Library\\\\include']\n"
     ]
    }
   ],
   "source": [
    "np.show_config()"
   ]
  },
  {
   "cell_type": "markdown",
   "id": "medical-rwanda",
   "metadata": {},
   "source": [
    "<div class=\"alert alert-warning \" role=\"alert\" style=\"margin-top: 0px\">\n",
    "<h3> Question-1:</h3>\n",
    "    <b>Create a null vector of size 9 whose 5<sup>th</sup> element is 9.</b>\n",
    "</div>"
   ]
  },
  {
   "cell_type": "code",
   "execution_count": 3,
   "id": "vulnerable-watershed",
   "metadata": {},
   "outputs": [
    {
     "data": {
      "text/plain": [
       "array([0., 0., 0., 0., 8., 0., 0., 0.])"
      ]
     },
     "execution_count": 3,
     "metadata": {},
     "output_type": "execute_result"
    }
   ],
   "source": [
    "a1 = np.zeros(8)\n",
    "a1[4] = 8\n",
    "a1"
   ]
  },
  {
   "cell_type": "markdown",
   "id": "adopted-buffalo",
   "metadata": {},
   "source": [
    "<div class=\"alert alert-warning \" role=\"alert\" style=\"margin-top: 0px\">\n",
    "<h3> Question-2:</h3>\n",
    "    <b>Create an identity matrix of order 3*3.</b>\n",
    "</div>"
   ]
  },
  {
   "cell_type": "code",
   "execution_count": 4,
   "id": "raised-advantage",
   "metadata": {},
   "outputs": [
    {
     "data": {
      "text/plain": [
       "array([[1., 0., 0.],\n",
       "       [0., 1., 0.],\n",
       "       [0., 0., 1.]])"
      ]
     },
     "execution_count": 4,
     "metadata": {},
     "output_type": "execute_result"
    }
   ],
   "source": [
    "# Method - 1\n",
    "\n",
    "np.eye(3)"
   ]
  },
  {
   "cell_type": "code",
   "execution_count": 5,
   "id": "similar-textbook",
   "metadata": {},
   "outputs": [
    {
     "data": {
      "text/plain": [
       "array([[1., 0., 0.],\n",
       "       [0., 1., 0.],\n",
       "       [0., 0., 1.]])"
      ]
     },
     "execution_count": 5,
     "metadata": {},
     "output_type": "execute_result"
    }
   ],
   "source": [
    "# Method - 2 \n",
    "\n",
    "np.identity(3)"
   ]
  },
  {
   "cell_type": "code",
   "execution_count": 6,
   "id": "loaded-sentence",
   "metadata": {},
   "outputs": [
    {
     "data": {
      "text/plain": [
       "array([[1., 0., 0.],\n",
       "       [0., 1., 0.],\n",
       "       [0., 0., 1.]])"
      ]
     },
     "execution_count": 6,
     "metadata": {},
     "output_type": "execute_result"
    }
   ],
   "source": [
    "# Method - 3\n",
    "\n",
    "def identity(order):\n",
    "    idty = np.zeros(order**2).reshape(order, order)\n",
    "    index = 0\n",
    "    while index<order:\n",
    "        idty[index][index] = 1\n",
    "        index += 1\n",
    "    return idty\n",
    "\n",
    "identity(3)"
   ]
  },
  {
   "cell_type": "markdown",
   "id": "arctic-pittsburgh",
   "metadata": {},
   "source": [
    "<div class=\"alert alert-warning \" role=\"alert\" style=\"margin-top: 0px\">\n",
    "<h3> Question-3:</h3>\n",
    "    <b>Create a 5*5*5 array with random values and find the minimum and maximum in each column.</b>\n",
    "</div>"
   ]
  },
  {
   "cell_type": "code",
   "execution_count": 7,
   "id": "yellow-assignment",
   "metadata": {},
   "outputs": [
    {
     "name": "stdout",
     "output_type": "stream",
     "text": [
      "[0.87011231 0.94725592 0.96281285 0.88786563 0.86503682]\n",
      "[0.14540224 0.00133061 0.02027652 0.04248547 0.08895286]\n"
     ]
    }
   ],
   "source": [
    "a2 = np.random.random((5,5,5))\n",
    "print(a2.max(axis=1).max(axis=1))\n",
    "print(a2.min(axis=1).min(axis=1))"
   ]
  },
  {
   "cell_type": "markdown",
   "id": "south-knife",
   "metadata": {},
   "source": [
    "<div class=\"alert alert-warning \" role=\"alert\" style=\"margin-top: 0px\">\n",
    "<h3> Question-4:</h3>\n",
    "    <b>Create a 4*4 matrix with random integers and normalize the values between 0 and 1.</b>\n",
    "</div>"
   ]
  },
  {
   "cell_type": "code",
   "execution_count": 8,
   "id": "variable-preference",
   "metadata": {},
   "outputs": [
    {
     "data": {
      "text/plain": [
       "array([[48, 21,  8, 43],\n",
       "       [13, 40, 97, 85],\n",
       "       [ 3, 62, 62, 98],\n",
       "       [89, 35, 11,  8]])"
      ]
     },
     "execution_count": 8,
     "metadata": {},
     "output_type": "execute_result"
    }
   ],
   "source": [
    "a3 = np.random.randint(1,100,(4,4))\n",
    "normalizer = a3.max() - a3.min()\n",
    "normalized_a3 = (a3 - a3.min())/normalizer\n",
    "a3"
   ]
  },
  {
   "cell_type": "code",
   "execution_count": 9,
   "id": "compliant-transaction",
   "metadata": {},
   "outputs": [
    {
     "data": {
      "text/plain": [
       "array([[0.47368421, 0.18947368, 0.05263158, 0.42105263],\n",
       "       [0.10526316, 0.38947368, 0.98947368, 0.86315789],\n",
       "       [0.        , 0.62105263, 0.62105263, 1.        ],\n",
       "       [0.90526316, 0.33684211, 0.08421053, 0.05263158]])"
      ]
     },
     "execution_count": 9,
     "metadata": {},
     "output_type": "execute_result"
    }
   ],
   "source": [
    "normalized_a3"
   ]
  },
  {
   "cell_type": "markdown",
   "id": "wound-functionality",
   "metadata": {},
   "source": [
    "<div class=\"alert alert-warning \" role=\"alert\" style=\"margin-top: 0px\">\n",
    "<h3> Question-5:</h3>\n",
    "    <b>Consider a random 50X2 matrix representing Cartesian Coordinates, convert them into polar coordinates.</b>\n",
    "</div>"
   ]
  },
  {
   "cell_type": "code",
   "execution_count": 10,
   "id": "under-graphic",
   "metadata": {},
   "outputs": [
    {
     "name": "stdout",
     "output_type": "stream",
     "text": [
      "Cartesian Coordinates (44, 81) into polar corrdinates are (92.1792, 1.0732)\n",
      "Cartesian Coordinates (35, 48) into polar corrdinates are (59.4054, 0.9408)\n",
      "Cartesian Coordinates (97, 90) into polar corrdinates are (132.3216, 0.748)\n",
      "Cartesian Coordinates (96, 6) into polar corrdinates are (96.1873, 0.0624)\n",
      "Cartesian Coordinates (84, 98) into polar corrdinates are (129.0736, 0.8622)\n",
      "Cartesian Coordinates (77, 86) into polar corrdinates are (115.434, 0.8406)\n",
      "Cartesian Coordinates (88, 50) into polar corrdinates are (101.2126, 0.5167)\n",
      "Cartesian Coordinates (5, 92) into polar corrdinates are (92.1358, 1.5165)\n",
      "Cartesian Coordinates (23, 66) into polar corrdinates are (69.8928, 1.2355)\n",
      "Cartesian Coordinates (81, 58) into polar corrdinates are (99.6243, 0.6214)\n"
     ]
    }
   ],
   "source": [
    "a4 = np.random.randint(1,100,100).reshape(50,2)\n",
    "X, Y = a4[:,0], a4[:,1]\n",
    "r = np.sqrt(X**2+Y**2).round(4)\n",
    "T = np.arctan2(Y,X).round(4)\n",
    "\n",
    "# printing the first 10 coordinates\n",
    "for i,j,a,b in zip(X[:10],Y[:10],r[:10],T[:10]):\n",
    "    print(\"Cartesian Coordinates {} into polar corrdinates are {}\".format((i,j),(a,b)))"
   ]
  },
  {
   "cell_type": "markdown",
   "id": "geographic-extra",
   "metadata": {},
   "source": [
    "<div class=\"alert alert-warning \" role=\"alert\" style=\"margin-top: 0px\">\n",
    "<h3> Question-6:</h3>\n",
    "    <b>Consider the vector [1, 2, 3, 4, 5], how to build a new vector with 3 consecutive zeros interleaved between each value ?</b>\n",
    "</div>"
   ]
  },
  {
   "cell_type": "code",
   "execution_count": 11,
   "id": "radio-effectiveness",
   "metadata": {},
   "outputs": [
    {
     "data": {
      "text/plain": [
       "array([1., 0., 0., 0., 2., 0., 0., 0., 3., 0., 0., 0., 4., 0., 0., 0., 5.])"
      ]
     },
     "execution_count": 11,
     "metadata": {},
     "output_type": "execute_result"
    }
   ],
   "source": [
    "Z = np.array([1,2,3,4,5])\n",
    "nz = 3\n",
    "Z0 = np.zeros(len(Z) + (len(Z)-1)*(nz))                   # Empty array with required no. of elements\n",
    "Z0[::nz+1] = Z                                            # Replace every 4th zero with the actual element from the array\n",
    "Z0"
   ]
  },
  {
   "cell_type": "markdown",
   "id": "confidential-consortium",
   "metadata": {},
   "source": [
    "<div class=\"alert alert-warning \" role=\"alert\" style=\"margin-top: 0px\">\n",
    "<h3> Question-7:</h3>\n",
    "    <b>Create a random 5*3 numpy array with and find the total memory occupied by this array. </b>\n",
    "</div>"
   ]
  },
  {
   "cell_type": "code",
   "execution_count": 12,
   "id": "guided-handle",
   "metadata": {},
   "outputs": [
    {
     "name": "stdout",
     "output_type": "stream",
     "text": [
      "The memory occupied by  the\n",
      " [[44 85 36]\n",
      " [31 31 37]\n",
      " [79 47 40]\n",
      " [22 98 13]\n",
      " [15 80 46]] \n",
      "is 60 bytes\n"
     ]
    }
   ],
   "source": [
    "a4 = np.random.randint(1, 100, (5,3))\n",
    "memory = a4.size * a4.itemsize       # length of the array * space occupied by each element\n",
    "print(f\"The memory occupied by  the\\n {a4} \\nis {memory} bytes\")"
   ]
  },
  {
   "cell_type": "markdown",
   "id": "likely-worth",
   "metadata": {},
   "source": [
    "<div class=\"alert alert-warning \" role=\"alert\" style=\"margin-top: 0px\">\n",
    "<h3> Question-8:</h3>\n",
    "    <b>Generate a 4X3 array of length 12 with elements from 60-71. Iterate over the array and print the numbers individually.</b>\n",
    "</div>"
   ]
  },
  {
   "cell_type": "code",
   "execution_count": 13,
   "id": "piano-basket",
   "metadata": {},
   "outputs": [
    {
     "data": {
      "text/plain": [
       "array([[60, 61, 62],\n",
       "       [63, 64, 65],\n",
       "       [66, 67, 68],\n",
       "       [69, 70, 71]])"
      ]
     },
     "execution_count": 13,
     "metadata": {},
     "output_type": "execute_result"
    }
   ],
   "source": [
    "a5 = np.arange(60,72).reshape(4,3)\n",
    "a5"
   ]
  },
  {
   "cell_type": "code",
   "execution_count": 14,
   "id": "modern-field",
   "metadata": {},
   "outputs": [
    {
     "name": "stdout",
     "output_type": "stream",
     "text": [
      "[60 61 62]\n",
      "[63 64 65]\n",
      "[66 67 68]\n",
      "[69 70 71]\n"
     ]
    }
   ],
   "source": [
    "# Note: A simple for loop doesn't work. It prints all the elements column wise.\n",
    "\n",
    "for i in a5:\n",
    "    print(i)"
   ]
  },
  {
   "cell_type": "code",
   "execution_count": 15,
   "id": "atmospheric-nicholas",
   "metadata": {},
   "outputs": [
    {
     "name": "stdout",
     "output_type": "stream",
     "text": [
      "60 61 62 63 64 65 66 67 68 69 70 71 "
     ]
    }
   ],
   "source": [
    "# Therefore, we use the function .nditer which iterates over the n-dimensions at once\n",
    "\n",
    "for i in np.nditer(a5):\n",
    "    print(i, end=\" \")"
   ]
  },
  {
   "cell_type": "markdown",
   "id": "unsigned-sugar",
   "metadata": {},
   "source": [
    "<div class=\"alert alert-warning \" role=\"alert\" style=\"margin-top: 0px\">\n",
    "<h3> Question-9:</h3>\n",
    "    <b>Create a 10x10 matrix, in which the elements on the borders are 1, and rest 0.</b>\n",
    "</div>"
   ]
  },
  {
   "cell_type": "code",
   "execution_count": 16,
   "id": "social-starter",
   "metadata": {},
   "outputs": [
    {
     "data": {
      "text/plain": [
       "array([[1., 1., 1., 1., 1., 1., 1., 1., 1., 1.],\n",
       "       [1., 0., 0., 0., 0., 0., 0., 0., 0., 1.],\n",
       "       [1., 0., 0., 0., 0., 0., 0., 0., 0., 1.],\n",
       "       [1., 0., 0., 0., 0., 0., 0., 0., 0., 1.],\n",
       "       [1., 0., 0., 0., 0., 0., 0., 0., 0., 1.],\n",
       "       [1., 0., 0., 0., 0., 0., 0., 0., 0., 1.],\n",
       "       [1., 0., 0., 0., 0., 0., 0., 0., 0., 1.],\n",
       "       [1., 0., 0., 0., 0., 0., 0., 0., 0., 1.],\n",
       "       [1., 0., 0., 0., 0., 0., 0., 0., 0., 1.],\n",
       "       [1., 1., 1., 1., 1., 1., 1., 1., 1., 1.]])"
      ]
     },
     "execution_count": 16,
     "metadata": {},
     "output_type": "execute_result"
    }
   ],
   "source": [
    "# Method-1\n",
    "\n",
    "a6 = np.ones((10,10))\n",
    "for index, element in np.ndenumerate(a6):     # index will contain a tuple of rwo,column positions\n",
    "    row, column = index[0], index[1]\n",
    "    a6[index] = np.where((row==0 or row==9 or column==0 or column==9), 1, 0)\n",
    "a6"
   ]
  },
  {
   "cell_type": "code",
   "execution_count": 17,
   "id": "stable-neighborhood",
   "metadata": {},
   "outputs": [
    {
     "data": {
      "text/plain": [
       "array([[1., 1., 1., 1., 1., 1., 1., 1., 1., 1.],\n",
       "       [1., 0., 0., 0., 0., 0., 0., 0., 0., 1.],\n",
       "       [1., 0., 0., 0., 0., 0., 0., 0., 0., 1.],\n",
       "       [1., 0., 0., 0., 0., 0., 0., 0., 0., 1.],\n",
       "       [1., 0., 0., 0., 0., 0., 0., 0., 0., 1.],\n",
       "       [1., 0., 0., 0., 0., 0., 0., 0., 0., 1.],\n",
       "       [1., 0., 0., 0., 0., 0., 0., 0., 0., 1.],\n",
       "       [1., 0., 0., 0., 0., 0., 0., 0., 0., 1.],\n",
       "       [1., 0., 0., 0., 0., 0., 0., 0., 0., 1.],\n",
       "       [1., 1., 1., 1., 1., 1., 1., 1., 1., 1.]])"
      ]
     },
     "execution_count": 17,
     "metadata": {},
     "output_type": "execute_result"
    }
   ],
   "source": [
    "# Method-2\n",
    "\n",
    "a6 = np.ones((10,10))\n",
    "a6[1:-1, 1:-1] = 0          # changing all the non boundary elements to 0 a[rows span, columns span]\n",
    "a6"
   ]
  },
  {
   "cell_type": "markdown",
   "id": "sunrise-helen",
   "metadata": {},
   "source": [
    "<div class=\"alert alert-warning \" role=\"alert\" style=\"margin-top: 0px\">\n",
    "    <h3> Question-10:</h3>\n",
    " <b>Write a code to display a 8*8 checkerboard pattern</h3> (starts with a 0 and alternates between 0 and 1).</b>\n",
    "</div>"
   ]
  },
  {
   "cell_type": "code",
   "execution_count": 18,
   "id": "complicated-crime",
   "metadata": {},
   "outputs": [
    {
     "name": "stdout",
     "output_type": "stream",
     "text": [
      "[[0 1 0 1 0 1 0 1]\n",
      " [1 0 1 0 1 0 1 0]\n",
      " [0 1 0 1 0 1 0 1]\n",
      " [1 0 1 0 1 0 1 0]\n",
      " [0 1 0 1 0 1 0 1]\n",
      " [1 0 1 0 1 0 1 0]\n",
      " [0 1 0 1 0 1 0 1]\n",
      " [1 0 1 0 1 0 1 0]]\n"
     ]
    }
   ],
   "source": [
    "Z = np.zeros((8,8), dtype=int)     # Creating an empty 8X8 array\n",
    "Z[::2, 1::2] = 1                   # Fills every alternate column correctly starting with 0\n",
    "Z[1::2, ::2] = 1\n",
    "print(Z)"
   ]
  },
  {
   "cell_type": "markdown",
   "id": "informal-retention",
   "metadata": {},
   "source": [
    "<div class=\"alert alert-warning \">\n",
    "    <h3> Question-11:</h3>\n",
    " <b>Compute the matrix product of 4X2 and 2X4 matrix.</b>\n",
    "</div>"
   ]
  },
  {
   "cell_type": "code",
   "execution_count": 19,
   "id": "international-addiction",
   "metadata": {},
   "outputs": [
    {
     "data": {
      "text/plain": [
       "array([[1, 5],\n",
       "       [7, 9],\n",
       "       [1, 0],\n",
       "       [0, 1]])"
      ]
     },
     "execution_count": 19,
     "metadata": {},
     "output_type": "execute_result"
    }
   ],
   "source": [
    "a1 = np.array([[1,5], [7,9], [1,0], [0,1]])\n",
    "a2 = np.array([[5,0,5,1], [1,1,1,0]])\n",
    "a1"
   ]
  },
  {
   "cell_type": "code",
   "execution_count": 20,
   "id": "cathedral-chamber",
   "metadata": {},
   "outputs": [
    {
     "data": {
      "text/plain": [
       "array([[10,  5, 10,  1],\n",
       "       [44,  9, 44,  7],\n",
       "       [ 5,  0,  5,  1],\n",
       "       [ 1,  1,  1,  0]])"
      ]
     },
     "execution_count": 20,
     "metadata": {},
     "output_type": "execute_result"
    }
   ],
   "source": [
    "# Method - 1\n",
    "\n",
    "a1.dot(a2)"
   ]
  },
  {
   "cell_type": "code",
   "execution_count": 21,
   "id": "valuable-sample",
   "metadata": {},
   "outputs": [
    {
     "data": {
      "text/plain": [
       "array([[10,  5, 10,  1],\n",
       "       [44,  9, 44,  7],\n",
       "       [ 5,  0,  5,  1],\n",
       "       [ 1,  1,  1,  0]])"
      ]
     },
     "execution_count": 21,
     "metadata": {},
     "output_type": "execute_result"
    }
   ],
   "source": [
    "# Method - 2\n",
    "\n",
    "np.dot(a1, a2)"
   ]
  },
  {
   "cell_type": "code",
   "execution_count": 22,
   "id": "comic-barrier",
   "metadata": {},
   "outputs": [
    {
     "data": {
      "text/plain": [
       "array([[10,  5, 10,  1],\n",
       "       [44,  9, 44,  7],\n",
       "       [ 5,  0,  5,  1],\n",
       "       [ 1,  1,  1,  0]])"
      ]
     },
     "execution_count": 22,
     "metadata": {},
     "output_type": "execute_result"
    }
   ],
   "source": [
    "# Method - 3\n",
    "\n",
    "a1 @ a2"
   ]
  },
  {
   "cell_type": "markdown",
   "id": "generous-citation",
   "metadata": {},
   "source": [
    "<div class=\"alert alert-warning \">\n",
    "    <h3> Question-12</h3>\n",
    " <b>Decode the output of the code below. </b>\n",
    "</div>"
   ]
  },
  {
   "cell_type": "code",
   "execution_count": 23,
   "id": "integral-julian",
   "metadata": {},
   "outputs": [
    {
     "name": "stdout",
     "output_type": "stream",
     "text": [
      "9\n",
      "10\n"
     ]
    }
   ],
   "source": [
    "print(sum(range(5),-1))\n",
    "from numpy import *\n",
    "print(sum(range(5),-1))"
   ]
  },
  {
   "cell_type": "markdown",
   "id": "expanded-parallel",
   "metadata": {},
   "source": [
    "<a href=\"https://stackoverflow.com/questions/42955201/python-numpy-range-and-sum-1\"> Explanation </a>"
   ]
  },
  {
   "cell_type": "markdown",
   "id": "headed-algebra",
   "metadata": {},
   "source": [
    "<div class=\"alert alert-warning \">\n",
    "<h3> Question-13</h3>\n",
    "<b>Create a 5x5 matrix with row values ranging from 0 to 4. </b>\n",
    "</div>"
   ]
  },
  {
   "cell_type": "code",
   "execution_count": 24,
   "id": "wound-stockholm",
   "metadata": {},
   "outputs": [
    {
     "data": {
      "text/plain": [
       "array([[0., 1., 2., 3., 4.],\n",
       "       [0., 1., 2., 3., 4.],\n",
       "       [0., 1., 2., 3., 4.],\n",
       "       [0., 1., 2., 3., 4.],\n",
       "       [0., 1., 2., 3., 4.]])"
      ]
     },
     "execution_count": 24,
     "metadata": {},
     "output_type": "execute_result"
    }
   ],
   "source": [
    "a3 = np.zeros((5,5))\n",
    "a3 += np.arange(5)            \n",
    "a3                     # Very good example of broadcasting where np.arange(5) was broadcast across all rows"
   ]
  },
  {
   "cell_type": "markdown",
   "id": "statutory-astronomy",
   "metadata": {},
   "source": [
    "<a href = \"https://github.com/rougier/numpy-tutorial#introduction\">Numpy Visual Tutorial and exercises Github</a>"
   ]
  },
  {
   "cell_type": "markdown",
   "id": "hindu-variety",
   "metadata": {},
   "source": [
    "<a href=\"https://github.com/rougier/numpy-100\">100 exercises in Numpy</a>"
   ]
  }
 ],
 "metadata": {
  "kernelspec": {
   "display_name": "Python 3 (ipykernel)",
   "language": "python",
   "name": "python3"
  },
  "language_info": {
   "codemirror_mode": {
    "name": "ipython",
    "version": 3
   },
   "file_extension": ".py",
   "mimetype": "text/x-python",
   "name": "python",
   "nbconvert_exporter": "python",
   "pygments_lexer": "ipython3",
   "version": "3.9.13"
  }
 },
 "nbformat": 4,
 "nbformat_minor": 5
}
