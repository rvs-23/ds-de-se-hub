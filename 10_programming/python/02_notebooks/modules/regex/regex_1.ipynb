{
 "cells": [
  {
   "cell_type": "markdown",
   "id": "floating-picture",
   "metadata": {},
   "source": [
    "## Regular Expressions - 1 "
   ]
  },
  {
   "cell_type": "markdown",
   "id": "careful-turkey",
   "metadata": {},
   "source": [
    "#### A raw string in Python is just a normal string prefixed with a r and that tells Python not to handle \\ in a special way."
   ]
  },
  {
   "cell_type": "code",
   "execution_count": 1,
   "id": "upset-bench",
   "metadata": {},
   "outputs": [
    {
     "name": "stdout",
     "output_type": "stream",
     "text": [
      "\tc1\tc2\n"
     ]
    }
   ],
   "source": [
    "print(\"\\tc1\\tc2\")"
   ]
  },
  {
   "cell_type": "code",
   "execution_count": 2,
   "id": "environmental-principle",
   "metadata": {},
   "outputs": [
    {
     "name": "stdout",
     "output_type": "stream",
     "text": [
      "\\tc1\\tc2\n"
     ]
    }
   ],
   "source": [
    "print(r\"\\tc1\\tc2\")     # raw string"
   ]
  },
  {
   "cell_type": "code",
   "execution_count": 3,
   "id": "enormous-gospel",
   "metadata": {},
   "outputs": [],
   "source": [
    "import re"
   ]
  },
  {
   "cell_type": "code",
   "execution_count": 4,
   "id": "third-absolute",
   "metadata": {},
   "outputs": [],
   "source": [
    "random_string = \"\"\"Dolores wouldn't FROM eaten the meal if she had known what it actually was.\n",
    "The tortoise jumped into the lake with dreams of becoming a sea turtle. Garlic ice-cream was her favorite.\n",
    "She looked at the masterpiece hanging in the museum but all she could think is that her five-year-old could do better.\n",
    "There from have been days from //-2586\n",
    "\n",
    "lol lollol\n",
    "\n",
    "782-665-56\n",
    "061.564.58\n",
    "100-150-55\n",
    "\n",
    "MetaCharacters (Need to be escaped):\n",
    ". ^ $ * + ? { } [ ] \\ | ( )\n",
    "\n",
    "Mr. schafer\n",
    "Mr Y\n",
    "Mrs. Davis\n",
    "\n",
    "helloworld@python.org\"\"\""
   ]
  },
  {
   "cell_type": "markdown",
   "id": "adequate-manner",
   "metadata": {},
   "source": [
    "### Let's try to find a pattern from the random string that we created"
   ]
  },
  {
   "cell_type": "code",
   "execution_count": 5,
   "id": "precious-hybrid",
   "metadata": {},
   "outputs": [
    {
     "name": "stdout",
     "output_type": "stream",
     "text": [
      "<re.Match object; span=(308, 312), match='from'>\n",
      "<re.Match object; span=(328, 332), match='from'>\n"
     ]
    }
   ],
   "source": [
    "# Creating the pattern variable using compile()\n",
    "\n",
    "pattern = re.compile(r'from')\n",
    "\n",
    "# Creating an object of all the possible matches\n",
    "\n",
    "matches = pattern.finditer(random_string)\n",
    "\n",
    "\n",
    "# Printing all the matches\n",
    "\n",
    "for match in matches:\n",
    "    print(match)"
   ]
  },
  {
   "cell_type": "markdown",
   "id": "standing-hands",
   "metadata": {},
   "source": [
    "***The indexes of the matches are (158, 162) and (503, 507) respectively.***"
   ]
  },
  {
   "cell_type": "code",
   "execution_count": 6,
   "id": "convertible-teach",
   "metadata": {},
   "outputs": [
    {
     "data": {
      "text/plain": [
       "'-cre'"
      ]
     },
     "execution_count": 6,
     "metadata": {},
     "output_type": "execute_result"
    }
   ],
   "source": [
    "random_string[158:162]"
   ]
  },
  {
   "cell_type": "markdown",
   "id": "vulnerable-solomon",
   "metadata": {},
   "source": [
    "#### If we want to find a metacharacter, we need to escape it."
   ]
  },
  {
   "cell_type": "code",
   "execution_count": 7,
   "id": "warming-despite",
   "metadata": {},
   "outputs": [
    {
     "name": "stdout",
     "output_type": "stream",
     "text": [
      "<re.Match object; span=(74, 75), match='.'>\n",
      "<re.Match object; span=(146, 147), match='.'>\n",
      "<re.Match object; span=(181, 182), match='.'>\n",
      "<re.Match object; span=(300, 301), match='.'>\n",
      "<re.Match object; span=(368, 369), match='.'>\n",
      "<re.Match object; span=(372, 373), match='.'>\n",
      "<re.Match object; span=(425, 426), match='.'>\n",
      "<re.Match object; span=(456, 457), match='.'>\n",
      "<re.Match object; span=(474, 475), match='.'>\n",
      "<re.Match object; span=(500, 501), match='.'>\n"
     ]
    }
   ],
   "source": [
    "# Creating the pattern variable using compile()\n",
    "\n",
    "pattern = re.compile(r'\\.')\n",
    "\n",
    "# Creating an object of all the possible matches\n",
    "\n",
    "matches = pattern.finditer(random_string)\n",
    "\n",
    "\n",
    "# Printing all the matches\n",
    "\n",
    "for match in matches:\n",
    "    print(match)"
   ]
  },
  {
   "cell_type": "markdown",
   "id": "olive-timber",
   "metadata": {},
   "source": [
    "#### To match patterns we are going to use some of the metacharacters.\n",
    "\n",
    "<pre>\n",
    "i)    . - Any character except new line.\n",
    "ii)  \\d - Digit (0-9)\n",
    "iii) \\D - Not a Digit (0-9)\n",
    "iv)  \\w - Word Character (a-z, A-Z, 0-9, _)\n",
    "v)   \\W - Not a word character\n",
    "vi)  \\s - Whitespace (space, tab, newline)\n",
    "vii) \\S - Not Whitespace (space, tab, newline)\n",
    "\n",
    "</pre>"
   ]
  },
  {
   "cell_type": "markdown",
   "id": "revised-buddy",
   "metadata": {},
   "source": [
    "The dot matches any character except a new line. Similarly all the other meta characters do the same as written in the right column."
   ]
  },
  {
   "cell_type": "markdown",
   "id": "aggregate-warner",
   "metadata": {},
   "source": [
    "#### Let's try to see a few in action."
   ]
  },
  {
   "cell_type": "code",
   "execution_count": 8,
   "id": "detailed-advancement",
   "metadata": {},
   "outputs": [
    {
     "name": "stdout",
     "output_type": "stream",
     "text": [
      "<re.Match object; span=(336, 337), match='2'>\n",
      "<re.Match object; span=(337, 338), match='5'>\n",
      "<re.Match object; span=(338, 339), match='8'>\n",
      "<re.Match object; span=(339, 340), match='6'>\n",
      "<re.Match object; span=(354, 355), match='7'>\n",
      "<re.Match object; span=(355, 356), match='8'>\n",
      "<re.Match object; span=(356, 357), match='2'>\n",
      "<re.Match object; span=(358, 359), match='6'>\n",
      "<re.Match object; span=(359, 360), match='6'>\n",
      "<re.Match object; span=(360, 361), match='5'>\n",
      "<re.Match object; span=(362, 363), match='5'>\n",
      "<re.Match object; span=(363, 364), match='6'>\n",
      "<re.Match object; span=(365, 366), match='0'>\n",
      "<re.Match object; span=(366, 367), match='6'>\n",
      "<re.Match object; span=(367, 368), match='1'>\n",
      "<re.Match object; span=(369, 370), match='5'>\n",
      "<re.Match object; span=(370, 371), match='6'>\n",
      "<re.Match object; span=(371, 372), match='4'>\n",
      "<re.Match object; span=(373, 374), match='5'>\n",
      "<re.Match object; span=(374, 375), match='8'>\n",
      "<re.Match object; span=(376, 377), match='1'>\n",
      "<re.Match object; span=(377, 378), match='0'>\n",
      "<re.Match object; span=(378, 379), match='0'>\n",
      "<re.Match object; span=(380, 381), match='1'>\n",
      "<re.Match object; span=(381, 382), match='5'>\n",
      "<re.Match object; span=(382, 383), match='0'>\n",
      "<re.Match object; span=(384, 385), match='5'>\n",
      "<re.Match object; span=(385, 386), match='5'>\n"
     ]
    }
   ],
   "source": [
    "pattern = re.compile(r'\\d')\n",
    "matches = pattern.finditer(random_string)\n",
    "\n",
    "for match in matches:     # Prints all digits\n",
    "    print(match)"
   ]
  },
  {
   "cell_type": "code",
   "execution_count": 9,
   "id": "connected-witness",
   "metadata": {},
   "outputs": [
    {
     "name": "stdout",
     "output_type": "stream",
     "text": [
      "<re.Match object; span=(7, 8), match=' '>\n",
      "<re.Match object; span=(14, 15), match=\"'\">\n",
      "<re.Match object; span=(16, 17), match=' '>\n",
      "<re.Match object; span=(21, 22), match=' '>\n",
      "<re.Match object; span=(27, 28), match=' '>\n",
      "<re.Match object; span=(31, 32), match=' '>\n",
      "<re.Match object; span=(36, 37), match=' '>\n",
      "<re.Match object; span=(39, 40), match=' '>\n",
      "<re.Match object; span=(43, 44), match=' '>\n",
      "<re.Match object; span=(47, 48), match=' '>\n",
      "<re.Match object; span=(53, 54), match=' '>\n",
      "<re.Match object; span=(58, 59), match=' '>\n",
      "<re.Match object; span=(61, 62), match=' '>\n",
      "<re.Match object; span=(70, 71), match=' '>\n",
      "<re.Match object; span=(74, 75), match='.'>\n",
      "<re.Match object; span=(75, 76), match='\\n'>\n",
      "<re.Match object; span=(79, 80), match=' '>\n",
      "<re.Match object; span=(88, 89), match=' '>\n",
      "<re.Match object; span=(95, 96), match=' '>\n",
      "<re.Match object; span=(100, 101), match=' '>\n",
      "<re.Match object; span=(104, 105), match=' '>\n",
      "<re.Match object; span=(109, 110), match=' '>\n",
      "<re.Match object; span=(114, 115), match=' '>\n",
      "<re.Match object; span=(121, 122), match=' '>\n",
      "<re.Match object; span=(124, 125), match=' '>\n",
      "<re.Match object; span=(133, 134), match=' '>\n",
      "<re.Match object; span=(135, 136), match=' '>\n",
      "<re.Match object; span=(139, 140), match=' '>\n",
      "<re.Match object; span=(146, 147), match='.'>\n",
      "<re.Match object; span=(147, 148), match=' '>\n",
      "<re.Match object; span=(154, 155), match=' '>\n",
      "<re.Match object; span=(158, 159), match='-'>\n",
      "<re.Match object; span=(164, 165), match=' '>\n",
      "<re.Match object; span=(168, 169), match=' '>\n",
      "<re.Match object; span=(172, 173), match=' '>\n",
      "<re.Match object; span=(181, 182), match='.'>\n",
      "<re.Match object; span=(182, 183), match='\\n'>\n",
      "<re.Match object; span=(186, 187), match=' '>\n",
      "<re.Match object; span=(193, 194), match=' '>\n",
      "<re.Match object; span=(196, 197), match=' '>\n",
      "<re.Match object; span=(200, 201), match=' '>\n",
      "<re.Match object; span=(212, 213), match=' '>\n",
      "<re.Match object; span=(220, 221), match=' '>\n",
      "<re.Match object; span=(223, 224), match=' '>\n",
      "<re.Match object; span=(227, 228), match=' '>\n",
      "<re.Match object; span=(234, 235), match=' '>\n",
      "<re.Match object; span=(238, 239), match=' '>\n",
      "<re.Match object; span=(242, 243), match=' '>\n",
      "<re.Match object; span=(246, 247), match=' '>\n",
      "<re.Match object; span=(252, 253), match=' '>\n",
      "<re.Match object; span=(258, 259), match=' '>\n",
      "<re.Match object; span=(261, 262), match=' '>\n",
      "<re.Match object; span=(266, 267), match=' '>\n",
      "<re.Match object; span=(270, 271), match=' '>\n",
      "<re.Match object; span=(275, 276), match='-'>\n",
      "<re.Match object; span=(280, 281), match='-'>\n",
      "<re.Match object; span=(284, 285), match=' '>\n",
      "<re.Match object; span=(290, 291), match=' '>\n",
      "<re.Match object; span=(293, 294), match=' '>\n",
      "<re.Match object; span=(300, 301), match='.'>\n",
      "<re.Match object; span=(301, 302), match='\\n'>\n",
      "<re.Match object; span=(307, 308), match=' '>\n",
      "<re.Match object; span=(312, 313), match=' '>\n",
      "<re.Match object; span=(317, 318), match=' '>\n",
      "<re.Match object; span=(322, 323), match=' '>\n",
      "<re.Match object; span=(327, 328), match=' '>\n",
      "<re.Match object; span=(332, 333), match=' '>\n",
      "<re.Match object; span=(333, 334), match='/'>\n",
      "<re.Match object; span=(334, 335), match='/'>\n",
      "<re.Match object; span=(335, 336), match='-'>\n",
      "<re.Match object; span=(340, 341), match='\\n'>\n",
      "<re.Match object; span=(341, 342), match='\\n'>\n",
      "<re.Match object; span=(345, 346), match=' '>\n",
      "<re.Match object; span=(352, 353), match='\\n'>\n",
      "<re.Match object; span=(353, 354), match='\\n'>\n",
      "<re.Match object; span=(357, 358), match='-'>\n",
      "<re.Match object; span=(361, 362), match='-'>\n",
      "<re.Match object; span=(364, 365), match='\\n'>\n",
      "<re.Match object; span=(368, 369), match='.'>\n",
      "<re.Match object; span=(372, 373), match='.'>\n",
      "<re.Match object; span=(375, 376), match='\\n'>\n",
      "<re.Match object; span=(379, 380), match='-'>\n",
      "<re.Match object; span=(383, 384), match='-'>\n",
      "<re.Match object; span=(386, 387), match='\\n'>\n",
      "<re.Match object; span=(387, 388), match='\\n'>\n",
      "<re.Match object; span=(402, 403), match=' '>\n",
      "<re.Match object; span=(403, 404), match='('>\n",
      "<re.Match object; span=(408, 409), match=' '>\n",
      "<re.Match object; span=(411, 412), match=' '>\n",
      "<re.Match object; span=(414, 415), match=' '>\n",
      "<re.Match object; span=(422, 423), match=')'>\n",
      "<re.Match object; span=(423, 424), match=':'>\n",
      "<re.Match object; span=(424, 425), match='\\n'>\n",
      "<re.Match object; span=(425, 426), match='.'>\n",
      "<re.Match object; span=(426, 427), match=' '>\n",
      "<re.Match object; span=(427, 428), match='^'>\n",
      "<re.Match object; span=(428, 429), match=' '>\n",
      "<re.Match object; span=(429, 430), match='$'>\n",
      "<re.Match object; span=(430, 431), match=' '>\n",
      "<re.Match object; span=(431, 432), match='*'>\n",
      "<re.Match object; span=(432, 433), match=' '>\n",
      "<re.Match object; span=(433, 434), match='+'>\n",
      "<re.Match object; span=(434, 435), match=' '>\n",
      "<re.Match object; span=(435, 436), match='?'>\n",
      "<re.Match object; span=(436, 437), match=' '>\n",
      "<re.Match object; span=(437, 438), match='{'>\n",
      "<re.Match object; span=(438, 439), match=' '>\n",
      "<re.Match object; span=(439, 440), match='}'>\n",
      "<re.Match object; span=(440, 441), match=' '>\n",
      "<re.Match object; span=(441, 442), match='['>\n",
      "<re.Match object; span=(442, 443), match=' '>\n",
      "<re.Match object; span=(443, 444), match=']'>\n",
      "<re.Match object; span=(444, 445), match=' '>\n",
      "<re.Match object; span=(445, 446), match='\\\\'>\n",
      "<re.Match object; span=(446, 447), match=' '>\n",
      "<re.Match object; span=(447, 448), match='|'>\n",
      "<re.Match object; span=(448, 449), match=' '>\n",
      "<re.Match object; span=(449, 450), match='('>\n",
      "<re.Match object; span=(450, 451), match=' '>\n",
      "<re.Match object; span=(451, 452), match=')'>\n",
      "<re.Match object; span=(452, 453), match='\\n'>\n",
      "<re.Match object; span=(453, 454), match='\\n'>\n",
      "<re.Match object; span=(456, 457), match='.'>\n",
      "<re.Match object; span=(457, 458), match=' '>\n",
      "<re.Match object; span=(465, 466), match='\\n'>\n",
      "<re.Match object; span=(468, 469), match=' '>\n",
      "<re.Match object; span=(470, 471), match='\\n'>\n",
      "<re.Match object; span=(474, 475), match='.'>\n",
      "<re.Match object; span=(475, 476), match=' '>\n",
      "<re.Match object; span=(481, 482), match='\\n'>\n",
      "<re.Match object; span=(482, 483), match='\\n'>\n",
      "<re.Match object; span=(493, 494), match='@'>\n",
      "<re.Match object; span=(500, 501), match='.'>\n"
     ]
    }
   ],
   "source": [
    "pattern = re.compile(r'\\W')\n",
    "matches = pattern.finditer(random_string)\n",
    "\n",
    "for match in matches:     # Prints all digits\n",
    "    print(match)"
   ]
  },
  {
   "cell_type": "markdown",
   "id": "threatened-sympathy",
   "metadata": {},
   "source": [
    "<br><br>"
   ]
  },
  {
   "cell_type": "markdown",
   "id": "systematic-syntax",
   "metadata": {},
   "source": [
    "#### The next set are called anchors. They don't match any characters but rather invisible positions before or after characters and we can use this in conjunction with other patterns we are searching for.\n",
    "\n",
    "<pre>\n",
    "i)   \\b - Word Boundary\n",
    "ii)  \\B - Not a Word Boundary\n",
    "iii)  ^ - Beginning of a String\n",
    "iv)   $ - End of a String\n",
    "</pre>"
   ]
  },
  {
   "cell_type": "code",
   "execution_count": 10,
   "id": "expressed-textbook",
   "metadata": {},
   "outputs": [
    {
     "name": "stdout",
     "output_type": "stream",
     "text": [
      "<re.Match object; span=(342, 345), match='lol'>\n",
      "<re.Match object; span=(346, 349), match='lol'>\n"
     ]
    }
   ],
   "source": [
    "pattern = re.compile(r'\\blol')\n",
    "matches = pattern.finditer(random_string)\n",
    "\n",
    "for match in matches:     #This is going to find all the 'lol' which start as a word boundary\n",
    "    print(match)"
   ]
  },
  {
   "cell_type": "markdown",
   "id": "bearing-philippines",
   "metadata": {},
   "source": [
    "**Hence, we can see that it gave the location of only those 'lol' which start as a word boundary. If we want to get the other 'lol', we can use \\B**"
   ]
  },
  {
   "cell_type": "code",
   "execution_count": 11,
   "id": "freelance-catering",
   "metadata": {},
   "outputs": [
    {
     "name": "stdout",
     "output_type": "stream",
     "text": [
      "<re.Match object; span=(349, 352), match='lol'>\n"
     ]
    }
   ],
   "source": [
    "pattern = re.compile(r'\\Blol')\n",
    "matches = pattern.finditer(random_string)\n",
    "\n",
    "for match in matches:     #This is going to find all the 'lol' except ones at word boundary\n",
    "    print(match)"
   ]
  },
  {
   "cell_type": "markdown",
   "id": "otherwise-newsletter",
   "metadata": {},
   "source": [
    "#### ^ - Checks if the pattern is present at the start of the string or not and $ - checks if the pattern is present at the end of the string."
   ]
  },
  {
   "cell_type": "code",
   "execution_count": 12,
   "id": "collected-seminar",
   "metadata": {},
   "outputs": [
    {
     "name": "stdout",
     "output_type": "stream",
     "text": [
      "<re.Match object; span=(0, 4), match='Dolo'>\n"
     ]
    }
   ],
   "source": [
    "pattern = re.compile(r'^Dolo')\n",
    "matches = pattern.finditer(random_string)\n",
    "\n",
    "for match in matches:     \n",
    "    print(match)"
   ]
  },
  {
   "cell_type": "markdown",
   "id": "informative-squad",
   "metadata": {},
   "source": [
    "#### Let's say we want to match the phone numbers (if any) present in the string assuming that we know the pattern in which the phone numbers appear in the string. which is 000-000-00."
   ]
  },
  {
   "cell_type": "code",
   "execution_count": 13,
   "id": "recent-protest",
   "metadata": {},
   "outputs": [
    {
     "name": "stdout",
     "output_type": "stream",
     "text": [
      "<re.Match object; span=(354, 364), match='782-665-56'>\n",
      "<re.Match object; span=(365, 375), match='061.564.58'>\n",
      "<re.Match object; span=(376, 386), match='100-150-55'>\n"
     ]
    }
   ],
   "source": [
    "pattern = re.compile(r'\\d\\d\\d.\\d\\d\\d.\\d\\d')\n",
    "matches = pattern.finditer(random_string)\n",
    "\n",
    "for match in matches:     \n",
    "    print(match)"
   ]
  },
  {
   "cell_type": "markdown",
   "id": "stunning-canvas",
   "metadata": {},
   "source": [
    "##### In the above, we added three <b>\\d</b> to get the first 3 digits; we added a <b>.</b> to match any character that could be present after the first 3 digits; we added three <b>\\d</b> again to match the next 3 digits; <b>.</b> to match the next character and so on..."
   ]
  },
  {
   "cell_type": "markdown",
   "id": "perceived-silver",
   "metadata": {},
   "source": [
    "<br>"
   ]
  },
  {
   "cell_type": "markdown",
   "id": "guided-winter",
   "metadata": {},
   "source": [
    "### Character Sets:\n",
    "\n",
    "<pre>\n",
    "[]    -  Matches characters in brackets.\n",
    "[^ ]  -  Matches characters not in brackets.\n",
    "|     -  Either or\n",
    "()    -  Group \n",
    "</pre>"
   ]
  },
  {
   "cell_type": "markdown",
   "id": "collective-mexico",
   "metadata": {},
   "source": [
    "#### Now let's say that we want to match only the Phone numbers with - in between. Using <b>.</b> is going to select any character. "
   ]
  },
  {
   "cell_type": "code",
   "execution_count": 14,
   "id": "victorian-credit",
   "metadata": {},
   "outputs": [
    {
     "name": "stdout",
     "output_type": "stream",
     "text": [
      "<re.Match object; span=(354, 364), match='782-665-56'>\n",
      "<re.Match object; span=(376, 386), match='100-150-55'>\n"
     ]
    }
   ],
   "source": [
    "pattern = re.compile(r'\\d\\d\\d[-]\\d\\d\\d[-]\\d\\d')\n",
    "matches = pattern.finditer(random_string)\n",
    "\n",
    "for match in matches:     \n",
    "    print(match)"
   ]
  },
  {
   "cell_type": "markdown",
   "id": "surface-executive",
   "metadata": {},
   "source": [
    "#### Now, let's say that we want to get only those numbers which begin with a 100. That's again a good use case for 100."
   ]
  },
  {
   "cell_type": "code",
   "execution_count": 15,
   "id": "discrete-handling",
   "metadata": {},
   "outputs": [
    {
     "name": "stdout",
     "output_type": "stream",
     "text": [
      "<re.Match object; span=(376, 386), match='100-150-55'>\n"
     ]
    }
   ],
   "source": [
    "pattern = re.compile(r'[1]00[-]\\d\\d\\d[-]\\d\\d')\n",
    "\n",
    "matches = pattern.finditer(random_string)\n",
    "\n",
    "for match in matches:\n",
    "    print(match)"
   ]
  },
  {
   "cell_type": "markdown",
   "id": "subjective-sewing",
   "metadata": {},
   "source": [
    "#### Let's say you want to match everything except a-z and A-Z. Putting a carat inside the chracter set negates whatever is written inside it."
   ]
  },
  {
   "cell_type": "code",
   "execution_count": 16,
   "id": "alert-burst",
   "metadata": {},
   "outputs": [
    {
     "name": "stdout",
     "output_type": "stream",
     "text": [
      "<re.Match object; span=(7, 8), match=' '>\n",
      "<re.Match object; span=(14, 15), match=\"'\">\n",
      "<re.Match object; span=(16, 17), match=' '>\n",
      "<re.Match object; span=(21, 22), match=' '>\n",
      "<re.Match object; span=(27, 28), match=' '>\n",
      "<re.Match object; span=(31, 32), match=' '>\n",
      "<re.Match object; span=(36, 37), match=' '>\n",
      "<re.Match object; span=(39, 40), match=' '>\n",
      "<re.Match object; span=(43, 44), match=' '>\n",
      "<re.Match object; span=(47, 48), match=' '>\n",
      "<re.Match object; span=(53, 54), match=' '>\n",
      "<re.Match object; span=(58, 59), match=' '>\n",
      "<re.Match object; span=(61, 62), match=' '>\n",
      "<re.Match object; span=(70, 71), match=' '>\n",
      "<re.Match object; span=(74, 75), match='.'>\n",
      "<re.Match object; span=(75, 76), match='\\n'>\n",
      "<re.Match object; span=(79, 80), match=' '>\n",
      "<re.Match object; span=(88, 89), match=' '>\n",
      "<re.Match object; span=(95, 96), match=' '>\n",
      "<re.Match object; span=(100, 101), match=' '>\n",
      "<re.Match object; span=(104, 105), match=' '>\n",
      "<re.Match object; span=(109, 110), match=' '>\n",
      "<re.Match object; span=(114, 115), match=' '>\n",
      "<re.Match object; span=(121, 122), match=' '>\n",
      "<re.Match object; span=(124, 125), match=' '>\n",
      "<re.Match object; span=(133, 134), match=' '>\n",
      "<re.Match object; span=(135, 136), match=' '>\n",
      "<re.Match object; span=(139, 140), match=' '>\n",
      "<re.Match object; span=(146, 147), match='.'>\n",
      "<re.Match object; span=(147, 148), match=' '>\n",
      "<re.Match object; span=(154, 155), match=' '>\n",
      "<re.Match object; span=(158, 159), match='-'>\n",
      "<re.Match object; span=(164, 165), match=' '>\n",
      "<re.Match object; span=(168, 169), match=' '>\n",
      "<re.Match object; span=(172, 173), match=' '>\n",
      "<re.Match object; span=(181, 182), match='.'>\n",
      "<re.Match object; span=(182, 183), match='\\n'>\n",
      "<re.Match object; span=(186, 187), match=' '>\n",
      "<re.Match object; span=(193, 194), match=' '>\n",
      "<re.Match object; span=(196, 197), match=' '>\n",
      "<re.Match object; span=(200, 201), match=' '>\n",
      "<re.Match object; span=(212, 213), match=' '>\n",
      "<re.Match object; span=(220, 221), match=' '>\n",
      "<re.Match object; span=(223, 224), match=' '>\n",
      "<re.Match object; span=(227, 228), match=' '>\n",
      "<re.Match object; span=(234, 235), match=' '>\n",
      "<re.Match object; span=(238, 239), match=' '>\n",
      "<re.Match object; span=(242, 243), match=' '>\n",
      "<re.Match object; span=(246, 247), match=' '>\n",
      "<re.Match object; span=(252, 253), match=' '>\n",
      "<re.Match object; span=(258, 259), match=' '>\n",
      "<re.Match object; span=(261, 262), match=' '>\n",
      "<re.Match object; span=(266, 267), match=' '>\n",
      "<re.Match object; span=(270, 271), match=' '>\n",
      "<re.Match object; span=(275, 276), match='-'>\n",
      "<re.Match object; span=(280, 281), match='-'>\n",
      "<re.Match object; span=(284, 285), match=' '>\n",
      "<re.Match object; span=(290, 291), match=' '>\n",
      "<re.Match object; span=(293, 294), match=' '>\n",
      "<re.Match object; span=(300, 301), match='.'>\n",
      "<re.Match object; span=(301, 302), match='\\n'>\n",
      "<re.Match object; span=(307, 308), match=' '>\n",
      "<re.Match object; span=(312, 313), match=' '>\n",
      "<re.Match object; span=(317, 318), match=' '>\n",
      "<re.Match object; span=(322, 323), match=' '>\n",
      "<re.Match object; span=(327, 328), match=' '>\n",
      "<re.Match object; span=(332, 333), match=' '>\n",
      "<re.Match object; span=(333, 334), match='/'>\n",
      "<re.Match object; span=(334, 335), match='/'>\n",
      "<re.Match object; span=(335, 336), match='-'>\n",
      "<re.Match object; span=(336, 337), match='2'>\n",
      "<re.Match object; span=(337, 338), match='5'>\n",
      "<re.Match object; span=(338, 339), match='8'>\n",
      "<re.Match object; span=(339, 340), match='6'>\n",
      "<re.Match object; span=(340, 341), match='\\n'>\n",
      "<re.Match object; span=(341, 342), match='\\n'>\n",
      "<re.Match object; span=(345, 346), match=' '>\n",
      "<re.Match object; span=(352, 353), match='\\n'>\n",
      "<re.Match object; span=(353, 354), match='\\n'>\n",
      "<re.Match object; span=(354, 355), match='7'>\n",
      "<re.Match object; span=(355, 356), match='8'>\n",
      "<re.Match object; span=(356, 357), match='2'>\n",
      "<re.Match object; span=(357, 358), match='-'>\n",
      "<re.Match object; span=(358, 359), match='6'>\n",
      "<re.Match object; span=(359, 360), match='6'>\n",
      "<re.Match object; span=(360, 361), match='5'>\n",
      "<re.Match object; span=(361, 362), match='-'>\n",
      "<re.Match object; span=(362, 363), match='5'>\n",
      "<re.Match object; span=(363, 364), match='6'>\n",
      "<re.Match object; span=(364, 365), match='\\n'>\n",
      "<re.Match object; span=(365, 366), match='0'>\n",
      "<re.Match object; span=(366, 367), match='6'>\n",
      "<re.Match object; span=(367, 368), match='1'>\n",
      "<re.Match object; span=(368, 369), match='.'>\n",
      "<re.Match object; span=(369, 370), match='5'>\n",
      "<re.Match object; span=(370, 371), match='6'>\n",
      "<re.Match object; span=(371, 372), match='4'>\n",
      "<re.Match object; span=(372, 373), match='.'>\n",
      "<re.Match object; span=(373, 374), match='5'>\n",
      "<re.Match object; span=(374, 375), match='8'>\n",
      "<re.Match object; span=(375, 376), match='\\n'>\n",
      "<re.Match object; span=(376, 377), match='1'>\n",
      "<re.Match object; span=(377, 378), match='0'>\n",
      "<re.Match object; span=(378, 379), match='0'>\n",
      "<re.Match object; span=(379, 380), match='-'>\n",
      "<re.Match object; span=(380, 381), match='1'>\n",
      "<re.Match object; span=(381, 382), match='5'>\n",
      "<re.Match object; span=(382, 383), match='0'>\n",
      "<re.Match object; span=(383, 384), match='-'>\n",
      "<re.Match object; span=(384, 385), match='5'>\n",
      "<re.Match object; span=(385, 386), match='5'>\n",
      "<re.Match object; span=(386, 387), match='\\n'>\n",
      "<re.Match object; span=(387, 388), match='\\n'>\n",
      "<re.Match object; span=(402, 403), match=' '>\n",
      "<re.Match object; span=(403, 404), match='('>\n",
      "<re.Match object; span=(408, 409), match=' '>\n",
      "<re.Match object; span=(411, 412), match=' '>\n",
      "<re.Match object; span=(414, 415), match=' '>\n",
      "<re.Match object; span=(422, 423), match=')'>\n",
      "<re.Match object; span=(423, 424), match=':'>\n",
      "<re.Match object; span=(424, 425), match='\\n'>\n",
      "<re.Match object; span=(425, 426), match='.'>\n",
      "<re.Match object; span=(426, 427), match=' '>\n",
      "<re.Match object; span=(427, 428), match='^'>\n",
      "<re.Match object; span=(428, 429), match=' '>\n",
      "<re.Match object; span=(429, 430), match='$'>\n",
      "<re.Match object; span=(430, 431), match=' '>\n",
      "<re.Match object; span=(431, 432), match='*'>\n",
      "<re.Match object; span=(432, 433), match=' '>\n",
      "<re.Match object; span=(433, 434), match='+'>\n",
      "<re.Match object; span=(434, 435), match=' '>\n",
      "<re.Match object; span=(435, 436), match='?'>\n",
      "<re.Match object; span=(436, 437), match=' '>\n",
      "<re.Match object; span=(437, 438), match='{'>\n",
      "<re.Match object; span=(438, 439), match=' '>\n",
      "<re.Match object; span=(439, 440), match='}'>\n",
      "<re.Match object; span=(440, 441), match=' '>\n",
      "<re.Match object; span=(441, 442), match='['>\n",
      "<re.Match object; span=(442, 443), match=' '>\n",
      "<re.Match object; span=(443, 444), match=']'>\n",
      "<re.Match object; span=(444, 445), match=' '>\n",
      "<re.Match object; span=(445, 446), match='\\\\'>\n",
      "<re.Match object; span=(446, 447), match=' '>\n",
      "<re.Match object; span=(447, 448), match='|'>\n",
      "<re.Match object; span=(448, 449), match=' '>\n",
      "<re.Match object; span=(449, 450), match='('>\n",
      "<re.Match object; span=(450, 451), match=' '>\n",
      "<re.Match object; span=(451, 452), match=')'>\n",
      "<re.Match object; span=(452, 453), match='\\n'>\n",
      "<re.Match object; span=(453, 454), match='\\n'>\n",
      "<re.Match object; span=(456, 457), match='.'>\n",
      "<re.Match object; span=(457, 458), match=' '>\n",
      "<re.Match object; span=(465, 466), match='\\n'>\n",
      "<re.Match object; span=(468, 469), match=' '>\n",
      "<re.Match object; span=(470, 471), match='\\n'>\n",
      "<re.Match object; span=(474, 475), match='.'>\n",
      "<re.Match object; span=(475, 476), match=' '>\n",
      "<re.Match object; span=(481, 482), match='\\n'>\n",
      "<re.Match object; span=(482, 483), match='\\n'>\n",
      "<re.Match object; span=(493, 494), match='@'>\n",
      "<re.Match object; span=(500, 501), match='.'>\n"
     ]
    }
   ],
   "source": [
    "pattern = re.compile(r'[^a-zA-Z]') \n",
    "matches = pattern.finditer(random_string)\n",
    "\n",
    "for match in matches:     \n",
    "    print(match)"
   ]
  },
  {
   "cell_type": "markdown",
   "id": "appreciated-courage",
   "metadata": {},
   "source": [
    "### Quantifiers:\n",
    "\n",
    "<pre>\n",
    "*     -   0 or more\n",
    "+     -   1 or more\n",
    "?     -   0 or one\n",
    "{3}   -   Exact number\n",
    "{3,4} -   Range of Numbers (Minimum, Maximum)\n",
    "</pre>"
   ]
  },
  {
   "cell_type": "markdown",
   "id": "present-adaptation",
   "metadata": {},
   "source": [
    "#### In the previous example, trying to match a phone number with multiple digits is a tedious task and is prone to mistakes if the number is large. That's where we can use quantifiers."
   ]
  },
  {
   "cell_type": "code",
   "execution_count": 17,
   "id": "adequate-paintball",
   "metadata": {},
   "outputs": [
    {
     "name": "stdout",
     "output_type": "stream",
     "text": [
      "<re.Match object; span=(354, 364), match='782-665-56'>\n",
      "<re.Match object; span=(365, 375), match='061.564.58'>\n",
      "<re.Match object; span=(376, 386), match='100-150-55'>\n"
     ]
    }
   ],
   "source": [
    "pattern = re.compile(r'\\d{3}.\\d{3}.\\d{2}')\n",
    "\n",
    "matches = pattern.finditer(random_string)\n",
    "\n",
    "for match in matches:\n",
    "    print(match)"
   ]
  },
  {
   "cell_type": "markdown",
   "id": "laughing-worship",
   "metadata": {},
   "source": [
    "#### To match with all the Mr. we can do the following"
   ]
  },
  {
   "cell_type": "code",
   "execution_count": 18,
   "id": "identified-tooth",
   "metadata": {},
   "outputs": [
    {
     "name": "stdout",
     "output_type": "stream",
     "text": [
      "<re.Match object; span=(454, 457), match='Mr.'>\n",
      "<re.Match object; span=(466, 468), match='Mr'>\n",
      "<re.Match object; span=(471, 473), match='Mr'>\n"
     ]
    }
   ],
   "source": [
    "pattern = re.compile(r'Mr\\.?')  # Question mark ensures that the . is optional\n",
    "\n",
    "matches = pattern.finditer(random_string)\n",
    "\n",
    "for match in matches:\n",
    "    print(match)"
   ]
  },
  {
   "cell_type": "markdown",
   "id": "norman-killing",
   "metadata": {},
   "source": [
    "#### Let's say that we want to match the complete name now."
   ]
  },
  {
   "cell_type": "code",
   "execution_count": 19,
   "id": "subtle-seller",
   "metadata": {},
   "outputs": [
    {
     "name": "stdout",
     "output_type": "stream",
     "text": [
      "<re.Match object; span=(454, 465), match='Mr. schafer'>\n",
      "<re.Match object; span=(466, 470), match='Mr Y'>\n"
     ]
    }
   ],
   "source": [
    "pattern = re.compile(r'Mr\\.?\\s[a-zA-Z]\\w*')\n",
    "\n",
    "matches = pattern.finditer(random_string)\n",
    "\n",
    "for match in matches:\n",
    "    print(match)"
   ]
  },
  {
   "cell_type": "markdown",
   "id": "constant-perspective",
   "metadata": {},
   "source": [
    "#### How do we also include Mrs ? We can us group."
   ]
  },
  {
   "cell_type": "code",
   "execution_count": 20,
   "id": "norwegian-diagram",
   "metadata": {},
   "outputs": [
    {
     "name": "stdout",
     "output_type": "stream",
     "text": [
      "<re.Match object; span=(454, 465), match='Mr. schafer'>\n",
      "<re.Match object; span=(466, 470), match='Mr Y'>\n",
      "<re.Match object; span=(471, 481), match='Mrs. Davis'>\n"
     ]
    }
   ],
   "source": [
    "pattern = re.compile(r'M(r|s|rs)\\.?\\s[a-zA-Z]\\w*')\n",
    "\n",
    "matches = pattern.finditer(random_string)\n",
    "\n",
    "for match in matches:\n",
    "    print(match)"
   ]
  },
  {
   "cell_type": "code",
   "execution_count": null,
   "id": "african-calculation",
   "metadata": {},
   "outputs": [],
   "source": []
  }
 ],
 "metadata": {
  "kernelspec": {
   "display_name": "Python 3 (ipykernel)",
   "language": "python",
   "name": "python3"
  },
  "language_info": {
   "codemirror_mode": {
    "name": "ipython",
    "version": 3
   },
   "file_extension": ".py",
   "mimetype": "text/x-python",
   "name": "python",
   "nbconvert_exporter": "python",
   "pygments_lexer": "ipython3",
   "version": "3.8.8"
  }
 },
 "nbformat": 4,
 "nbformat_minor": 5
}
