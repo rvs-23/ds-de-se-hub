{
 "cells": [
  {
   "cell_type": "markdown",
   "id": "8c95855f-c893-4a70-8e84-0e61cbd06909",
   "metadata": {},
   "source": [
    "<a href = \"https://www.youtube.com/watch?v=sugvnHA7ElY\">What does __name__ == '__main__' mean?</a>"
   ]
  },
  {
   "cell_type": "markdown",
   "id": "rational-jewelry",
   "metadata": {},
   "source": [
    "## 1. Ternary conditions"
   ]
  },
  {
   "cell_type": "markdown",
   "id": "36478e9c-b677-4d80-b807-58ca4b9f682c",
   "metadata": {},
   "source": [
    "#### We have a simple code below:"
   ]
  },
  {
   "cell_type": "code",
   "execution_count": 1,
   "id": "colored-prerequisite",
   "metadata": {},
   "outputs": [
    {
     "name": "stdout",
     "output_type": "stream",
     "text": [
      "0\n"
     ]
    }
   ],
   "source": [
    "# snippet - 1 \n",
    "\n",
    "condition = False\n",
    "\n",
    "if condition:\n",
    "    x = 1\n",
    "else:\n",
    "    x = 0\n",
    "print(x)"
   ]
  },
  {
   "cell_type": "markdown",
   "id": "elect-rough",
   "metadata": {},
   "source": [
    "#### The same code can be written as following:"
   ]
  },
  {
   "cell_type": "code",
   "execution_count": 2,
   "id": "brutal-sound",
   "metadata": {},
   "outputs": [
    {
     "data": {
      "text/plain": [
       "0"
      ]
     },
     "execution_count": 2,
     "metadata": {},
     "output_type": "execute_result"
    }
   ],
   "source": [
    "# snippet - 2 \n",
    "\n",
    "x = 1 if condition else 0\n",
    "x"
   ]
  },
  {
   "cell_type": "markdown",
   "id": "f4521d8c-aeb5-498d-b410-bd3d7e221161",
   "metadata": {},
   "source": [
    "<hr>"
   ]
  },
  {
   "cell_type": "markdown",
   "id": "essential-shirt",
   "metadata": {},
   "source": [
    "## 2. How can you write large numbers so that they are easier to read?"
   ]
  },
  {
   "cell_type": "markdown",
   "id": "b6b78fa9-d481-4d63-9efb-bfb4196c8064",
   "metadata": {},
   "source": [
    "#### Sometimes, it gets very hard to count the number of zeros when the number is large. Say we are adding the following numbers."
   ]
  },
  {
   "cell_type": "code",
   "execution_count": 3,
   "id": "gentle-borough",
   "metadata": {},
   "outputs": [
    {
     "data": {
      "text/plain": [
       "10010000000"
      ]
     },
     "execution_count": 3,
     "metadata": {},
     "output_type": "execute_result"
    }
   ],
   "source": [
    "# Snippet - 1\n",
    "\n",
    "num1 = 10000000000\n",
    "num2 = 10000000\n",
    "\n",
    "num1 + num2"
   ]
  },
  {
   "cell_type": "markdown",
   "id": "governing-queens",
   "metadata": {},
   "source": [
    "#### When writing on paper we can use commas but we cannot use commas in Pyhton. Instead, we can add underscores without affecting the code."
   ]
  },
  {
   "cell_type": "code",
   "execution_count": 4,
   "id": "correct-neutral",
   "metadata": {},
   "outputs": [
    {
     "data": {
      "text/plain": [
       "10001000000"
      ]
     },
     "execution_count": 4,
     "metadata": {},
     "output_type": "execute_result"
    }
   ],
   "source": [
    "# Snippet - 2\n",
    "\n",
    "num1 = 10_000_000_000\n",
    "num2 = 1_000_000\n",
    "\n",
    "total = num1 + num2\n",
    "total"
   ]
  },
  {
   "cell_type": "markdown",
   "id": "accepted-aspect",
   "metadata": {},
   "source": [
    "#### We notice that the output does not have any seperators. To include seperators in the output we can do the following: "
   ]
  },
  {
   "cell_type": "code",
   "execution_count": 5,
   "id": "initial-northwest",
   "metadata": {},
   "outputs": [
    {
     "name": "stdout",
     "output_type": "stream",
     "text": [
      "10,001,000,000\n"
     ]
    }
   ],
   "source": [
    "print(f\"{total:,}\")"
   ]
  },
  {
   "cell_type": "markdown",
   "id": "67882d7f-6859-480b-8681-6cbee4673972",
   "metadata": {},
   "source": [
    "<hr>"
   ]
  },
  {
   "cell_type": "markdown",
   "id": "previous-conviction",
   "metadata": {},
   "source": [
    "## 3. Keep a track of the index while looping."
   ]
  },
  {
   "cell_type": "markdown",
   "id": "160b0165-a31b-476e-b97d-16b1458e6d95",
   "metadata": {},
   "source": [
    "#### Use the Python in build function ```enumerate()```"
   ]
  },
  {
   "cell_type": "code",
   "execution_count": 6,
   "id": "advisory-accuracy",
   "metadata": {},
   "outputs": [
    {
     "name": "stdout",
     "output_type": "stream",
     "text": [
      "Delhi, Siliguri, Hyderabad, Bangalore, "
     ]
    }
   ],
   "source": [
    "cities = ['Delhi', 'Siliguri', 'Hyderabad', 'Bangalore']\n",
    "\n",
    "for city in cities:\n",
    "    print(city + \",\", end=\" \")"
   ]
  },
  {
   "cell_type": "code",
   "execution_count": 7,
   "id": "accompanied-joseph",
   "metadata": {},
   "outputs": [
    {
     "name": "stdout",
     "output_type": "stream",
     "text": [
      "0 -> Delhi\n",
      "1 -> Siliguri\n",
      "2 -> Hyderabad\n",
      "3 -> Bangalore\n"
     ]
    }
   ],
   "source": [
    "for index, city in enumerate(cities):\n",
    "    print(\"{} -> {}\".format(index, city))"
   ]
  },
  {
   "cell_type": "markdown",
   "id": "scenic-youth",
   "metadata": {},
   "source": [
    "#### If I want the index to start at say 5, we can specify it within the function itself."
   ]
  },
  {
   "cell_type": "code",
   "execution_count": 8,
   "id": "compact-limit",
   "metadata": {},
   "outputs": [
    {
     "name": "stdout",
     "output_type": "stream",
     "text": [
      "5 -> Delhi\n",
      "6 -> Siliguri\n",
      "7 -> Hyderabad\n",
      "8 -> Bangalore\n"
     ]
    }
   ],
   "source": [
    "for index, city in enumerate(cities, start=5):\n",
    "    print(\"{} -> {}\".format(index, city))"
   ]
  },
  {
   "cell_type": "markdown",
   "id": "03926bef-330a-48cf-8fe1-5f217948c9c5",
   "metadata": {},
   "source": [
    "<hr>"
   ]
  },
  {
   "cell_type": "markdown",
   "id": "numeric-teacher",
   "metadata": {},
   "source": [
    "## 4. Looping over two or more iterables at once."
   ]
  },
  {
   "cell_type": "code",
   "execution_count": 9,
   "id": "funded-genetics",
   "metadata": {},
   "outputs": [],
   "source": [
    "names = ['Peter Parker', 'Clark Kent', 'Wade Wilson', 'Bruce Wayne']\n",
    "heroes = ['Spiderman', 'Superman', 'Deadpool', 'Batman']"
   ]
  },
  {
   "cell_type": "markdown",
   "id": "inclusive-formation",
   "metadata": {},
   "source": [
    "#### Suppose you want to print the name of each actor and their corresponding superhero name.\n",
    "\n",
    "#### One way to do that is to use ```enumerate()```"
   ]
  },
  {
   "cell_type": "code",
   "execution_count": 10,
   "id": "experienced-enclosure",
   "metadata": {},
   "outputs": [
    {
     "name": "stdout",
     "output_type": "stream",
     "text": [
      "Peter Parker is actually Spiderman.\n",
      "Clark Kent is actually Superman.\n",
      "Wade Wilson is actually Deadpool.\n",
      "Bruce Wayne is actually Batman.\n"
     ]
    }
   ],
   "source": [
    "for index, name in enumerate(names):\n",
    "    hero = heroes[index]\n",
    "    print(f\"{name} is actually {hero}.\")"
   ]
  },
  {
   "cell_type": "markdown",
   "id": "vanilla-coverage",
   "metadata": {},
   "source": [
    "<br>"
   ]
  },
  {
   "cell_type": "markdown",
   "id": "personalized-preview",
   "metadata": {},
   "source": [
    "#### But this is not the most intuitive way to write this code. We should use the ```zip()``` function instead."
   ]
  },
  {
   "cell_type": "code",
   "execution_count": 11,
   "id": "surgical-peoples",
   "metadata": {},
   "outputs": [
    {
     "name": "stdout",
     "output_type": "stream",
     "text": [
      "Peter Parker is actually Spiderman\n",
      "Clark Kent is actually Superman\n",
      "Wade Wilson is actually Deadpool\n",
      "Bruce Wayne is actually Batman\n"
     ]
    }
   ],
   "source": [
    "for n, h in zip(names, heroes):\n",
    "    print(f\"{n} is actually {h}\")"
   ]
  },
  {
   "cell_type": "markdown",
   "id": "institutional-celebration",
   "metadata": {},
   "source": [
    "#### We can combine multiple iteratbles using ```zip()```"
   ]
  },
  {
   "cell_type": "code",
   "execution_count": 12,
   "id": "arranged-ecology",
   "metadata": {},
   "outputs": [
    {
     "name": "stdout",
     "output_type": "stream",
     "text": [
      "Peter Parker is actually Spiderman from the Marvel universe.\n",
      "Clark Kent is actually Superman from the DC universe.\n",
      "Wade Wilson is actually Deadpool from the Marvel universe.\n",
      "Bruce Wayne is actually Batman from the DC universe.\n"
     ]
    }
   ],
   "source": [
    "universes = ['Marvel', 'DC', 'Marvel', 'DC']\n",
    "\n",
    "for n,h,u in zip(names, heroes, universes):\n",
    "    print(f\"{n} is actually {h} from the {u} universe.\")"
   ]
  },
  {
   "cell_type": "markdown",
   "id": "e92f5731-5535-419b-b0bb-03f438bbfc99",
   "metadata": {},
   "source": [
    "<hr>"
   ]
  },
  {
   "cell_type": "markdown",
   "id": "adjusted-platinum",
   "metadata": {},
   "source": [
    "## 5. Unpacking Tuples"
   ]
  },
  {
   "cell_type": "code",
   "execution_count": 13,
   "id": "charming-harris",
   "metadata": {},
   "outputs": [
    {
     "name": "stdout",
     "output_type": "stream",
     "text": [
      "5, 7, 8\n"
     ]
    }
   ],
   "source": [
    "a, b, c = (5, 7, 8)\n",
    "print(f\"{a}, {b}, {c}\")"
   ]
  },
  {
   "cell_type": "markdown",
   "id": "362a2652-3259-4140-9d20-01e50b836a70",
   "metadata": {},
   "source": [
    "#### But if we want to unpack more values than the number of variables, we cannot unpack it manually like the above.\n",
    "\n",
    "#### We should use the unpacking operator ```*```"
   ]
  },
  {
   "cell_type": "code",
   "execution_count": 14,
   "id": "rough-runner",
   "metadata": {},
   "outputs": [
    {
     "name": "stdout",
     "output_type": "stream",
     "text": [
      "2 5\n",
      "[2, 5, 6, 1, 0, 19]\n"
     ]
    }
   ],
   "source": [
    "x, y, *z = (2, 5, 2, 5, 6, 1, 0, 19)\n",
    "print(x,y)\n",
    "print(z)"
   ]
  },
  {
   "cell_type": "markdown",
   "id": "9035fafc-737d-4aeb-8a7d-37ecf087fbd5",
   "metadata": {},
   "source": [
    "#### In the above, x and y was equal to the first two numbers and the rest of the values were combined together in the last variable."
   ]
  },
  {
   "cell_type": "code",
   "execution_count": 15,
   "id": "breeding-giant",
   "metadata": {},
   "outputs": [
    {
     "name": "stdout",
     "output_type": "stream",
     "text": [
      "0 5\n",
      "[-8, 9, 2, 10]\n",
      "5\n"
     ]
    }
   ],
   "source": [
    "k, l, *m, n = (0, 5, -8, 9, 2, 10, 5)\n",
    "print(k,l)\n",
    "print(m)\n",
    "print(n)"
   ]
  },
  {
   "cell_type": "markdown",
   "id": "d5062465-fce8-4aa7-9294-efeed938dee5",
   "metadata": {},
   "source": [
    "<hr>"
   ]
  },
  {
   "cell_type": "markdown",
   "id": "moving-brighton",
   "metadata": {},
   "source": [
    "## 6. Handling Password texts"
   ]
  },
  {
   "cell_type": "markdown",
   "id": "8827f823-e69f-4cb8-b15c-a04e96a54fdc",
   "metadata": {},
   "source": [
    "#### Inputting secret information. What if you need to type in a password for a script?"
   ]
  },
  {
   "cell_type": "code",
   "execution_count": 16,
   "id": "through-bridges",
   "metadata": {},
   "outputs": [
    {
     "name": "stdin",
     "output_type": "stream",
     "text": [
      "Enter your username:  rv23\n",
      "Enter the password:  13579\n"
     ]
    },
    {
     "name": "stdout",
     "output_type": "stream",
     "text": [
      "Logging in...\n"
     ]
    }
   ],
   "source": [
    "username = input(\"Enter your username: \")\n",
    "password1 = input(\"Enter the password: \")\n",
    "\n",
    "print(\"Logging in...\")"
   ]
  },
  {
   "cell_type": "markdown",
   "id": "convertible-gamma",
   "metadata": {},
   "source": [
    "#### We notice that the password we typed got displayed in plain text format which is definitely not what we want. To solve that, we do the following:"
   ]
  },
  {
   "cell_type": "code",
   "execution_count": 17,
   "id": "hearing-premium",
   "metadata": {},
   "outputs": [
    {
     "name": "stdin",
     "output_type": "stream",
     "text": [
      "Enter your username:  rv23\n",
      "Enter the password:  ·····\n"
     ]
    },
    {
     "name": "stdout",
     "output_type": "stream",
     "text": [
      "Logging in...\n"
     ]
    }
   ],
   "source": [
    "from getpass import getpass\n",
    "\n",
    "username = input(\"Enter your username: \")\n",
    "password2 = getpass(\"Enter the password: \")\n",
    "\n",
    "if password1 == password2:\n",
    "    print(\"Logging in...\")                    # To show we typed the same password as above"
   ]
  },
  {
   "cell_type": "markdown",
   "id": "d1b1a540-9f70-4e07-927f-546371e72d3f",
   "metadata": {},
   "source": [
    "<hr>"
   ]
  },
  {
   "cell_type": "markdown",
   "id": "db851b3d-f5c8-42e8-8b31-1440ad7ad7b5",
   "metadata": {},
   "source": [
    "## 7. Do not name your own modules the same as ones from the Python Standard Library. Custom modules will take precedence over the ones from the standard library and you may run into errors."
   ]
  },
  {
   "cell_type": "markdown",
   "id": "87332b8e-952c-47cf-8107-e4d47077757a",
   "metadata": {},
   "source": [
    "<hr>"
   ]
  },
  {
   "cell_type": "markdown",
   "id": "a70026c3-07a5-44c6-86f1-556d33300130",
   "metadata": {},
   "source": [
    "## 8. Do not name a variable as a function or a keyword. It may look like it works but that's now what happens:\n",
    "\n",
    "\n",
    "```python\n",
    "from math import sin, radians\n",
    "sin = sin(radians(90))\n",
    "\n",
    "print(sin)\n",
    "\n",
    "print(sin(radians(70)))       # this will throw an error because now sin is seen as a variable and not a function\n",
    "```"
   ]
  },
  {
   "cell_type": "markdown",
   "id": "08989d0c-5f6b-42eb-9974-de4320ce1269",
   "metadata": {},
   "source": [
    "<hr>"
   ]
  },
  {
   "cell_type": "markdown",
   "id": "228df5cf-568d-40fb-801f-11bac04286c4",
   "metadata": {},
   "source": [
    "## 9. How to deal with mutable default values in a function? "
   ]
  },
  {
   "cell_type": "markdown",
   "id": "49593bca-489a-42fd-a03d-12d539ab538e",
   "metadata": {},
   "source": [
    "#### Consider the following function which takes a single employee and an employee list as an argument and its simply going to add the employee to the employee list."
   ]
  },
  {
   "cell_type": "code",
   "execution_count": null,
   "id": "1a15372a-0a11-4e0e-bc22-76f2505ce1e6",
   "metadata": {},
   "outputs": [],
   "source": [
    "def add_employee(emp, emp_list=[]):                 # default value of emp_list is []\n",
    "    emp_list.append(emp)\n",
    "    print(emp_list)\n",
    "    \n",
    "emps = ['John', 'Mayer']\n",
    "\n",
    "add_employee('Rv', emps)"
   ]
  },
  {
   "cell_type": "markdown",
   "id": "ff92487d-65a7-4f69-a753-14f52b016e18",
   "metadata": {},
   "source": [
    "#### Now let's add a couple of employees without adding an existing list and see what happens"
   ]
  },
  {
   "cell_type": "code",
   "execution_count": 19,
   "id": "eedc76f6-8d59-4d4d-b82b-01d8c5cb80ae",
   "metadata": {},
   "outputs": [
    {
     "name": "stdout",
     "output_type": "stream",
     "text": [
      "['rv']\n"
     ]
    }
   ],
   "source": [
    "add_employee('rv')"
   ]
  },
  {
   "cell_type": "code",
   "execution_count": 20,
   "id": "d5deb9fe-99c4-423e-b1dd-a90fcadaf028",
   "metadata": {},
   "outputs": [
    {
     "name": "stdout",
     "output_type": "stream",
     "text": [
      "['rv', 'potf']\n"
     ]
    }
   ],
   "source": [
    "add_employee('potf')"
   ]
  },
  {
   "cell_type": "markdown",
   "id": "0f1893e2-6adf-475e-9344-c0e8d4404d80",
   "metadata": {},
   "source": [
    "#### We notice that we do not get a new list of one person but rather we get a single list which appends names of all the employees that we pass. This is strange because we set empty list as default. \n",
    "\n",
    "\n",
    "#### What happens in Python is default arguments are evaluated once at the time the function is created. Therefore, it's not actually creating a new list each time we run the function.\n",
    "\n",
    "\n",
    "#### This would not be noticed with immutable datatypes but could be a source of error while working with mutable datatypes like lists."
   ]
  },
  {
   "cell_type": "markdown",
   "id": "1b5a9533-2ef4-4b9d-b901-ad1758ee54c9",
   "metadata": {},
   "source": [
    "#### What can we do?"
   ]
  },
  {
   "cell_type": "code",
   "execution_count": 21,
   "id": "c57efe62-70f6-4171-9e5b-b6c7530209ba",
   "metadata": {},
   "outputs": [],
   "source": [
    "def add_employee_(emp, emp_list=None):\n",
    "    if emp_list is None:\n",
    "        emp_list = []\n",
    "    \n",
    "    emp_list.append(emp)\n",
    "    print(emp_list)"
   ]
  },
  {
   "cell_type": "code",
   "execution_count": 22,
   "id": "153e1f38-2cfe-4693-b774-775acc553f4b",
   "metadata": {},
   "outputs": [
    {
     "name": "stdout",
     "output_type": "stream",
     "text": [
      "['rv']\n"
     ]
    }
   ],
   "source": [
    "add_employee_('rv')"
   ]
  },
  {
   "cell_type": "code",
   "execution_count": 23,
   "id": "ead8f062-b63e-4885-999e-fa003cc978f0",
   "metadata": {},
   "outputs": [
    {
     "name": "stdout",
     "output_type": "stream",
     "text": [
      "['potf']\n"
     ]
    }
   ],
   "source": [
    "add_employee_('potf')"
   ]
  },
  {
   "cell_type": "code",
   "execution_count": 24,
   "id": "02eaf33e-b2f4-4bf2-aae0-7a1e682de71a",
   "metadata": {},
   "outputs": [
    {
     "name": "stdout",
     "output_type": "stream",
     "text": [
      "['John', 'Mayer', 'Rv', 'random']\n"
     ]
    }
   ],
   "source": [
    "add_employee_('random', emps)"
   ]
  },
  {
   "cell_type": "markdown",
   "id": "c92a4063-401e-4948-ac27-7dcfa5f4fd39",
   "metadata": {},
   "source": [
    "#### Now this works as expected."
   ]
  },
  {
   "cell_type": "markdown",
   "id": "d4bdf163-7141-43ab-a012-a42dc5051d1b",
   "metadata": {},
   "source": [
    "<hr>"
   ]
  },
  {
   "cell_type": "markdown",
   "id": "7cf73153-510b-4135-9f61-dd3abcaa569f",
   "metadata": {},
   "source": [
    "## 10. Using * to import is a bad practice."
   ]
  },
  {
   "cell_type": "markdown",
   "id": "9f83d1d0-f4b4-4753-842c-5317eede4265",
   "metadata": {},
   "source": [
    "<a href=\"https://www.youtube.com/watch?v=zdJEYhA2AZQ\">Python tips!</a>"
   ]
  }
 ],
 "metadata": {
  "kernelspec": {
   "display_name": "Python 3 (ipykernel)",
   "language": "python",
   "name": "python3"
  },
  "language_info": {
   "codemirror_mode": {
    "name": "ipython",
    "version": 3
   },
   "file_extension": ".py",
   "mimetype": "text/x-python",
   "name": "python",
   "nbconvert_exporter": "python",
   "pygments_lexer": "ipython3",
   "version": "3.8.8"
  }
 },
 "nbformat": 4,
 "nbformat_minor": 5
}
