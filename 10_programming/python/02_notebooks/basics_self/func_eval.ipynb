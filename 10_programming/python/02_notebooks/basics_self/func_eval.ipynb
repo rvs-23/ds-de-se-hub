{
 "cells": [
  {
   "cell_type": "markdown",
   "metadata": {},
   "source": [
    "## 1. What Is eval()?\n",
    "\n",
    "Imagine you have a magic calculator. Instead of punching buttons, you write down a mathematical problem on a piece of paper as a string of text, like \"10 * (5 + 2)\". You then hand this paper to the calculator, and it instantly gives you back the answer: 70.\n",
    "\n",
    "In essence, Python's eval() function is like that magic calculator. It takes a string containing a Python expression, and it evaluates it, returning the resulting value.\n",
    "\n",
    "Definition: eval(expr, globals=None, locals=None) takes a string containing a Python expression, parses and compiles it at runtime, executes it, and returns the result.\n",
    "\n",
    "Key point: Only expressions are allowed (things that produce a value)—not full statements like for loops, if … else, or import."
   ]
  },
  {
   "cell_type": "markdown",
   "metadata": {},
   "source": [
    "## 2. Expressions vs. Statements\n",
    "\n",
    "What if you write a command on the paper, like \"create a new variable called z and set it to 10\"? The magic calculator would be confused. It's built to calculate values, not to perform actions.\n",
    "\n",
    "This is the key limitation of eval(): it cannot handle statements. A statement is an instruction that does something, like assigning a variable, creating a loop, or importing a library.\n",
    "\n",
    "- Expressions produce a value:\n",
    "\n",
    "    - Literals: 42, \"hello\", True\n",
    "\n",
    "    - Operations: 2 + 3 * 4, x**2 - y\n",
    "\n",
    "    - Function calls returning something: len(\"abc\"), math.sin(0.5)\n",
    "\n",
    "- Statements perform actions without producing a direct value:\n",
    "\n",
    "    - Assignments: x = 10\n",
    "\n",
    "    - Loops: for i in range(3): …\n",
    "\n",
    "    - Imports: import os\n",
    "\n",
    "> Doing eval(\"x = 10\") fails, because x = 10 is a statement, not an expression."
   ]
  },
  {
   "cell_type": "markdown",
   "metadata": {},
   "source": [
    "## 3. Basic Usage"
   ]
  },
  {
   "cell_type": "code",
   "execution_count": 2,
   "metadata": {},
   "outputs": [
    {
     "data": {
      "text/plain": [
       "10"
      ]
     },
     "execution_count": 2,
     "metadata": {},
     "output_type": "execute_result"
    }
   ],
   "source": [
    "# Simple math via eval\n",
    "eval(\"2**10\")\n",
    "\n",
    "# Using variables defined in your current namespace\n",
    "x = 7\n",
    "eval(\"x + 3\")"
   ]
  },
  {
   "cell_type": "code",
   "execution_count": 8,
   "metadata": {},
   "outputs": [
    {
     "name": "stdout",
     "output_type": "stream",
     "text": [
      "Enter the Python Expression:  7//2-5*10\n"
     ]
    },
    {
     "name": "stdout",
     "output_type": "stream",
     "text": [
      "-47\n"
     ]
    }
   ],
   "source": [
    "print(eval(input(\"Enter the Python Expression: \")))"
   ]
  },
  {
   "cell_type": "markdown",
   "metadata": {},
   "source": [
    "## 4. Usage scenario\n",
    "\n",
    "Imagine you're building a system to validate data. The validation rules are stored in a database or a configuration file and might change often. You don't want to rewrite your code every time a rule changes.\n",
    "\n",
    "Let's say you have a rule that a product_price must be greater than the cost_to_make plus a minimum_margin."
   ]
  },
  {
   "cell_type": "code",
   "execution_count": null,
   "metadata": {},
   "outputs": [
    {
     "name": "stdout",
     "output_type": "stream",
     "text": [
      "Does the product meet the rule? True\n"
     ]
    }
   ],
   "source": [
    "# Data for a specific product\n",
    "product_data = {\n",
    "    \"product_price\": 150,\n",
    "    \"cost_to_make\": 110,\n",
    "    \"minimum_margin\": 30\n",
    "}\n",
    "\n",
    "# The rule, stored as a string\n",
    "rule_string = \"product_price > cost_to_make + minimum_margin\"\n",
    "\n",
    "# Here, we passed our product_data dictionary as the second argument to eval().\n",
    "# This gives eval() a controlled \"environment\" to work in. It can see and use the keys from the dictionary as variables.\n",
    "# We can use eval() to check if the rule passes\n",
    "is_valid = eval(rule_string, product_data)\n",
    "\n",
    "print(f\"Does the product meet the rule? {is_valid}\")"
   ]
  },
  {
   "cell_type": "markdown",
   "metadata": {},
   "source": [
    "## 5. Controlling the Environment\n",
    "By default, eval() runs in your current global and local namespace—and so it can see all your variables and functions. You can lock it down:"
   ]
  },
  {
   "cell_type": "code",
   "execution_count": 5,
   "metadata": {},
   "outputs": [
    {
     "data": {
      "text/plain": [
       "6.28318"
      ]
     },
     "execution_count": 5,
     "metadata": {},
     "output_type": "execute_result"
    }
   ],
   "source": [
    "# Only allow names from this dict for globals (no built-ins either)\n",
    "safe_globals = {\"__builtins__\": None, \"pi\": 3.14159}\n",
    "eval(\"pi * 2\", safe_globals)"
   ]
  },
  {
   "cell_type": "code",
   "execution_count": 6,
   "metadata": {},
   "outputs": [
    {
     "data": {
      "text/plain": [
       "78.53975"
      ]
     },
     "execution_count": 6,
     "metadata": {},
     "output_type": "execute_result"
    }
   ],
   "source": [
    "# Provide separate locals as well\n",
    "locs = {\"radius\": 5}\n",
    "eval(\"pi * radius**2\", safe_globals, locs)"
   ]
  },
  {
   "cell_type": "markdown",
   "metadata": {},
   "source": [
    "#### Think of globals/locals as the pantry shelves you let the chef (eval) access. Give only the ingredients (variables/functions) you trust."
   ]
  },
  {
   "cell_type": "markdown",
   "metadata": {},
   "source": [
    "## 6. The DANGER Zone\n",
    "\n",
    "- This is the most important part of the lesson. Using eval() can be incredibly dangerous, especially if you pass it a string that comes from a user. Think of eval() as giving someone direct access to a Python command line inside your program. A malicious user can craft a string that does much more than just calculate a value.\n",
    "\n",
    "- Technically, a hacker could run: `__import__('os').system('rm -rf /')` that would wipe out the system.\n",
    "\n",
    "- Debuggability & Performance: Errors in strings are harder to catch (no syntax highlighting). Dynamic compilation on the fly is slower than normal code.\n",
    "\n",
    "> Best practice: Avoid eval() whenever possible. Look for safer alternatives (e.g. literal parsing with ast.literal_eval or writing your own small parser).\n"
   ]
  },
  {
   "cell_type": "markdown",
   "metadata": {},
   "source": [
    "## 7. Alternatives to eval()\n",
    "\n",
    "#### 1. For Safely Evaluating Literals: ast.literal_eval\n",
    "If you just need to parse a string containing a Python literal (like a list, dictionary, number, or string) from an untrusted source, the ast module is your best friend. literal_eval will only evaluate these safe literals and will raise an error if the string contains anything else, like function calls or operations.\n",
    "\n",
    "```python\n",
    "import ast\n",
    "\n",
    "user_string_ok = \"[1, 'hello', {'a': 1}]\"\n",
    "user_string_bad = \"__import__('os').system('clear')\"\n",
    "\n",
    "# This is safe and works perfectly\n",
    "my_list = ast.literal_eval(user_string_ok)\n",
    "print(my_list) # Output: [1, 'hello', {'a': 1}]\n",
    "\n",
    "# This will raise a ValueError because it's not a literal\n",
    "try:\n",
    "    ast.literal_eval(user_string_bad)\n",
    "except ValueError as e:\n",
    "    print(f\"Error: {e}\") # Error: malformed node or string\n",
    "```\n",
    "\n",
    "#### 2. Mapping Strings to Functions with a Dictionary\n",
    "If you want to allow a user to choose an operation, don't use eval(). Use a dictionary to map their input to a safe, pre-approved function.\n",
    "\n",
    "```python\n",
    "import operator\n",
    "\n",
    "# A safe mapping of allowed operations\n",
    "allowed_operations = {\n",
    "    \"add\": operator.add,\n",
    "    \"subtract\": operator.sub,\n",
    "    \"multiply\": operator.mul,\n",
    "}\n",
    "\n",
    "x = 10\n",
    "y = 5\n",
    "user_choice = \"add\" # This could come from user input\n",
    "\n",
    "# Safely get the function from the dictionary and call it\n",
    "if user_choice in allowed_operations:\n",
    "    operation_func = allowed_operations[user_choice]\n",
    "    result = operation_func(x, y)\n",
    "    print(f\"Result: {result}\") # Result: 15\n",
    "else:\n",
    "    print(\"Invalid operation!\")\n",
    "```"
   ]
  },
  {
   "cell_type": "markdown",
   "metadata": {},
   "source": [
    "---"
   ]
  }
 ],
 "metadata": {
  "kernelspec": {
   "display_name": ".venv",
   "language": "python",
   "name": "python3"
  },
  "language_info": {
   "codemirror_mode": {
    "name": "ipython",
    "version": 3
   },
   "file_extension": ".py",
   "mimetype": "text/x-python",
   "name": "python",
   "nbconvert_exporter": "python",
   "pygments_lexer": "ipython3",
   "version": "3.13.2"
  }
 },
 "nbformat": 4,
 "nbformat_minor": 4
}
