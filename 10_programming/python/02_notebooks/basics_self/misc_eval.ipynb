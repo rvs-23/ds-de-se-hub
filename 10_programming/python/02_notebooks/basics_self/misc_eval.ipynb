{
 "cells": [
  {
   "cell_type": "markdown",
   "metadata": {
    "tags": []
   },
   "source": [
    "## 1. eval()"
   ]
  },
  {
   "cell_type": "markdown",
   "metadata": {},
   "source": [
    "#### a. It's a Python built in functions that helps evaluate Python <u>expressions</u> dynamically.\n",
    "\n",
    "#### b. An expression is a subset of the language. Expressions include code that results in a value: <b>literals, names, attributes, operations</b> or <b>functions</b> that return a value.\n",
    "\n",
    "#### c. eval parses, compiles and evaluates an expression and returns the result."
   ]
  },
  {
   "cell_type": "markdown",
   "metadata": {},
   "source": [
    "<pre>\n",
    "<u>Basic usage</u>: eval() can take a subset of the python language known as an expression. Common expressions are things like doing math.\n",
    "<pre>\n"
   ]
  },
  {
   "cell_type": "code",
   "execution_count": 1,
   "metadata": {},
   "outputs": [
    {
     "data": {
      "text/plain": [
       "32768"
      ]
     },
     "execution_count": 1,
     "metadata": {},
     "output_type": "execute_result"
    }
   ],
   "source": [
    "eval(\"2**15\")"
   ]
  },
  {
   "cell_type": "code",
   "execution_count": 2,
   "metadata": {},
   "outputs": [
    {
     "data": {
      "text/plain": [
       "2350"
      ]
     },
     "execution_count": 2,
     "metadata": {},
     "output_type": "execute_result"
    }
   ],
   "source": [
    "x = 50\n",
    "eval(\"x**2 - 150\")"
   ]
  },
  {
   "cell_type": "markdown",
   "metadata": {},
   "source": [
    "<ul>\n",
    "<li>A Python Literal is a data. Ex: 13, \"no\", True, [5,5,0]</li>\n",
    "<li>Names are essentialy Variables, something that can be assigned to.</li>\n",
    "    <li>Attributes are the name portion of an object.</li><br>\n",
    "    <b>x = 3  In this x=3 is a statement, x is a name. </b>\n",
    "</ul>"
   ]
  },
  {
   "cell_type": "code",
   "execution_count": 4,
   "metadata": {},
   "outputs": [
    {
     "data": {
      "text/plain": [
       "'454545'"
      ]
     },
     "execution_count": 4,
     "metadata": {},
     "output_type": "execute_result"
    }
   ],
   "source": [
    "#eval(\"x = 100\")\n",
    "\n",
    "\"\"\"\n",
    "The thing inside the eval above is a statement and not an expression.\n",
    "Therefore running this will throw an error. Similarly conditionals, loops, imports\n",
    "and exceptions are not expressions.\n",
    "\n",
    "\"\"\"\n",
    "\n",
    "eval(\"'45'*3\")"
   ]
  },
  {
   "cell_type": "code",
   "execution_count": 8,
   "metadata": {},
   "outputs": [
    {
     "name": "stdin",
     "output_type": "stream",
     "text": [
      "Enter the Python Expression:  7//2-5*10\n"
     ]
    },
    {
     "name": "stdout",
     "output_type": "stream",
     "text": [
      "-47\n"
     ]
    }
   ],
   "source": [
    "print(eval(input(\"Enter the Python Expression: \")))"
   ]
  },
  {
   "cell_type": "code",
   "execution_count": 12,
   "metadata": {},
   "outputs": [
    {
     "name": "stdin",
     "output_type": "stream",
     "text": [
      "Enter the Python expression:  len('hello there!')\n"
     ]
    },
    {
     "data": {
      "text/plain": [
       "12"
      ]
     },
     "execution_count": 12,
     "metadata": {},
     "output_type": "execute_result"
    }
   ],
   "source": [
    "eval(input(\"Enter the Python expression: \"))"
   ]
  },
  {
   "cell_type": "code",
   "execution_count": 13,
   "metadata": {},
   "outputs": [
    {
     "data": {
      "text/plain": [
       "161201"
      ]
     },
     "execution_count": 13,
     "metadata": {},
     "output_type": "execute_result"
    }
   ],
   "source": [
    "## Globals\n",
    "\n",
    "eval(\"y**5+150\", {\"y\":11})"
   ]
  },
  {
   "cell_type": "code",
   "execution_count": 14,
   "metadata": {},
   "outputs": [
    {
     "data": {
      "text/plain": [
       "1"
      ]
     },
     "execution_count": 14,
     "metadata": {},
     "output_type": "execute_result"
    }
   ],
   "source": [
    "# Globals\n",
    "\n",
    "d = {\"a\": 0, \"b\": 1}\n",
    "eval(\"a+b\", d)"
   ]
  },
  {
   "cell_type": "markdown",
   "metadata": {},
   "source": [
    "#### Warning:\n",
    "\n",
    "<ul>\n",
    "<li>eval() and exec() run arbitraty code and should never be used to run code from untrusted souces.</li><br>\n",
    "<li>It's possible to force eval() to run <b>rm -rf *</b> on your machine or equivalently <b>format c : </b>in your windows machine causing your system to format. </li>\n",
    "</ul>"
   ]
  },
  {
   "cell_type": "code",
   "execution_count": 21,
   "metadata": {},
   "outputs": [
    {
     "data": {
      "text/plain": [
       "0"
      ]
     },
     "execution_count": 21,
     "metadata": {},
     "output_type": "execute_result"
    }
   ],
   "source": [
    "# One thing that could be done to improve the eval() usage:\n",
    "\n",
    "k,l = 1, -1\n",
    "eval(\"k+l\")         # This gives an output\n",
    "\n",
    "# eval(\"k+l\", {})     # This doesn't output because it is expecting the argument values inside the dictionary"
   ]
  }
 ],
 "metadata": {
  "kernelspec": {
   "display_name": "Python 3 (ipykernel)",
   "language": "python",
   "name": "python3"
  },
  "language_info": {
   "codemirror_mode": {
    "name": "ipython",
    "version": 3
   },
   "file_extension": ".py",
   "mimetype": "text/x-python",
   "name": "python",
   "nbconvert_exporter": "python",
   "pygments_lexer": "ipython3",
   "version": "3.8.8"
  }
 },
 "nbformat": 4,
 "nbformat_minor": 4
}
