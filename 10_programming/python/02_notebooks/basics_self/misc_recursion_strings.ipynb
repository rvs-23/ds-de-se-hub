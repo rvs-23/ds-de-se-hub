{
 "cells": [
  {
   "cell_type": "markdown",
   "metadata": {},
   "source": [
    "\n",
    "### 1. Calculate the sum of a list of numbers using Recursion"
   ]
  },
  {
   "cell_type": "code",
   "execution_count": 1,
   "metadata": {},
   "outputs": [],
   "source": [
    "def sum_list_recur(x):\n",
    "    if len(x)==1:\n",
    "        return x[0]\n",
    "    else:\n",
    "        return x[0]+sum_list_recur(x[1:])"
   ]
  },
  {
   "cell_type": "code",
   "execution_count": 2,
   "metadata": {},
   "outputs": [
    {
     "data": {
      "text/plain": [
       "15"
      ]
     },
     "execution_count": 2,
     "metadata": {},
     "output_type": "execute_result"
    }
   ],
   "source": [
    "sum_list_recur([1,2,3,4,5])"
   ]
  },
  {
   "cell_type": "markdown",
   "metadata": {},
   "source": [
    "### 2. Write a Python program to sum list of lists.\n",
    "    \n",
    "        Test Data: [1,9,[5,5,8],22,[9,5,3],2]\n",
    "        Result : 69"
   ]
  },
  {
   "cell_type": "code",
   "execution_count": 3,
   "metadata": {},
   "outputs": [],
   "source": [
    "def list_list_sum(x):\n",
    "    sum=0\n",
    "    for element in x:\n",
    "        if type(element)==type([]):\n",
    "            sum+=list_list_sum(element)\n",
    "        else:\n",
    "            sum+=element\n",
    "    return sum"
   ]
  },
  {
   "cell_type": "code",
   "execution_count": 4,
   "metadata": {},
   "outputs": [
    {
     "name": "stdout",
     "output_type": "stream",
     "text": [
      "69\n"
     ]
    }
   ],
   "source": [
    "print(list_list_sum([1,9,[5,5,8],22,[9,5,3],2]))"
   ]
  },
  {
   "cell_type": "markdown",
   "metadata": {},
   "source": [
    "### 3. Write a program to find the sum of digits of a number using recursion"
   ]
  },
  {
   "cell_type": "code",
   "execution_count": 5,
   "metadata": {},
   "outputs": [],
   "source": [
    "def sum_digits_recur(x):\n",
    "    dsum=0\n",
    "    if x<=9:\n",
    "        dsum+=x\n",
    "    else:\n",
    "        dsum+=x%10+sum_digits_recur(x//10)\n",
    "    \n",
    "    return dsum"
   ]
  },
  {
   "cell_type": "code",
   "execution_count": 6,
   "metadata": {},
   "outputs": [
    {
     "name": "stdout",
     "output_type": "stream",
     "text": [
      "21\n"
     ]
    }
   ],
   "source": [
    "print(sum_digits_recur(1569))"
   ]
  },
  {
   "cell_type": "markdown",
   "metadata": {},
   "source": [
    "### 4. Calculate a to the power b using recursion"
   ]
  },
  {
   "cell_type": "code",
   "execution_count": 7,
   "metadata": {},
   "outputs": [],
   "source": [
    "def a_power_b_recur(a,b):\n",
    "    if a==0:\n",
    "        return 0\n",
    "    if b==0 or a==1:\n",
    "        return 1\n",
    "    if b==1:\n",
    "        return a\n",
    "    else:\n",
    "        return a*a_power_b_recur(a,b-1)\n",
    "    "
   ]
  },
  {
   "cell_type": "code",
   "execution_count": 8,
   "metadata": {},
   "outputs": [
    {
     "name": "stdout",
     "output_type": "stream",
     "text": [
      "True\n"
     ]
    }
   ],
   "source": [
    "a,b=11,12\n",
    "print(True) if (a_power_b_recur(a,b)==a**b) else print(False)\n"
   ]
  },
  {
   "cell_type": "markdown",
   "metadata": {},
   "source": [
    "### 5. Write a program to count the frequency of letters in a string"
   ]
  },
  {
   "cell_type": "code",
   "execution_count": 9,
   "metadata": {},
   "outputs": [],
   "source": [
    "def count_freq(s):\n",
    "    freq={}\n",
    "    for i in s:\n",
    "        if i not in freq:\n",
    "            freq[i]=1\n",
    "        else:\n",
    "            freq[i]+=1\n",
    "    print(freq)"
   ]
  },
  {
   "cell_type": "code",
   "execution_count": 10,
   "metadata": {},
   "outputs": [
    {
     "name": "stdout",
     "output_type": "stream",
     "text": [
      "{'a': 8, 'l': 6, ' ': 9, 's': 6, 'q': 2, 'u': 3, 'r': 6, 'e': 8, 'c': 2, 't': 4, 'n': 3, 'g': 2, 'b': 1, 'o': 1, '.': 1}\n"
     ]
    }
   ],
   "source": [
    "count_freq(\"all squares are rectangles but not all rectangles are squares.\")"
   ]
  },
  {
   "cell_type": "markdown",
   "metadata": {},
   "source": [
    "### 6. Write a Python program that accepts a comma separated sequence of words as input and prints the unique words in sorted form.\n",
    "    Sample Words : red, white, black, red, green, black\n",
    "    Expected Result : black, green, red, white,red"
   ]
  },
  {
   "cell_type": "code",
   "execution_count": 11,
   "metadata": {},
   "outputs": [],
   "source": [
    "def unique_sort(s):\n",
    "    s_list = s.split(\",\")\n",
    "    s_list_arranged = sorted(list(set(s_list)))\n",
    "    return (\",\".join(s_list_arranged)).strip()"
   ]
  },
  {
   "cell_type": "code",
   "execution_count": 12,
   "metadata": {},
   "outputs": [
    {
     "data": {
      "text/plain": [
       "'black, green, red, white,red'"
      ]
     },
     "execution_count": 12,
     "metadata": {},
     "output_type": "execute_result"
    }
   ],
   "source": [
    "unique_sort(\"red, white, black, red, green, black\")"
   ]
  },
  {
   "cell_type": "markdown",
   "metadata": {},
   "source": [
    "### 7. Write a program to reverse words in a string."
   ]
  },
  {
   "cell_type": "code",
   "execution_count": 13,
   "metadata": {},
   "outputs": [],
   "source": [
    "def rev_words(sen):\n",
    "    new_sent=\"\"\n",
    "    words=sen.split(\" \")\n",
    "    for word in words:\n",
    "        new_sent+=word[::-1]+ \" \"\n",
    "    return new_sent.rstrip()"
   ]
  },
  {
   "cell_type": "code",
   "execution_count": 14,
   "metadata": {},
   "outputs": [
    {
     "data": {
      "text/plain": [
       "'einworb sevol ineehc'"
      ]
     },
     "execution_count": 14,
     "metadata": {},
     "output_type": "execute_result"
    }
   ],
   "source": [
    "rev_words(\"brownie loves cheeni\")"
   ]
  },
  {
   "cell_type": "markdown",
   "metadata": {},
   "source": [
    "### 8. Write a pyhton program to count only the repeated letters in a string."
   ]
  },
  {
   "cell_type": "code",
   "execution_count": 15,
   "metadata": {},
   "outputs": [],
   "source": [
    "def count_repeat_letters(sen):\n",
    "    freq={}\n",
    "    for letter in sen:\n",
    "        if letter not in freq:\n",
    "            freq[letter]=1\n",
    "        else:\n",
    "            freq[letter]+=1\n",
    "    \n",
    "    for key,values in freq.items():\n",
    "        if values>=2:\n",
    "            print(\"{} occurs {} times. \".format(key,values))"
   ]
  },
  {
   "cell_type": "code",
   "execution_count": 16,
   "metadata": {},
   "outputs": [
    {
     "name": "stdout",
     "output_type": "stream",
     "text": [
      "t occurs 2 times. \n",
      "h occurs 2 times. \n",
      "e occurs 3 times. \n",
      "u occurs 2 times. \n",
      "r occurs 2 times. \n",
      "o occurs 4 times. \n"
     ]
    }
   ],
   "source": [
    "count_repeat_letters(\"thequickbrownfoxjumpsoverthelazydog\")"
   ]
  },
  {
   "cell_type": "markdown",
   "metadata": {},
   "source": [
    "### 9. Program to find the first non-repeating character in a string."
   ]
  },
  {
   "cell_type": "code",
   "execution_count": 17,
   "metadata": {},
   "outputs": [],
   "source": [
    "def find_repeat(s):\n",
    "    freq={}\n",
    "    for char in s:\n",
    "        if char not in freq:\n",
    "            freq[char]=1\n",
    "        else:\n",
    "            return char\n",
    "    \n",
    "    return \"No repeating characters\""
   ]
  },
  {
   "cell_type": "code",
   "execution_count": 18,
   "metadata": {},
   "outputs": [
    {
     "data": {
      "text/plain": [
       "'e'"
      ]
     },
     "execution_count": 18,
     "metadata": {},
     "output_type": "execute_result"
    }
   ],
   "source": [
    "find_repeat(\"cheeni\")"
   ]
  },
  {
   "cell_type": "markdown",
   "metadata": {},
   "source": [
    "### 10. Program to find the second most repeated word in a sentence."
   ]
  },
  {
   "cell_type": "code",
   "execution_count": 19,
   "metadata": {},
   "outputs": [],
   "source": [
    "def second_most_repeated_word(sen):\n",
    "    freq={}\n",
    "    for word in sen.split(\" \"):\n",
    "        if word not in freq:\n",
    "            freq[word]=1\n",
    "        else:\n",
    "            freq[word]+=1\n",
    "    \n",
    "    #Sorting dictionary by values. Converting keys into list and accessing the second element which is second largest\n",
    "    \n",
    "    print(list({key:value for key,value in sorted(freq.items(), key= lambda x:x[1], reverse= True)}.keys())[1])\n",
    "    \n",
    "    \n",
    "    "
   ]
  },
  {
   "cell_type": "code",
   "execution_count": 20,
   "metadata": {},
   "outputs": [
    {
     "name": "stdout",
     "output_type": "stream",
     "text": [
      "1\n"
     ]
    }
   ],
   "source": [
    "second_most_repeated_word(\"1  32 96 3 19  61 64 31 64 31 64 31 4 5 61 4 9 31 31 96 1 0 3 34 4 1\")"
   ]
  },
  {
   "cell_type": "markdown",
   "metadata": {},
   "source": [
    "### 11. Program to add all the spaces from a string to the beginning of the string."
   ]
  },
  {
   "cell_type": "code",
   "execution_count": 21,
   "metadata": {},
   "outputs": [],
   "source": [
    "def shift_spaces(sen):\n",
    "    words=list(sen.split(\" \"))\n",
    "    spaces=len(words)-1\n",
    "    return \" \"*spaces+ \"\".join(words)\n",
    "    "
   ]
  },
  {
   "cell_type": "code",
   "execution_count": 22,
   "metadata": {},
   "outputs": [
    {
     "data": {
      "text/plain": [
       "'       YouneedtolearnMachinelearningandSQL'"
      ]
     },
     "execution_count": 22,
     "metadata": {},
     "output_type": "execute_result"
    }
   ],
   "source": [
    "shift_spaces(\"You need to learn Machine learning and SQL\")"
   ]
  },
  {
   "cell_type": "markdown",
   "metadata": {},
   "source": [
    "### 12. Program to find the maximum length of consecutive 0's in a binary number."
   ]
  },
  {
   "cell_type": "code",
   "execution_count": 23,
   "metadata": {},
   "outputs": [],
   "source": [
    "def max_cont_zero(b):\n",
    "    maximum,count=0,0\n",
    "    for bit in str(b):\n",
    "        if bit=='0':\n",
    "            count+=1\n",
    "        else:\n",
    "            if count>maximum:\n",
    "                maximum=count\n",
    "                count=0\n",
    "    return maximum"
   ]
  },
  {
   "cell_type": "code",
   "execution_count": 24,
   "metadata": {},
   "outputs": [
    {
     "data": {
      "text/plain": [
       "8"
      ]
     },
     "execution_count": 24,
     "metadata": {},
     "output_type": "execute_result"
    }
   ],
   "source": [
    "max_cont_zero(10000100000000110001010)"
   ]
  },
  {
   "cell_type": "markdown",
   "metadata": {},
   "source": [
    "### 13. Program to remove all duplicates from a given string."
   ]
  },
  {
   "cell_type": "code",
   "execution_count": 25,
   "metadata": {},
   "outputs": [],
   "source": [
    "def remove_consecutive(string):\n",
    "    new_string=\"\"\n",
    "    for i in range(len(string)-1):\n",
    "        if string[i]==string[i+1]:\n",
    "            pass\n",
    "        else:\n",
    "            new_string+=string[i]\n",
    "            \n",
    "    return new_string+string[-1]"
   ]
  },
  {
   "cell_type": "code",
   "execution_count": 26,
   "metadata": {},
   "outputs": [
    {
     "data": {
      "text/plain": [
       "'cvheni'"
      ]
     },
     "execution_count": 26,
     "metadata": {},
     "output_type": "execute_result"
    }
   ],
   "source": [
    "remove_consecutive(\"cvvvhhhhhhhhhhhhhhhheennnnnnnnnnniiiiiiiii\")"
   ]
  },
  {
   "cell_type": "markdown",
   "metadata": {},
   "source": [
    "### 14. Program to swap upper case and lower case characters in a string.\n"
   ]
  },
  {
   "cell_type": "code",
   "execution_count": 29,
   "metadata": {},
   "outputs": [],
   "source": [
    "def swap_case(sent):\n",
    "    swap_sent=\"\"\n",
    "    for i in sent:\n",
    "        if i.isupper():\n",
    "            swap_sent+=i.lower()\n",
    "        else:\n",
    "            swap_sent+=i.upper()\n",
    "    \n",
    "    return swap_sent\n",
    "    "
   ]
  },
  {
   "cell_type": "code",
   "execution_count": 30,
   "metadata": {},
   "outputs": [
    {
     "data": {
      "text/plain": [
       "'RIShaV'"
      ]
     },
     "execution_count": 30,
     "metadata": {},
     "output_type": "execute_result"
    }
   ],
   "source": [
    "swap_case(\"risHAv\")"
   ]
  },
  {
   "cell_type": "code",
   "execution_count": null,
   "metadata": {},
   "outputs": [],
   "source": []
  }
 ],
 "metadata": {
  "kernelspec": {
   "display_name": "Python 3",
   "language": "python",
   "name": "python3"
  },
  "language_info": {
   "codemirror_mode": {
    "name": "ipython",
    "version": 3
   },
   "file_extension": ".py",
   "mimetype": "text/x-python",
   "name": "python",
   "nbconvert_exporter": "python",
   "pygments_lexer": "ipython3",
   "version": "3.8.5"
  }
 },
 "nbformat": 4,
 "nbformat_minor": 4
}
