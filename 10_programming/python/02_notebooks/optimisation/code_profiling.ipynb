{
 "cells": [
  {
   "cell_type": "markdown",
   "id": "liable-worthy",
   "metadata": {},
   "source": [
    "## Code Profiling\n",
    "\n",
    "- Technique used to describe how long, and how often, various parts of a program are executed.\n",
    "- It has the ability to gather summary statistics on individual pieces of the code without using magic commands like %timeit.\n",
    "- It also has the ability to provide detailed statistis on memory consumption.\n",
    "<br>\n",
    "Focus?\n",
    "\n",
    "```python\n",
    "line_profiler\n",
    "```"
   ]
  },
  {
   "cell_type": "markdown",
   "id": "changed-citizenship",
   "metadata": {},
   "source": [
    "## 1. Speed"
   ]
  },
  {
   "cell_type": "code",
   "execution_count": 1,
   "id": "gorgeous-emission",
   "metadata": {},
   "outputs": [],
   "source": [
    "# !pip install line_profiler"
   ]
  },
  {
   "cell_type": "markdown",
   "id": "blank-healthcare",
   "metadata": {},
   "source": [
    "### Let's say we want to profile the following function line by line"
   ]
  },
  {
   "cell_type": "code",
   "execution_count": 2,
   "id": "prompt-cleaner",
   "metadata": {},
   "outputs": [],
   "source": [
    "def convert_units(heroes, heights, weights):\n",
    "    new_hts = [ht*0.39370 for ht in heights]\n",
    "    new_wts = [wt*2.20462 for wt in weights]\n",
    "    \n",
    "    hero_data = {}\n",
    "    for i,hero in enumerate(heroes):\n",
    "        hero_data[hero] = (new_hts[i], new_wts[i])\n",
    "        \n",
    "    return hero_data"
   ]
  },
  {
   "cell_type": "code",
   "execution_count": 3,
   "id": "correct-citizen",
   "metadata": {},
   "outputs": [
    {
     "data": {
      "text/plain": [
       "{'Batman': (74.01559999999999, 209.4389),\n",
       " 'Superman': (75.19669999999999, 222.66661999999997),\n",
       " 'Wonder Woman': (72.0471, 163.14188)}"
      ]
     },
     "execution_count": 3,
     "metadata": {},
     "output_type": "execute_result"
    }
   ],
   "source": [
    "import numpy as np\n",
    "\n",
    "heroes = ['Batman', 'Superman', 'Wonder Woman']\n",
    "hts, wts = np.array([188, 191, 183]), np.array([95, 101, 74])\n",
    "\n",
    "convert_units(heroes, hts, wts)"
   ]
  },
  {
   "cell_type": "markdown",
   "id": "interstate-event",
   "metadata": {},
   "source": [
    "#### We can use %timeit here but that will give us the total execution time of the entire function. What we wanted to see the time taken by each individual line in the function to run."
   ]
  },
  {
   "cell_type": "markdown",
   "id": "infinite-norwegian",
   "metadata": {},
   "source": [
    "### Load the package"
   ]
  },
  {
   "cell_type": "code",
   "execution_count": 4,
   "id": "romantic-closer",
   "metadata": {},
   "outputs": [],
   "source": [
    "%load_ext line_profiler"
   ]
  },
  {
   "cell_type": "markdown",
   "id": "mature-walker",
   "metadata": {},
   "source": [
    "#### Run the profiler"
   ]
  },
  {
   "cell_type": "code",
   "execution_count": 5,
   "id": "dramatic-riverside",
   "metadata": {},
   "outputs": [
    {
     "data": {
      "text/plain": [
       "Timer unit: 1e-09 s\n",
       "\n",
       "Total time: 7.0876e-05 s\n",
       "File: <ipython-input-2-067058ac4e1d>\n",
       "Function: convert_units at line 1\n",
       "\n",
       "Line #      Hits         Time  Per Hit   % Time  Line Contents\n",
       "==============================================================\n",
       "     1                                           def convert_units(heroes, heights, weights):\n",
       "     2         1      57278.0  57278.0     80.8      new_hts = [ht*0.39370 for ht in heights]\n",
       "     3         1       8894.0   8894.0     12.5      new_wts = [wt*2.20462 for wt in weights]\n",
       "     4                                               \n",
       "     5         1        318.0    318.0      0.4      hero_data = {}\n",
       "     6         3       2270.0    756.7      3.2      for i,hero in enumerate(heroes):\n",
       "     7         3       1977.0    659.0      2.8          hero_data[hero] = (new_hts[i], new_wts[i])\n",
       "     8                                                   \n",
       "     9         1        139.0    139.0      0.2      return hero_data"
      ]
     },
     "metadata": {},
     "output_type": "display_data"
    }
   ],
   "source": [
    "%lprun -f convert_units convert_units(heroes, hts, wts)"
   ]
  },
  {
   "cell_type": "markdown",
   "id": "waiting-revolution",
   "metadata": {},
   "source": [
    "<pre>\n",
    "-f : function \n",
    "convert_units : function name without paranthesis\n",
    "</pre>"
   ]
  },
  {
   "cell_type": "markdown",
   "id": "operating-ottawa",
   "metadata": {},
   "source": [
    "## 2. Memory"
   ]
  },
  {
   "cell_type": "code",
   "execution_count": 6,
   "id": "outdoor-booth",
   "metadata": {},
   "outputs": [
    {
     "data": {
      "text/plain": [
       "9104"
      ]
     },
     "execution_count": 6,
     "metadata": {},
     "output_type": "execute_result"
    }
   ],
   "source": [
    "# Quick and dirty approach\n",
    "\n",
    "import sys\n",
    "nums_list = [*range(1000)]\n",
    "# size of an object in bytes\n",
    "# gives the size of am individual object\n",
    "sys.getsizeof(nums_list)"
   ]
  },
  {
   "cell_type": "markdown",
   "id": "suffering-spending",
   "metadata": {},
   "source": [
    "#### What if we wanted to inspect the line by line memory footprint of our code?"
   ]
  },
  {
   "cell_type": "code",
   "execution_count": 7,
   "id": "controlled-threshold",
   "metadata": {},
   "outputs": [],
   "source": [
    "# !pip install memory_profiler"
   ]
  },
  {
   "cell_type": "code",
   "execution_count": 8,
   "id": "entertaining-reproduction",
   "metadata": {},
   "outputs": [],
   "source": [
    "%load_ext memory_profiler"
   ]
  },
  {
   "cell_type": "markdown",
   "id": "aging-board",
   "metadata": {},
   "source": [
    "#### One major drawback to using %mprun is that any function profiled for memory consumption must be defined in a file and imported. %mprun can only be used on functions defined in physical files, and not in the Ipython sessions. "
   ]
  },
  {
   "cell_type": "code",
   "execution_count": 9,
   "id": "musical-budget",
   "metadata": {},
   "outputs": [],
   "source": [
    "from hero_funcs import convert_units"
   ]
  },
  {
   "cell_type": "code",
   "execution_count": 10,
   "id": "noble-referral",
   "metadata": {},
   "outputs": [
    {
     "name": "stdout",
     "output_type": "stream",
     "text": [
      "\n"
     ]
    },
    {
     "data": {
      "text/plain": [
       "Filename: /home/s3tpqt/self.rv/ad-hoc/Code optimization/hero_funcs.py\n",
       "\n",
       "Line #    Mem usage    Increment  Occurrences   Line Contents\n",
       "=============================================================\n",
       "     1     72.6 MiB     72.6 MiB           1   def convert_units(heroes, heights, weights):\n",
       "     2     72.6 MiB      0.0 MiB           6       new_hts = [ht*0.39370 for ht in heights]\n",
       "     3     72.6 MiB      0.0 MiB           6       new_wts = [wt*2.20462 for wt in weights]\n",
       "     4                                             \n",
       "     5     72.6 MiB      0.0 MiB           1       hero_data = {}\n",
       "     6     72.6 MiB      0.0 MiB           4       for i,hero in enumerate(heroes):\n",
       "     7     72.6 MiB      0.0 MiB           3           hero_data[hero] = (new_hts[i], new_wts[i])\n",
       "     8                                                 \n",
       "     9     72.6 MiB      0.0 MiB           1       return hero_data"
      ]
     },
     "metadata": {},
     "output_type": "display_data"
    }
   ],
   "source": [
    "%mprun -f convert_units convert_units(heroes, hts, wts)"
   ]
  },
  {
   "cell_type": "markdown",
   "id": "distributed-timber",
   "metadata": {},
   "source": [
    "### 1 MiB = 1.048576 MB\n",
    "\n",
    "- Results are calculated in MebiBytes.\n",
    "\n",
    "- The profiler inspects memory by querying the operating system. This might be slightly different from the amount of memory used by the Python interpreter.\n",
    "\n",
    "- Results may differ between platforms and runs."
   ]
  },
  {
   "cell_type": "markdown",
   "id": "automatic-salvation",
   "metadata": {},
   "source": [
    "---"
   ]
  }
 ],
 "metadata": {
  "kernelspec": {
   "display_name": "Python 3",
   "language": "python",
   "name": "python3"
  },
  "language_info": {
   "codemirror_mode": {
    "name": "ipython",
    "version": 3
   },
   "file_extension": ".py",
   "mimetype": "text/x-python",
   "name": "python",
   "nbconvert_exporter": "python",
   "pygments_lexer": "ipython3",
   "version": "3.8.10"
  }
 },
 "nbformat": 4,
 "nbformat_minor": 5
}
