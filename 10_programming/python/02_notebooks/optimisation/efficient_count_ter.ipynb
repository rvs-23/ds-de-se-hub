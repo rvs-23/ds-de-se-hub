{
 "cells": [
  {
   "cell_type": "markdown",
   "id": "suffering-roberts",
   "metadata": {},
   "source": [
    "# 1. Combining objects"
   ]
  },
  {
   "cell_type": "markdown",
   "id": "interior-aruba",
   "metadata": {},
   "source": [
    "##### Say we want to combing the following two lists such that each HP is coupled with the corresponding Pokemon name."
   ]
  },
  {
   "cell_type": "code",
   "execution_count": 1,
   "id": "accepted-provision",
   "metadata": {},
   "outputs": [],
   "source": [
    "names = ['Bulbasaur', 'Charmander', 'Squirtle']\n",
    "hps = [45, 39, 44]"
   ]
  },
  {
   "cell_type": "markdown",
   "id": "personal-poetry",
   "metadata": {},
   "source": [
    "#### a) Inefficient way"
   ]
  },
  {
   "cell_type": "code",
   "execution_count": 2,
   "id": "difficult-revision",
   "metadata": {},
   "outputs": [],
   "source": [
    "def combine_ineff(pokemon, hps):\n",
    "    combined = []\n",
    "    for i, pokemon in enumerate(names):\n",
    "        combined.append((pokemon, hps[i]))\n",
    "    return combined"
   ]
  },
  {
   "cell_type": "code",
   "execution_count": 3,
   "id": "combined-providence",
   "metadata": {},
   "outputs": [
    {
     "data": {
      "text/plain": [
       "[('Bulbasaur', 45), ('Charmander', 39), ('Squirtle', 44)]"
      ]
     },
     "execution_count": 3,
     "metadata": {},
     "output_type": "execute_result"
    }
   ],
   "source": [
    "combine_ineff(names, hps)"
   ]
  },
  {
   "cell_type": "markdown",
   "id": "sporting-petersburg",
   "metadata": {},
   "source": [
    "#### b) Efficient way - using zip()"
   ]
  },
  {
   "cell_type": "code",
   "execution_count": 4,
   "id": "desirable-grade",
   "metadata": {},
   "outputs": [],
   "source": [
    "def combine_eff(pokemon, hps):\n",
    "    combined_zip = zip(names, hps)\n",
    "    return [*combined_zip]"
   ]
  },
  {
   "cell_type": "code",
   "execution_count": 5,
   "id": "obvious-vietnamese",
   "metadata": {},
   "outputs": [
    {
     "data": {
      "text/plain": [
       "[('Bulbasaur', 45), ('Charmander', 39), ('Squirtle', 44)]"
      ]
     },
     "execution_count": 5,
     "metadata": {},
     "output_type": "execute_result"
    }
   ],
   "source": [
    "combine_eff(names, hps)"
   ]
  },
  {
   "cell_type": "markdown",
   "id": "mounted-notice",
   "metadata": {},
   "source": [
    "#### speed comparison between (a) and (b)"
   ]
  },
  {
   "cell_type": "code",
   "execution_count": 6,
   "id": "initial-billion",
   "metadata": {},
   "outputs": [],
   "source": [
    "%load_ext line_profiler"
   ]
  },
  {
   "cell_type": "code",
   "execution_count": 7,
   "id": "damaged-diagram",
   "metadata": {},
   "outputs": [
    {
     "data": {
      "text/plain": [
       "Timer unit: 1e-09 s\n",
       "\n",
       "Total time: 4.142e-06 s\n",
       "File: <ipython-input-2-0c62f2f2295d>\n",
       "Function: combine_ineff at line 1\n",
       "\n",
       "Line #      Hits         Time  Per Hit   % Time  Line Contents\n",
       "==============================================================\n",
       "     1                                           def combine_ineff(pokemon, hps):\n",
       "     2         1        818.0    818.0     19.7      combined = []\n",
       "     3         3       1855.0    618.3     44.8      for i, pokemon in enumerate(names):\n",
       "     4         3       1284.0    428.0     31.0          combined.append((pokemon, hps[i]))\n",
       "     5         1        185.0    185.0      4.5      return combined"
      ]
     },
     "metadata": {},
     "output_type": "display_data"
    }
   ],
   "source": [
    "%lprun -f combine_ineff combine_ineff(names, hps)"
   ]
  },
  {
   "cell_type": "code",
   "execution_count": 8,
   "id": "maritime-seating",
   "metadata": {},
   "outputs": [
    {
     "data": {
      "text/plain": [
       "Timer unit: 1e-09 s\n",
       "\n",
       "Total time: 2.447e-06 s\n",
       "File: <ipython-input-4-ecca5421458e>\n",
       "Function: combine_eff at line 1\n",
       "\n",
       "Line #      Hits         Time  Per Hit   % Time  Line Contents\n",
       "==============================================================\n",
       "     1                                           def combine_eff(pokemon, hps):\n",
       "     2         1       1354.0   1354.0     55.3      combined_zip = zip(names, hps)\n",
       "     3         1       1093.0   1093.0     44.7      return [*combined_zip]"
      ]
     },
     "metadata": {},
     "output_type": "display_data"
    }
   ],
   "source": [
    "%lprun -f combine_eff combine_eff(names, hps)"
   ]
  },
  {
   "cell_type": "markdown",
   "id": "possible-spare",
   "metadata": {},
   "source": [
    "## The collections module\n",
    "\n",
    "<ol>\n",
    "    <li>Part of Python's Standard library</li>\n",
    "    <li>Specialized container datatypes</li>\n",
    "    <ul>\n",
    "        <li>Alternatives to general purpose dict, list, set and tuple.</li>\n",
    "        <li>Notable:</li>\n",
    "        <ul>\n",
    "            <li>namedtyple: tuple substances with named fields.</li>\n",
    "            <li>deque: list-like container with fast appends and pops.</li>\n",
    "            <li>Counter: dict for counting hashable objects.</li>\n",
    "            <li>OrderedDict: dict that retains order of entries.</li>\n",
    "            <li>defaultdict: dict that calls a factory function to supply missing values.</li>\n",
    "        </ul>\n",
    "    </ul>\n",
    "</ol>"
   ]
  },
  {
   "cell_type": "markdown",
   "id": "passive-recruitment",
   "metadata": {},
   "source": [
    "## The itertools module\n",
    "\n",
    "<ol>\n",
    "    <li>Part of Python's Standard library</li>\n",
    "    <li>Functional tools for creating and using iterators.</li>\n",
    "    <ul>\n",
    "        <li>Notable:</li>\n",
    "        <ul>\n",
    "            <li>Infinite iterators: count, cycle, repeat.</li>\n",
    "            <li>Finite iterators: accumulate, chain, zip_longest, etc.</li>\n",
    "            <li>Combination generators: product, permutations, combinations.</li>\n",
    "        </ul>\n",
    "    </ul>\n",
    "</ol>"
   ]
  },
  {
   "cell_type": "markdown",
   "id": "exposed-consolidation",
   "metadata": {},
   "source": [
    "#### Suppose we want to gather all combination pairs of pokemon types possible."
   ]
  },
  {
   "cell_type": "code",
   "execution_count": 9,
   "id": "printable-collapse",
   "metadata": {},
   "outputs": [
    {
     "data": {
      "text/plain": [
       "[('Bug', 'Fire'),\n",
       " ('Bug', 'Ghost'),\n",
       " ('Bug', 'Grass'),\n",
       " ('Bug', 'Water'),\n",
       " ('Fire', 'Ghost'),\n",
       " ('Fire', 'Grass'),\n",
       " ('Fire', 'Water'),\n",
       " ('Ghost', 'Grass'),\n",
       " ('Ghost', 'Water'),\n",
       " ('Grass', 'Water')]"
      ]
     },
     "execution_count": 9,
     "metadata": {},
     "output_type": "execute_result"
    }
   ],
   "source": [
    "poke_types = ['Bug', 'Fire', 'Ghost', 'Grass', 'Water']\n",
    "\n",
    "def combos_ineff(poke_types):\n",
    "    combos = []\n",
    "    for x in poke_types:\n",
    "        for y in poke_types:\n",
    "            if x==y:\n",
    "                continue\n",
    "            if ((x, y) not in combos) & ((y, x) not in combos):\n",
    "                combos.append((x, y))\n",
    "                \n",
    "    return combos\n",
    "\n",
    "combos_ineff(poke_types)"
   ]
  },
  {
   "cell_type": "code",
   "execution_count": 10,
   "id": "popular-iceland",
   "metadata": {},
   "outputs": [
    {
     "data": {
      "text/plain": [
       "[('Bug', 'Fire'),\n",
       " ('Bug', 'Ghost'),\n",
       " ('Bug', 'Grass'),\n",
       " ('Bug', 'Water'),\n",
       " ('Fire', 'Ghost'),\n",
       " ('Fire', 'Grass'),\n",
       " ('Fire', 'Water'),\n",
       " ('Ghost', 'Grass'),\n",
       " ('Ghost', 'Water'),\n",
       " ('Grass', 'Water')]"
      ]
     },
     "execution_count": 10,
     "metadata": {},
     "output_type": "execute_result"
    }
   ],
   "source": [
    "from itertools import combinations\n",
    "\n",
    "def combos_eff(poke_types):\n",
    "    combos_obj = combinations(poke_types, 2)\n",
    "    return [*combos_obj]\n",
    "\n",
    "combos_eff(poke_types)"
   ]
  },
  {
   "cell_type": "code",
   "execution_count": 11,
   "id": "binding-particle",
   "metadata": {},
   "outputs": [
    {
     "data": {
      "text/plain": [
       "Timer unit: 1e-09 s\n",
       "\n",
       "Total time: 1.9025e-05 s\n",
       "File: <ipython-input-9-61ee155c591e>\n",
       "Function: combos_ineff at line 3\n",
       "\n",
       "Line #      Hits         Time  Per Hit   % Time  Line Contents\n",
       "==============================================================\n",
       "     3                                           def combos_ineff(poke_types):\n",
       "     4         1        575.0    575.0      3.0      combos = []\n",
       "     5         5       1031.0    206.2      5.4      for x in poke_types:\n",
       "     6        25       4821.0    192.8     25.3          for y in poke_types:\n",
       "     7        20       3254.0    162.7     17.1              if x==y:\n",
       "     8         5        668.0    133.6      3.5                  continue\n",
       "     9        10       5700.0    570.0     30.0              if ((x, y) not in combos) & ((y, x) not in combos):\n",
       "    10        10       2815.0    281.5     14.8                  combos.append((x, y))\n",
       "    11                                                           \n",
       "    12         1        161.0    161.0      0.8      return combos"
      ]
     },
     "metadata": {},
     "output_type": "display_data"
    }
   ],
   "source": [
    "%lprun -f combos_ineff combos_ineff(poke_types)"
   ]
  },
  {
   "cell_type": "code",
   "execution_count": 12,
   "id": "revolutionary-librarian",
   "metadata": {},
   "outputs": [
    {
     "data": {
      "text/plain": [
       "Timer unit: 1e-09 s\n",
       "\n",
       "Total time: 2.243e-06 s\n",
       "File: <ipython-input-10-cfbc91d29b49>\n",
       "Function: combos_eff at line 3\n",
       "\n",
       "Line #      Hits         Time  Per Hit   % Time  Line Contents\n",
       "==============================================================\n",
       "     3                                           def combos_eff(poke_types):\n",
       "     4         1       1172.0   1172.0     52.3      combos_obj = combinations(poke_types, 2)\n",
       "     5         1       1071.0   1071.0     47.7      return [*combos_obj]"
      ]
     },
     "metadata": {},
     "output_type": "display_data"
    }
   ],
   "source": [
    "%lprun -f combos_eff combos_eff(poke_types)"
   ]
  },
  {
   "cell_type": "markdown",
   "id": "close-necklace",
   "metadata": {},
   "source": [
    "---"
   ]
  },
  {
   "cell_type": "markdown",
   "id": "patent-topic",
   "metadata": {},
   "source": [
    "# 2. Comparing objects\n",
    "\n",
    "##### Often, we'd like to compare two objects to observe similarities and differences between their contents. When doing this type of comparison, it's best to leverage a branch of mathematics called set theory. As you know, Python comes with a built-in set data type. Sets come with some handy methods we can use for comparing.  Another nice feature of Python sets is their ability to quickly check if a value exists within its members. We call this membership testing. In this lesson, we'll show that using the in operator with a set is much faster than using it with a list or tuple."
   ]
  },
  {
   "cell_type": "code",
   "execution_count": 13,
   "id": "refined-short",
   "metadata": {},
   "outputs": [],
   "source": [
    "import random\n",
    "\n",
    "random_nos_500_lis = [random.randint(99, 1000) for _ in range(500)]\n",
    "random_nos_500_lis.append(1000)\n",
    "random_nos_500_set = set(random_nos_500_lis)\n",
    "random_nos_500_tup = tuple(random_nos_500_lis)"
   ]
  },
  {
   "cell_type": "code",
   "execution_count": 14,
   "id": "danish-southeast",
   "metadata": {},
   "outputs": [
    {
     "name": "stdout",
     "output_type": "stream",
     "text": [
      "4.51 µs ± 43.7 ns per loop (mean ± std. dev. of 7 runs, 50 loops each)\n",
      "46.2 ns ± 8.42 ns per loop (mean ± std. dev. of 7 runs, 50 loops each)\n",
      "4.5 µs ± 21.3 ns per loop (mean ± std. dev. of 7 runs, 50 loops each)\n"
     ]
    }
   ],
   "source": [
    "tm_lis = %timeit -n50 -o 1000 in random_nos_500_lis\n",
    "tm_set = %timeit -n50 -o 1000 in random_nos_500_set\n",
    "tm_tup = %timeit -n50 -o 1000 in random_nos_500_tup"
   ]
  },
  {
   "cell_type": "code",
   "execution_count": 15,
   "id": "floral-squad",
   "metadata": {
    "tags": []
   },
   "outputs": [
    {
     "data": {
      "text/plain": [
       "'set'"
      ]
     },
     "execution_count": 15,
     "metadata": {},
     "output_type": "execute_result"
    }
   ],
   "source": [
    "times = {\n",
    "    'list': tm_lis.average,\n",
    "    'set': tm_set.average,\n",
    "    'tuple': tm_tup.average\n",
    "}\n",
    "\n",
    "min(times, key=times.get)"
   ]
  },
  {
   "cell_type": "code",
   "execution_count": 16,
   "id": "adaptive-tulsa",
   "metadata": {},
   "outputs": [
    {
     "name": "stdout",
     "output_type": "stream",
     "text": [
      "Faster than list by 97.53870178468625x\n",
      "Faster than tuple by 97.34422855497986x\n"
     ]
    }
   ],
   "source": [
    "print(f\"Faster than list by {tm_lis.average/tm_set.average}x\")\n",
    "print(f\"Faster than tuple by {tm_tup.average/tm_set.average}x\")"
   ]
  },
  {
   "cell_type": "markdown",
   "id": "closed-fiber",
   "metadata": {},
   "source": [
    "---"
   ]
  },
  {
   "cell_type": "markdown",
   "id": "ahead-auction",
   "metadata": {},
   "source": [
    "# 3. Eliminating loops"
   ]
  },
  {
   "cell_type": "markdown",
   "id": "informational-margin",
   "metadata": {},
   "source": [
    "#### Say we have a nested list of numbers and we wanted to sum each row of the list."
   ]
  },
  {
   "cell_type": "code",
   "execution_count": 17,
   "id": "adolescent-oxygen",
   "metadata": {},
   "outputs": [],
   "source": [
    "nums_list = [\n",
    "    [90, 92, 75, 60],\n",
    "    [25, 20, 15, 90],\n",
    "    [65, 130, 60, 75],\n",
    "    [11, 0, 33, 52]\n",
    "]"
   ]
  },
  {
   "cell_type": "markdown",
   "id": "static-scotland",
   "metadata": {},
   "source": [
    "#### Using a for loop"
   ]
  },
  {
   "cell_type": "code",
   "execution_count": 18,
   "id": "appointed-pantyhose",
   "metadata": {},
   "outputs": [
    {
     "name": "stdout",
     "output_type": "stream",
     "text": [
      "485 ns ± 1.08 ns per loop (mean ± std. dev. of 5 runs, 100000 loops each)\n"
     ]
    }
   ],
   "source": [
    "%%timeit -r5 -n100000\n",
    "totals = []\n",
    "for row in nums_list:\n",
    "    totals.append(sum(row))"
   ]
  },
  {
   "cell_type": "markdown",
   "id": "provincial-keeping",
   "metadata": {},
   "source": [
    "#### Using a list comprehension"
   ]
  },
  {
   "cell_type": "code",
   "execution_count": 19,
   "id": "otherwise-hamilton",
   "metadata": {},
   "outputs": [
    {
     "name": "stdout",
     "output_type": "stream",
     "text": [
      "440 ns ± 1.46 ns per loop (mean ± std. dev. of 5 runs, 100000 loops each)\n"
     ]
    }
   ],
   "source": [
    "%timeit -r5 -n100000 [sum(row) for row in nums_list]"
   ]
  },
  {
   "cell_type": "markdown",
   "id": "corrected-conviction",
   "metadata": {},
   "source": [
    "#### Using map "
   ]
  },
  {
   "cell_type": "code",
   "execution_count": 20,
   "id": "usual-ordinance",
   "metadata": {},
   "outputs": [
    {
     "name": "stdout",
     "output_type": "stream",
     "text": [
      "411 ns ± 2.56 ns per loop (mean ± std. dev. of 5 runs, 100000 loops each)\n"
     ]
    }
   ],
   "source": [
    "%timeit -r5 -n100000 [*map(sum, nums_list)]"
   ]
  },
  {
   "cell_type": "markdown",
   "id": "capital-header",
   "metadata": {},
   "source": [
    "### USING NUMPY"
   ]
  },
  {
   "cell_type": "code",
   "execution_count": 21,
   "id": "literary-liverpool",
   "metadata": {},
   "outputs": [
    {
     "data": {
      "text/plain": [
       "array([[ 90,  92,  75,  60],\n",
       "       [ 25,  20,  15,  90],\n",
       "       [ 65, 130,  60,  75],\n",
       "       [ 11,   0,  33,  52]])"
      ]
     },
     "execution_count": 21,
     "metadata": {},
     "output_type": "execute_result"
    }
   ],
   "source": [
    "import numpy as np\n",
    "nums_list_ar = np.array(nums_list)\n",
    "nums_list_ar"
   ]
  },
  {
   "cell_type": "code",
   "execution_count": 22,
   "id": "attempted-annex",
   "metadata": {},
   "outputs": [
    {
     "name": "stdout",
     "output_type": "stream",
     "text": [
      "1.49 µs ± 10.4 ns per loop (mean ± std. dev. of 5 runs, 100000 loops each)\n"
     ]
    }
   ],
   "source": [
    "%%timeit -r5 -n100000\n",
    "nums_list_ar.sum(axis=1)"
   ]
  },
  {
   "cell_type": "code",
   "execution_count": 23,
   "id": "trying-nirvana",
   "metadata": {},
   "outputs": [
    {
     "data": {
      "text/plain": [
       "True"
      ]
     },
     "execution_count": 23,
     "metadata": {},
     "output_type": "execute_result"
    }
   ],
   "source": [
    "1.93e-6 > 427e-9"
   ]
  },
  {
   "cell_type": "markdown",
   "id": "vocational-gallery",
   "metadata": {},
   "source": [
    "# 3. Writing better loops"
   ]
  },
  {
   "cell_type": "markdown",
   "id": "removed-arrow",
   "metadata": {},
   "source": [
    "<ul>\n",
    "    <li>Understand what is beign done with each loop iteration.</li>\n",
    "    <li>Move one-time calculations outside(above) the loop.</li>\n",
    "    <li>Use holistic conversions outside(below) the loop.</li>\n",
    "    <li>Anything that is done once should be outside the loop.</li>\n",
    "</ul>"
   ]
  },
  {
   "cell_type": "markdown",
   "id": "fitting-split",
   "metadata": {},
   "source": [
    "<pre>\n",
    "Q) We have a list of Pokémon names and an array of each Pokémon's corresponding attack value. We'd like to print the names of each Pokémon with an attack value greater than the average of all attack values. \n",
    "</pre>"
   ]
  },
  {
   "cell_type": "code",
   "execution_count": 24,
   "id": "final-investigation",
   "metadata": {},
   "outputs": [],
   "source": [
    "import numpy as np\n",
    "\n",
    "names = ['Absol', 'Aron', 'Jynx', 'Natu', 'Onix']\n",
    "attacks = np.array([130, 70, 50, 50, 45])"
   ]
  },
  {
   "cell_type": "code",
   "execution_count": 25,
   "id": "circular-rebate",
   "metadata": {},
   "outputs": [
    {
     "name": "stdout",
     "output_type": "stream",
     "text": [
      "32.5 µs ± 246 ns per loop (mean ± std. dev. of 7 runs, 10000 loops each)\n"
     ]
    }
   ],
   "source": [
    "%%timeit\n",
    "for pokemon, attack in zip(names, attacks):\n",
    "    total_attack_avg = attacks.mean()\n",
    "    if attack>total_attack_avg:\n",
    "        pass\n",
    "#         print(f\"{pokemon}'s attack: {attack} > average: {total_attack_avg}!\")"
   ]
  },
  {
   "cell_type": "markdown",
   "id": "smoking-standing",
   "metadata": {},
   "source": [
    "#### Improvement"
   ]
  },
  {
   "cell_type": "code",
   "execution_count": 26,
   "id": "invisible-optimization",
   "metadata": {},
   "outputs": [
    {
     "name": "stdout",
     "output_type": "stream",
     "text": [
      "13.3 µs ± 72.6 ns per loop (mean ± std. dev. of 7 runs, 100000 loops each)\n"
     ]
    }
   ],
   "source": [
    "%%timeit\n",
    "total_attack_avg = attacks.mean()\n",
    "for pokemon, attack in zip(names, attacks):\n",
    "    if attack>total_attack_avg:\n",
    "        pass"
   ]
  },
  {
   "cell_type": "markdown",
   "id": "interesting-forge",
   "metadata": {},
   "source": [
    "<pre>\n",
    "Q) We have three lists from our dataset of 720 Pokémon: a list of each Pokémon's name, a list corresponding to whether or not a Pokémon has a legendary status, and a list of each Pokémon's generation. We want to combine these objects so that each name, status, and generation is stored in an individual list.\n",
    "</pre>"
   ]
  },
  {
   "cell_type": "code",
   "execution_count": 27,
   "id": "seeing-helmet",
   "metadata": {},
   "outputs": [
    {
     "name": "stdout",
     "output_type": "stream",
     "text": [
      "[['Pikachu', False, 1], ['Squirtle', False, 1], ['Articuno', True, 1]]\n"
     ]
    }
   ],
   "source": [
    "names = ['Pikachu', 'Squirtle', 'Articuno']\n",
    "legend_status = [False, False, True]\n",
    "generations = [1, 1, 1]\n",
    "\n",
    "poke_data = []\n",
    "for poke_tuple in zip(names, legend_status, generations):\n",
    "    poke_list = list(poke_tuple)\n",
    "    poke_data.append(poke_list)\n",
    "    \n",
    "print(poke_data)"
   ]
  },
  {
   "cell_type": "markdown",
   "id": "pleased-piece",
   "metadata": {},
   "source": [
    "#### Improvement: Not converting each tuple to a list within the loop"
   ]
  },
  {
   "cell_type": "code",
   "execution_count": 28,
   "id": "played-least",
   "metadata": {},
   "outputs": [
    {
     "name": "stdout",
     "output_type": "stream",
     "text": [
      "Before: [('Pikachu', False, 1), ('Squirtle', False, 1), ('Articuno', True, 1)]\n",
      "After: [['Pikachu', False, 1], ['Squirtle', False, 1], ['Articuno', True, 1]]\n"
     ]
    }
   ],
   "source": [
    "poke_data_tuple = []\n",
    "for poke_tuple in zip(names, legend_status, generations):\n",
    "    poke_data_tuple.append(poke_tuple)\n",
    "    \n",
    "print(f\"Before: {poke_data_tuple}\")\n",
    "poke_data = [*map(list, poke_data_tuple)]\n",
    "print(f\"After: {poke_data}\")"
   ]
  },
  {
   "cell_type": "markdown",
   "id": "grateful-ticket",
   "metadata": {},
   "source": [
    "## Pandas dataframe iteration"
   ]
  },
  {
   "cell_type": "code",
   "execution_count": 49,
   "id": "finished-chick",
   "metadata": {},
   "outputs": [],
   "source": [
    "# Creating a sample dataframe\n",
    "\n",
    "df_dict = {\n",
    "    'Team': ['ARI', 'ATL', 'BAL', 'BOS', 'CHC', 'IND', 'TEX', 'XYZ', 'ABC'],\n",
    "    'League': ['NL', 'NL', 'AL', 'AL', 'NL', 'AL', 'NL', 'AL', 'NL'],\n",
    "    'Year': [2012, 2012, 2012, 2012, 2012, 2012, 2012, 2012, 2012],\n",
    "    'RS': [734, 700, 712, 734, 613, 650, 699, 611, 655],\n",
    "    'RA': [688, 600, 705, 806, 759, 710, 700, 699, 799],\n",
    "    # number of wins in a season\n",
    "    'W': [81, 94, 93, 69, 61, 100, 50, 79, 59],\n",
    "    # number of games a team played in a season\n",
    "    'G': [162, 162, 162, 162, 162, 162, 162, 162, 162],\n",
    "    'Playoffs': [0, 1, 1, 0, 0, 1, 0, 1, 0]\n",
    "}"
   ]
  },
  {
   "cell_type": "code",
   "execution_count": 50,
   "id": "direct-rally",
   "metadata": {},
   "outputs": [
    {
     "data": {
      "text/html": [
       "<div>\n",
       "<style scoped>\n",
       "    .dataframe tbody tr th:only-of-type {\n",
       "        vertical-align: middle;\n",
       "    }\n",
       "\n",
       "    .dataframe tbody tr th {\n",
       "        vertical-align: top;\n",
       "    }\n",
       "\n",
       "    .dataframe thead th {\n",
       "        text-align: right;\n",
       "    }\n",
       "</style>\n",
       "<table border=\"1\" class=\"dataframe\">\n",
       "  <thead>\n",
       "    <tr style=\"text-align: right;\">\n",
       "      <th></th>\n",
       "      <th>Team</th>\n",
       "      <th>League</th>\n",
       "      <th>Year</th>\n",
       "      <th>RS</th>\n",
       "      <th>RA</th>\n",
       "      <th>W</th>\n",
       "      <th>G</th>\n",
       "      <th>Playoffs</th>\n",
       "    </tr>\n",
       "  </thead>\n",
       "  <tbody>\n",
       "    <tr>\n",
       "      <th>0</th>\n",
       "      <td>ARI</td>\n",
       "      <td>NL</td>\n",
       "      <td>2012</td>\n",
       "      <td>734</td>\n",
       "      <td>688</td>\n",
       "      <td>81</td>\n",
       "      <td>162</td>\n",
       "      <td>0</td>\n",
       "    </tr>\n",
       "    <tr>\n",
       "      <th>1</th>\n",
       "      <td>ATL</td>\n",
       "      <td>NL</td>\n",
       "      <td>2012</td>\n",
       "      <td>700</td>\n",
       "      <td>600</td>\n",
       "      <td>94</td>\n",
       "      <td>162</td>\n",
       "      <td>1</td>\n",
       "    </tr>\n",
       "    <tr>\n",
       "      <th>2</th>\n",
       "      <td>BAL</td>\n",
       "      <td>AL</td>\n",
       "      <td>2012</td>\n",
       "      <td>712</td>\n",
       "      <td>705</td>\n",
       "      <td>93</td>\n",
       "      <td>162</td>\n",
       "      <td>1</td>\n",
       "    </tr>\n",
       "    <tr>\n",
       "      <th>3</th>\n",
       "      <td>BOS</td>\n",
       "      <td>AL</td>\n",
       "      <td>2012</td>\n",
       "      <td>734</td>\n",
       "      <td>806</td>\n",
       "      <td>69</td>\n",
       "      <td>162</td>\n",
       "      <td>0</td>\n",
       "    </tr>\n",
       "    <tr>\n",
       "      <th>4</th>\n",
       "      <td>CHC</td>\n",
       "      <td>NL</td>\n",
       "      <td>2012</td>\n",
       "      <td>613</td>\n",
       "      <td>759</td>\n",
       "      <td>61</td>\n",
       "      <td>162</td>\n",
       "      <td>0</td>\n",
       "    </tr>\n",
       "    <tr>\n",
       "      <th>5</th>\n",
       "      <td>IND</td>\n",
       "      <td>AL</td>\n",
       "      <td>2012</td>\n",
       "      <td>650</td>\n",
       "      <td>710</td>\n",
       "      <td>100</td>\n",
       "      <td>162</td>\n",
       "      <td>1</td>\n",
       "    </tr>\n",
       "    <tr>\n",
       "      <th>6</th>\n",
       "      <td>TEX</td>\n",
       "      <td>NL</td>\n",
       "      <td>2012</td>\n",
       "      <td>699</td>\n",
       "      <td>700</td>\n",
       "      <td>50</td>\n",
       "      <td>162</td>\n",
       "      <td>0</td>\n",
       "    </tr>\n",
       "    <tr>\n",
       "      <th>7</th>\n",
       "      <td>XYZ</td>\n",
       "      <td>AL</td>\n",
       "      <td>2012</td>\n",
       "      <td>611</td>\n",
       "      <td>699</td>\n",
       "      <td>79</td>\n",
       "      <td>162</td>\n",
       "      <td>1</td>\n",
       "    </tr>\n",
       "    <tr>\n",
       "      <th>8</th>\n",
       "      <td>ABC</td>\n",
       "      <td>NL</td>\n",
       "      <td>2012</td>\n",
       "      <td>655</td>\n",
       "      <td>799</td>\n",
       "      <td>59</td>\n",
       "      <td>162</td>\n",
       "      <td>0</td>\n",
       "    </tr>\n",
       "  </tbody>\n",
       "</table>\n",
       "</div>"
      ],
      "text/plain": [
       "  Team League  Year   RS   RA    W    G  Playoffs\n",
       "0  ARI     NL  2012  734  688   81  162         0\n",
       "1  ATL     NL  2012  700  600   94  162         1\n",
       "2  BAL     AL  2012  712  705   93  162         1\n",
       "3  BOS     AL  2012  734  806   69  162         0\n",
       "4  CHC     NL  2012  613  759   61  162         0\n",
       "5  IND     AL  2012  650  710  100  162         1\n",
       "6  TEX     NL  2012  699  700   50  162         0\n",
       "7  XYZ     AL  2012  611  699   79  162         1\n",
       "8  ABC     NL  2012  655  799   59  162         0"
      ]
     },
     "execution_count": 50,
     "metadata": {},
     "output_type": "execute_result"
    }
   ],
   "source": [
    "import pandas as  pd\n",
    "\n",
    "df = pd.DataFrame(df_dict)\n",
    "df"
   ]
  },
  {
   "cell_type": "markdown",
   "id": "mobile-tribute",
   "metadata": {},
   "source": [
    "### Calculate Win percentage."
   ]
  },
  {
   "cell_type": "code",
   "execution_count": 51,
   "id": "exempt-traffic",
   "metadata": {},
   "outputs": [],
   "source": [
    "import numpy as np\n",
    "\n",
    "def calc_win_per(wins, games_played):\n",
    "    \n",
    "    win_perc = wins/games_played\n",
    "    return np.round(win_perc, 2)"
   ]
  },
  {
   "cell_type": "code",
   "execution_count": 52,
   "id": "laden-decision",
   "metadata": {},
   "outputs": [
    {
     "data": {
      "text/plain": [
       "0.5"
      ]
     },
     "execution_count": 52,
     "metadata": {},
     "output_type": "execute_result"
    }
   ],
   "source": [
    "calc_win_per(50, 100)"
   ]
  },
  {
   "cell_type": "markdown",
   "id": "controlling-maine",
   "metadata": {},
   "source": [
    "#### Approach - 1 "
   ]
  },
  {
   "cell_type": "code",
   "execution_count": 53,
   "id": "fatal-controversy",
   "metadata": {},
   "outputs": [
    {
     "name": "stdout",
     "output_type": "stream",
     "text": [
      "899 µs ± 7.32 µs per loop (mean ± std. dev. of 7 runs, 1000 loops each)\n"
     ]
    }
   ],
   "source": [
    "%%timeit\n",
    "# Adding win % to the dataframe\n",
    "\n",
    "win_percent_list = []\n",
    "for i in range(len(df)):\n",
    "    row = df.iloc[i]\n",
    "    wins = row['W']\n",
    "    games_played = row['G']\n",
    "    \n",
    "    win_perc = calc_win_per(wins, games_played)\n",
    "    win_percent_list.append(win_perc)\n",
    "    \n",
    "df['WP'] = win_percent_list"
   ]
  },
  {
   "cell_type": "code",
   "execution_count": 54,
   "id": "norwegian-jacob",
   "metadata": {},
   "outputs": [
    {
     "data": {
      "text/html": [
       "<div>\n",
       "<style scoped>\n",
       "    .dataframe tbody tr th:only-of-type {\n",
       "        vertical-align: middle;\n",
       "    }\n",
       "\n",
       "    .dataframe tbody tr th {\n",
       "        vertical-align: top;\n",
       "    }\n",
       "\n",
       "    .dataframe thead th {\n",
       "        text-align: right;\n",
       "    }\n",
       "</style>\n",
       "<table border=\"1\" class=\"dataframe\">\n",
       "  <thead>\n",
       "    <tr style=\"text-align: right;\">\n",
       "      <th></th>\n",
       "      <th>Team</th>\n",
       "      <th>League</th>\n",
       "      <th>Year</th>\n",
       "      <th>RS</th>\n",
       "      <th>RA</th>\n",
       "      <th>W</th>\n",
       "      <th>G</th>\n",
       "      <th>Playoffs</th>\n",
       "      <th>WP</th>\n",
       "    </tr>\n",
       "  </thead>\n",
       "  <tbody>\n",
       "    <tr>\n",
       "      <th>0</th>\n",
       "      <td>ARI</td>\n",
       "      <td>NL</td>\n",
       "      <td>2012</td>\n",
       "      <td>734</td>\n",
       "      <td>688</td>\n",
       "      <td>81</td>\n",
       "      <td>162</td>\n",
       "      <td>0</td>\n",
       "      <td>0.50</td>\n",
       "    </tr>\n",
       "    <tr>\n",
       "      <th>1</th>\n",
       "      <td>ATL</td>\n",
       "      <td>NL</td>\n",
       "      <td>2012</td>\n",
       "      <td>700</td>\n",
       "      <td>600</td>\n",
       "      <td>94</td>\n",
       "      <td>162</td>\n",
       "      <td>1</td>\n",
       "      <td>0.58</td>\n",
       "    </tr>\n",
       "    <tr>\n",
       "      <th>2</th>\n",
       "      <td>BAL</td>\n",
       "      <td>AL</td>\n",
       "      <td>2012</td>\n",
       "      <td>712</td>\n",
       "      <td>705</td>\n",
       "      <td>93</td>\n",
       "      <td>162</td>\n",
       "      <td>1</td>\n",
       "      <td>0.57</td>\n",
       "    </tr>\n",
       "    <tr>\n",
       "      <th>3</th>\n",
       "      <td>BOS</td>\n",
       "      <td>AL</td>\n",
       "      <td>2012</td>\n",
       "      <td>734</td>\n",
       "      <td>806</td>\n",
       "      <td>69</td>\n",
       "      <td>162</td>\n",
       "      <td>0</td>\n",
       "      <td>0.43</td>\n",
       "    </tr>\n",
       "    <tr>\n",
       "      <th>4</th>\n",
       "      <td>CHC</td>\n",
       "      <td>NL</td>\n",
       "      <td>2012</td>\n",
       "      <td>613</td>\n",
       "      <td>759</td>\n",
       "      <td>61</td>\n",
       "      <td>162</td>\n",
       "      <td>0</td>\n",
       "      <td>0.38</td>\n",
       "    </tr>\n",
       "    <tr>\n",
       "      <th>5</th>\n",
       "      <td>IND</td>\n",
       "      <td>AL</td>\n",
       "      <td>2012</td>\n",
       "      <td>650</td>\n",
       "      <td>710</td>\n",
       "      <td>100</td>\n",
       "      <td>162</td>\n",
       "      <td>1</td>\n",
       "      <td>0.62</td>\n",
       "    </tr>\n",
       "    <tr>\n",
       "      <th>6</th>\n",
       "      <td>TEX</td>\n",
       "      <td>NL</td>\n",
       "      <td>2012</td>\n",
       "      <td>699</td>\n",
       "      <td>700</td>\n",
       "      <td>50</td>\n",
       "      <td>162</td>\n",
       "      <td>0</td>\n",
       "      <td>0.31</td>\n",
       "    </tr>\n",
       "    <tr>\n",
       "      <th>7</th>\n",
       "      <td>XYZ</td>\n",
       "      <td>AL</td>\n",
       "      <td>2012</td>\n",
       "      <td>611</td>\n",
       "      <td>699</td>\n",
       "      <td>79</td>\n",
       "      <td>162</td>\n",
       "      <td>1</td>\n",
       "      <td>0.49</td>\n",
       "    </tr>\n",
       "    <tr>\n",
       "      <th>8</th>\n",
       "      <td>ABC</td>\n",
       "      <td>NL</td>\n",
       "      <td>2012</td>\n",
       "      <td>655</td>\n",
       "      <td>799</td>\n",
       "      <td>59</td>\n",
       "      <td>162</td>\n",
       "      <td>0</td>\n",
       "      <td>0.36</td>\n",
       "    </tr>\n",
       "  </tbody>\n",
       "</table>\n",
       "</div>"
      ],
      "text/plain": [
       "  Team League  Year   RS   RA    W    G  Playoffs    WP\n",
       "0  ARI     NL  2012  734  688   81  162         0  0.50\n",
       "1  ATL     NL  2012  700  600   94  162         1  0.58\n",
       "2  BAL     AL  2012  712  705   93  162         1  0.57\n",
       "3  BOS     AL  2012  734  806   69  162         0  0.43\n",
       "4  CHC     NL  2012  613  759   61  162         0  0.38\n",
       "5  IND     AL  2012  650  710  100  162         1  0.62\n",
       "6  TEX     NL  2012  699  700   50  162         0  0.31\n",
       "7  XYZ     AL  2012  611  699   79  162         1  0.49\n",
       "8  ABC     NL  2012  655  799   59  162         0  0.36"
      ]
     },
     "execution_count": 54,
     "metadata": {},
     "output_type": "execute_result"
    }
   ],
   "source": [
    "df"
   ]
  },
  {
   "cell_type": "code",
   "execution_count": 55,
   "id": "magnetic-denver",
   "metadata": {},
   "outputs": [],
   "source": [
    "df.drop(columns=['WP'], inplace=True)"
   ]
  },
  {
   "cell_type": "markdown",
   "id": "manual-dating",
   "metadata": {},
   "source": [
    "#### Approach - 2"
   ]
  },
  {
   "cell_type": "code",
   "execution_count": 56,
   "id": "native-attribute",
   "metadata": {},
   "outputs": [
    {
     "name": "stdout",
     "output_type": "stream",
     "text": [
      "510 µs ± 995 ns per loop (mean ± std. dev. of 7 runs, 1000 loops each)\n"
     ]
    }
   ],
   "source": [
    "%%timeit\n",
    "win_percent_list = []\n",
    "# iterrows returns each dataframe row as a tuple of index and a series pairs\n",
    "for i, row in df.iterrows():\n",
    "    wins = row['W']\n",
    "    games_played = row['G']\n",
    "    win_perc = calc_win_per(wins, games_played)\n",
    "    win_percent_list.append(win_perc)\n",
    "\n",
    "df['WP'] = win_percent_list"
   ]
  },
  {
   "cell_type": "code",
   "execution_count": 57,
   "id": "planned-superintendent",
   "metadata": {},
   "outputs": [],
   "source": [
    "df.drop(columns=['WP'], inplace=True)"
   ]
  },
  {
   "cell_type": "markdown",
   "id": "monthly-statistics",
   "metadata": {},
   "source": [
    "### Iterating using .itertuples()"
   ]
  },
  {
   "cell_type": "markdown",
   "id": "patient-motivation",
   "metadata": {},
   "source": [
    "##### The dot-itertuples method returns each DataFrame row as a special data type called a namedtuple. A namedtuple is one of the specialized data types that exist within the collections module we've discussed previously. These data types behave just like a Python tuple but have fields accessible using attribute lookup. "
   ]
  },
  {
   "cell_type": "code",
   "execution_count": 58,
   "id": "visible-blackberry",
   "metadata": {},
   "outputs": [],
   "source": [
    "import random\n",
    "\n",
    "df_dict = {\n",
    "    'A': [random.random() for _ in range(1000)],\n",
    "    'B': [random.random() for _ in range(1000)]\n",
    "}\n",
    "\n",
    "df_r = pd.DataFrame(df_dict)"
   ]
  },
  {
   "cell_type": "code",
   "execution_count": 59,
   "id": "pleasant-reform",
   "metadata": {},
   "outputs": [
    {
     "name": "stdout",
     "output_type": "stream",
     "text": [
      "17.6 ms ± 64.6 µs per loop (mean ± std. dev. of 7 runs, 100 loops each)\n"
     ]
    }
   ],
   "source": [
    "%%timeit\n",
    "\n",
    "loop_count = 0\n",
    "for row_tuple in df_r.iterrows():\n",
    "    loop_count += 1"
   ]
  },
  {
   "cell_type": "code",
   "execution_count": 60,
   "id": "metropolitan-bahrain",
   "metadata": {},
   "outputs": [
    {
     "name": "stdout",
     "output_type": "stream",
     "text": [
      "562 µs ± 408 ns per loop (mean ± std. dev. of 7 runs, 1000 loops each)\n"
     ]
    }
   ],
   "source": [
    "%%timeit\n",
    "\n",
    "loop_count = 0\n",
    "for row_tuple in df_r.itertuples():\n",
    "    loop_count += 1"
   ]
  },
  {
   "cell_type": "markdown",
   "id": "fresh-productivity",
   "metadata": {},
   "source": [
    "##### The reason dot-itertuples is more efficient than dot-iterrows is due to the way each method stores its output. Since dot-iterrows returns each row's values as a pandas Series, there is a bit more overhead.\n",
    "\n",
    "##### Also, comparisons like these only work when we have a substantial amount of rows in the dataset. For smaller datasets with rows<100, the results may not be as expected."
   ]
  },
  {
   "cell_type": "markdown",
   "id": "loaded-dispatch",
   "metadata": {},
   "source": [
    "One more quick note about the differences between these methods. When using dot-iterrows, we can use square brackets to reference a column within our team_wins_df DataFrame. Here, we are printing the Team column for each row in our DataFrame. If we use the same syntax with dot-itertuples, we get a TypeError. This is due to the fact that namedtuples don't support square brackets like a pandas Series does. When looking up an attribute within a namedtuple, we must use a dot to reference the attribute. So anytime we use dot-itertuples we have to use a dot when referring to a column within our DataFrame."
   ]
  },
  {
   "cell_type": "markdown",
   "id": "illegal-broadway",
   "metadata": {},
   "source": [
    "### Pandas alternate to looping"
   ]
  },
  {
   "cell_type": "code",
   "execution_count": 61,
   "id": "mature-morgan",
   "metadata": {},
   "outputs": [
    {
     "data": {
      "text/html": [
       "<div>\n",
       "<style scoped>\n",
       "    .dataframe tbody tr th:only-of-type {\n",
       "        vertical-align: middle;\n",
       "    }\n",
       "\n",
       "    .dataframe tbody tr th {\n",
       "        vertical-align: top;\n",
       "    }\n",
       "\n",
       "    .dataframe thead th {\n",
       "        text-align: right;\n",
       "    }\n",
       "</style>\n",
       "<table border=\"1\" class=\"dataframe\">\n",
       "  <thead>\n",
       "    <tr style=\"text-align: right;\">\n",
       "      <th></th>\n",
       "      <th>Team</th>\n",
       "      <th>League</th>\n",
       "      <th>Year</th>\n",
       "      <th>RS</th>\n",
       "      <th>RA</th>\n",
       "      <th>W</th>\n",
       "      <th>G</th>\n",
       "      <th>Playoffs</th>\n",
       "    </tr>\n",
       "  </thead>\n",
       "  <tbody>\n",
       "    <tr>\n",
       "      <th>0</th>\n",
       "      <td>ARI</td>\n",
       "      <td>NL</td>\n",
       "      <td>2012</td>\n",
       "      <td>734</td>\n",
       "      <td>688</td>\n",
       "      <td>81</td>\n",
       "      <td>162</td>\n",
       "      <td>0</td>\n",
       "    </tr>\n",
       "    <tr>\n",
       "      <th>1</th>\n",
       "      <td>ATL</td>\n",
       "      <td>NL</td>\n",
       "      <td>2012</td>\n",
       "      <td>700</td>\n",
       "      <td>600</td>\n",
       "      <td>94</td>\n",
       "      <td>162</td>\n",
       "      <td>1</td>\n",
       "    </tr>\n",
       "    <tr>\n",
       "      <th>2</th>\n",
       "      <td>BAL</td>\n",
       "      <td>AL</td>\n",
       "      <td>2012</td>\n",
       "      <td>712</td>\n",
       "      <td>705</td>\n",
       "      <td>93</td>\n",
       "      <td>162</td>\n",
       "      <td>1</td>\n",
       "    </tr>\n",
       "    <tr>\n",
       "      <th>3</th>\n",
       "      <td>BOS</td>\n",
       "      <td>AL</td>\n",
       "      <td>2012</td>\n",
       "      <td>734</td>\n",
       "      <td>806</td>\n",
       "      <td>69</td>\n",
       "      <td>162</td>\n",
       "      <td>0</td>\n",
       "    </tr>\n",
       "    <tr>\n",
       "      <th>4</th>\n",
       "      <td>CHC</td>\n",
       "      <td>NL</td>\n",
       "      <td>2012</td>\n",
       "      <td>613</td>\n",
       "      <td>759</td>\n",
       "      <td>61</td>\n",
       "      <td>162</td>\n",
       "      <td>0</td>\n",
       "    </tr>\n",
       "    <tr>\n",
       "      <th>5</th>\n",
       "      <td>IND</td>\n",
       "      <td>AL</td>\n",
       "      <td>2012</td>\n",
       "      <td>650</td>\n",
       "      <td>710</td>\n",
       "      <td>100</td>\n",
       "      <td>162</td>\n",
       "      <td>1</td>\n",
       "    </tr>\n",
       "    <tr>\n",
       "      <th>6</th>\n",
       "      <td>TEX</td>\n",
       "      <td>NL</td>\n",
       "      <td>2012</td>\n",
       "      <td>699</td>\n",
       "      <td>700</td>\n",
       "      <td>50</td>\n",
       "      <td>162</td>\n",
       "      <td>0</td>\n",
       "    </tr>\n",
       "    <tr>\n",
       "      <th>7</th>\n",
       "      <td>XYZ</td>\n",
       "      <td>AL</td>\n",
       "      <td>2012</td>\n",
       "      <td>611</td>\n",
       "      <td>699</td>\n",
       "      <td>79</td>\n",
       "      <td>162</td>\n",
       "      <td>1</td>\n",
       "    </tr>\n",
       "    <tr>\n",
       "      <th>8</th>\n",
       "      <td>ABC</td>\n",
       "      <td>NL</td>\n",
       "      <td>2012</td>\n",
       "      <td>655</td>\n",
       "      <td>799</td>\n",
       "      <td>59</td>\n",
       "      <td>162</td>\n",
       "      <td>0</td>\n",
       "    </tr>\n",
       "  </tbody>\n",
       "</table>\n",
       "</div>"
      ],
      "text/plain": [
       "  Team League  Year   RS   RA    W    G  Playoffs\n",
       "0  ARI     NL  2012  734  688   81  162         0\n",
       "1  ATL     NL  2012  700  600   94  162         1\n",
       "2  BAL     AL  2012  712  705   93  162         1\n",
       "3  BOS     AL  2012  734  806   69  162         0\n",
       "4  CHC     NL  2012  613  759   61  162         0\n",
       "5  IND     AL  2012  650  710  100  162         1\n",
       "6  TEX     NL  2012  699  700   50  162         0\n",
       "7  XYZ     AL  2012  611  699   79  162         1\n",
       "8  ABC     NL  2012  655  799   59  162         0"
      ]
     },
     "execution_count": 61,
     "metadata": {},
     "output_type": "execute_result"
    }
   ],
   "source": [
    "df"
   ]
  },
  {
   "cell_type": "markdown",
   "id": "noted-watson",
   "metadata": {},
   "source": [
    "### Calculate run differentials (with loop)"
   ]
  },
  {
   "cell_type": "code",
   "execution_count": 62,
   "id": "suited-booking",
   "metadata": {},
   "outputs": [],
   "source": [
    "def calc_run_diff(runs_sc, runs_al):\n",
    "    return runs_sc - runs_al"
   ]
  },
  {
   "cell_type": "code",
   "execution_count": 63,
   "id": "worthy-enough",
   "metadata": {},
   "outputs": [
    {
     "name": "stdout",
     "output_type": "stream",
     "text": [
      "546 µs ± 4.37 µs per loop (mean ± std. dev. of 7 runs, 1000 loops each)\n"
     ]
    }
   ],
   "source": [
    "%%timeit\n",
    "run_diffs_iterrows = []\n",
    "\n",
    "for i, row in df.iterrows():\n",
    "    run_diff = calc_run_diff(row['RS'], row['RA'])\n",
    "    run_diffs_iterrows.append(run_diff)\n",
    "    \n",
    "df['RD'] = run_diffs_iterrows"
   ]
  },
  {
   "cell_type": "code",
   "execution_count": 64,
   "id": "brave-proposition",
   "metadata": {},
   "outputs": [],
   "source": [
    "df.drop(columns='RD', inplace=True)"
   ]
  },
  {
   "cell_type": "markdown",
   "id": "compact-order",
   "metadata": {},
   "source": [
    "#### using .apply()\n",
    "\n",
    "- Takes a function and applies it to a dataframe (like map)\n",
    "- Since we are working with tabular data, we must specify an axis (0 for cols and 1 for rows)\n",
    "- Can be used with anonymous functions."
   ]
  },
  {
   "cell_type": "code",
   "execution_count": 65,
   "id": "adult-wages",
   "metadata": {},
   "outputs": [
    {
     "name": "stdout",
     "output_type": "stream",
     "text": [
      "684 µs ± 11.8 µs per loop (mean ± std. dev. of 7 runs, 1000 loops each)\n"
     ]
    }
   ],
   "source": [
    "%%timeit\n",
    "\n",
    "run_diffs_apply = df.apply(\n",
    "    lambda row: calc_run_diff(row['RS'], row['RA']), axis=1\n",
    ")\n",
    "df['RD'] = run_diffs_apply"
   ]
  },
  {
   "cell_type": "markdown",
   "id": "solid-disposition",
   "metadata": {},
   "source": [
    "#### As mentioned above, if the number of rows are few, the efficiency comparisons do not work as expected. .apply() is much efficient than looping using either iterrows() or itertuples()"
   ]
  },
  {
   "cell_type": "markdown",
   "id": "compound-rendering",
   "metadata": {},
   "source": [
    "### Optimal pandas iterating\n",
    "- Eliminating loops applies to using pandas as well because pandas is a library built on NumPy.\n",
    "- Numpy arrays have broadcasting abilities which allows NumPy arrays to vectorize operations, so they are performed on all elements of an object at once. This allows us to efficiently perform calculations over entire arrays. Just like NumPy, pandas is designed to vectorize calculations so that they operate on entire datasets at once (not just on a row by row basis)."
   ]
  },
  {
   "cell_type": "code",
   "execution_count": 67,
   "id": "prescription-witch",
   "metadata": {},
   "outputs": [
    {
     "data": {
      "text/plain": [
       "array([['ARI', 'NL', 2012, 734, 688, 81, 162, 0, 46],\n",
       "       ['ATL', 'NL', 2012, 700, 600, 94, 162, 1, 100],\n",
       "       ['BAL', 'AL', 2012, 712, 705, 93, 162, 1, 7],\n",
       "       ['BOS', 'AL', 2012, 734, 806, 69, 162, 0, -72],\n",
       "       ['CHC', 'NL', 2012, 613, 759, 61, 162, 0, -146],\n",
       "       ['IND', 'AL', 2012, 650, 710, 100, 162, 1, -60],\n",
       "       ['TEX', 'NL', 2012, 699, 700, 50, 162, 0, -1],\n",
       "       ['XYZ', 'AL', 2012, 611, 699, 79, 162, 1, -88],\n",
       "       ['ABC', 'NL', 2012, 655, 799, 59, 162, 0, -144]], dtype=object)"
      ]
     },
     "execution_count": 67,
     "metadata": {},
     "output_type": "execute_result"
    }
   ],
   "source": [
    "df.values"
   ]
  },
  {
   "cell_type": "markdown",
   "id": "indian-sleeve",
   "metadata": {},
   "source": [
    "#### Power of vectorization"
   ]
  },
  {
   "cell_type": "code",
   "execution_count": 70,
   "id": "external-basis",
   "metadata": {},
   "outputs": [],
   "source": [
    "df.drop(columns='RD', inplace=True)"
   ]
  },
  {
   "cell_type": "code",
   "execution_count": 71,
   "id": "historic-trainer",
   "metadata": {},
   "outputs": [
    {
     "name": "stdout",
     "output_type": "stream",
     "text": [
      "118 µs ± 2.94 µs per loop (mean ± std. dev. of 7 runs, 10000 loops each)\n"
     ]
    }
   ],
   "source": [
    "%%timeit\n",
    "run_diffs_np = df['RS'] - df['RA']\n",
    "df['RD'] = run_diffs_np"
   ]
  },
  {
   "cell_type": "markdown",
   "id": "obvious-madagascar",
   "metadata": {},
   "source": [
    "---"
   ]
  }
 ],
 "metadata": {
  "kernelspec": {
   "display_name": "Python 3",
   "language": "python",
   "name": "python3"
  },
  "language_info": {
   "codemirror_mode": {
    "name": "ipython",
    "version": 3
   },
   "file_extension": ".py",
   "mimetype": "text/x-python",
   "name": "python",
   "nbconvert_exporter": "python",
   "pygments_lexer": "ipython3",
   "version": "3.8.10"
  }
 },
 "nbformat": 4,
 "nbformat_minor": 5
}
