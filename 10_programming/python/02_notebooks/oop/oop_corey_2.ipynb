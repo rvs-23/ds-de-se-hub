{
 "cells": [
  {
   "cell_type": "markdown",
   "metadata": {},
   "source": [
    "<a href = \"https://stackoverflow.com/questions/33072570/when-should-i-be-using-classes-in-python\"> Why use Classes in Python</a>"
   ]
  },
  {
   "cell_type": "markdown",
   "metadata": {},
   "source": [
    "<a href = \"https://stackoverflow.com/questions/136097/difference-between-staticmethod-and-classmethod\"> Class mthods vs Static methods</a>"
   ]
  },
  {
   "cell_type": "markdown",
   "metadata": {},
   "source": [
    "<a href = \"https://realpython.com/python3-object-oriented-programming/\"> OOP Real Python </a>"
   ]
  },
  {
   "cell_type": "markdown",
   "metadata": {},
   "source": [
    "## Class methods v/s Static methods"
   ]
  },
  {
   "cell_type": "markdown",
   "metadata": {},
   "source": [
    "##### Let's consider a simple example first."
   ]
  },
  {
   "cell_type": "code",
   "execution_count": 1,
   "metadata": {},
   "outputs": [],
   "source": [
    "class A:\n",
    "    def foo(self, x):\n",
    "        print(\"executing foo({} {})\".format(self, x))\n",
    "\n",
    "    @classmethod\n",
    "    def class_foo(cls, x):\n",
    "        print(\"executing class_foo({} {})\".format(cls, x))\n",
    "\n",
    "    @staticmethod\n",
    "    def static_foo(x):\n",
    "        print(\"executing foo({})\".format(x))    \n",
    "\n",
    "# Creating an instance of the class A\n",
    "a = A()"
   ]
  },
  {
   "cell_type": "markdown",
   "metadata": {},
   "source": [
    "Let's try to call all the three methods one by one."
   ]
  },
  {
   "cell_type": "code",
   "execution_count": 2,
   "metadata": {},
   "outputs": [
    {
     "name": "stdout",
     "output_type": "stream",
     "text": [
      "executing foo(<__main__.A object at 0x000001DF67524400> 1)\n"
     ]
    }
   ],
   "source": [
    "a.foo(1)                             # usual way an object instance calls a method"
   ]
  },
  {
   "cell_type": "code",
   "execution_count": 3,
   "metadata": {},
   "outputs": [
    {
     "name": "stdout",
     "output_type": "stream",
     "text": [
      "executing class_foo(<class '__main__.A'> 1)\n"
     ]
    }
   ],
   "source": [
    "a.class_foo(1)  # With classmethods, the class of the object instance is implicitly passed as the first argument"
   ]
  },
  {
   "cell_type": "markdown",
   "metadata": {},
   "source": [
    "#### You can also call class_foo using the class. In fact, if you define something to be a classmethod, it is probably because you intend to call it from the class rather than from a class instance."
   ]
  },
  {
   "cell_type": "code",
   "execution_count": 4,
   "metadata": {},
   "outputs": [
    {
     "name": "stdout",
     "output_type": "stream",
     "text": [
      "executing class_foo(<class '__main__.A'> 1)\n"
     ]
    }
   ],
   "source": [
    "A.class_foo(1)"
   ]
  },
  {
   "cell_type": "markdown",
   "metadata": {},
   "source": [
    "If you try to call the method foo using the class, it will throw an error."
   ]
  },
  {
   "cell_type": "code",
   "execution_count": 5,
   "metadata": {},
   "outputs": [],
   "source": [
    "# A.foo(1)"
   ]
  },
  {
   "cell_type": "markdown",
   "metadata": {},
   "source": [
    "As we can see A.class_foo(1) works just fine whereas A.foo(1) doesn't."
   ]
  },
  {
   "cell_type": "markdown",
   "metadata": {},
   "source": [
    "#### With staticmethods, neither self (the object instance) nor cls (the class) is implicitly passed as the first argument. They behave like plain functions except that <u>you can call them from an instance or the class.</u>"
   ]
  },
  {
   "cell_type": "code",
   "execution_count": 6,
   "metadata": {},
   "outputs": [
    {
     "name": "stdout",
     "output_type": "stream",
     "text": [
      "executing foo(1)\n"
     ]
    }
   ],
   "source": [
    "a.static_foo(1)"
   ]
  },
  {
   "cell_type": "code",
   "execution_count": 7,
   "metadata": {},
   "outputs": [
    {
     "name": "stdout",
     "output_type": "stream",
     "text": [
      "executing foo(hello)\n"
     ]
    }
   ],
   "source": [
    "A.static_foo('hello')"
   ]
  },
  {
   "cell_type": "markdown",
   "metadata": {},
   "source": [
    "#### Staticmethods are used to group functions which have some logical connection with a class to the class."
   ]
  },
  {
   "cell_type": "markdown",
   "metadata": {},
   "source": [
    "### Consider the example from the empoyee class"
   ]
  },
  {
   "cell_type": "code",
   "execution_count": 8,
   "metadata": {},
   "outputs": [],
   "source": [
    "class Employee:\n",
    "    \n",
    "    raise_amount = 1.04                    # 4% raise amount\n",
    "    \n",
    "    def __init__(self, first_name, last_name, pay):\n",
    "        self.first = first_name\n",
    "        self.last = last_name\n",
    "        self.pay = pay\n",
    "        self.email = first_name + '.' + last_name + '@company.com'\n",
    "    \n",
    "    @classmethod\n",
    "    def set_raise_amount(cls, amount):            # A classmethod takes class as the first argument\n",
    "        cls.raise_amount = amount"
   ]
  },
  {
   "cell_type": "code",
   "execution_count": 9,
   "metadata": {},
   "outputs": [
    {
     "name": "stdout",
     "output_type": "stream",
     "text": [
      "1.04\n",
      "1.04\n"
     ]
    }
   ],
   "source": [
    "emp1 = Employee('rishav', 'sharma', 15000)\n",
    "print(Employee.raise_amount)\n",
    "print(emp1.raise_amount)"
   ]
  },
  {
   "cell_type": "markdown",
   "metadata": {},
   "source": [
    "Let's say that we want to change the raise amount to 5%"
   ]
  },
  {
   "cell_type": "markdown",
   "metadata": {},
   "source": [
    "Now, here we can just change the raise amount using the set_raise_amount method that we created."
   ]
  },
  {
   "cell_type": "code",
   "execution_count": 10,
   "metadata": {},
   "outputs": [],
   "source": [
    "Employee.set_raise_amount(1.5)                  # Automatically accepts the class as the first argument"
   ]
  },
  {
   "cell_type": "markdown",
   "metadata": {},
   "source": [
    "Now, if we try to find the raise amounts again:"
   ]
  },
  {
   "cell_type": "code",
   "execution_count": 11,
   "metadata": {},
   "outputs": [
    {
     "name": "stdout",
     "output_type": "stream",
     "text": [
      "1.5\n",
      "1.5\n"
     ]
    }
   ],
   "source": [
    "print(Employee.raise_amount)\n",
    "print(emp1.raise_amount)"
   ]
  },
  {
   "cell_type": "markdown",
   "metadata": {},
   "source": [
    "#### The reason why both values above have changed to 5% is because we have set the raise amount using set_raise_amount method which is a <u>class method</u>. This means that now we are directly working with the class instead of working with the instance."
   ]
  },
  {
   "cell_type": "markdown",
   "metadata": {},
   "source": [
    "The above is the same as doing Employee.raise_amount = 1.05 but now we are using a class method instead."
   ]
  },
  {
   "cell_type": "markdown",
   "metadata": {},
   "source": [
    "#### Class methods can be used as an alternative constuctor."
   ]
  },
  {
   "cell_type": "markdown",
   "metadata": {},
   "source": [
    "."
   ]
  },
  {
   "cell_type": "markdown",
   "metadata": {},
   "source": [
    "#### Static methods work just like regular functions except that we include them in our classes because they have some logical connection with the class."
   ]
  },
  {
   "cell_type": "markdown",
   "metadata": {},
   "source": [
    "##### Sometimes people write regular methods or class methods that actually should be static methods and usually a giveaway that a method should be a static method is if you don't access the instance or the class anywhere within the function."
   ]
  },
  {
   "cell_type": "markdown",
   "metadata": {},
   "source": [
    "."
   ]
  },
  {
   "cell_type": "markdown",
   "metadata": {},
   "source": [
    "## Inheritance"
   ]
  },
  {
   "cell_type": "markdown",
   "metadata": {},
   "source": [
    "****Inheritance allows us to inherit attributes and methods from a parent class. this is useful because we can create subclasses and get all the functionality of our parent class and then we can overwrite or add completely new functionality without affecting the\n",
    "parent class in any way****"
   ]
  },
  {
   "cell_type": "markdown",
   "metadata": {},
   "source": [
    "Let's consider the same employee class from above"
   ]
  },
  {
   "cell_type": "code",
   "execution_count": 12,
   "metadata": {},
   "outputs": [],
   "source": [
    "class Employee:\n",
    "    \n",
    "    raise_amount = 1.04\n",
    "    \n",
    "    def __init__(self, first_name, last_name, pay):\n",
    "        self.first = first_name\n",
    "        self.last = last_name\n",
    "        self.pay = pay\n",
    "        self.email = first_name + '.' + last_name + '@company.com'\n",
    "        \n",
    "    def fullname(self):\n",
    "        return self.first + \" \" + self.last\n",
    "    \n",
    "    def raise_apply(self):\n",
    "        self.pay = int(self.pay * self.raise_amount)"
   ]
  },
  {
   "cell_type": "code",
   "execution_count": 13,
   "metadata": {},
   "outputs": [],
   "source": [
    "emp1 = Employee('rishav', 'sharma', 15000)"
   ]
  },
  {
   "cell_type": "code",
   "execution_count": 14,
   "metadata": {},
   "outputs": [
    {
     "data": {
      "text/plain": [
       "'rishav sharma'"
      ]
     },
     "execution_count": 14,
     "metadata": {},
     "output_type": "execute_result"
    }
   ],
   "source": [
    "emp1.fullname()"
   ]
  },
  {
   "cell_type": "code",
   "execution_count": 15,
   "metadata": {},
   "outputs": [
    {
     "data": {
      "text/plain": [
       "15000"
      ]
     },
     "execution_count": 15,
     "metadata": {},
     "output_type": "execute_result"
    }
   ],
   "source": [
    "emp1.pay"
   ]
  },
  {
   "cell_type": "code",
   "execution_count": 16,
   "metadata": {},
   "outputs": [
    {
     "data": {
      "text/plain": [
       "15900"
      ]
     },
     "execution_count": 16,
     "metadata": {},
     "output_type": "execute_result"
    }
   ],
   "source": [
    "emp1.raise_amount = 1.06\n",
    "emp1.raise_apply()\n",
    "emp1.pay"
   ]
  },
  {
   "cell_type": "markdown",
   "metadata": {},
   "source": [
    "Let's say now that we want to create two types of employees: developers and managers. They are good candidates for our subclass."
   ]
  },
  {
   "cell_type": "markdown",
   "metadata": {},
   "source": [
    "#### Developer"
   ]
  },
  {
   "cell_type": "code",
   "execution_count": 17,
   "metadata": {},
   "outputs": [],
   "source": [
    "class Developer(Employee):\n",
    "    pass"
   ]
  },
  {
   "cell_type": "code",
   "execution_count": 18,
   "metadata": {},
   "outputs": [
    {
     "name": "stdout",
     "output_type": "stream",
     "text": [
      "Help on class Developer in module __main__:\n",
      "\n",
      "class Developer(Employee)\n",
      " |  Developer(first_name, last_name, pay)\n",
      " |  \n",
      " |  Method resolution order:\n",
      " |      Developer\n",
      " |      Employee\n",
      " |      builtins.object\n",
      " |  \n",
      " |  Methods inherited from Employee:\n",
      " |  \n",
      " |  __init__(self, first_name, last_name, pay)\n",
      " |      Initialize self.  See help(type(self)) for accurate signature.\n",
      " |  \n",
      " |  fullname(self)\n",
      " |  \n",
      " |  raise_apply(self)\n",
      " |  \n",
      " |  ----------------------------------------------------------------------\n",
      " |  Data descriptors inherited from Employee:\n",
      " |  \n",
      " |  __dict__\n",
      " |      dictionary for instance variables (if defined)\n",
      " |  \n",
      " |  __weakref__\n",
      " |      list of weak references to the object (if defined)\n",
      " |  \n",
      " |  ----------------------------------------------------------------------\n",
      " |  Data and other attributes inherited from Employee:\n",
      " |  \n",
      " |  raise_amount = 1.04\n",
      "\n"
     ]
    }
   ],
   "source": [
    "help(Developer)"
   ]
  },
  {
   "cell_type": "markdown",
   "metadata": {},
   "source": [
    "When we try to access a method which is not present in the child class, because we have inherited all the properties of the parent class, python finds the function in the parent class by following the method resolution order. help(Class) can show us the order as above."
   ]
  },
  {
   "cell_type": "code",
   "execution_count": 19,
   "metadata": {},
   "outputs": [],
   "source": [
    "dev1 = Developer('corey', 'schafer', 50000)\n",
    "\n",
    "dev1.pay\n",
    "dev1.raise_apply()"
   ]
  },
  {
   "cell_type": "code",
   "execution_count": 20,
   "metadata": {},
   "outputs": [
    {
     "data": {
      "text/plain": [
       "52000"
      ]
     },
     "execution_count": 20,
     "metadata": {},
     "output_type": "execute_result"
    }
   ],
   "source": [
    "dev1.pay"
   ]
  },
  {
   "cell_type": "markdown",
   "metadata": {},
   "source": [
    "This has retained the final pay after applying the original raise amount of 4% but let's say we want our developers to have a raise amount of 10%. We can make the change by simply doing the following. "
   ]
  },
  {
   "cell_type": "code",
   "execution_count": 21,
   "metadata": {},
   "outputs": [],
   "source": [
    "class Developer(Employee):\n",
    "    raise_amount = 1.10"
   ]
  },
  {
   "cell_type": "code",
   "execution_count": 22,
   "metadata": {},
   "outputs": [],
   "source": [
    "dev2 = Developer('random', 'person', 20000)\n",
    "dev2.pay\n",
    "dev2.raise_apply()"
   ]
  },
  {
   "cell_type": "code",
   "execution_count": 23,
   "metadata": {},
   "outputs": [
    {
     "data": {
      "text/plain": [
       "22000"
      ]
     },
     "execution_count": 23,
     "metadata": {},
     "output_type": "execute_result"
    }
   ],
   "source": [
    "dev2.pay"
   ]
  },
  {
   "cell_type": "markdown",
   "metadata": {},
   "source": [
    "The choice of which raise_amount will be used depends on which class's instance was created."
   ]
  },
  {
   "cell_type": "markdown",
   "metadata": {},
   "source": [
    "Now, let's say we want our Developer's class to also have the programming language used by each developer. How do we do that?"
   ]
  },
  {
   "cell_type": "code",
   "execution_count": 24,
   "metadata": {},
   "outputs": [],
   "source": [
    "class Developer(Employee):\n",
    "    \n",
    "    raise_amount = 1.10\n",
    "    \n",
    "    def __init__(self, first_name, last_name, pay, plang):\n",
    "        super().__init__(first_name, last_name, pay)\n",
    "        self.programming_language = plang"
   ]
  },
  {
   "cell_type": "code",
   "execution_count": 25,
   "metadata": {},
   "outputs": [
    {
     "data": {
      "text/plain": [
       "'Python'"
      ]
     },
     "execution_count": 25,
     "metadata": {},
     "output_type": "execute_result"
    }
   ],
   "source": [
    "dev1 = Developer('corey', 'schafer', 50000, 'Python')\n",
    "dev1.programming_language"
   ]
  },
  {
   "cell_type": "code",
   "execution_count": 26,
   "metadata": {},
   "outputs": [
    {
     "name": "stdout",
     "output_type": "stream",
     "text": [
      "corey\n"
     ]
    },
    {
     "data": {
      "text/plain": [
       "'corey.schafer@company.com'"
      ]
     },
     "execution_count": 26,
     "metadata": {},
     "output_type": "execute_result"
    }
   ],
   "source": [
    "print(dev1.first)\n",
    "dev1.email"
   ]
  },
  {
   "cell_type": "markdown",
   "metadata": {},
   "source": [
    "We can see why this sub classing is useful because we were able to customize just a\n",
    "little bit of code and we got all of\n",
    "this code from our employee class for\n",
    "free just by adding in that one little line."
   ]
  },
  {
   "cell_type": "markdown",
   "metadata": {},
   "source": [
    "#### Now let's create a subclass Manager which once again inherits from the super class Employee"
   ]
  },
  {
   "cell_type": "code",
   "execution_count": 27,
   "metadata": {},
   "outputs": [],
   "source": [
    "class Manager(Employee):\n",
    "    \n",
    "    \"\"\"Let's say this manager class needs to have an option of having \n",
    "       a list of employees that he/she supervises.\"\"\"\n",
    "    \n",
    "    def __init__(self, first_name, last_name, pay, employee_list=None):    # You never want to pass mutable datatype like lists/dict as default arguments.\n",
    "        super().__init__(first_name, last_name, pay)\n",
    "        \n",
    "        if employee_list is None:\n",
    "            self.employees = []\n",
    "        else:\n",
    "            self.employees = employee_list\n",
    "            \n",
    "    \"\"\"Lets add the feature to add/remove employees from our employees list\"\"\"\n",
    "    \n",
    "    def add_employee(self, employee):\n",
    "        if employee not in self.employees:\n",
    "            self.employees.append(employee)\n",
    "            \n",
    "    def remove_employee(self, employee):\n",
    "        if employee in self.employees:\n",
    "            self.employees.remove(employee)\n",
    "            \n",
    "    \"\"\"Let's print all the employees supervised by a manager.\"\"\"\n",
    "    \n",
    "    def get_employees(self):\n",
    "        for emp in self.employees:\n",
    "            print(\"-->\", emp.fullname())"
   ]
  },
  {
   "cell_type": "code",
   "execution_count": 28,
   "metadata": {},
   "outputs": [],
   "source": [
    "mng1 = Manager('test', 'person', 75000, [dev1])                  # the manager supervises first developer"
   ]
  },
  {
   "cell_type": "code",
   "execution_count": 29,
   "metadata": {},
   "outputs": [
    {
     "data": {
      "text/plain": [
       "'test.person@company.com'"
      ]
     },
     "execution_count": 29,
     "metadata": {},
     "output_type": "execute_result"
    }
   ],
   "source": [
    "mng1.email"
   ]
  },
  {
   "cell_type": "code",
   "execution_count": 30,
   "metadata": {},
   "outputs": [
    {
     "data": {
      "text/plain": [
       "'test person'"
      ]
     },
     "execution_count": 30,
     "metadata": {},
     "output_type": "execute_result"
    }
   ],
   "source": [
    "mng1.fullname()"
   ]
  },
  {
   "cell_type": "code",
   "execution_count": 31,
   "metadata": {},
   "outputs": [
    {
     "name": "stdout",
     "output_type": "stream",
     "text": [
      "--> corey schafer\n"
     ]
    }
   ],
   "source": [
    "mng1.get_employees()"
   ]
  },
  {
   "cell_type": "markdown",
   "metadata": {},
   "source": [
    "Thus, everything is working fine."
   ]
  },
  {
   "cell_type": "code",
   "execution_count": 32,
   "metadata": {},
   "outputs": [
    {
     "name": "stdout",
     "output_type": "stream",
     "text": [
      "--> corey schafer\n",
      "--> random person\n"
     ]
    }
   ],
   "source": [
    "mng1.add_employee(dev2)\n",
    "mng1.get_employees()"
   ]
  },
  {
   "cell_type": "markdown",
   "metadata": {},
   "source": [
    "#### The function <u>isinstance()</u> checks if a particular object is an instance of a class or not."
   ]
  },
  {
   "cell_type": "code",
   "execution_count": 33,
   "metadata": {},
   "outputs": [
    {
     "data": {
      "text/plain": [
       "True"
      ]
     },
     "execution_count": 33,
     "metadata": {},
     "output_type": "execute_result"
    }
   ],
   "source": [
    "isinstance(mng1, Manager)"
   ]
  },
  {
   "cell_type": "code",
   "execution_count": 34,
   "metadata": {},
   "outputs": [
    {
     "data": {
      "text/plain": [
       "True"
      ]
     },
     "execution_count": 34,
     "metadata": {},
     "output_type": "execute_result"
    }
   ],
   "source": [
    "isinstance(dev2, Employee)"
   ]
  },
  {
   "cell_type": "code",
   "execution_count": 35,
   "metadata": {},
   "outputs": [
    {
     "data": {
      "text/plain": [
       "False"
      ]
     },
     "execution_count": 35,
     "metadata": {},
     "output_type": "execute_result"
    }
   ],
   "source": [
    "isinstance(dev1, Manager)"
   ]
  },
  {
   "cell_type": "code",
   "execution_count": 36,
   "metadata": {},
   "outputs": [
    {
     "data": {
      "text/plain": [
       "False"
      ]
     },
     "execution_count": 36,
     "metadata": {},
     "output_type": "execute_result"
    }
   ],
   "source": [
    "isinstance(emp1, Manager)"
   ]
  },
  {
   "cell_type": "markdown",
   "metadata": {},
   "source": [
    "Similarly, issubclass() can be used to check if a class is a subclass of other."
   ]
  },
  {
   "cell_type": "code",
   "execution_count": 37,
   "metadata": {},
   "outputs": [
    {
     "data": {
      "text/plain": [
       "True"
      ]
     },
     "execution_count": 37,
     "metadata": {},
     "output_type": "execute_result"
    }
   ],
   "source": [
    "issubclass(Manager, Employee)"
   ]
  },
  {
   "cell_type": "code",
   "execution_count": 38,
   "metadata": {},
   "outputs": [
    {
     "data": {
      "text/plain": [
       "False"
      ]
     },
     "execution_count": 38,
     "metadata": {},
     "output_type": "execute_result"
    }
   ],
   "source": [
    "issubclass(Employee, Developer)"
   ]
  },
  {
   "cell_type": "code",
   "execution_count": 40,
   "metadata": {},
   "outputs": [
    {
     "data": {
      "text/plain": [
       "False"
      ]
     },
     "execution_count": 40,
     "metadata": {},
     "output_type": "execute_result"
    }
   ],
   "source": [
    "issubclass(Developer, Manager)"
   ]
  },
  {
   "cell_type": "code",
   "execution_count": null,
   "metadata": {},
   "outputs": [],
   "source": []
  }
 ],
 "metadata": {
  "kernelspec": {
   "display_name": "Python 3 (ipykernel)",
   "language": "python",
   "name": "python3"
  },
  "language_info": {
   "codemirror_mode": {
    "name": "ipython",
    "version": 3
   },
   "file_extension": ".py",
   "mimetype": "text/x-python",
   "name": "python",
   "nbconvert_exporter": "python",
   "pygments_lexer": "ipython3",
   "version": "3.8.8"
  }
 },
 "nbformat": 4,
 "nbformat_minor": 4
}
