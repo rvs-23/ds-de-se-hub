{
 "cells": [
  {
   "cell_type": "markdown",
   "metadata": {},
   "source": [
    "### Objected Oriented Programming - Object-oriented programming (OOP) is a programming paradigm based on the concept of \"objects\", which can contain data and code: data in the form of fields (often known as attributes or properties), and code, in the form of procedures (often known as methods)."
   ]
  },
  {
   "cell_type": "markdown",
   "metadata": {
    "tags": []
   },
   "source": [
    "## Classes and Instances"
   ]
  },
  {
   "cell_type": "markdown",
   "metadata": {},
   "source": [
    "### 1. Why create classes?\n",
    "\n",
    "<p> They allow us to Logically group our data and functions in a way that's easy to reuse and also easy to build upon if need be.</p>\n",
    "<p>A class is like a blueprint or in other words like a code template which we can use over and over.</p>\n",
    "\n",
    "<p>Let's say we are creating an application for our company that contains all the employee information like name, email, pay, actions they can perform. This is a great use case for classes because each individual employee is going to have specific attributes and methods. </p>"
   ]
  },
  {
   "cell_type": "code",
   "execution_count": 1,
   "metadata": {},
   "outputs": [],
   "source": [
    "class Employee:\n",
    "    pass"
   ]
  },
  {
   "cell_type": "markdown",
   "metadata": {},
   "source": [
    "#### Class vs Instance of a class\n",
    "\n",
    "<p> A class is simply a blueprint for creating instances and each unique employee that we create for that class is an instance of that class.</p>"
   ]
  },
  {
   "cell_type": "code",
   "execution_count": 2,
   "metadata": {},
   "outputs": [
    {
     "name": "stdout",
     "output_type": "stream",
     "text": [
      "10000 rishav.sharma@company.com\n"
     ]
    }
   ],
   "source": [
    "emp1 = Employee()                  # An instance of a class\n",
    "emp2 = Employee()\n",
    "\n",
    "emp1.first_name = 'rishav'\n",
    "emp1.last_name = 'sharma'\n",
    "emp1.email = 'rishav.sharma@company.com'\n",
    "emp1.pay = 15000\n",
    "\n",
    "emp2.first_name = 'Test'\n",
    "emp2.email = 'testemail@company.com'\n",
    "emp2.pay = 10000\n",
    "\n",
    "print(emp2.pay, emp1.email)"
   ]
  },
  {
   "cell_type": "markdown",
   "metadata": {},
   "source": [
    "We don't want to manually set all these attributes for each employee for the simple reason that it's incovinent, prone to mistakes and we can come up with a much better approach using the class itself. We aren't utilising the capabilities of a class now, are we?"
   ]
  },
  {
   "cell_type": "markdown",
   "metadata": {},
   "source": [
    "<pre>\n",
    "We are going to create a special <b>__init__</b> method (initialize) which can be thought of as a constructor.</pre>"
   ]
  },
  {
   "cell_type": "code",
   "execution_count": 3,
   "metadata": {},
   "outputs": [],
   "source": [
    "class Employee:\n",
    "    \n",
    "    def __init__(self, first_name, last_name, pay):\n",
    "        self.first_name = first_name\n",
    "        self.last_name = last_name\n",
    "        self.pay = pay\n",
    "        self.email = first_name + '.' + last_name + '@company.com' # Creating email using the first and last names"
   ]
  },
  {
   "cell_type": "markdown",
   "metadata": {},
   "source": [
    "#### When we create methods within a class they receive the instance (emp1()) as the first argument automatically and by convention we should call the instance self now. You can call it whatever you want but it's a good idea to stick to convention here and just use self. After self we can specify what other arguments we want to accept."
   ]
  },
  {
   "cell_type": "markdown",
   "metadata": {},
   "source": [
    "<p>Now, we can create an instance of the class Employee and pass the necessry arguments. We don't have to pass anything for self because that happens automatically the moment we create a class object. </p> "
   ]
  },
  {
   "cell_type": "code",
   "execution_count": 4,
   "metadata": {},
   "outputs": [
    {
     "name": "stdout",
     "output_type": "stream",
     "text": [
      "Rishav.Sharma@company.com\n"
     ]
    }
   ],
   "source": [
    "emp1 = Employee('Rishav', 'Sharma', 15000)\n",
    "print(emp1.email)"
   ]
  },
  {
   "cell_type": "markdown",
   "metadata": {},
   "source": [
    "#### Name, email, pay are all attributes of the class. Now, let's say we want to perform some kind of action. To do that we can add some kind of method."
   ]
  },
  {
   "cell_type": "markdown",
   "metadata": {},
   "source": [
    "##### Display the full name of an employee"
   ]
  },
  {
   "cell_type": "code",
   "execution_count": 5,
   "metadata": {},
   "outputs": [
    {
     "name": "stdout",
     "output_type": "stream",
     "text": [
      "Rishav Sharma\n"
     ]
    }
   ],
   "source": [
    "print(f\"{emp1.first_name} {emp1.last_name}\")                  # method-1"
   ]
  },
  {
   "cell_type": "code",
   "execution_count": 6,
   "metadata": {},
   "outputs": [],
   "source": [
    "# Using a class method\n",
    "\n",
    "class Employee:\n",
    "    \n",
    "    def __init__(self, first_name, last_name, pay):\n",
    "        self.first_name = first_name\n",
    "        self.last_name = last_name\n",
    "        self.pay = pay\n",
    "        self.email = first_name + '.' + last_name + '@company.com'   # Creating email using the first and last names\n",
    "     \n",
    "    def full_name(self):            # each method within a class automatically takes the instance as the first argument.\n",
    "        return (f\"{self.first_name} {self.last_name}\")\n"
   ]
  },
  {
   "cell_type": "code",
   "execution_count": 7,
   "metadata": {},
   "outputs": [
    {
     "name": "stdout",
     "output_type": "stream",
     "text": [
      "rishav sharma\n"
     ]
    }
   ],
   "source": [
    "emp1 = Employee('rishav', 'sharma', 15020)\n",
    "print(emp1.full_name())\n",
    "\n",
    "# can also use Employee.full_name(emp1)"
   ]
  },
  {
   "cell_type": "markdown",
   "metadata": {},
   "source": [
    "## Instance variables vs Class variables"
   ]
  },
  {
   "cell_type": "markdown",
   "metadata": {},
   "source": [
    "#### Instace variables are unique to each instance of a class (name, email, pay). Class variables on the other hand are shared among all instances of a class."
   ]
  },
  {
   "cell_type": "markdown",
   "metadata": {},
   "source": [
    "Let's say all the employees get a constant raise of 4% every year and create a method within our class to find the pay."
   ]
  },
  {
   "cell_type": "code",
   "execution_count": 8,
   "metadata": {},
   "outputs": [],
   "source": [
    "class Employee:\n",
    "    \n",
    "    def __init__(self, first_name, last_name, pay):\n",
    "        self.first_name = first_name\n",
    "        self.last_name = last_name\n",
    "        self.pay = pay\n",
    "        self.email = first_name + '.' + last_name + '@company.com'  \n",
    "        \n",
    "    def full_name(self):\n",
    "        return (f\"{self.first_name} {self.last_name}\")\n",
    "    \n",
    "    def raise_pay(self):\n",
    "        self.pay = int(self.pay * 1.04)"
   ]
  },
  {
   "cell_type": "code",
   "execution_count": 9,
   "metadata": {},
   "outputs": [],
   "source": [
    "emp1 = Employee('rishav', 'sharma', 15000)\n",
    "emp1.raise_pay()"
   ]
  },
  {
   "cell_type": "code",
   "execution_count": 10,
   "metadata": {},
   "outputs": [
    {
     "data": {
      "text/plain": [
       "15600"
      ]
     },
     "execution_count": 10,
     "metadata": {},
     "output_type": "execute_result"
    }
   ],
   "source": [
    "emp1.pay"
   ]
  },
  {
   "cell_type": "markdown",
   "metadata": {},
   "source": [
    "Now the problem here is we cannot see the raise amount. It is hidden within the methods. For more tranparency and to actually see the raise amount, we do the following:"
   ]
  },
  {
   "cell_type": "code",
   "execution_count": 11,
   "metadata": {},
   "outputs": [],
   "source": [
    "class Employee:\n",
    "    \n",
    "    raise_amount = 1.04                            # class variable\n",
    "    \n",
    "    def __init__(self, first_name, last_name, pay):\n",
    "        self.first_name = first_name\n",
    "        self.last_name = last_name\n",
    "        self.pay = pay\n",
    "        self.email = first_name + '.' + last_name + '@company.com'  \n",
    "        \n",
    "    def full_name(self):\n",
    "        return (f\"{self.first_name} {self.last_name}\")\n",
    "    \n",
    "    def raise_pay(self):\n",
    "        self.pay = int(self.pay * self.raise_amount)                         # can also use Employee.raise_amount\n",
    "\n",
    "emp1 = Employee('rishav', 'sharma', 15000)"
   ]
  },
  {
   "cell_type": "markdown",
   "metadata": {},
   "source": [
    "Now, you can change the raise_amount by doing the following:"
   ]
  },
  {
   "cell_type": "code",
   "execution_count": 12,
   "metadata": {},
   "outputs": [
    {
     "name": "stdout",
     "output_type": "stream",
     "text": [
      "1.05\n",
      "1.05\n"
     ]
    }
   ],
   "source": [
    "Employee.raise_amount = 1.05\n",
    "\n",
    "print(Employee.raise_amount)\n",
    "print(emp1.raise_amount)"
   ]
  },
  {
   "cell_type": "code",
   "execution_count": 13,
   "metadata": {},
   "outputs": [
    {
     "name": "stdout",
     "output_type": "stream",
     "text": [
      "1.05\n",
      "1.06\n"
     ]
    }
   ],
   "source": [
    "emp1.raise_amount = 1.06\n",
    "print(Employee.raise_amount)\n",
    "print(emp1.raise_amount)"
   ]
  },
  {
   "cell_type": "markdown",
   "metadata": {},
   "source": [
    "There is a difference. When we are trying to change the value of a class variable using an instance of a class, the value gets updated for that particular instance only whereas if we change the value of the class variable using the class itself, the change gets reflected for all the instance of a class. "
   ]
  },
  {
   "cell_type": "markdown",
   "metadata": {},
   "source": [
    "Now suppose we want to count the number of employees. In this case, it is not advisable to use the instance method (self) to count the employees rather the class ."
   ]
  },
  {
   "cell_type": "code",
   "execution_count": 14,
   "metadata": {},
   "outputs": [],
   "source": [
    "class Employee:\n",
    "    \n",
    "    raise_amount = 1.04           \n",
    "    num_employee = 0\n",
    "    \n",
    "    def __init__(self, first_name, last_name, pay):\n",
    "        self.first_name = first_name\n",
    "        self.last_name = last_name\n",
    "        self.pay = pay\n",
    "        self.email = first_name + '.' + last_name + '@company.com'  \n",
    "        \n",
    "        Employee.num_employee += 1                                 # not advisable to use self.num_employee\n",
    "        \n",
    "    def full_name(self):\n",
    "        return (f\"{self.first_name} {self.last_name}\")\n",
    "    \n",
    "    def raise_pay(self):\n",
    "        self.pay = int(self.pay * self.raise_amount)               # can also use Employee.raise_amount"
   ]
  },
  {
   "cell_type": "code",
   "execution_count": 15,
   "metadata": {},
   "outputs": [
    {
     "data": {
      "text/plain": [
       "2"
      ]
     },
     "execution_count": 15,
     "metadata": {},
     "output_type": "execute_result"
    }
   ],
   "source": [
    "emp1 = Employee('rishav', 'sharma', 15000)\n",
    "emp2 = Employee('test', 'user', 0)\n",
    "\n",
    "Employee.num_employee"
   ]
  },
  {
   "cell_type": "markdown",
   "metadata": {},
   "source": [
    "---"
   ]
  }
 ],
 "metadata": {
  "kernelspec": {
   "display_name": "Python 3 (ipykernel)",
   "language": "python",
   "name": "python3"
  },
  "language_info": {
   "codemirror_mode": {
    "name": "ipython",
    "version": 3
   },
   "file_extension": ".py",
   "mimetype": "text/x-python",
   "name": "python",
   "nbconvert_exporter": "python",
   "pygments_lexer": "ipython3",
   "version": "3.8.8"
  }
 },
 "nbformat": 4,
 "nbformat_minor": 4
}
