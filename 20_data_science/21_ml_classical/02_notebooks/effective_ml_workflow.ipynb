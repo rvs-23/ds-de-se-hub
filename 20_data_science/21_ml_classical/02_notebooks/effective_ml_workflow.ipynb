{
 "cells": [
  {
   "cell_type": "markdown",
   "id": "11ca9252-2fe7-4fc1-94b4-3e8169696d8a",
   "metadata": {},
   "source": [
    "# Objective: \n",
    "\n",
    "https://courses.dataschool.io/view/courses/building-an-effective-machine-learning-workflow-with-scikit-learn/723182-introduction/2106243-welcome-to-the-course\n",
    "\n",
    "To help you work efficiently in Scikit learn so that you can solve supervised learning problems with real world data. Specifically focus on ML centric and Sklearn centric.\n",
    "\n",
    "Workflow would be far superior than choosing an \"algorithm\". If you nail the workflow properly, it will be very easy to experiment with different algorithms quickly. Understading algorithms is useful without a doubt but following a proper workflow is more important.\n",
    "\n",
    "<b>Top priority</b>: To stay on a single mental track so that nobody gets lost in the course material."
   ]
  },
  {
   "cell_type": "markdown",
   "id": "fe69f89b-158c-457e-a676-1ac424589195",
   "metadata": {
    "jp-MarkdownHeadingCollapsed": true,
    "tags": []
   },
   "source": [
    "# Outline:\n",
    "\n",
    "- Review of the basic ML workflow\n",
    "- Encoding categorical data\n",
    "- Using ColumnTransformer and Pipeline\n",
    "- Encoding text data\n",
    "- Handling missing values\n",
    "- Switching to full dataset\n",
    "- Evaluating and tuning a Pipeline"
   ]
  },
  {
   "cell_type": "markdown",
   "id": "3164d283-2a89-4ca8-b044-e422c3b1b7e1",
   "metadata": {},
   "source": [
    "# Library requirements\n",
    "\n",
    "The only libraries you'll need to install are scikit-learn (version 0.20.2 or later) and pandas (any version)."
   ]
  },
  {
   "cell_type": "code",
   "execution_count": 1,
   "id": "823b8eaa-7005-4907-8757-daf4d4b7e4ac",
   "metadata": {},
   "outputs": [
    {
     "data": {
      "text/plain": [
       "'1.1.3'"
      ]
     },
     "execution_count": 1,
     "metadata": {},
     "output_type": "execute_result"
    }
   ],
   "source": [
    "import sklearn\n",
    "sklearn.__version__"
   ]
  },
  {
   "cell_type": "code",
   "execution_count": 2,
   "id": "c63c60dd-4986-44f3-8d48-1ca33504d24d",
   "metadata": {},
   "outputs": [],
   "source": [
    "seed = 1998"
   ]
  },
  {
   "cell_type": "markdown",
   "id": "807a7e31-c45e-44d6-8963-ad6c7369775a",
   "metadata": {},
   "source": [
    "# Review of basic ML workflow"
   ]
  },
  {
   "cell_type": "code",
   "execution_count": 3,
   "id": "9ace7945-4a34-426d-9c6c-3b668946eba9",
   "metadata": {},
   "outputs": [],
   "source": [
    "import pandas as pd"
   ]
  },
  {
   "cell_type": "code",
   "execution_count": 4,
   "id": "6ada79e8-22f6-4793-937f-5d419168aac0",
   "metadata": {},
   "outputs": [
    {
     "data": {
      "text/html": [
       "<div>\n",
       "<style scoped>\n",
       "    .dataframe tbody tr th:only-of-type {\n",
       "        vertical-align: middle;\n",
       "    }\n",
       "\n",
       "    .dataframe tbody tr th {\n",
       "        vertical-align: top;\n",
       "    }\n",
       "\n",
       "    .dataframe thead th {\n",
       "        text-align: right;\n",
       "    }\n",
       "</style>\n",
       "<table border=\"1\" class=\"dataframe\">\n",
       "  <thead>\n",
       "    <tr style=\"text-align: right;\">\n",
       "      <th></th>\n",
       "      <th>PassengerId</th>\n",
       "      <th>Survived</th>\n",
       "      <th>Pclass</th>\n",
       "      <th>Name</th>\n",
       "      <th>Sex</th>\n",
       "      <th>Age</th>\n",
       "      <th>SibSp</th>\n",
       "      <th>Parch</th>\n",
       "      <th>Ticket</th>\n",
       "      <th>Fare</th>\n",
       "      <th>Cabin</th>\n",
       "      <th>Embarked</th>\n",
       "    </tr>\n",
       "  </thead>\n",
       "  <tbody>\n",
       "    <tr>\n",
       "      <th>9</th>\n",
       "      <td>10</td>\n",
       "      <td>1</td>\n",
       "      <td>2</td>\n",
       "      <td>Nasser, Mrs. Nicholas (Adele Achem)</td>\n",
       "      <td>female</td>\n",
       "      <td>14.0</td>\n",
       "      <td>1</td>\n",
       "      <td>0</td>\n",
       "      <td>237736</td>\n",
       "      <td>30.0708</td>\n",
       "      <td>NaN</td>\n",
       "      <td>C</td>\n",
       "    </tr>\n",
       "  </tbody>\n",
       "</table>\n",
       "</div>"
      ],
      "text/plain": [
       "   PassengerId  Survived  Pclass                                 Name     Sex  \\\n",
       "9           10         1       2  Nasser, Mrs. Nicholas (Adele Achem)  female   \n",
       "\n",
       "    Age  SibSp  Parch  Ticket     Fare Cabin Embarked  \n",
       "9  14.0      1      0  237736  30.0708   NaN        C  "
      ]
     },
     "execution_count": 4,
     "metadata": {},
     "output_type": "execute_result"
    }
   ],
   "source": [
    "# Loading the Titanic dataset\n",
    "# Target: Survived\n",
    "df = pd.read_csv('titanic.csv', nrows=10)\n",
    "df.sample()"
   ]
  },
  {
   "cell_type": "code",
   "execution_count": 5,
   "id": "a09db303-0a4c-4e37-a8e2-0d90626a0504",
   "metadata": {},
   "outputs": [
    {
     "data": {
      "text/plain": [
       "(10, 2)"
      ]
     },
     "execution_count": 5,
     "metadata": {},
     "output_type": "execute_result"
    }
   ],
   "source": [
    "# selecing two features: Parch (no. of parents/children aboard with the passenger), Fare\n",
    "X = df[['Parch', 'Fare']]\n",
    "y = df['Survived']\n",
    "X.shape"
   ]
  },
  {
   "cell_type": "markdown",
   "id": "e8674293-051a-4447-a955-299afac10fb2",
   "metadata": {},
   "source": [
    "#### Note: Conventions of naming X & y\n",
    "\n",
    "**We use a capital letter for features matrix(X) because it's two dimensional whereas we use a lower case letter for the target class because it is single dimensional.**"
   ]
  },
  {
   "cell_type": "code",
   "execution_count": 6,
   "id": "7c074e16-f82a-44cd-be93-f18e71a5768a",
   "metadata": {},
   "outputs": [],
   "source": [
    "# Using logistic regression to evaluate the model (good starting choice)\n",
    "from sklearn.linear_model import LogisticRegression"
   ]
  },
  {
   "cell_type": "code",
   "execution_count": 7,
   "id": "3a514712-e74e-45bc-b98a-4b72c26a6cd7",
   "metadata": {},
   "outputs": [],
   "source": [
    "logreg = LogisticRegression(solver='liblinear', random_state=seed)"
   ]
  },
  {
   "cell_type": "markdown",
   "id": "8fb6222d-cbe7-472e-80eb-7edf5c6ea22f",
   "metadata": {},
   "source": [
    "#### Note: Model evaluation\n",
    "\n",
    "The goal of model evaluation is to simulate model performance on future data so that we can choose between models. For that we need two things:\n",
    "- Evaluation procedure -> <i>Cross validation</i> for this case\n",
    "- Evaluation metric -> <i>Accuracy</i> for this case"
   ]
  },
  {
   "cell_type": "code",
   "execution_count": 8,
   "id": "aed83755-7165-4cc4-abaa-cd6e18236857",
   "metadata": {},
   "outputs": [],
   "source": [
    "from sklearn.model_selection import cross_val_score"
   ]
  },
  {
   "cell_type": "code",
   "execution_count": 9,
   "id": "8a132ed0-8462-4a67-b651-47faf4d7c468",
   "metadata": {},
   "outputs": [
    {
     "data": {
      "text/plain": [
       "0.6944444444444443"
      ]
     },
     "execution_count": 9,
     "metadata": {},
     "output_type": "execute_result"
    }
   ],
   "source": [
    "cross_val_score(logreg, X, y, cv=3, scoring='accuracy').mean()"
   ]
  },
  {
   "cell_type": "markdown",
   "id": "ee5085dc-aec7-4eb6-943a-215a44bf26af",
   "metadata": {},
   "source": [
    "#### Note: cross_val_score\n",
    "\n",
    "```cross_val_score``` is doing the dataset splitting, model training, predictions and evaluating all together. So, it's wrapping a lot of functionality in a single line of code. ```cross_val_score``` does not return the model object. Can use ```cross_validate``` for that."
   ]
  },
  {
   "cell_type": "code",
   "execution_count": 10,
   "id": "5bf363cf-f66c-465f-aacb-a166532d1d01",
   "metadata": {},
   "outputs": [
    {
     "data": {
      "text/html": [
       "<style>#sk-container-id-1 {color: black;background-color: white;}#sk-container-id-1 pre{padding: 0;}#sk-container-id-1 div.sk-toggleable {background-color: white;}#sk-container-id-1 label.sk-toggleable__label {cursor: pointer;display: block;width: 100%;margin-bottom: 0;padding: 0.3em;box-sizing: border-box;text-align: center;}#sk-container-id-1 label.sk-toggleable__label-arrow:before {content: \"▸\";float: left;margin-right: 0.25em;color: #696969;}#sk-container-id-1 label.sk-toggleable__label-arrow:hover:before {color: black;}#sk-container-id-1 div.sk-estimator:hover label.sk-toggleable__label-arrow:before {color: black;}#sk-container-id-1 div.sk-toggleable__content {max-height: 0;max-width: 0;overflow: hidden;text-align: left;background-color: #f0f8ff;}#sk-container-id-1 div.sk-toggleable__content pre {margin: 0.2em;color: black;border-radius: 0.25em;background-color: #f0f8ff;}#sk-container-id-1 input.sk-toggleable__control:checked~div.sk-toggleable__content {max-height: 200px;max-width: 100%;overflow: auto;}#sk-container-id-1 input.sk-toggleable__control:checked~label.sk-toggleable__label-arrow:before {content: \"▾\";}#sk-container-id-1 div.sk-estimator input.sk-toggleable__control:checked~label.sk-toggleable__label {background-color: #d4ebff;}#sk-container-id-1 div.sk-label input.sk-toggleable__control:checked~label.sk-toggleable__label {background-color: #d4ebff;}#sk-container-id-1 input.sk-hidden--visually {border: 0;clip: rect(1px 1px 1px 1px);clip: rect(1px, 1px, 1px, 1px);height: 1px;margin: -1px;overflow: hidden;padding: 0;position: absolute;width: 1px;}#sk-container-id-1 div.sk-estimator {font-family: monospace;background-color: #f0f8ff;border: 1px dotted black;border-radius: 0.25em;box-sizing: border-box;margin-bottom: 0.5em;}#sk-container-id-1 div.sk-estimator:hover {background-color: #d4ebff;}#sk-container-id-1 div.sk-parallel-item::after {content: \"\";width: 100%;border-bottom: 1px solid gray;flex-grow: 1;}#sk-container-id-1 div.sk-label:hover label.sk-toggleable__label {background-color: #d4ebff;}#sk-container-id-1 div.sk-serial::before {content: \"\";position: absolute;border-left: 1px solid gray;box-sizing: border-box;top: 0;bottom: 0;left: 50%;z-index: 0;}#sk-container-id-1 div.sk-serial {display: flex;flex-direction: column;align-items: center;background-color: white;padding-right: 0.2em;padding-left: 0.2em;position: relative;}#sk-container-id-1 div.sk-item {position: relative;z-index: 1;}#sk-container-id-1 div.sk-parallel {display: flex;align-items: stretch;justify-content: center;background-color: white;position: relative;}#sk-container-id-1 div.sk-item::before, #sk-container-id-1 div.sk-parallel-item::before {content: \"\";position: absolute;border-left: 1px solid gray;box-sizing: border-box;top: 0;bottom: 0;left: 50%;z-index: -1;}#sk-container-id-1 div.sk-parallel-item {display: flex;flex-direction: column;z-index: 1;position: relative;background-color: white;}#sk-container-id-1 div.sk-parallel-item:first-child::after {align-self: flex-end;width: 50%;}#sk-container-id-1 div.sk-parallel-item:last-child::after {align-self: flex-start;width: 50%;}#sk-container-id-1 div.sk-parallel-item:only-child::after {width: 0;}#sk-container-id-1 div.sk-dashed-wrapped {border: 1px dashed gray;margin: 0 0.4em 0.5em 0.4em;box-sizing: border-box;padding-bottom: 0.4em;background-color: white;}#sk-container-id-1 div.sk-label label {font-family: monospace;font-weight: bold;display: inline-block;line-height: 1.2em;}#sk-container-id-1 div.sk-label-container {text-align: center;}#sk-container-id-1 div.sk-container {/* jupyter's `normalize.less` sets `[hidden] { display: none; }` but bootstrap.min.css set `[hidden] { display: none !important; }` so we also need the `!important` here to be able to override the default hidden behavior on the sphinx rendered scikit-learn.org. See: https://github.com/scikit-learn/scikit-learn/issues/21755 */display: inline-block !important;position: relative;}#sk-container-id-1 div.sk-text-repr-fallback {display: none;}</style><div id=\"sk-container-id-1\" class=\"sk-top-container\"><div class=\"sk-text-repr-fallback\"><pre>LogisticRegression(random_state=1998, solver=&#x27;liblinear&#x27;)</pre><b>In a Jupyter environment, please rerun this cell to show the HTML representation or trust the notebook. <br />On GitHub, the HTML representation is unable to render, please try loading this page with nbviewer.org.</b></div><div class=\"sk-container\" hidden><div class=\"sk-item\"><div class=\"sk-estimator sk-toggleable\"><input class=\"sk-toggleable__control sk-hidden--visually\" id=\"sk-estimator-id-1\" type=\"checkbox\" checked><label for=\"sk-estimator-id-1\" class=\"sk-toggleable__label sk-toggleable__label-arrow\">LogisticRegression</label><div class=\"sk-toggleable__content\"><pre>LogisticRegression(random_state=1998, solver=&#x27;liblinear&#x27;)</pre></div></div></div></div></div>"
      ],
      "text/plain": [
       "LogisticRegression(random_state=1998, solver='liblinear')"
      ]
     },
     "execution_count": 10,
     "metadata": {},
     "output_type": "execute_result"
    }
   ],
   "source": [
    "# Fitting the model: training\n",
    "logreg.fit(X, y)"
   ]
  },
  {
   "cell_type": "code",
   "execution_count": 11,
   "id": "c8b05683-8e74-420f-9db8-1fb7f21a732b",
   "metadata": {},
   "outputs": [
    {
     "data": {
      "text/plain": [
       "(10, 11)"
      ]
     },
     "execution_count": 11,
     "metadata": {},
     "output_type": "execute_result"
    }
   ],
   "source": [
    "# Reading new dataset\n",
    "df_new = pd.read_csv('titanic.csv').tail(10).drop(columns=['Survived'])\n",
    "df_new.shape"
   ]
  },
  {
   "cell_type": "code",
   "execution_count": 12,
   "id": "64d368b7-ee82-48ec-866d-d73939861faf",
   "metadata": {},
   "outputs": [
    {
     "data": {
      "text/plain": [
       "array([0, 0, 0, 0, 1, 0, 1, 1, 1, 0], dtype=int64)"
      ]
     },
     "execution_count": 12,
     "metadata": {},
     "output_type": "execute_result"
    }
   ],
   "source": [
    "X_new = df_new[['Parch', 'Fare']]\n",
    "logreg.predict(X_new)"
   ]
  },
  {
   "cell_type": "markdown",
   "id": "d5d0c99f-b100-4691-8f06-3dfc07c54d51",
   "metadata": {},
   "source": [
    "#### Model v/s Algorithm\n",
    "\n",
    "An algorithm is the general approach you will take. The model is what you get when you run the algorithm over your training data and what you use to make predictions on new data.\n",
    "You can generate a new model with the same algorithm but with different data, or you can get a new model from the same data but with a different algorithm.\n",
    "\n",
    "**For example**: LogisticRegression() implements an algorithm using solver='liblilnear' to solve an optimization problem needed to get the feature coefficients. When we say model, we are really talking about the logreg object which has the ability to get trained and predict on unseen data.\n",
    "\n",
    "https://stackoverflow.com/questions/44824153/what-is-the-exact-difference-between-a-model-and-an-algorithm\n",
    "\n",
    "https://math.stackexchange.com/questions/2269641/whats-the-difference-between-a-model-and-an-algorithm\n",
    "\n",
    "Additional: <a href=\"https://stackoverflow.com/questions/2334225/what-is-the-difference-between-a-heuristic-and-an-algorithm?rq=3\">Algorithm vs Heuristic</a>"
   ]
  },
  {
   "cell_type": "markdown",
   "id": "1988085f-43ac-473d-80de-1188712425fd",
   "metadata": {},
   "source": [
    "# Encoding categorical data"
   ]
  },
  {
   "cell_type": "code",
   "execution_count": 13,
   "id": "9c4b6152-3a0b-4b76-ae03-daacb8ff1153",
   "metadata": {},
   "outputs": [
    {
     "data": {
      "text/html": [
       "<div>\n",
       "<style scoped>\n",
       "    .dataframe tbody tr th:only-of-type {\n",
       "        vertical-align: middle;\n",
       "    }\n",
       "\n",
       "    .dataframe tbody tr th {\n",
       "        vertical-align: top;\n",
       "    }\n",
       "\n",
       "    .dataframe thead th {\n",
       "        text-align: right;\n",
       "    }\n",
       "</style>\n",
       "<table border=\"1\" class=\"dataframe\">\n",
       "  <thead>\n",
       "    <tr style=\"text-align: right;\">\n",
       "      <th></th>\n",
       "      <th>PassengerId</th>\n",
       "      <th>Survived</th>\n",
       "      <th>Pclass</th>\n",
       "      <th>Name</th>\n",
       "      <th>Sex</th>\n",
       "      <th>Age</th>\n",
       "      <th>SibSp</th>\n",
       "      <th>Parch</th>\n",
       "      <th>Ticket</th>\n",
       "      <th>Fare</th>\n",
       "      <th>Cabin</th>\n",
       "      <th>Embarked</th>\n",
       "    </tr>\n",
       "  </thead>\n",
       "  <tbody>\n",
       "    <tr>\n",
       "      <th>4</th>\n",
       "      <td>5</td>\n",
       "      <td>0</td>\n",
       "      <td>3</td>\n",
       "      <td>Allen, Mr. William Henry</td>\n",
       "      <td>male</td>\n",
       "      <td>35.0</td>\n",
       "      <td>0</td>\n",
       "      <td>0</td>\n",
       "      <td>373450</td>\n",
       "      <td>8.05</td>\n",
       "      <td>NaN</td>\n",
       "      <td>S</td>\n",
       "    </tr>\n",
       "    <tr>\n",
       "      <th>3</th>\n",
       "      <td>4</td>\n",
       "      <td>1</td>\n",
       "      <td>1</td>\n",
       "      <td>Futrelle, Mrs. Jacques Heath (Lily May Peel)</td>\n",
       "      <td>female</td>\n",
       "      <td>35.0</td>\n",
       "      <td>1</td>\n",
       "      <td>0</td>\n",
       "      <td>113803</td>\n",
       "      <td>53.10</td>\n",
       "      <td>C123</td>\n",
       "      <td>S</td>\n",
       "    </tr>\n",
       "  </tbody>\n",
       "</table>\n",
       "</div>"
      ],
      "text/plain": [
       "   PassengerId  Survived  Pclass  \\\n",
       "4            5         0       3   \n",
       "3            4         1       1   \n",
       "\n",
       "                                           Name     Sex   Age  SibSp  Parch  \\\n",
       "4                      Allen, Mr. William Henry    male  35.0      0      0   \n",
       "3  Futrelle, Mrs. Jacques Heath (Lily May Peel)  female  35.0      1      0   \n",
       "\n",
       "   Ticket   Fare Cabin Embarked  \n",
       "4  373450   8.05   NaN        S  \n",
       "3  113803  53.10  C123        S  "
      ]
     },
     "execution_count": 13,
     "metadata": {},
     "output_type": "execute_result"
    }
   ],
   "source": [
    "df.sample(2)"
   ]
  },
  {
   "cell_type": "markdown",
   "id": "19da8971-5a82-4a48-82bb-1a39ee5d7b6c",
   "metadata": {},
   "source": [
    "We want to improve our model by adding two more columns."
   ]
  },
  {
   "cell_type": "code",
   "execution_count": 14,
   "id": "360f77b3-6d32-46b0-8bf5-5f8beecc6819",
   "metadata": {},
   "outputs": [],
   "source": [
    "from sklearn.preprocessing import OneHotEncoder"
   ]
  },
  {
   "cell_type": "code",
   "execution_count": 15,
   "id": "8b4d0b7b-4a7b-4873-8c63-22477198b46d",
   "metadata": {},
   "outputs": [
    {
     "data": {
      "text/plain": [
       "<10x3 sparse matrix of type '<class 'numpy.float64'>'\n",
       "\twith 10 stored elements in Compressed Sparse Row format>"
      ]
     },
     "execution_count": 15,
     "metadata": {},
     "output_type": "execute_result"
    }
   ],
   "source": [
    "ohe = OneHotEncoder()\n",
    "ohe.fit_transform(df[['Embarked']])"
   ]
  },
  {
   "cell_type": "markdown",
   "id": "dbdc8d79-a263-461d-863b-1761e1d1e4ca",
   "metadata": {},
   "source": [
    "#### Note: Questions from OHE\n",
    "\n",
    "<ol>\n",
    "    <li>What is a Sparse matrix?</li>\n",
    "    <p>If the matrix is mostly 0s, instead of storing everything, you only store the positinos of the non-zero values and the values at those positions. Requires less storage and is faster. You can set <b>sparse=False</b> with the ohe object to view the complete (dense) matrix.</p><br>\n",
    "    <li>What values exist in the matrix?</li>\n",
    "    <p>OHE learns the categories in alphabetical order. So, the first column in the ohe object corresponds to Embarked = 'C'. It created 3 columns for Embarked in this case. We have essentially created 3 features from this one categorical features to provide the model with an opportunity to learn the relationship between these features that are now decomposed into 3 columns and the target.</p>\n",
    "    <p>One could also encode them into a single column but we would not do that GENERALLY speaking because that would imply an inherent ordering of the categories which may not be the case.</p><br>\n",
    "    <li>What is fit_transform??</li>\n",
    "    <p>OHE is a transformer meaning that its role is data transformations.</p>\n",
    "    <p>fit is when it learns something from the data. transform is it when it uses what it learned to do the transformatin. For OHE, fit is when it learns the categories. When we use transform is when it uses what we just learned to create the output matrix.</p>\n",
    "    <p>ohe.fit_transform effectively does ohe.fit() and then ohe.transform().</p>\n",
    "    <li>Why two brackets to for column selection for ohe object?</li>\n",
    "    <p>Because double bracket ensures that the output is a dataframe and when you pass a dataframe to sklearn, it knows that the passed value is a column or a single feature with some observations rather than a row which is a single observation with a lot of features. Sklearn explicitly needs to know if you want to work with a 2D object.</p>\n",
    "    <p>A series looks like a column but is a one dimensional object.</p>\n",
    "</ol>"
   ]
  },
  {
   "cell_type": "code",
   "execution_count": 16,
   "id": "babeba0f-b7bc-4687-891b-7464052fdefa",
   "metadata": {},
   "outputs": [
    {
     "data": {
      "text/plain": [
       "[array(['C', 'Q', 'S'], dtype=object)]"
      ]
     },
     "execution_count": 16,
     "metadata": {},
     "output_type": "execute_result"
    }
   ],
   "source": [
    "# Ordered by columns (alphabetically)\n",
    "ohe.categories_"
   ]
  },
  {
   "cell_type": "markdown",
   "id": "275c6410-c54c-4dd9-912b-5835f88ed545",
   "metadata": {},
   "source": [
    "#### Note: The trailing underscore in some object attributes\n",
    "\n",
    "The trailing underscore in some model attributes (like ohe.categories_) is an indication that it was learned during the **fit** (training) step. Convention."
   ]
  },
  {
   "cell_type": "code",
   "execution_count": 17,
   "id": "64418758-9455-42e4-8527-4574a5bc527b",
   "metadata": {},
   "outputs": [
    {
     "data": {
      "text/plain": [
       "array([[0., 0., 1., 0., 1.],\n",
       "       [1., 0., 0., 1., 0.],\n",
       "       [0., 0., 1., 1., 0.],\n",
       "       [0., 0., 1., 1., 0.],\n",
       "       [0., 0., 1., 0., 1.],\n",
       "       [0., 1., 0., 0., 1.],\n",
       "       [0., 0., 1., 0., 1.],\n",
       "       [0., 0., 1., 0., 1.],\n",
       "       [0., 0., 1., 1., 0.],\n",
       "       [1., 0., 0., 1., 0.]])"
      ]
     },
     "execution_count": 17,
     "metadata": {},
     "output_type": "execute_result"
    }
   ],
   "source": [
    "# Encoding both the categorical variables\n",
    "ohe = OneHotEncoder(sparse=False)\n",
    "ohe.fit_transform(df[['Embarked', 'Sex']])"
   ]
  },
  {
   "cell_type": "markdown",
   "id": "056e0a4d-74c5-4e86-b3d0-7ae1580c44c3",
   "metadata": {},
   "source": [
    "#### Note: Current workflow issue\n",
    "Now, we can stack them next to our two numerical features and train our model. But, we also need to replicate the same sets to pre-process ```df_new``` which currently does not ohe the mentioned features. So, anything we do to train, must also be done to test.\n",
    "\n",
    "That brings up two problems:\n",
    "\n",
    "- **Problem 1**: You repeat the same workflow twice which is inefficient and error prone.\n",
    "\n",
    "- **Problem 2**: Your workflow complexity is continue to increase with increased pre-processing steps."
   ]
  },
  {
   "cell_type": "markdown",
   "id": "e752d841-ff51-4e7e-81d7-f55140bb912f",
   "metadata": {},
   "source": [
    "# Using ColumnTransformer and Pipeline"
   ]
  },
  {
   "cell_type": "code",
   "execution_count": 18,
   "id": "d457487f-fb12-4616-b4b0-37cae6efef86",
   "metadata": {},
   "outputs": [
    {
     "data": {
      "text/html": [
       "<div>\n",
       "<style scoped>\n",
       "    .dataframe tbody tr th:only-of-type {\n",
       "        vertical-align: middle;\n",
       "    }\n",
       "\n",
       "    .dataframe tbody tr th {\n",
       "        vertical-align: top;\n",
       "    }\n",
       "\n",
       "    .dataframe thead th {\n",
       "        text-align: right;\n",
       "    }\n",
       "</style>\n",
       "<table border=\"1\" class=\"dataframe\">\n",
       "  <thead>\n",
       "    <tr style=\"text-align: right;\">\n",
       "      <th></th>\n",
       "      <th>Parch</th>\n",
       "      <th>Fare</th>\n",
       "      <th>Embarked</th>\n",
       "      <th>Sex</th>\n",
       "    </tr>\n",
       "  </thead>\n",
       "  <tbody>\n",
       "    <tr>\n",
       "      <th>1</th>\n",
       "      <td>0</td>\n",
       "      <td>71.2833</td>\n",
       "      <td>C</td>\n",
       "      <td>female</td>\n",
       "    </tr>\n",
       "  </tbody>\n",
       "</table>\n",
       "</div>"
      ],
      "text/plain": [
       "   Parch     Fare Embarked     Sex\n",
       "1      0  71.2833        C  female"
      ]
     },
     "execution_count": 18,
     "metadata": {},
     "output_type": "execute_result"
    }
   ],
   "source": [
    "cols = ['Parch', 'Fare', 'Embarked', 'Sex']\n",
    "X = df[cols]\n",
    "X.sample()"
   ]
  },
  {
   "cell_type": "code",
   "execution_count": 19,
   "id": "3924b2c2-481b-4f0e-aaf0-505c63f0e282",
   "metadata": {},
   "outputs": [],
   "source": [
    "from sklearn.compose import make_column_transformer"
   ]
  },
  {
   "cell_type": "code",
   "execution_count": 20,
   "id": "492dd0ca-275a-4182-bd3b-7fa109059c7b",
   "metadata": {},
   "outputs": [],
   "source": [
    "ohe = OneHotEncoder()\n",
    "# You pass one or more tuples of length 2 which \n",
    "# should be: (transformer, list of columns)\n",
    "ct = make_column_transformer(\n",
    "    (ohe, ['Embarked', 'Sex']),\n",
    "    remainder='passthrough'\n",
    ")"
   ]
  },
  {
   "cell_type": "code",
   "execution_count": 21,
   "id": "b86937f8-49c5-49b1-a3db-cf65715b773e",
   "metadata": {},
   "outputs": [
    {
     "data": {
      "text/plain": [
       "array([[ 0.    ,  0.    ,  1.    ,  0.    ,  1.    ,  0.    ,  7.25  ],\n",
       "       [ 1.    ,  0.    ,  0.    ,  1.    ,  0.    ,  0.    , 71.2833],\n",
       "       [ 0.    ,  0.    ,  1.    ,  1.    ,  0.    ,  0.    ,  7.925 ],\n",
       "       [ 0.    ,  0.    ,  1.    ,  1.    ,  0.    ,  0.    , 53.1   ],\n",
       "       [ 0.    ,  0.    ,  1.    ,  0.    ,  1.    ,  0.    ,  8.05  ],\n",
       "       [ 0.    ,  1.    ,  0.    ,  0.    ,  1.    ,  0.    ,  8.4583],\n",
       "       [ 0.    ,  0.    ,  1.    ,  0.    ,  1.    ,  0.    , 51.8625],\n",
       "       [ 0.    ,  0.    ,  1.    ,  0.    ,  1.    ,  1.    , 21.075 ],\n",
       "       [ 0.    ,  0.    ,  1.    ,  1.    ,  0.    ,  2.    , 11.1333],\n",
       "       [ 1.    ,  0.    ,  0.    ,  1.    ,  0.    ,  0.    , 30.0708]])"
      ]
     },
     "execution_count": 21,
     "metadata": {},
     "output_type": "execute_result"
    }
   ],
   "source": [
    "# It did OHE of two columns first and stacks the remaining columns next\n",
    "# to the ohe columns\n",
    "ct.fit_transform(X)"
   ]
  },
  {
   "cell_type": "markdown",
   "id": "a2309abc-056a-469f-8e71-a400568feab3",
   "metadata": {},
   "source": [
    "To apply the same sets of transformations to both the training and testing sets, we use Pipeline. It chains together steps **sequentially.**"
   ]
  },
  {
   "cell_type": "code",
   "execution_count": 22,
   "id": "081f1ff8-3689-4572-a3ef-290e90ef93b7",
   "metadata": {},
   "outputs": [],
   "source": [
    "from sklearn.pipeline import make_pipeline"
   ]
  },
  {
   "cell_type": "code",
   "execution_count": 23,
   "id": "63cc2261-5d9f-488e-92ce-bc4638454b65",
   "metadata": {},
   "outputs": [],
   "source": [
    "pipe = make_pipeline(ct, logreg) # effectively: logreg.fit(ct.fit_transform(X), y)"
   ]
  },
  {
   "cell_type": "code",
   "execution_count": 24,
   "id": "66aaef65-6ded-4193-96a1-1c524977c75a",
   "metadata": {},
   "outputs": [
    {
     "data": {
      "text/html": [
       "<style>#sk-container-id-2 {color: black;background-color: white;}#sk-container-id-2 pre{padding: 0;}#sk-container-id-2 div.sk-toggleable {background-color: white;}#sk-container-id-2 label.sk-toggleable__label {cursor: pointer;display: block;width: 100%;margin-bottom: 0;padding: 0.3em;box-sizing: border-box;text-align: center;}#sk-container-id-2 label.sk-toggleable__label-arrow:before {content: \"▸\";float: left;margin-right: 0.25em;color: #696969;}#sk-container-id-2 label.sk-toggleable__label-arrow:hover:before {color: black;}#sk-container-id-2 div.sk-estimator:hover label.sk-toggleable__label-arrow:before {color: black;}#sk-container-id-2 div.sk-toggleable__content {max-height: 0;max-width: 0;overflow: hidden;text-align: left;background-color: #f0f8ff;}#sk-container-id-2 div.sk-toggleable__content pre {margin: 0.2em;color: black;border-radius: 0.25em;background-color: #f0f8ff;}#sk-container-id-2 input.sk-toggleable__control:checked~div.sk-toggleable__content {max-height: 200px;max-width: 100%;overflow: auto;}#sk-container-id-2 input.sk-toggleable__control:checked~label.sk-toggleable__label-arrow:before {content: \"▾\";}#sk-container-id-2 div.sk-estimator input.sk-toggleable__control:checked~label.sk-toggleable__label {background-color: #d4ebff;}#sk-container-id-2 div.sk-label input.sk-toggleable__control:checked~label.sk-toggleable__label {background-color: #d4ebff;}#sk-container-id-2 input.sk-hidden--visually {border: 0;clip: rect(1px 1px 1px 1px);clip: rect(1px, 1px, 1px, 1px);height: 1px;margin: -1px;overflow: hidden;padding: 0;position: absolute;width: 1px;}#sk-container-id-2 div.sk-estimator {font-family: monospace;background-color: #f0f8ff;border: 1px dotted black;border-radius: 0.25em;box-sizing: border-box;margin-bottom: 0.5em;}#sk-container-id-2 div.sk-estimator:hover {background-color: #d4ebff;}#sk-container-id-2 div.sk-parallel-item::after {content: \"\";width: 100%;border-bottom: 1px solid gray;flex-grow: 1;}#sk-container-id-2 div.sk-label:hover label.sk-toggleable__label {background-color: #d4ebff;}#sk-container-id-2 div.sk-serial::before {content: \"\";position: absolute;border-left: 1px solid gray;box-sizing: border-box;top: 0;bottom: 0;left: 50%;z-index: 0;}#sk-container-id-2 div.sk-serial {display: flex;flex-direction: column;align-items: center;background-color: white;padding-right: 0.2em;padding-left: 0.2em;position: relative;}#sk-container-id-2 div.sk-item {position: relative;z-index: 1;}#sk-container-id-2 div.sk-parallel {display: flex;align-items: stretch;justify-content: center;background-color: white;position: relative;}#sk-container-id-2 div.sk-item::before, #sk-container-id-2 div.sk-parallel-item::before {content: \"\";position: absolute;border-left: 1px solid gray;box-sizing: border-box;top: 0;bottom: 0;left: 50%;z-index: -1;}#sk-container-id-2 div.sk-parallel-item {display: flex;flex-direction: column;z-index: 1;position: relative;background-color: white;}#sk-container-id-2 div.sk-parallel-item:first-child::after {align-self: flex-end;width: 50%;}#sk-container-id-2 div.sk-parallel-item:last-child::after {align-self: flex-start;width: 50%;}#sk-container-id-2 div.sk-parallel-item:only-child::after {width: 0;}#sk-container-id-2 div.sk-dashed-wrapped {border: 1px dashed gray;margin: 0 0.4em 0.5em 0.4em;box-sizing: border-box;padding-bottom: 0.4em;background-color: white;}#sk-container-id-2 div.sk-label label {font-family: monospace;font-weight: bold;display: inline-block;line-height: 1.2em;}#sk-container-id-2 div.sk-label-container {text-align: center;}#sk-container-id-2 div.sk-container {/* jupyter's `normalize.less` sets `[hidden] { display: none; }` but bootstrap.min.css set `[hidden] { display: none !important; }` so we also need the `!important` here to be able to override the default hidden behavior on the sphinx rendered scikit-learn.org. See: https://github.com/scikit-learn/scikit-learn/issues/21755 */display: inline-block !important;position: relative;}#sk-container-id-2 div.sk-text-repr-fallback {display: none;}</style><div id=\"sk-container-id-2\" class=\"sk-top-container\"><div class=\"sk-text-repr-fallback\"><pre>Pipeline(steps=[(&#x27;columntransformer&#x27;,\n",
       "                 ColumnTransformer(remainder=&#x27;passthrough&#x27;,\n",
       "                                   transformers=[(&#x27;onehotencoder&#x27;,\n",
       "                                                  OneHotEncoder(),\n",
       "                                                  [&#x27;Embarked&#x27;, &#x27;Sex&#x27;])])),\n",
       "                (&#x27;logisticregression&#x27;,\n",
       "                 LogisticRegression(random_state=1998, solver=&#x27;liblinear&#x27;))])</pre><b>In a Jupyter environment, please rerun this cell to show the HTML representation or trust the notebook. <br />On GitHub, the HTML representation is unable to render, please try loading this page with nbviewer.org.</b></div><div class=\"sk-container\" hidden><div class=\"sk-item sk-dashed-wrapped\"><div class=\"sk-label-container\"><div class=\"sk-label sk-toggleable\"><input class=\"sk-toggleable__control sk-hidden--visually\" id=\"sk-estimator-id-2\" type=\"checkbox\" ><label for=\"sk-estimator-id-2\" class=\"sk-toggleable__label sk-toggleable__label-arrow\">Pipeline</label><div class=\"sk-toggleable__content\"><pre>Pipeline(steps=[(&#x27;columntransformer&#x27;,\n",
       "                 ColumnTransformer(remainder=&#x27;passthrough&#x27;,\n",
       "                                   transformers=[(&#x27;onehotencoder&#x27;,\n",
       "                                                  OneHotEncoder(),\n",
       "                                                  [&#x27;Embarked&#x27;, &#x27;Sex&#x27;])])),\n",
       "                (&#x27;logisticregression&#x27;,\n",
       "                 LogisticRegression(random_state=1998, solver=&#x27;liblinear&#x27;))])</pre></div></div></div><div class=\"sk-serial\"><div class=\"sk-item sk-dashed-wrapped\"><div class=\"sk-label-container\"><div class=\"sk-label sk-toggleable\"><input class=\"sk-toggleable__control sk-hidden--visually\" id=\"sk-estimator-id-3\" type=\"checkbox\" ><label for=\"sk-estimator-id-3\" class=\"sk-toggleable__label sk-toggleable__label-arrow\">columntransformer: ColumnTransformer</label><div class=\"sk-toggleable__content\"><pre>ColumnTransformer(remainder=&#x27;passthrough&#x27;,\n",
       "                  transformers=[(&#x27;onehotencoder&#x27;, OneHotEncoder(),\n",
       "                                 [&#x27;Embarked&#x27;, &#x27;Sex&#x27;])])</pre></div></div></div><div class=\"sk-parallel\"><div class=\"sk-parallel-item\"><div class=\"sk-item\"><div class=\"sk-label-container\"><div class=\"sk-label sk-toggleable\"><input class=\"sk-toggleable__control sk-hidden--visually\" id=\"sk-estimator-id-4\" type=\"checkbox\" ><label for=\"sk-estimator-id-4\" class=\"sk-toggleable__label sk-toggleable__label-arrow\">onehotencoder</label><div class=\"sk-toggleable__content\"><pre>[&#x27;Embarked&#x27;, &#x27;Sex&#x27;]</pre></div></div></div><div class=\"sk-serial\"><div class=\"sk-item\"><div class=\"sk-estimator sk-toggleable\"><input class=\"sk-toggleable__control sk-hidden--visually\" id=\"sk-estimator-id-5\" type=\"checkbox\" ><label for=\"sk-estimator-id-5\" class=\"sk-toggleable__label sk-toggleable__label-arrow\">OneHotEncoder</label><div class=\"sk-toggleable__content\"><pre>OneHotEncoder()</pre></div></div></div></div></div></div><div class=\"sk-parallel-item\"><div class=\"sk-item\"><div class=\"sk-label-container\"><div class=\"sk-label sk-toggleable\"><input class=\"sk-toggleable__control sk-hidden--visually\" id=\"sk-estimator-id-6\" type=\"checkbox\" ><label for=\"sk-estimator-id-6\" class=\"sk-toggleable__label sk-toggleable__label-arrow\">remainder</label><div class=\"sk-toggleable__content\"><pre>[&#x27;Parch&#x27;, &#x27;Fare&#x27;]</pre></div></div></div><div class=\"sk-serial\"><div class=\"sk-item\"><div class=\"sk-estimator sk-toggleable\"><input class=\"sk-toggleable__control sk-hidden--visually\" id=\"sk-estimator-id-7\" type=\"checkbox\" ><label for=\"sk-estimator-id-7\" class=\"sk-toggleable__label sk-toggleable__label-arrow\">passthrough</label><div class=\"sk-toggleable__content\"><pre>passthrough</pre></div></div></div></div></div></div></div></div><div class=\"sk-item\"><div class=\"sk-estimator sk-toggleable\"><input class=\"sk-toggleable__control sk-hidden--visually\" id=\"sk-estimator-id-8\" type=\"checkbox\" ><label for=\"sk-estimator-id-8\" class=\"sk-toggleable__label sk-toggleable__label-arrow\">LogisticRegression</label><div class=\"sk-toggleable__content\"><pre>LogisticRegression(random_state=1998, solver=&#x27;liblinear&#x27;)</pre></div></div></div></div></div></div></div>"
      ],
      "text/plain": [
       "Pipeline(steps=[('columntransformer',\n",
       "                 ColumnTransformer(remainder='passthrough',\n",
       "                                   transformers=[('onehotencoder',\n",
       "                                                  OneHotEncoder(),\n",
       "                                                  ['Embarked', 'Sex'])])),\n",
       "                ('logisticregression',\n",
       "                 LogisticRegression(random_state=1998, solver='liblinear'))])"
      ]
     },
     "execution_count": 24,
     "metadata": {},
     "output_type": "execute_result"
    }
   ],
   "source": [
    "# First the X, which has 4 columns. These 4 columns get passed to the first step in the pipeline object\n",
    "# which is the ColumnTransformer. CT turns 4 cols into 7 columns. These 7 columns are passed to logistic\n",
    "# regression as feature matrix and then logreg is fit on the transformed feature matrix of 7 columns with the\n",
    "# y variable\n",
    "pipe.fit(X, y)"
   ]
  },
  {
   "cell_type": "code",
   "execution_count": 25,
   "id": "73abd651-b2d3-495e-91f5-deb1e28cbe98",
   "metadata": {},
   "outputs": [
    {
     "data": {
      "text/plain": [
       "{'columntransformer': ColumnTransformer(remainder='passthrough',\n",
       "                   transformers=[('onehotencoder', OneHotEncoder(),\n",
       "                                  ['Embarked', 'Sex'])]),\n",
       " 'logisticregression': LogisticRegression(random_state=1998, solver='liblinear')}"
      ]
     },
     "execution_count": 25,
     "metadata": {},
     "output_type": "execute_result"
    }
   ],
   "source": [
    "pipe.named_steps"
   ]
  },
  {
   "cell_type": "code",
   "execution_count": 26,
   "id": "1619642c-8f6e-417e-b540-32b5db35da10",
   "metadata": {},
   "outputs": [
    {
     "data": {
      "text/plain": [
       "array([[ 0.26491287, -0.19848033, -0.22907928,  1.0075062 , -1.17015293,\n",
       "         0.20056557,  0.01597307]])"
      ]
     },
     "execution_count": 26,
     "metadata": {},
     "output_type": "execute_result"
    }
   ],
   "source": [
    "# Getting the coefficients of fitted logistic regressions\n",
    "pipe.named_steps.logisticregression.coef_"
   ]
  },
  {
   "cell_type": "code",
   "execution_count": 27,
   "id": "1129cb53-6bb5-462e-83eb-29f191c10684",
   "metadata": {},
   "outputs": [
    {
     "data": {
      "text/plain": [
       "array([0, 1, 0, 0, 1, 0, 1, 1, 0, 0], dtype=int64)"
      ]
     },
     "execution_count": 27,
     "metadata": {},
     "output_type": "execute_result"
    }
   ],
   "source": [
    "X_new = pd.read_csv('titanic.csv')[cols].tail(10)\n",
    "pipe.predict(X_new) # Equivalent to: logreg.predict(ct.tranform(X_new)) [notice, tranform instead of fit_transform]"
   ]
  },
  {
   "cell_type": "markdown",
   "id": "438d846c-e64e-4b13-ae38-9dd22ca82200",
   "metadata": {},
   "source": [
    "# Encoding text data\n",
    "\n",
    "Improving model by adding more features. In this case, maybe Name has some information. Maybe if someone's title is Master or Dr. they are rescued first.\n",
    "\n",
    "There may be predictive infromation in the Name column."
   ]
  },
  {
   "cell_type": "code",
   "execution_count": 28,
   "id": "3aeba4e2-55b2-4b31-9b52-dfb81216450f",
   "metadata": {},
   "outputs": [],
   "source": [
    "from sklearn.feature_extraction.text import CountVectorizer"
   ]
  },
  {
   "cell_type": "code",
   "execution_count": 29,
   "id": "04ed5f41-db0b-4dea-ae84-abd9acd6ee53",
   "metadata": {},
   "outputs": [
    {
     "data": {
      "text/plain": [
       "<10x40 sparse matrix of type '<class 'numpy.int64'>'\n",
       "\twith 46 stored elements in Compressed Sparse Row format>"
      ]
     },
     "execution_count": 29,
     "metadata": {},
     "output_type": "execute_result"
    }
   ],
   "source": [
    "vect = CountVectorizer()\n",
    "# count vectorizer wants a 1D object\n",
    "# returns a document term matrix\n",
    "dtm = vect.fit_transform(df['Name'])\n",
    "dtm"
   ]
  },
  {
   "cell_type": "code",
   "execution_count": 30,
   "id": "98247ace-6d2e-41b6-9e43-e187b123a291",
   "metadata": {},
   "outputs": [
    {
     "name": "stdout",
     "output_type": "stream",
     "text": [
      "['achem' 'adele' 'allen' 'berg' 'bradley' 'braund' 'briggs' 'cumings'\n",
      " 'elisabeth' 'florence' 'futrelle' 'gosta' 'harris' 'heath' 'heikkinen'\n",
      " 'henry' 'jacques' 'james' 'john' 'johnson' 'laina' 'leonard' 'lily'\n",
      " 'master' 'may' 'mccarthy' 'miss' 'moran' 'mr' 'mrs' 'nasser' 'nicholas'\n",
      " 'oscar' 'owen' 'palsson' 'peel' 'thayer' 'timothy' 'vilhelmina' 'william']\n"
     ]
    }
   ],
   "source": [
    "# Getting the features it created\n",
    "print(vect.get_feature_names_out())"
   ]
  },
  {
   "cell_type": "code",
   "execution_count": 31,
   "id": "5c85ef6a-6779-4921-a55c-a8f3bd792dbc",
   "metadata": {},
   "outputs": [
    {
     "data": {
      "text/html": [
       "<div>\n",
       "<style scoped>\n",
       "    .dataframe tbody tr th:only-of-type {\n",
       "        vertical-align: middle;\n",
       "    }\n",
       "\n",
       "    .dataframe tbody tr th {\n",
       "        vertical-align: top;\n",
       "    }\n",
       "\n",
       "    .dataframe thead th {\n",
       "        text-align: right;\n",
       "    }\n",
       "</style>\n",
       "<table border=\"1\" class=\"dataframe\">\n",
       "  <thead>\n",
       "    <tr style=\"text-align: right;\">\n",
       "      <th></th>\n",
       "      <th>achem</th>\n",
       "      <th>adele</th>\n",
       "      <th>allen</th>\n",
       "      <th>berg</th>\n",
       "      <th>bradley</th>\n",
       "      <th>braund</th>\n",
       "      <th>briggs</th>\n",
       "      <th>cumings</th>\n",
       "      <th>elisabeth</th>\n",
       "      <th>florence</th>\n",
       "      <th>...</th>\n",
       "      <th>nasser</th>\n",
       "      <th>nicholas</th>\n",
       "      <th>oscar</th>\n",
       "      <th>owen</th>\n",
       "      <th>palsson</th>\n",
       "      <th>peel</th>\n",
       "      <th>thayer</th>\n",
       "      <th>timothy</th>\n",
       "      <th>vilhelmina</th>\n",
       "      <th>william</th>\n",
       "    </tr>\n",
       "  </thead>\n",
       "  <tbody>\n",
       "    <tr>\n",
       "      <th>0</th>\n",
       "      <td>0</td>\n",
       "      <td>0</td>\n",
       "      <td>0</td>\n",
       "      <td>0</td>\n",
       "      <td>0</td>\n",
       "      <td>1</td>\n",
       "      <td>0</td>\n",
       "      <td>0</td>\n",
       "      <td>0</td>\n",
       "      <td>0</td>\n",
       "      <td>...</td>\n",
       "      <td>0</td>\n",
       "      <td>0</td>\n",
       "      <td>0</td>\n",
       "      <td>1</td>\n",
       "      <td>0</td>\n",
       "      <td>0</td>\n",
       "      <td>0</td>\n",
       "      <td>0</td>\n",
       "      <td>0</td>\n",
       "      <td>0</td>\n",
       "    </tr>\n",
       "    <tr>\n",
       "      <th>1</th>\n",
       "      <td>0</td>\n",
       "      <td>0</td>\n",
       "      <td>0</td>\n",
       "      <td>0</td>\n",
       "      <td>1</td>\n",
       "      <td>0</td>\n",
       "      <td>1</td>\n",
       "      <td>1</td>\n",
       "      <td>0</td>\n",
       "      <td>1</td>\n",
       "      <td>...</td>\n",
       "      <td>0</td>\n",
       "      <td>0</td>\n",
       "      <td>0</td>\n",
       "      <td>0</td>\n",
       "      <td>0</td>\n",
       "      <td>0</td>\n",
       "      <td>1</td>\n",
       "      <td>0</td>\n",
       "      <td>0</td>\n",
       "      <td>0</td>\n",
       "    </tr>\n",
       "    <tr>\n",
       "      <th>2</th>\n",
       "      <td>0</td>\n",
       "      <td>0</td>\n",
       "      <td>0</td>\n",
       "      <td>0</td>\n",
       "      <td>0</td>\n",
       "      <td>0</td>\n",
       "      <td>0</td>\n",
       "      <td>0</td>\n",
       "      <td>0</td>\n",
       "      <td>0</td>\n",
       "      <td>...</td>\n",
       "      <td>0</td>\n",
       "      <td>0</td>\n",
       "      <td>0</td>\n",
       "      <td>0</td>\n",
       "      <td>0</td>\n",
       "      <td>0</td>\n",
       "      <td>0</td>\n",
       "      <td>0</td>\n",
       "      <td>0</td>\n",
       "      <td>0</td>\n",
       "    </tr>\n",
       "    <tr>\n",
       "      <th>3</th>\n",
       "      <td>0</td>\n",
       "      <td>0</td>\n",
       "      <td>0</td>\n",
       "      <td>0</td>\n",
       "      <td>0</td>\n",
       "      <td>0</td>\n",
       "      <td>0</td>\n",
       "      <td>0</td>\n",
       "      <td>0</td>\n",
       "      <td>0</td>\n",
       "      <td>...</td>\n",
       "      <td>0</td>\n",
       "      <td>0</td>\n",
       "      <td>0</td>\n",
       "      <td>0</td>\n",
       "      <td>0</td>\n",
       "      <td>1</td>\n",
       "      <td>0</td>\n",
       "      <td>0</td>\n",
       "      <td>0</td>\n",
       "      <td>0</td>\n",
       "    </tr>\n",
       "    <tr>\n",
       "      <th>4</th>\n",
       "      <td>0</td>\n",
       "      <td>0</td>\n",
       "      <td>1</td>\n",
       "      <td>0</td>\n",
       "      <td>0</td>\n",
       "      <td>0</td>\n",
       "      <td>0</td>\n",
       "      <td>0</td>\n",
       "      <td>0</td>\n",
       "      <td>0</td>\n",
       "      <td>...</td>\n",
       "      <td>0</td>\n",
       "      <td>0</td>\n",
       "      <td>0</td>\n",
       "      <td>0</td>\n",
       "      <td>0</td>\n",
       "      <td>0</td>\n",
       "      <td>0</td>\n",
       "      <td>0</td>\n",
       "      <td>0</td>\n",
       "      <td>1</td>\n",
       "    </tr>\n",
       "    <tr>\n",
       "      <th>5</th>\n",
       "      <td>0</td>\n",
       "      <td>0</td>\n",
       "      <td>0</td>\n",
       "      <td>0</td>\n",
       "      <td>0</td>\n",
       "      <td>0</td>\n",
       "      <td>0</td>\n",
       "      <td>0</td>\n",
       "      <td>0</td>\n",
       "      <td>0</td>\n",
       "      <td>...</td>\n",
       "      <td>0</td>\n",
       "      <td>0</td>\n",
       "      <td>0</td>\n",
       "      <td>0</td>\n",
       "      <td>0</td>\n",
       "      <td>0</td>\n",
       "      <td>0</td>\n",
       "      <td>0</td>\n",
       "      <td>0</td>\n",
       "      <td>0</td>\n",
       "    </tr>\n",
       "    <tr>\n",
       "      <th>6</th>\n",
       "      <td>0</td>\n",
       "      <td>0</td>\n",
       "      <td>0</td>\n",
       "      <td>0</td>\n",
       "      <td>0</td>\n",
       "      <td>0</td>\n",
       "      <td>0</td>\n",
       "      <td>0</td>\n",
       "      <td>0</td>\n",
       "      <td>0</td>\n",
       "      <td>...</td>\n",
       "      <td>0</td>\n",
       "      <td>0</td>\n",
       "      <td>0</td>\n",
       "      <td>0</td>\n",
       "      <td>0</td>\n",
       "      <td>0</td>\n",
       "      <td>0</td>\n",
       "      <td>1</td>\n",
       "      <td>0</td>\n",
       "      <td>0</td>\n",
       "    </tr>\n",
       "    <tr>\n",
       "      <th>7</th>\n",
       "      <td>0</td>\n",
       "      <td>0</td>\n",
       "      <td>0</td>\n",
       "      <td>0</td>\n",
       "      <td>0</td>\n",
       "      <td>0</td>\n",
       "      <td>0</td>\n",
       "      <td>0</td>\n",
       "      <td>0</td>\n",
       "      <td>0</td>\n",
       "      <td>...</td>\n",
       "      <td>0</td>\n",
       "      <td>0</td>\n",
       "      <td>0</td>\n",
       "      <td>0</td>\n",
       "      <td>1</td>\n",
       "      <td>0</td>\n",
       "      <td>0</td>\n",
       "      <td>0</td>\n",
       "      <td>0</td>\n",
       "      <td>0</td>\n",
       "    </tr>\n",
       "    <tr>\n",
       "      <th>8</th>\n",
       "      <td>0</td>\n",
       "      <td>0</td>\n",
       "      <td>0</td>\n",
       "      <td>1</td>\n",
       "      <td>0</td>\n",
       "      <td>0</td>\n",
       "      <td>0</td>\n",
       "      <td>0</td>\n",
       "      <td>1</td>\n",
       "      <td>0</td>\n",
       "      <td>...</td>\n",
       "      <td>0</td>\n",
       "      <td>0</td>\n",
       "      <td>1</td>\n",
       "      <td>0</td>\n",
       "      <td>0</td>\n",
       "      <td>0</td>\n",
       "      <td>0</td>\n",
       "      <td>0</td>\n",
       "      <td>1</td>\n",
       "      <td>0</td>\n",
       "    </tr>\n",
       "    <tr>\n",
       "      <th>9</th>\n",
       "      <td>1</td>\n",
       "      <td>1</td>\n",
       "      <td>0</td>\n",
       "      <td>0</td>\n",
       "      <td>0</td>\n",
       "      <td>0</td>\n",
       "      <td>0</td>\n",
       "      <td>0</td>\n",
       "      <td>0</td>\n",
       "      <td>0</td>\n",
       "      <td>...</td>\n",
       "      <td>1</td>\n",
       "      <td>1</td>\n",
       "      <td>0</td>\n",
       "      <td>0</td>\n",
       "      <td>0</td>\n",
       "      <td>0</td>\n",
       "      <td>0</td>\n",
       "      <td>0</td>\n",
       "      <td>0</td>\n",
       "      <td>0</td>\n",
       "    </tr>\n",
       "  </tbody>\n",
       "</table>\n",
       "<p>10 rows × 40 columns</p>\n",
       "</div>"
      ],
      "text/plain": [
       "   achem  adele  allen  berg  bradley  braund  briggs  cumings  elisabeth  \\\n",
       "0      0      0      0     0        0       1       0        0          0   \n",
       "1      0      0      0     0        1       0       1        1          0   \n",
       "2      0      0      0     0        0       0       0        0          0   \n",
       "3      0      0      0     0        0       0       0        0          0   \n",
       "4      0      0      1     0        0       0       0        0          0   \n",
       "5      0      0      0     0        0       0       0        0          0   \n",
       "6      0      0      0     0        0       0       0        0          0   \n",
       "7      0      0      0     0        0       0       0        0          0   \n",
       "8      0      0      0     1        0       0       0        0          1   \n",
       "9      1      1      0     0        0       0       0        0          0   \n",
       "\n",
       "   florence  ...  nasser  nicholas  oscar  owen  palsson  peel  thayer  \\\n",
       "0         0  ...       0         0      0     1        0     0       0   \n",
       "1         1  ...       0         0      0     0        0     0       1   \n",
       "2         0  ...       0         0      0     0        0     0       0   \n",
       "3         0  ...       0         0      0     0        0     1       0   \n",
       "4         0  ...       0         0      0     0        0     0       0   \n",
       "5         0  ...       0         0      0     0        0     0       0   \n",
       "6         0  ...       0         0      0     0        0     0       0   \n",
       "7         0  ...       0         0      0     0        1     0       0   \n",
       "8         0  ...       0         0      1     0        0     0       0   \n",
       "9         0  ...       1         1      0     0        0     0       0   \n",
       "\n",
       "   timothy  vilhelmina  william  \n",
       "0        0           0        0  \n",
       "1        0           0        0  \n",
       "2        0           0        0  \n",
       "3        0           0        0  \n",
       "4        0           0        1  \n",
       "5        0           0        0  \n",
       "6        1           0        0  \n",
       "7        0           0        0  \n",
       "8        0           1        0  \n",
       "9        0           0        0  \n",
       "\n",
       "[10 rows x 40 columns]"
      ]
     },
     "execution_count": 31,
     "metadata": {},
     "output_type": "execute_result"
    }
   ],
   "source": [
    "# the matrix that will get passed to the logistic model\n",
    "# toarray() converts the sparse matrix to a dense \n",
    "pd.DataFrame(dtm.toarray(), columns=vect.get_feature_names_out())"
   ]
  },
  {
   "cell_type": "markdown",
   "id": "9bb2b3f0-6774-4b96-b5ef-0a5c2bff4c92",
   "metadata": {},
   "source": [
    "#### Note: CountVectorizer NLP?\n",
    "\n",
    "- Using a bag of words representation is a ML tool for understanding text in one way and can also be used as a tool towards language understanding which is the goal of NLP.\n",
    "\n",
    "- The only words that were not converted to a feature were single letter words, in this case."
   ]
  },
  {
   "cell_type": "markdown",
   "id": "a85e249b-0924-41cc-b6e3-7921310d6307",
   "metadata": {},
   "source": [
    "#### Note: How is CountVec different from one hot encoding?\n",
    "\n",
    "- OHE would have taken from Name columns, individual strings which would have resulted in 10 columns, 1 for each name in df.\n",
    "\n",
    "- CountVec on the other hand gives 40 columns after applying its own pre-processing. We would have learned very little by simply ohe name."
   ]
  },
  {
   "cell_type": "code",
   "execution_count": 32,
   "id": "f34a4a8a-a018-426f-9d9e-1d9c2137d320",
   "metadata": {},
   "outputs": [
    {
     "data": {
      "text/html": [
       "<div>\n",
       "<style scoped>\n",
       "    .dataframe tbody tr th:only-of-type {\n",
       "        vertical-align: middle;\n",
       "    }\n",
       "\n",
       "    .dataframe tbody tr th {\n",
       "        vertical-align: top;\n",
       "    }\n",
       "\n",
       "    .dataframe thead th {\n",
       "        text-align: right;\n",
       "    }\n",
       "</style>\n",
       "<table border=\"1\" class=\"dataframe\">\n",
       "  <thead>\n",
       "    <tr style=\"text-align: right;\">\n",
       "      <th></th>\n",
       "      <th>Parch</th>\n",
       "      <th>Fare</th>\n",
       "      <th>Embarked</th>\n",
       "      <th>Sex</th>\n",
       "      <th>Name</th>\n",
       "    </tr>\n",
       "  </thead>\n",
       "  <tbody>\n",
       "    <tr>\n",
       "      <th>5</th>\n",
       "      <td>0</td>\n",
       "      <td>8.4583</td>\n",
       "      <td>Q</td>\n",
       "      <td>male</td>\n",
       "      <td>Moran, Mr. James</td>\n",
       "    </tr>\n",
       "  </tbody>\n",
       "</table>\n",
       "</div>"
      ],
      "text/plain": [
       "   Parch    Fare Embarked   Sex              Name\n",
       "5      0  8.4583        Q  male  Moran, Mr. James"
      ]
     },
     "execution_count": 32,
     "metadata": {},
     "output_type": "execute_result"
    }
   ],
   "source": [
    "cols = ['Parch', 'Fare', 'Embarked', 'Sex', 'Name']\n",
    "X = df[cols]\n",
    "X.sample()"
   ]
  },
  {
   "cell_type": "code",
   "execution_count": 33,
   "id": "7a6b9324-74fc-4887-b0f7-c14f207b67a6",
   "metadata": {},
   "outputs": [],
   "source": [
    "ct = make_column_transformer(\n",
    "    (ohe, ['Embarked', 'Sex']),\n",
    "    # countvect expects 1D array. Do not use []\n",
    "    # for multiple columns, pass the vect tuple\n",
    "    # multiple twice\n",
    "    (vect, 'Name'),\n",
    "    remainder='passthrough'\n",
    ")"
   ]
  },
  {
   "cell_type": "code",
   "execution_count": 34,
   "id": "2c8d4f02-bd69-4ed2-bb60-4f835c522347",
   "metadata": {},
   "outputs": [],
   "source": [
    "pipe = make_pipeline(ct, logreg)"
   ]
  },
  {
   "cell_type": "code",
   "execution_count": 35,
   "id": "cfb726ca-e932-4887-b364-af00ede6e9f7",
   "metadata": {},
   "outputs": [
    {
     "data": {
      "text/html": [
       "<style>#sk-container-id-3 {color: black;background-color: white;}#sk-container-id-3 pre{padding: 0;}#sk-container-id-3 div.sk-toggleable {background-color: white;}#sk-container-id-3 label.sk-toggleable__label {cursor: pointer;display: block;width: 100%;margin-bottom: 0;padding: 0.3em;box-sizing: border-box;text-align: center;}#sk-container-id-3 label.sk-toggleable__label-arrow:before {content: \"▸\";float: left;margin-right: 0.25em;color: #696969;}#sk-container-id-3 label.sk-toggleable__label-arrow:hover:before {color: black;}#sk-container-id-3 div.sk-estimator:hover label.sk-toggleable__label-arrow:before {color: black;}#sk-container-id-3 div.sk-toggleable__content {max-height: 0;max-width: 0;overflow: hidden;text-align: left;background-color: #f0f8ff;}#sk-container-id-3 div.sk-toggleable__content pre {margin: 0.2em;color: black;border-radius: 0.25em;background-color: #f0f8ff;}#sk-container-id-3 input.sk-toggleable__control:checked~div.sk-toggleable__content {max-height: 200px;max-width: 100%;overflow: auto;}#sk-container-id-3 input.sk-toggleable__control:checked~label.sk-toggleable__label-arrow:before {content: \"▾\";}#sk-container-id-3 div.sk-estimator input.sk-toggleable__control:checked~label.sk-toggleable__label {background-color: #d4ebff;}#sk-container-id-3 div.sk-label input.sk-toggleable__control:checked~label.sk-toggleable__label {background-color: #d4ebff;}#sk-container-id-3 input.sk-hidden--visually {border: 0;clip: rect(1px 1px 1px 1px);clip: rect(1px, 1px, 1px, 1px);height: 1px;margin: -1px;overflow: hidden;padding: 0;position: absolute;width: 1px;}#sk-container-id-3 div.sk-estimator {font-family: monospace;background-color: #f0f8ff;border: 1px dotted black;border-radius: 0.25em;box-sizing: border-box;margin-bottom: 0.5em;}#sk-container-id-3 div.sk-estimator:hover {background-color: #d4ebff;}#sk-container-id-3 div.sk-parallel-item::after {content: \"\";width: 100%;border-bottom: 1px solid gray;flex-grow: 1;}#sk-container-id-3 div.sk-label:hover label.sk-toggleable__label {background-color: #d4ebff;}#sk-container-id-3 div.sk-serial::before {content: \"\";position: absolute;border-left: 1px solid gray;box-sizing: border-box;top: 0;bottom: 0;left: 50%;z-index: 0;}#sk-container-id-3 div.sk-serial {display: flex;flex-direction: column;align-items: center;background-color: white;padding-right: 0.2em;padding-left: 0.2em;position: relative;}#sk-container-id-3 div.sk-item {position: relative;z-index: 1;}#sk-container-id-3 div.sk-parallel {display: flex;align-items: stretch;justify-content: center;background-color: white;position: relative;}#sk-container-id-3 div.sk-item::before, #sk-container-id-3 div.sk-parallel-item::before {content: \"\";position: absolute;border-left: 1px solid gray;box-sizing: border-box;top: 0;bottom: 0;left: 50%;z-index: -1;}#sk-container-id-3 div.sk-parallel-item {display: flex;flex-direction: column;z-index: 1;position: relative;background-color: white;}#sk-container-id-3 div.sk-parallel-item:first-child::after {align-self: flex-end;width: 50%;}#sk-container-id-3 div.sk-parallel-item:last-child::after {align-self: flex-start;width: 50%;}#sk-container-id-3 div.sk-parallel-item:only-child::after {width: 0;}#sk-container-id-3 div.sk-dashed-wrapped {border: 1px dashed gray;margin: 0 0.4em 0.5em 0.4em;box-sizing: border-box;padding-bottom: 0.4em;background-color: white;}#sk-container-id-3 div.sk-label label {font-family: monospace;font-weight: bold;display: inline-block;line-height: 1.2em;}#sk-container-id-3 div.sk-label-container {text-align: center;}#sk-container-id-3 div.sk-container {/* jupyter's `normalize.less` sets `[hidden] { display: none; }` but bootstrap.min.css set `[hidden] { display: none !important; }` so we also need the `!important` here to be able to override the default hidden behavior on the sphinx rendered scikit-learn.org. See: https://github.com/scikit-learn/scikit-learn/issues/21755 */display: inline-block !important;position: relative;}#sk-container-id-3 div.sk-text-repr-fallback {display: none;}</style><div id=\"sk-container-id-3\" class=\"sk-top-container\"><div class=\"sk-text-repr-fallback\"><pre>Pipeline(steps=[(&#x27;columntransformer&#x27;,\n",
       "                 ColumnTransformer(remainder=&#x27;passthrough&#x27;,\n",
       "                                   transformers=[(&#x27;onehotencoder&#x27;,\n",
       "                                                  OneHotEncoder(),\n",
       "                                                  [&#x27;Embarked&#x27;, &#x27;Sex&#x27;]),\n",
       "                                                 (&#x27;countvectorizer&#x27;,\n",
       "                                                  CountVectorizer(),\n",
       "                                                  &#x27;Name&#x27;)])),\n",
       "                (&#x27;logisticregression&#x27;,\n",
       "                 LogisticRegression(random_state=1998, solver=&#x27;liblinear&#x27;))])</pre><b>In a Jupyter environment, please rerun this cell to show the HTML representation or trust the notebook. <br />On GitHub, the HTML representation is unable to render, please try loading this page with nbviewer.org.</b></div><div class=\"sk-container\" hidden><div class=\"sk-item sk-dashed-wrapped\"><div class=\"sk-label-container\"><div class=\"sk-label sk-toggleable\"><input class=\"sk-toggleable__control sk-hidden--visually\" id=\"sk-estimator-id-9\" type=\"checkbox\" ><label for=\"sk-estimator-id-9\" class=\"sk-toggleable__label sk-toggleable__label-arrow\">Pipeline</label><div class=\"sk-toggleable__content\"><pre>Pipeline(steps=[(&#x27;columntransformer&#x27;,\n",
       "                 ColumnTransformer(remainder=&#x27;passthrough&#x27;,\n",
       "                                   transformers=[(&#x27;onehotencoder&#x27;,\n",
       "                                                  OneHotEncoder(),\n",
       "                                                  [&#x27;Embarked&#x27;, &#x27;Sex&#x27;]),\n",
       "                                                 (&#x27;countvectorizer&#x27;,\n",
       "                                                  CountVectorizer(),\n",
       "                                                  &#x27;Name&#x27;)])),\n",
       "                (&#x27;logisticregression&#x27;,\n",
       "                 LogisticRegression(random_state=1998, solver=&#x27;liblinear&#x27;))])</pre></div></div></div><div class=\"sk-serial\"><div class=\"sk-item sk-dashed-wrapped\"><div class=\"sk-label-container\"><div class=\"sk-label sk-toggleable\"><input class=\"sk-toggleable__control sk-hidden--visually\" id=\"sk-estimator-id-10\" type=\"checkbox\" ><label for=\"sk-estimator-id-10\" class=\"sk-toggleable__label sk-toggleable__label-arrow\">columntransformer: ColumnTransformer</label><div class=\"sk-toggleable__content\"><pre>ColumnTransformer(remainder=&#x27;passthrough&#x27;,\n",
       "                  transformers=[(&#x27;onehotencoder&#x27;, OneHotEncoder(),\n",
       "                                 [&#x27;Embarked&#x27;, &#x27;Sex&#x27;]),\n",
       "                                (&#x27;countvectorizer&#x27;, CountVectorizer(), &#x27;Name&#x27;)])</pre></div></div></div><div class=\"sk-parallel\"><div class=\"sk-parallel-item\"><div class=\"sk-item\"><div class=\"sk-label-container\"><div class=\"sk-label sk-toggleable\"><input class=\"sk-toggleable__control sk-hidden--visually\" id=\"sk-estimator-id-11\" type=\"checkbox\" ><label for=\"sk-estimator-id-11\" class=\"sk-toggleable__label sk-toggleable__label-arrow\">onehotencoder</label><div class=\"sk-toggleable__content\"><pre>[&#x27;Embarked&#x27;, &#x27;Sex&#x27;]</pre></div></div></div><div class=\"sk-serial\"><div class=\"sk-item\"><div class=\"sk-estimator sk-toggleable\"><input class=\"sk-toggleable__control sk-hidden--visually\" id=\"sk-estimator-id-12\" type=\"checkbox\" ><label for=\"sk-estimator-id-12\" class=\"sk-toggleable__label sk-toggleable__label-arrow\">OneHotEncoder</label><div class=\"sk-toggleable__content\"><pre>OneHotEncoder()</pre></div></div></div></div></div></div><div class=\"sk-parallel-item\"><div class=\"sk-item\"><div class=\"sk-label-container\"><div class=\"sk-label sk-toggleable\"><input class=\"sk-toggleable__control sk-hidden--visually\" id=\"sk-estimator-id-13\" type=\"checkbox\" ><label for=\"sk-estimator-id-13\" class=\"sk-toggleable__label sk-toggleable__label-arrow\">countvectorizer</label><div class=\"sk-toggleable__content\"><pre>Name</pre></div></div></div><div class=\"sk-serial\"><div class=\"sk-item\"><div class=\"sk-estimator sk-toggleable\"><input class=\"sk-toggleable__control sk-hidden--visually\" id=\"sk-estimator-id-14\" type=\"checkbox\" ><label for=\"sk-estimator-id-14\" class=\"sk-toggleable__label sk-toggleable__label-arrow\">CountVectorizer</label><div class=\"sk-toggleable__content\"><pre>CountVectorizer()</pre></div></div></div></div></div></div><div class=\"sk-parallel-item\"><div class=\"sk-item\"><div class=\"sk-label-container\"><div class=\"sk-label sk-toggleable\"><input class=\"sk-toggleable__control sk-hidden--visually\" id=\"sk-estimator-id-15\" type=\"checkbox\" ><label for=\"sk-estimator-id-15\" class=\"sk-toggleable__label sk-toggleable__label-arrow\">remainder</label><div class=\"sk-toggleable__content\"><pre>[&#x27;Parch&#x27;, &#x27;Fare&#x27;]</pre></div></div></div><div class=\"sk-serial\"><div class=\"sk-item\"><div class=\"sk-estimator sk-toggleable\"><input class=\"sk-toggleable__control sk-hidden--visually\" id=\"sk-estimator-id-16\" type=\"checkbox\" ><label for=\"sk-estimator-id-16\" class=\"sk-toggleable__label sk-toggleable__label-arrow\">passthrough</label><div class=\"sk-toggleable__content\"><pre>passthrough</pre></div></div></div></div></div></div></div></div><div class=\"sk-item\"><div class=\"sk-estimator sk-toggleable\"><input class=\"sk-toggleable__control sk-hidden--visually\" id=\"sk-estimator-id-17\" type=\"checkbox\" ><label for=\"sk-estimator-id-17\" class=\"sk-toggleable__label sk-toggleable__label-arrow\">LogisticRegression</label><div class=\"sk-toggleable__content\"><pre>LogisticRegression(random_state=1998, solver=&#x27;liblinear&#x27;)</pre></div></div></div></div></div></div></div>"
      ],
      "text/plain": [
       "Pipeline(steps=[('columntransformer',\n",
       "                 ColumnTransformer(remainder='passthrough',\n",
       "                                   transformers=[('onehotencoder',\n",
       "                                                  OneHotEncoder(),\n",
       "                                                  ['Embarked', 'Sex']),\n",
       "                                                 ('countvectorizer',\n",
       "                                                  CountVectorizer(),\n",
       "                                                  'Name')])),\n",
       "                ('logisticregression',\n",
       "                 LogisticRegression(random_state=1998, solver='liblinear'))])"
      ]
     },
     "execution_count": 35,
     "metadata": {},
     "output_type": "execute_result"
    }
   ],
   "source": [
    "pipe.fit(X, y)"
   ]
  },
  {
   "cell_type": "code",
   "execution_count": 36,
   "id": "7c964efc-d4c7-416e-9fa6-d4f4d79152a5",
   "metadata": {},
   "outputs": [
    {
     "data": {
      "text/plain": [
       "array([0, 1, 0, 0, 1, 0, 1, 1, 0, 0], dtype=int64)"
      ]
     },
     "execution_count": 36,
     "metadata": {},
     "output_type": "execute_result"
    }
   ],
   "source": [
    "X_new = pd.read_csv('titanic.csv')[cols].tail(10)\n",
    "pipe.predict(X_new) # Equivalent to: logreg.predict(ct.tranform(X_new)) [notice, tranform instead of fit_transform]"
   ]
  },
  {
   "cell_type": "markdown",
   "id": "b0831d45-3baa-4e94-8f15-e3f0e4e24faa",
   "metadata": {},
   "source": [
    "# Handling missing values "
   ]
  },
  {
   "cell_type": "code",
   "execution_count": 66,
   "id": "c0faf5f6-f4bb-468f-bf60-dbac42ade502",
   "metadata": {},
   "outputs": [
    {
     "data": {
      "text/html": [
       "<div>\n",
       "<style scoped>\n",
       "    .dataframe tbody tr th:only-of-type {\n",
       "        vertical-align: middle;\n",
       "    }\n",
       "\n",
       "    .dataframe tbody tr th {\n",
       "        vertical-align: top;\n",
       "    }\n",
       "\n",
       "    .dataframe thead th {\n",
       "        text-align: right;\n",
       "    }\n",
       "</style>\n",
       "<table border=\"1\" class=\"dataframe\">\n",
       "  <thead>\n",
       "    <tr style=\"text-align: right;\">\n",
       "      <th></th>\n",
       "      <th>PassengerId</th>\n",
       "      <th>Survived</th>\n",
       "      <th>Pclass</th>\n",
       "      <th>Name</th>\n",
       "      <th>Sex</th>\n",
       "      <th>Age</th>\n",
       "      <th>SibSp</th>\n",
       "      <th>Parch</th>\n",
       "      <th>Ticket</th>\n",
       "      <th>Fare</th>\n",
       "      <th>Cabin</th>\n",
       "      <th>Embarked</th>\n",
       "    </tr>\n",
       "  </thead>\n",
       "  <tbody>\n",
       "    <tr>\n",
       "      <th>3</th>\n",
       "      <td>4</td>\n",
       "      <td>1</td>\n",
       "      <td>1</td>\n",
       "      <td>Futrelle, Mrs. Jacques Heath (Lily May Peel)</td>\n",
       "      <td>female</td>\n",
       "      <td>35.0</td>\n",
       "      <td>1</td>\n",
       "      <td>0</td>\n",
       "      <td>113803</td>\n",
       "      <td>53.1</td>\n",
       "      <td>C123</td>\n",
       "      <td>S</td>\n",
       "    </tr>\n",
       "  </tbody>\n",
       "</table>\n",
       "</div>"
      ],
      "text/plain": [
       "   PassengerId  Survived  Pclass  \\\n",
       "3            4         1       1   \n",
       "\n",
       "                                           Name     Sex   Age  SibSp  Parch  \\\n",
       "3  Futrelle, Mrs. Jacques Heath (Lily May Peel)  female  35.0      1      0   \n",
       "\n",
       "   Ticket  Fare Cabin Embarked  \n",
       "3  113803  53.1  C123        S  "
      ]
     },
     "execution_count": 66,
     "metadata": {},
     "output_type": "execute_result"
    }
   ],
   "source": [
    "df.sample()"
   ]
  },
  {
   "cell_type": "markdown",
   "id": "a1786f53-0657-4ee2-b052-aaa2d9cab8c8",
   "metadata": {},
   "source": [
    "NaN : Missing value\n",
    "\n",
    "_This is different form new categories (OHE) or different words from the training data._"
   ]
  },
  {
   "cell_type": "code",
   "execution_count": 67,
   "id": "9f268401-9f91-42eb-b317-a52badf9ac53",
   "metadata": {},
   "outputs": [
    {
     "data": {
      "text/plain": [
       "['Parch', 'Fare', 'Embarked', 'Sex', 'Name']"
      ]
     },
     "execution_count": 67,
     "metadata": {},
     "output_type": "execute_result"
    }
   ],
   "source": [
    "cols"
   ]
  },
  {
   "cell_type": "code",
   "execution_count": 68,
   "id": "7b198a4f-b3a9-4e16-a7e8-2f46ce38ddd3",
   "metadata": {},
   "outputs": [],
   "source": [
    "cols.append('Age')"
   ]
  },
  {
   "cell_type": "code",
   "execution_count": 69,
   "id": "fcf25cbb-52e9-4f26-ac58-8d73a00695cd",
   "metadata": {},
   "outputs": [
    {
     "data": {
      "text/html": [
       "<div>\n",
       "<style scoped>\n",
       "    .dataframe tbody tr th:only-of-type {\n",
       "        vertical-align: middle;\n",
       "    }\n",
       "\n",
       "    .dataframe tbody tr th {\n",
       "        vertical-align: top;\n",
       "    }\n",
       "\n",
       "    .dataframe thead th {\n",
       "        text-align: right;\n",
       "    }\n",
       "</style>\n",
       "<table border=\"1\" class=\"dataframe\">\n",
       "  <thead>\n",
       "    <tr style=\"text-align: right;\">\n",
       "      <th></th>\n",
       "      <th>Parch</th>\n",
       "      <th>Fare</th>\n",
       "      <th>Embarked</th>\n",
       "      <th>Sex</th>\n",
       "      <th>Name</th>\n",
       "      <th>Age</th>\n",
       "    </tr>\n",
       "  </thead>\n",
       "  <tbody>\n",
       "    <tr>\n",
       "      <th>0</th>\n",
       "      <td>0</td>\n",
       "      <td>7.2500</td>\n",
       "      <td>S</td>\n",
       "      <td>male</td>\n",
       "      <td>Braund, Mr. Owen Harris</td>\n",
       "      <td>22.0</td>\n",
       "    </tr>\n",
       "    <tr>\n",
       "      <th>1</th>\n",
       "      <td>0</td>\n",
       "      <td>71.2833</td>\n",
       "      <td>C</td>\n",
       "      <td>female</td>\n",
       "      <td>Cumings, Mrs. John Bradley (Florence Briggs Th...</td>\n",
       "      <td>38.0</td>\n",
       "    </tr>\n",
       "    <tr>\n",
       "      <th>2</th>\n",
       "      <td>0</td>\n",
       "      <td>7.9250</td>\n",
       "      <td>S</td>\n",
       "      <td>female</td>\n",
       "      <td>Heikkinen, Miss. Laina</td>\n",
       "      <td>26.0</td>\n",
       "    </tr>\n",
       "    <tr>\n",
       "      <th>3</th>\n",
       "      <td>0</td>\n",
       "      <td>53.1000</td>\n",
       "      <td>S</td>\n",
       "      <td>female</td>\n",
       "      <td>Futrelle, Mrs. Jacques Heath (Lily May Peel)</td>\n",
       "      <td>35.0</td>\n",
       "    </tr>\n",
       "    <tr>\n",
       "      <th>4</th>\n",
       "      <td>0</td>\n",
       "      <td>8.0500</td>\n",
       "      <td>S</td>\n",
       "      <td>male</td>\n",
       "      <td>Allen, Mr. William Henry</td>\n",
       "      <td>35.0</td>\n",
       "    </tr>\n",
       "    <tr>\n",
       "      <th>5</th>\n",
       "      <td>0</td>\n",
       "      <td>8.4583</td>\n",
       "      <td>Q</td>\n",
       "      <td>male</td>\n",
       "      <td>Moran, Mr. James</td>\n",
       "      <td>NaN</td>\n",
       "    </tr>\n",
       "    <tr>\n",
       "      <th>6</th>\n",
       "      <td>0</td>\n",
       "      <td>51.8625</td>\n",
       "      <td>S</td>\n",
       "      <td>male</td>\n",
       "      <td>McCarthy, Mr. Timothy J</td>\n",
       "      <td>54.0</td>\n",
       "    </tr>\n",
       "    <tr>\n",
       "      <th>7</th>\n",
       "      <td>1</td>\n",
       "      <td>21.0750</td>\n",
       "      <td>S</td>\n",
       "      <td>male</td>\n",
       "      <td>Palsson, Master. Gosta Leonard</td>\n",
       "      <td>2.0</td>\n",
       "    </tr>\n",
       "    <tr>\n",
       "      <th>8</th>\n",
       "      <td>2</td>\n",
       "      <td>11.1333</td>\n",
       "      <td>S</td>\n",
       "      <td>female</td>\n",
       "      <td>Johnson, Mrs. Oscar W (Elisabeth Vilhelmina Berg)</td>\n",
       "      <td>27.0</td>\n",
       "    </tr>\n",
       "    <tr>\n",
       "      <th>9</th>\n",
       "      <td>0</td>\n",
       "      <td>30.0708</td>\n",
       "      <td>C</td>\n",
       "      <td>female</td>\n",
       "      <td>Nasser, Mrs. Nicholas (Adele Achem)</td>\n",
       "      <td>14.0</td>\n",
       "    </tr>\n",
       "  </tbody>\n",
       "</table>\n",
       "</div>"
      ],
      "text/plain": [
       "   Parch     Fare Embarked     Sex  \\\n",
       "0      0   7.2500        S    male   \n",
       "1      0  71.2833        C  female   \n",
       "2      0   7.9250        S  female   \n",
       "3      0  53.1000        S  female   \n",
       "4      0   8.0500        S    male   \n",
       "5      0   8.4583        Q    male   \n",
       "6      0  51.8625        S    male   \n",
       "7      1  21.0750        S    male   \n",
       "8      2  11.1333        S  female   \n",
       "9      0  30.0708        C  female   \n",
       "\n",
       "                                                Name   Age  \n",
       "0                            Braund, Mr. Owen Harris  22.0  \n",
       "1  Cumings, Mrs. John Bradley (Florence Briggs Th...  38.0  \n",
       "2                             Heikkinen, Miss. Laina  26.0  \n",
       "3       Futrelle, Mrs. Jacques Heath (Lily May Peel)  35.0  \n",
       "4                           Allen, Mr. William Henry  35.0  \n",
       "5                                   Moran, Mr. James   NaN  \n",
       "6                            McCarthy, Mr. Timothy J  54.0  \n",
       "7                     Palsson, Master. Gosta Leonard   2.0  \n",
       "8  Johnson, Mrs. Oscar W (Elisabeth Vilhelmina Berg)  27.0  \n",
       "9                Nasser, Mrs. Nicholas (Adele Achem)  14.0  "
      ]
     },
     "execution_count": 69,
     "metadata": {},
     "output_type": "execute_result"
    }
   ],
   "source": [
    "X = df[cols]\n",
    "X"
   ]
  },
  {
   "cell_type": "markdown",
   "id": "f5a687fe-a62b-40a1-9044-611952b84fb4",
   "metadata": {},
   "source": [
    "### Option 1: Drop all missing values\n",
    "\n",
    "It is okay to do so under the following circumstances:\n",
    "\n",
    "- If you are losing only a tiny proportion of your training data.\n",
    "\n",
    "- If you know that the missingness is completely random.\n",
    "\n",
    "You can drop either from the entire dataset using X.dropna() or using only a subset of columns using X.dropna(subset=[])\n",
    "\n",
    "Another option is to drop the entire column if it contains missing value. X.dropna(axis='columns') will drop the entire 'age' column from our dataset."
   ]
  },
  {
   "cell_type": "markdown",
   "id": "eaa7f2e3-e297-4933-b2ab-e6d37ade1c51",
   "metadata": {},
   "source": [
    "### Option 2: Impute missing values\n",
    "\n",
    "Something to keep in mind is that imputation is inferring/filling from available data. Rules of thumb link drop when >95% empty are okay but a feature could be 80% empty and still be useful especially if the missingness is **not random**."
   ]
  },
  {
   "cell_type": "code",
   "execution_count": 70,
   "id": "c8da76fb-ea30-4088-9c60-0d0553bad420",
   "metadata": {},
   "outputs": [],
   "source": [
    "from sklearn.impute import SimpleImputer"
   ]
  },
  {
   "cell_type": "code",
   "execution_count": 72,
   "id": "a3b4518a-1675-4553-8d91-98d9f29444ee",
   "metadata": {},
   "outputs": [
    {
     "data": {
      "text/plain": [
       "array([[22.        ],\n",
       "       [38.        ],\n",
       "       [26.        ],\n",
       "       [35.        ],\n",
       "       [35.        ],\n",
       "       [28.11111111],\n",
       "       [54.        ],\n",
       "       [ 2.        ],\n",
       "       [27.        ],\n",
       "       [14.        ]])"
      ]
     },
     "execution_count": 72,
     "metadata": {},
     "output_type": "execute_result"
    }
   ],
   "source": [
    "imp = SimpleImputer()\n",
    "# uses mean by default\n",
    "imp.fit_transform(X[['Age']])"
   ]
  },
  {
   "cell_type": "code",
   "execution_count": 73,
   "id": "2600ef3d-cce6-4afe-969f-cb9f93c70408",
   "metadata": {},
   "outputs": [
    {
     "data": {
      "text/plain": [
       "array([28.11111111])"
      ]
     },
     "execution_count": 73,
     "metadata": {},
     "output_type": "execute_result"
    }
   ],
   "source": [
    "imp.statistics_"
   ]
  },
  {
   "cell_type": "code",
   "execution_count": 74,
   "id": "6d5b0c0b-5966-4da2-aed4-7096a6b31838",
   "metadata": {},
   "outputs": [
    {
     "data": {
      "text/plain": [
       "<10x48 sparse matrix of type '<class 'numpy.float64'>'\n",
       "\twith 88 stored elements in Compressed Sparse Row format>"
      ]
     },
     "execution_count": 74,
     "metadata": {},
     "output_type": "execute_result"
    }
   ],
   "source": [
    "ct = make_column_transformer(\n",
    "    (ohe, ['Embarked', 'Sex']),\n",
    "    (vect, 'Name'),\n",
    "    (imp, ['Age']),\n",
    "    remainder='passthrough'\n",
    ")\n",
    "ct.fit_transform(X)"
   ]
  },
  {
   "cell_type": "code",
   "execution_count": 75,
   "id": "c2c57eae-9b49-4a42-80ca-536437cdfce1",
   "metadata": {},
   "outputs": [
    {
     "data": {
      "text/html": [
       "<style>#sk-container-id-5 {color: black;background-color: white;}#sk-container-id-5 pre{padding: 0;}#sk-container-id-5 div.sk-toggleable {background-color: white;}#sk-container-id-5 label.sk-toggleable__label {cursor: pointer;display: block;width: 100%;margin-bottom: 0;padding: 0.3em;box-sizing: border-box;text-align: center;}#sk-container-id-5 label.sk-toggleable__label-arrow:before {content: \"▸\";float: left;margin-right: 0.25em;color: #696969;}#sk-container-id-5 label.sk-toggleable__label-arrow:hover:before {color: black;}#sk-container-id-5 div.sk-estimator:hover label.sk-toggleable__label-arrow:before {color: black;}#sk-container-id-5 div.sk-toggleable__content {max-height: 0;max-width: 0;overflow: hidden;text-align: left;background-color: #f0f8ff;}#sk-container-id-5 div.sk-toggleable__content pre {margin: 0.2em;color: black;border-radius: 0.25em;background-color: #f0f8ff;}#sk-container-id-5 input.sk-toggleable__control:checked~div.sk-toggleable__content {max-height: 200px;max-width: 100%;overflow: auto;}#sk-container-id-5 input.sk-toggleable__control:checked~label.sk-toggleable__label-arrow:before {content: \"▾\";}#sk-container-id-5 div.sk-estimator input.sk-toggleable__control:checked~label.sk-toggleable__label {background-color: #d4ebff;}#sk-container-id-5 div.sk-label input.sk-toggleable__control:checked~label.sk-toggleable__label {background-color: #d4ebff;}#sk-container-id-5 input.sk-hidden--visually {border: 0;clip: rect(1px 1px 1px 1px);clip: rect(1px, 1px, 1px, 1px);height: 1px;margin: -1px;overflow: hidden;padding: 0;position: absolute;width: 1px;}#sk-container-id-5 div.sk-estimator {font-family: monospace;background-color: #f0f8ff;border: 1px dotted black;border-radius: 0.25em;box-sizing: border-box;margin-bottom: 0.5em;}#sk-container-id-5 div.sk-estimator:hover {background-color: #d4ebff;}#sk-container-id-5 div.sk-parallel-item::after {content: \"\";width: 100%;border-bottom: 1px solid gray;flex-grow: 1;}#sk-container-id-5 div.sk-label:hover label.sk-toggleable__label {background-color: #d4ebff;}#sk-container-id-5 div.sk-serial::before {content: \"\";position: absolute;border-left: 1px solid gray;box-sizing: border-box;top: 0;bottom: 0;left: 50%;z-index: 0;}#sk-container-id-5 div.sk-serial {display: flex;flex-direction: column;align-items: center;background-color: white;padding-right: 0.2em;padding-left: 0.2em;position: relative;}#sk-container-id-5 div.sk-item {position: relative;z-index: 1;}#sk-container-id-5 div.sk-parallel {display: flex;align-items: stretch;justify-content: center;background-color: white;position: relative;}#sk-container-id-5 div.sk-item::before, #sk-container-id-5 div.sk-parallel-item::before {content: \"\";position: absolute;border-left: 1px solid gray;box-sizing: border-box;top: 0;bottom: 0;left: 50%;z-index: -1;}#sk-container-id-5 div.sk-parallel-item {display: flex;flex-direction: column;z-index: 1;position: relative;background-color: white;}#sk-container-id-5 div.sk-parallel-item:first-child::after {align-self: flex-end;width: 50%;}#sk-container-id-5 div.sk-parallel-item:last-child::after {align-self: flex-start;width: 50%;}#sk-container-id-5 div.sk-parallel-item:only-child::after {width: 0;}#sk-container-id-5 div.sk-dashed-wrapped {border: 1px dashed gray;margin: 0 0.4em 0.5em 0.4em;box-sizing: border-box;padding-bottom: 0.4em;background-color: white;}#sk-container-id-5 div.sk-label label {font-family: monospace;font-weight: bold;display: inline-block;line-height: 1.2em;}#sk-container-id-5 div.sk-label-container {text-align: center;}#sk-container-id-5 div.sk-container {/* jupyter's `normalize.less` sets `[hidden] { display: none; }` but bootstrap.min.css set `[hidden] { display: none !important; }` so we also need the `!important` here to be able to override the default hidden behavior on the sphinx rendered scikit-learn.org. See: https://github.com/scikit-learn/scikit-learn/issues/21755 */display: inline-block !important;position: relative;}#sk-container-id-5 div.sk-text-repr-fallback {display: none;}</style><div id=\"sk-container-id-5\" class=\"sk-top-container\"><div class=\"sk-text-repr-fallback\"><pre>Pipeline(steps=[(&#x27;columntransformer&#x27;,\n",
       "                 ColumnTransformer(remainder=&#x27;passthrough&#x27;,\n",
       "                                   transformers=[(&#x27;onehotencoder&#x27;,\n",
       "                                                  OneHotEncoder(),\n",
       "                                                  [&#x27;Embarked&#x27;, &#x27;Sex&#x27;]),\n",
       "                                                 (&#x27;countvectorizer&#x27;,\n",
       "                                                  CountVectorizer(), &#x27;Name&#x27;),\n",
       "                                                 (&#x27;simpleimputer&#x27;,\n",
       "                                                  SimpleImputer(), [&#x27;Age&#x27;])])),\n",
       "                (&#x27;logisticregression&#x27;,\n",
       "                 LogisticRegression(random_state=1998, solver=&#x27;liblinear&#x27;))])</pre><b>In a Jupyter environment, please rerun this cell to show the HTML representation or trust the notebook. <br />On GitHub, the HTML representation is unable to render, please try loading this page with nbviewer.org.</b></div><div class=\"sk-container\" hidden><div class=\"sk-item sk-dashed-wrapped\"><div class=\"sk-label-container\"><div class=\"sk-label sk-toggleable\"><input class=\"sk-toggleable__control sk-hidden--visually\" id=\"sk-estimator-id-27\" type=\"checkbox\" ><label for=\"sk-estimator-id-27\" class=\"sk-toggleable__label sk-toggleable__label-arrow\">Pipeline</label><div class=\"sk-toggleable__content\"><pre>Pipeline(steps=[(&#x27;columntransformer&#x27;,\n",
       "                 ColumnTransformer(remainder=&#x27;passthrough&#x27;,\n",
       "                                   transformers=[(&#x27;onehotencoder&#x27;,\n",
       "                                                  OneHotEncoder(),\n",
       "                                                  [&#x27;Embarked&#x27;, &#x27;Sex&#x27;]),\n",
       "                                                 (&#x27;countvectorizer&#x27;,\n",
       "                                                  CountVectorizer(), &#x27;Name&#x27;),\n",
       "                                                 (&#x27;simpleimputer&#x27;,\n",
       "                                                  SimpleImputer(), [&#x27;Age&#x27;])])),\n",
       "                (&#x27;logisticregression&#x27;,\n",
       "                 LogisticRegression(random_state=1998, solver=&#x27;liblinear&#x27;))])</pre></div></div></div><div class=\"sk-serial\"><div class=\"sk-item sk-dashed-wrapped\"><div class=\"sk-label-container\"><div class=\"sk-label sk-toggleable\"><input class=\"sk-toggleable__control sk-hidden--visually\" id=\"sk-estimator-id-28\" type=\"checkbox\" ><label for=\"sk-estimator-id-28\" class=\"sk-toggleable__label sk-toggleable__label-arrow\">columntransformer: ColumnTransformer</label><div class=\"sk-toggleable__content\"><pre>ColumnTransformer(remainder=&#x27;passthrough&#x27;,\n",
       "                  transformers=[(&#x27;onehotencoder&#x27;, OneHotEncoder(),\n",
       "                                 [&#x27;Embarked&#x27;, &#x27;Sex&#x27;]),\n",
       "                                (&#x27;countvectorizer&#x27;, CountVectorizer(), &#x27;Name&#x27;),\n",
       "                                (&#x27;simpleimputer&#x27;, SimpleImputer(), [&#x27;Age&#x27;])])</pre></div></div></div><div class=\"sk-parallel\"><div class=\"sk-parallel-item\"><div class=\"sk-item\"><div class=\"sk-label-container\"><div class=\"sk-label sk-toggleable\"><input class=\"sk-toggleable__control sk-hidden--visually\" id=\"sk-estimator-id-29\" type=\"checkbox\" ><label for=\"sk-estimator-id-29\" class=\"sk-toggleable__label sk-toggleable__label-arrow\">onehotencoder</label><div class=\"sk-toggleable__content\"><pre>[&#x27;Embarked&#x27;, &#x27;Sex&#x27;]</pre></div></div></div><div class=\"sk-serial\"><div class=\"sk-item\"><div class=\"sk-estimator sk-toggleable\"><input class=\"sk-toggleable__control sk-hidden--visually\" id=\"sk-estimator-id-30\" type=\"checkbox\" ><label for=\"sk-estimator-id-30\" class=\"sk-toggleable__label sk-toggleable__label-arrow\">OneHotEncoder</label><div class=\"sk-toggleable__content\"><pre>OneHotEncoder()</pre></div></div></div></div></div></div><div class=\"sk-parallel-item\"><div class=\"sk-item\"><div class=\"sk-label-container\"><div class=\"sk-label sk-toggleable\"><input class=\"sk-toggleable__control sk-hidden--visually\" id=\"sk-estimator-id-31\" type=\"checkbox\" ><label for=\"sk-estimator-id-31\" class=\"sk-toggleable__label sk-toggleable__label-arrow\">countvectorizer</label><div class=\"sk-toggleable__content\"><pre>Name</pre></div></div></div><div class=\"sk-serial\"><div class=\"sk-item\"><div class=\"sk-estimator sk-toggleable\"><input class=\"sk-toggleable__control sk-hidden--visually\" id=\"sk-estimator-id-32\" type=\"checkbox\" ><label for=\"sk-estimator-id-32\" class=\"sk-toggleable__label sk-toggleable__label-arrow\">CountVectorizer</label><div class=\"sk-toggleable__content\"><pre>CountVectorizer()</pre></div></div></div></div></div></div><div class=\"sk-parallel-item\"><div class=\"sk-item\"><div class=\"sk-label-container\"><div class=\"sk-label sk-toggleable\"><input class=\"sk-toggleable__control sk-hidden--visually\" id=\"sk-estimator-id-33\" type=\"checkbox\" ><label for=\"sk-estimator-id-33\" class=\"sk-toggleable__label sk-toggleable__label-arrow\">simpleimputer</label><div class=\"sk-toggleable__content\"><pre>[&#x27;Age&#x27;]</pre></div></div></div><div class=\"sk-serial\"><div class=\"sk-item\"><div class=\"sk-estimator sk-toggleable\"><input class=\"sk-toggleable__control sk-hidden--visually\" id=\"sk-estimator-id-34\" type=\"checkbox\" ><label for=\"sk-estimator-id-34\" class=\"sk-toggleable__label sk-toggleable__label-arrow\">SimpleImputer</label><div class=\"sk-toggleable__content\"><pre>SimpleImputer()</pre></div></div></div></div></div></div><div class=\"sk-parallel-item\"><div class=\"sk-item\"><div class=\"sk-label-container\"><div class=\"sk-label sk-toggleable\"><input class=\"sk-toggleable__control sk-hidden--visually\" id=\"sk-estimator-id-35\" type=\"checkbox\" ><label for=\"sk-estimator-id-35\" class=\"sk-toggleable__label sk-toggleable__label-arrow\">remainder</label><div class=\"sk-toggleable__content\"><pre>[&#x27;Parch&#x27;, &#x27;Fare&#x27;]</pre></div></div></div><div class=\"sk-serial\"><div class=\"sk-item\"><div class=\"sk-estimator sk-toggleable\"><input class=\"sk-toggleable__control sk-hidden--visually\" id=\"sk-estimator-id-36\" type=\"checkbox\" ><label for=\"sk-estimator-id-36\" class=\"sk-toggleable__label sk-toggleable__label-arrow\">passthrough</label><div class=\"sk-toggleable__content\"><pre>passthrough</pre></div></div></div></div></div></div></div></div><div class=\"sk-item\"><div class=\"sk-estimator sk-toggleable\"><input class=\"sk-toggleable__control sk-hidden--visually\" id=\"sk-estimator-id-37\" type=\"checkbox\" ><label for=\"sk-estimator-id-37\" class=\"sk-toggleable__label sk-toggleable__label-arrow\">LogisticRegression</label><div class=\"sk-toggleable__content\"><pre>LogisticRegression(random_state=1998, solver=&#x27;liblinear&#x27;)</pre></div></div></div></div></div></div></div>"
      ],
      "text/plain": [
       "Pipeline(steps=[('columntransformer',\n",
       "                 ColumnTransformer(remainder='passthrough',\n",
       "                                   transformers=[('onehotencoder',\n",
       "                                                  OneHotEncoder(),\n",
       "                                                  ['Embarked', 'Sex']),\n",
       "                                                 ('countvectorizer',\n",
       "                                                  CountVectorizer(), 'Name'),\n",
       "                                                 ('simpleimputer',\n",
       "                                                  SimpleImputer(), ['Age'])])),\n",
       "                ('logisticregression',\n",
       "                 LogisticRegression(random_state=1998, solver='liblinear'))])"
      ]
     },
     "execution_count": 75,
     "metadata": {},
     "output_type": "execute_result"
    }
   ],
   "source": [
    "pipe = make_pipeline(ct, logreg)\n",
    "pipe.fit(X, y)\n",
    "# pipe.named_steps"
   ]
  },
  {
   "cell_type": "markdown",
   "id": "e1ffbe2d-8591-41b4-b019-610ce385ead5",
   "metadata": {},
   "source": [
    "Conceptually, pipe predicts X_new, one row at a time. It only makes sense to impute the value in the testing set, by using the value that was fit from the training set."
   ]
  },
  {
   "cell_type": "code",
   "execution_count": 76,
   "id": "571f6d92-889a-4c6c-9c1f-5a10ade209f6",
   "metadata": {},
   "outputs": [
    {
     "data": {
      "text/plain": [
       "array([0, 1, 0, 0, 1, 0, 1, 1, 0, 0], dtype=int64)"
      ]
     },
     "execution_count": 76,
     "metadata": {},
     "output_type": "execute_result"
    }
   ],
   "source": [
    "X_new = df_new[cols]\n",
    "pipe.predict(X_new)"
   ]
  },
  {
   "cell_type": "markdown",
   "id": "d86f74dd-b022-4740-9de9-0b2a90b848c9",
   "metadata": {},
   "source": [
    "### Option 3: Imputation + Adding missingness as a feature"
   ]
  },
  {
   "cell_type": "code",
   "execution_count": 77,
   "id": "8b2e18af-6bfd-4f30-ad50-c20b86afc295",
   "metadata": {},
   "outputs": [
    {
     "data": {
      "text/plain": [
       "array([[22.        ,  0.        ],\n",
       "       [38.        ,  0.        ],\n",
       "       [26.        ,  0.        ],\n",
       "       [35.        ,  0.        ],\n",
       "       [35.        ,  0.        ],\n",
       "       [28.11111111,  1.        ],\n",
       "       [54.        ,  0.        ],\n",
       "       [ 2.        ,  0.        ],\n",
       "       [27.        ,  0.        ],\n",
       "       [14.        ,  0.        ]])"
      ]
     },
     "execution_count": 77,
     "metadata": {},
     "output_type": "execute_result"
    }
   ],
   "source": [
    "imp_ind = SimpleImputer(add_indicator=True)\n",
    "imp_ind.fit_transform(X[['Age']])"
   ]
  },
  {
   "cell_type": "markdown",
   "id": "9e12d507-c37a-4370-887b-20ca5cb869f7",
   "metadata": {},
   "source": [
    "# Switching to full dataset"
   ]
  },
  {
   "cell_type": "code",
   "execution_count": 78,
   "id": "8c822cdc-da4d-499b-befe-37d5c37ebf38",
   "metadata": {},
   "outputs": [
    {
     "data": {
      "text/plain": [
       "(891, 12)"
      ]
     },
     "execution_count": 78,
     "metadata": {},
     "output_type": "execute_result"
    }
   ],
   "source": [
    "df = pd.read_csv('titanic.csv')\n",
    "df.shape"
   ]
  },
  {
   "cell_type": "markdown",
   "id": "4a95c3f6-1675-43aa-beb5-227175a1940f",
   "metadata": {},
   "source": [
    "## Missing values: issues"
   ]
  },
  {
   "cell_type": "code",
   "execution_count": 79,
   "id": "32a7f894-1ab3-4d8a-9eb8-589832f06cb0",
   "metadata": {},
   "outputs": [
    {
     "data": {
      "text/plain": [
       "PassengerId      0\n",
       "Survived         0\n",
       "Pclass           0\n",
       "Name             0\n",
       "Sex              0\n",
       "Age            177\n",
       "SibSp            0\n",
       "Parch            0\n",
       "Ticket           0\n",
       "Fare             0\n",
       "Cabin          687\n",
       "Embarked         2\n",
       "dtype: int64"
      ]
     },
     "execution_count": 79,
     "metadata": {},
     "output_type": "execute_result"
    }
   ],
   "source": [
    "df.isna().sum()"
   ]
  },
  {
   "cell_type": "code",
   "execution_count": 80,
   "id": "afed00e3-0e6f-4ed2-bd01-dd32012e1c6d",
   "metadata": {},
   "outputs": [
    {
     "data": {
      "text/plain": [
       "(418, 11)"
      ]
     },
     "execution_count": 80,
     "metadata": {},
     "output_type": "execute_result"
    }
   ],
   "source": [
    "df_test = pd.read_csv('titanic_test.csv')\n",
    "df_test.shape"
   ]
  },
  {
   "cell_type": "code",
   "execution_count": 81,
   "id": "4537adbd-257a-4666-8d29-9e9d38308da2",
   "metadata": {},
   "outputs": [
    {
     "data": {
      "text/plain": [
       "PassengerId      0\n",
       "Pclass           0\n",
       "Name             0\n",
       "Sex              0\n",
       "Age             86\n",
       "SibSp            0\n",
       "Parch            0\n",
       "Ticket           0\n",
       "Fare             1\n",
       "Cabin          327\n",
       "Embarked         0\n",
       "dtype: int64"
      ]
     },
     "execution_count": 81,
     "metadata": {},
     "output_type": "execute_result"
    }
   ],
   "source": [
    "df_test.isna().sum()"
   ]
  },
  {
   "cell_type": "markdown",
   "id": "892ba550-88d0-4fd7-a0fb-a46284f15b76",
   "metadata": {},
   "source": [
    "**Problems:**\n",
    "\n",
    "- Embarked has missing value in training but not testing.\n",
    "- Fare has missing values in testing but not training. \n",
    "\n",
    "Impute missing values before OHE."
   ]
  },
  {
   "cell_type": "code",
   "execution_count": 87,
   "id": "042c42e6-5cc7-4d63-b436-72c2dacc8171",
   "metadata": {},
   "outputs": [
    {
     "data": {
      "text/plain": [
       "<891x1518 sparse matrix of type '<class 'numpy.float64'>'\n",
       "\twith 7328 stored elements in Compressed Sparse Row format>"
      ]
     },
     "execution_count": 87,
     "metadata": {},
     "output_type": "execute_result"
    }
   ],
   "source": [
    "# Problem 1: Embarked missing\n",
    "\n",
    "# Fill value with the word: 'missing'. To treat missing value as 4th category.\n",
    "imp_constant = SimpleImputer(strategy='constant', fill_value='missing')\n",
    "\n",
    "# Transformer only pipeline: imputation + ohe\n",
    "imp_ohe = make_pipeline(imp_constant, ohe)\n",
    "\n",
    "# New column transformer\n",
    "ct = make_column_transformer(\n",
    "    (imp_ohe, ['Embarked', 'Sex']),\n",
    "    (vect, 'Name'),\n",
    "    (imp, ['Age']),\n",
    "    remainder='passthrough'\n",
    ")\n",
    "\n",
    "ct.fit_transform(X)"
   ]
  },
  {
   "cell_type": "code",
   "execution_count": 88,
   "id": "cce8fefb-a946-438e-a45f-84071ba30dbc",
   "metadata": {},
   "outputs": [
    {
     "data": {
      "text/plain": [
       "<891x1518 sparse matrix of type '<class 'numpy.float64'>'\n",
       "\twith 7328 stored elements in Compressed Sparse Row format>"
      ]
     },
     "execution_count": 88,
     "metadata": {},
     "output_type": "execute_result"
    }
   ],
   "source": [
    "# Problem 2: Fare missing (updating previous cell code)\n",
    "\n",
    "# Fill value with the word: 'missing'. To treat missing value as 4th category.\n",
    "imp_constant = SimpleImputer(strategy='constant', fill_value='missing')\n",
    "\n",
    "# Transformer only pipeline: imputation + ohe\n",
    "imp_ohe = make_pipeline(imp_constant, ohe)\n",
    "\n",
    "# New column transformer\n",
    "ct = make_column_transformer(\n",
    "    (imp_ohe, ['Embarked', 'Sex']),\n",
    "    (vect, 'Name'),\n",
    "    (imp, ['Age', 'Fare']),\n",
    "    remainder='passthrough'\n",
    ")\n",
    "\n",
    "ct.fit_transform(X)"
   ]
  },
  {
   "cell_type": "markdown",
   "id": "f208188f-b82c-4e40-80e6-3e2c988e5023",
   "metadata": {},
   "source": [
    "#### NOTE: All Pipeline steps, other than the final step MUST be a tranformer. The final step can be a model or a transformer."
   ]
  },
  {
   "cell_type": "code",
   "execution_count": 89,
   "id": "1fb3836b-ca5f-48e8-aef6-e6b6cccbefe6",
   "metadata": {},
   "outputs": [
    {
     "data": {
      "text/html": [
       "<style>#sk-container-id-7 {color: black;background-color: white;}#sk-container-id-7 pre{padding: 0;}#sk-container-id-7 div.sk-toggleable {background-color: white;}#sk-container-id-7 label.sk-toggleable__label {cursor: pointer;display: block;width: 100%;margin-bottom: 0;padding: 0.3em;box-sizing: border-box;text-align: center;}#sk-container-id-7 label.sk-toggleable__label-arrow:before {content: \"▸\";float: left;margin-right: 0.25em;color: #696969;}#sk-container-id-7 label.sk-toggleable__label-arrow:hover:before {color: black;}#sk-container-id-7 div.sk-estimator:hover label.sk-toggleable__label-arrow:before {color: black;}#sk-container-id-7 div.sk-toggleable__content {max-height: 0;max-width: 0;overflow: hidden;text-align: left;background-color: #f0f8ff;}#sk-container-id-7 div.sk-toggleable__content pre {margin: 0.2em;color: black;border-radius: 0.25em;background-color: #f0f8ff;}#sk-container-id-7 input.sk-toggleable__control:checked~div.sk-toggleable__content {max-height: 200px;max-width: 100%;overflow: auto;}#sk-container-id-7 input.sk-toggleable__control:checked~label.sk-toggleable__label-arrow:before {content: \"▾\";}#sk-container-id-7 div.sk-estimator input.sk-toggleable__control:checked~label.sk-toggleable__label {background-color: #d4ebff;}#sk-container-id-7 div.sk-label input.sk-toggleable__control:checked~label.sk-toggleable__label {background-color: #d4ebff;}#sk-container-id-7 input.sk-hidden--visually {border: 0;clip: rect(1px 1px 1px 1px);clip: rect(1px, 1px, 1px, 1px);height: 1px;margin: -1px;overflow: hidden;padding: 0;position: absolute;width: 1px;}#sk-container-id-7 div.sk-estimator {font-family: monospace;background-color: #f0f8ff;border: 1px dotted black;border-radius: 0.25em;box-sizing: border-box;margin-bottom: 0.5em;}#sk-container-id-7 div.sk-estimator:hover {background-color: #d4ebff;}#sk-container-id-7 div.sk-parallel-item::after {content: \"\";width: 100%;border-bottom: 1px solid gray;flex-grow: 1;}#sk-container-id-7 div.sk-label:hover label.sk-toggleable__label {background-color: #d4ebff;}#sk-container-id-7 div.sk-serial::before {content: \"\";position: absolute;border-left: 1px solid gray;box-sizing: border-box;top: 0;bottom: 0;left: 50%;z-index: 0;}#sk-container-id-7 div.sk-serial {display: flex;flex-direction: column;align-items: center;background-color: white;padding-right: 0.2em;padding-left: 0.2em;position: relative;}#sk-container-id-7 div.sk-item {position: relative;z-index: 1;}#sk-container-id-7 div.sk-parallel {display: flex;align-items: stretch;justify-content: center;background-color: white;position: relative;}#sk-container-id-7 div.sk-item::before, #sk-container-id-7 div.sk-parallel-item::before {content: \"\";position: absolute;border-left: 1px solid gray;box-sizing: border-box;top: 0;bottom: 0;left: 50%;z-index: -1;}#sk-container-id-7 div.sk-parallel-item {display: flex;flex-direction: column;z-index: 1;position: relative;background-color: white;}#sk-container-id-7 div.sk-parallel-item:first-child::after {align-self: flex-end;width: 50%;}#sk-container-id-7 div.sk-parallel-item:last-child::after {align-self: flex-start;width: 50%;}#sk-container-id-7 div.sk-parallel-item:only-child::after {width: 0;}#sk-container-id-7 div.sk-dashed-wrapped {border: 1px dashed gray;margin: 0 0.4em 0.5em 0.4em;box-sizing: border-box;padding-bottom: 0.4em;background-color: white;}#sk-container-id-7 div.sk-label label {font-family: monospace;font-weight: bold;display: inline-block;line-height: 1.2em;}#sk-container-id-7 div.sk-label-container {text-align: center;}#sk-container-id-7 div.sk-container {/* jupyter's `normalize.less` sets `[hidden] { display: none; }` but bootstrap.min.css set `[hidden] { display: none !important; }` so we also need the `!important` here to be able to override the default hidden behavior on the sphinx rendered scikit-learn.org. See: https://github.com/scikit-learn/scikit-learn/issues/21755 */display: inline-block !important;position: relative;}#sk-container-id-7 div.sk-text-repr-fallback {display: none;}</style><div id=\"sk-container-id-7\" class=\"sk-top-container\"><div class=\"sk-text-repr-fallback\"><pre>Pipeline(steps=[(&#x27;columntransformer&#x27;,\n",
       "                 ColumnTransformer(remainder=&#x27;passthrough&#x27;,\n",
       "                                   transformers=[(&#x27;pipeline&#x27;,\n",
       "                                                  Pipeline(steps=[(&#x27;simpleimputer&#x27;,\n",
       "                                                                   SimpleImputer(fill_value=&#x27;missing&#x27;,\n",
       "                                                                                 strategy=&#x27;constant&#x27;)),\n",
       "                                                                  (&#x27;onehotencoder&#x27;,\n",
       "                                                                   OneHotEncoder())]),\n",
       "                                                  [&#x27;Embarked&#x27;, &#x27;Sex&#x27;]),\n",
       "                                                 (&#x27;countvectorizer&#x27;,\n",
       "                                                  CountVectorizer(), &#x27;Name&#x27;),\n",
       "                                                 (&#x27;simpleimputer&#x27;,\n",
       "                                                  SimpleImputer(),\n",
       "                                                  [&#x27;Age&#x27;, &#x27;Fare&#x27;])])),\n",
       "                (&#x27;logisticregression&#x27;,\n",
       "                 LogisticRegression(random_state=1998, solver=&#x27;liblinear&#x27;))])</pre><b>In a Jupyter environment, please rerun this cell to show the HTML representation or trust the notebook. <br />On GitHub, the HTML representation is unable to render, please try loading this page with nbviewer.org.</b></div><div class=\"sk-container\" hidden><div class=\"sk-item sk-dashed-wrapped\"><div class=\"sk-label-container\"><div class=\"sk-label sk-toggleable\"><input class=\"sk-toggleable__control sk-hidden--visually\" id=\"sk-estimator-id-47\" type=\"checkbox\" ><label for=\"sk-estimator-id-47\" class=\"sk-toggleable__label sk-toggleable__label-arrow\">Pipeline</label><div class=\"sk-toggleable__content\"><pre>Pipeline(steps=[(&#x27;columntransformer&#x27;,\n",
       "                 ColumnTransformer(remainder=&#x27;passthrough&#x27;,\n",
       "                                   transformers=[(&#x27;pipeline&#x27;,\n",
       "                                                  Pipeline(steps=[(&#x27;simpleimputer&#x27;,\n",
       "                                                                   SimpleImputer(fill_value=&#x27;missing&#x27;,\n",
       "                                                                                 strategy=&#x27;constant&#x27;)),\n",
       "                                                                  (&#x27;onehotencoder&#x27;,\n",
       "                                                                   OneHotEncoder())]),\n",
       "                                                  [&#x27;Embarked&#x27;, &#x27;Sex&#x27;]),\n",
       "                                                 (&#x27;countvectorizer&#x27;,\n",
       "                                                  CountVectorizer(), &#x27;Name&#x27;),\n",
       "                                                 (&#x27;simpleimputer&#x27;,\n",
       "                                                  SimpleImputer(),\n",
       "                                                  [&#x27;Age&#x27;, &#x27;Fare&#x27;])])),\n",
       "                (&#x27;logisticregression&#x27;,\n",
       "                 LogisticRegression(random_state=1998, solver=&#x27;liblinear&#x27;))])</pre></div></div></div><div class=\"sk-serial\"><div class=\"sk-item sk-dashed-wrapped\"><div class=\"sk-label-container\"><div class=\"sk-label sk-toggleable\"><input class=\"sk-toggleable__control sk-hidden--visually\" id=\"sk-estimator-id-48\" type=\"checkbox\" ><label for=\"sk-estimator-id-48\" class=\"sk-toggleable__label sk-toggleable__label-arrow\">columntransformer: ColumnTransformer</label><div class=\"sk-toggleable__content\"><pre>ColumnTransformer(remainder=&#x27;passthrough&#x27;,\n",
       "                  transformers=[(&#x27;pipeline&#x27;,\n",
       "                                 Pipeline(steps=[(&#x27;simpleimputer&#x27;,\n",
       "                                                  SimpleImputer(fill_value=&#x27;missing&#x27;,\n",
       "                                                                strategy=&#x27;constant&#x27;)),\n",
       "                                                 (&#x27;onehotencoder&#x27;,\n",
       "                                                  OneHotEncoder())]),\n",
       "                                 [&#x27;Embarked&#x27;, &#x27;Sex&#x27;]),\n",
       "                                (&#x27;countvectorizer&#x27;, CountVectorizer(), &#x27;Name&#x27;),\n",
       "                                (&#x27;simpleimputer&#x27;, SimpleImputer(),\n",
       "                                 [&#x27;Age&#x27;, &#x27;Fare&#x27;])])</pre></div></div></div><div class=\"sk-parallel\"><div class=\"sk-parallel-item\"><div class=\"sk-item\"><div class=\"sk-label-container\"><div class=\"sk-label sk-toggleable\"><input class=\"sk-toggleable__control sk-hidden--visually\" id=\"sk-estimator-id-49\" type=\"checkbox\" ><label for=\"sk-estimator-id-49\" class=\"sk-toggleable__label sk-toggleable__label-arrow\">pipeline</label><div class=\"sk-toggleable__content\"><pre>[&#x27;Embarked&#x27;, &#x27;Sex&#x27;]</pre></div></div></div><div class=\"sk-serial\"><div class=\"sk-item\"><div class=\"sk-serial\"><div class=\"sk-item\"><div class=\"sk-estimator sk-toggleable\"><input class=\"sk-toggleable__control sk-hidden--visually\" id=\"sk-estimator-id-50\" type=\"checkbox\" ><label for=\"sk-estimator-id-50\" class=\"sk-toggleable__label sk-toggleable__label-arrow\">SimpleImputer</label><div class=\"sk-toggleable__content\"><pre>SimpleImputer(fill_value=&#x27;missing&#x27;, strategy=&#x27;constant&#x27;)</pre></div></div></div><div class=\"sk-item\"><div class=\"sk-estimator sk-toggleable\"><input class=\"sk-toggleable__control sk-hidden--visually\" id=\"sk-estimator-id-51\" type=\"checkbox\" ><label for=\"sk-estimator-id-51\" class=\"sk-toggleable__label sk-toggleable__label-arrow\">OneHotEncoder</label><div class=\"sk-toggleable__content\"><pre>OneHotEncoder()</pre></div></div></div></div></div></div></div></div><div class=\"sk-parallel-item\"><div class=\"sk-item\"><div class=\"sk-label-container\"><div class=\"sk-label sk-toggleable\"><input class=\"sk-toggleable__control sk-hidden--visually\" id=\"sk-estimator-id-52\" type=\"checkbox\" ><label for=\"sk-estimator-id-52\" class=\"sk-toggleable__label sk-toggleable__label-arrow\">countvectorizer</label><div class=\"sk-toggleable__content\"><pre>Name</pre></div></div></div><div class=\"sk-serial\"><div class=\"sk-item\"><div class=\"sk-estimator sk-toggleable\"><input class=\"sk-toggleable__control sk-hidden--visually\" id=\"sk-estimator-id-53\" type=\"checkbox\" ><label for=\"sk-estimator-id-53\" class=\"sk-toggleable__label sk-toggleable__label-arrow\">CountVectorizer</label><div class=\"sk-toggleable__content\"><pre>CountVectorizer()</pre></div></div></div></div></div></div><div class=\"sk-parallel-item\"><div class=\"sk-item\"><div class=\"sk-label-container\"><div class=\"sk-label sk-toggleable\"><input class=\"sk-toggleable__control sk-hidden--visually\" id=\"sk-estimator-id-54\" type=\"checkbox\" ><label for=\"sk-estimator-id-54\" class=\"sk-toggleable__label sk-toggleable__label-arrow\">simpleimputer</label><div class=\"sk-toggleable__content\"><pre>[&#x27;Age&#x27;, &#x27;Fare&#x27;]</pre></div></div></div><div class=\"sk-serial\"><div class=\"sk-item\"><div class=\"sk-estimator sk-toggleable\"><input class=\"sk-toggleable__control sk-hidden--visually\" id=\"sk-estimator-id-55\" type=\"checkbox\" ><label for=\"sk-estimator-id-55\" class=\"sk-toggleable__label sk-toggleable__label-arrow\">SimpleImputer</label><div class=\"sk-toggleable__content\"><pre>SimpleImputer()</pre></div></div></div></div></div></div><div class=\"sk-parallel-item\"><div class=\"sk-item\"><div class=\"sk-label-container\"><div class=\"sk-label sk-toggleable\"><input class=\"sk-toggleable__control sk-hidden--visually\" id=\"sk-estimator-id-56\" type=\"checkbox\" ><label for=\"sk-estimator-id-56\" class=\"sk-toggleable__label sk-toggleable__label-arrow\">remainder</label><div class=\"sk-toggleable__content\"><pre>[&#x27;Parch&#x27;]</pre></div></div></div><div class=\"sk-serial\"><div class=\"sk-item\"><div class=\"sk-estimator sk-toggleable\"><input class=\"sk-toggleable__control sk-hidden--visually\" id=\"sk-estimator-id-57\" type=\"checkbox\" ><label for=\"sk-estimator-id-57\" class=\"sk-toggleable__label sk-toggleable__label-arrow\">passthrough</label><div class=\"sk-toggleable__content\"><pre>passthrough</pre></div></div></div></div></div></div></div></div><div class=\"sk-item\"><div class=\"sk-estimator sk-toggleable\"><input class=\"sk-toggleable__control sk-hidden--visually\" id=\"sk-estimator-id-58\" type=\"checkbox\" ><label for=\"sk-estimator-id-58\" class=\"sk-toggleable__label sk-toggleable__label-arrow\">LogisticRegression</label><div class=\"sk-toggleable__content\"><pre>LogisticRegression(random_state=1998, solver=&#x27;liblinear&#x27;)</pre></div></div></div></div></div></div></div>"
      ],
      "text/plain": [
       "Pipeline(steps=[('columntransformer',\n",
       "                 ColumnTransformer(remainder='passthrough',\n",
       "                                   transformers=[('pipeline',\n",
       "                                                  Pipeline(steps=[('simpleimputer',\n",
       "                                                                   SimpleImputer(fill_value='missing',\n",
       "                                                                                 strategy='constant')),\n",
       "                                                                  ('onehotencoder',\n",
       "                                                                   OneHotEncoder())]),\n",
       "                                                  ['Embarked', 'Sex']),\n",
       "                                                 ('countvectorizer',\n",
       "                                                  CountVectorizer(), 'Name'),\n",
       "                                                 ('simpleimputer',\n",
       "                                                  SimpleImputer(),\n",
       "                                                  ['Age', 'Fare'])])),\n",
       "                ('logisticregression',\n",
       "                 LogisticRegression(random_state=1998, solver='liblinear'))])"
      ]
     },
     "execution_count": 89,
     "metadata": {},
     "output_type": "execute_result"
    }
   ],
   "source": [
    "pipe = make_pipeline(ct, logreg)\n",
    "pipe.fit(X, y)"
   ]
  },
  {
   "cell_type": "code",
   "execution_count": 90,
   "id": "cf989cbd-7e2a-435b-8556-917918bd1214",
   "metadata": {},
   "outputs": [
    {
     "data": {
      "text/plain": [
       "array([0, 1, 0, 0, 1, 0, 1, 0, 1, 0, 0, 0, 1, 0, 1, 1, 0, 0, 0, 1, 0, 1,\n",
       "       1, 0, 1, 0, 1, 0, 0, 0, 0, 0, 1, 1, 0, 0, 1, 1, 0, 0, 0, 0, 0, 1,\n",
       "       1, 0, 0, 0, 1, 1, 0, 0, 1, 1, 0, 0, 0, 0, 0, 1, 0, 0, 0, 1, 1, 1,\n",
       "       1, 0, 0, 1, 1, 0, 1, 0, 1, 1, 0, 1, 0, 1, 0, 1, 0, 0, 0, 0, 1, 1,\n",
       "       1, 1, 1, 0, 1, 0, 0, 0, 1, 0, 1, 0, 1, 0, 0, 0, 1, 0, 0, 0, 0, 0,\n",
       "       0, 1, 1, 1, 1, 0, 0, 1, 0, 1, 1, 0, 1, 0, 0, 1, 0, 1, 0, 0, 0, 0,\n",
       "       0, 0, 0, 0, 0, 0, 1, 0, 0, 1, 0, 0, 0, 0, 0, 0, 0, 0, 1, 0, 0, 0,\n",
       "       1, 0, 1, 1, 0, 1, 1, 1, 1, 0, 0, 1, 0, 0, 1, 1, 0, 0, 0, 0, 0, 1,\n",
       "       1, 0, 1, 1, 0, 0, 1, 0, 1, 0, 1, 0, 0, 0, 0, 0, 0, 0, 0, 0, 1, 1,\n",
       "       0, 1, 1, 0, 1, 1, 0, 0, 1, 0, 1, 0, 0, 0, 0, 1, 0, 0, 1, 0, 1, 0,\n",
       "       1, 0, 1, 0, 1, 1, 0, 1, 0, 0, 0, 1, 0, 0, 0, 0, 0, 0, 1, 1, 1, 1,\n",
       "       1, 0, 0, 0, 1, 0, 1, 1, 0, 0, 1, 0, 0, 0, 0, 0, 1, 0, 0, 0, 1, 1,\n",
       "       0, 0, 0, 0, 1, 0, 0, 0, 1, 1, 0, 1, 0, 0, 0, 0, 1, 0, 1, 1, 1, 0,\n",
       "       0, 0, 0, 0, 0, 1, 0, 0, 0, 0, 1, 0, 0, 0, 0, 0, 0, 0, 1, 1, 0, 1,\n",
       "       0, 1, 0, 0, 0, 1, 1, 1, 1, 0, 0, 0, 0, 0, 0, 0, 1, 0, 1, 0, 0, 0,\n",
       "       1, 0, 0, 1, 0, 0, 0, 0, 0, 1, 0, 0, 0, 1, 0, 1, 0, 1, 0, 1, 1, 0,\n",
       "       0, 0, 1, 0, 1, 0, 0, 1, 0, 1, 1, 0, 1, 0, 0, 1, 1, 0, 0, 1, 0, 0,\n",
       "       1, 1, 1, 0, 0, 1, 0, 0, 1, 1, 0, 1, 0, 0, 0, 0, 0, 1, 1, 0, 0, 1,\n",
       "       0, 1, 0, 0, 1, 0, 1, 0, 0, 0, 0, 1, 1, 1, 1, 1, 1, 0, 1, 0, 0, 1],\n",
       "      dtype=int64)"
      ]
     },
     "execution_count": 90,
     "metadata": {},
     "output_type": "execute_result"
    }
   ],
   "source": [
    "X_new = df_test[cols]\n",
    "pipe.predict(X_new)"
   ]
  },
  {
   "cell_type": "code",
   "execution_count": 91,
   "id": "858d6ebe-a7c9-4da4-84ba-bbe81b253f3d",
   "metadata": {},
   "outputs": [
    {
     "data": {
      "text/plain": [
       "array([29.69911765, 32.20420797])"
      ]
     },
     "execution_count": 91,
     "metadata": {},
     "output_type": "execute_result"
    }
   ],
   "source": [
    "# To view the statistics of transformers\n",
    "ct.named_transformers_.simpleimputer.statistics_"
   ]
  },
  {
   "cell_type": "code",
   "execution_count": 92,
   "id": "14c57f81-08fa-418e-a662-7cf88e68b3ca",
   "metadata": {},
   "outputs": [
    {
     "data": {
      "text/plain": [
       "array(['missing', 'missing'], dtype=object)"
      ]
     },
     "execution_count": 92,
     "metadata": {},
     "output_type": "execute_result"
    }
   ],
   "source": [
    "ct.named_transformers_.pipeline.named_steps.simpleimputer.statistics_"
   ]
  },
  {
   "cell_type": "markdown",
   "id": "9b62e481-cfec-4990-8469-c006cb10c406",
   "metadata": {},
   "source": [
    "#### Note: Q) Why is it necessary to build a pipeline of SI and OHE for Embarked and Sex instead of just adding it as a step in the column transformer?\n",
    "\n",
    "Hint: Results get stacked, not replcaed."
   ]
  },
  {
   "cell_type": "markdown",
   "id": "e330ad1b-41b3-43f9-8a59-fab96a79fa73",
   "metadata": {},
   "source": [
    "#### Note: Why use Sklearn instead of pandas for pre-processing?\n",
    "\n",
    "- Cannot do Count Vectorizer in pandas. Combining sklearn and pandas just for count vectorizer is too much hassle like say going back and forth between dense and sparse matrices.\n",
    "\n",
    "- Performing OHE using get_dummies adds those columns to the pandas dataframe, which is not desirable. Using sklearn leaves the source dataset as is.\n",
    "\n",
    "- Missing values imputation using pandas can cause data leakage. When we use a model evaluation procedure such as train-test split or cross validation, that is supposed to simulate the future to allow us to estimate the future peformance of the model. Imputing missing values using pandas, and passing the dataset to the model, will no long accurately simulate the reality because the model will learn something that it is not supposed to. For example, your imputation values will be based on the entire dataset instead of just the \"training portion\". Data Leakage therefore in this could would boil down to learning something from the testing data that you are not supposed to do. This is one reason why seperate fit and tranform methods are so useful.\n",
    "\n",
    "- Cross validation of the Pipeline"
   ]
  },
  {
   "cell_type": "markdown",
   "id": "739918ae-bb7d-43b4-9db1-ab393a0d47ac",
   "metadata": {},
   "source": [
    "# Evaluating and tuning a Pipeline"
   ]
  },
  {
   "cell_type": "code",
   "execution_count": 93,
   "id": "b8277730-a560-4f7c-a6c6-bf6e92a7ec15",
   "metadata": {},
   "outputs": [],
   "source": [
    "from sklearn.model_selection import cross_val_score"
   ]
  },
  {
   "cell_type": "code",
   "execution_count": 94,
   "id": "5531e85b-c9d6-4111-9e75-ae3ed6079895",
   "metadata": {},
   "outputs": [
    {
     "data": {
      "text/plain": [
       "array([0.79888268, 0.8258427 , 0.80337079, 0.78651685, 0.84269663])"
      ]
     },
     "execution_count": 94,
     "metadata": {},
     "output_type": "execute_result"
    }
   ],
   "source": [
    "cross_val_score(pipe, X, y, cv=5, scoring='accuracy')"
   ]
  },
  {
   "cell_type": "markdown",
   "id": "2bd18ab5-dc11-4f05-a724-e757e266d53f",
   "metadata": {},
   "source": [
    "**Neat thing about cross validation is, in this case it divides the data into 5 parts, trains on the first 4 (does a fit) uses what it learnt in the 4 folds to evaluate on the 5th fold and returns the accuracy. Very important thing to know is cv splits the data before transformations to simulate real scenario to the closest. Repeats it 5 more times.**"
   ]
  },
  {
   "cell_type": "markdown",
   "id": "580dcfae-6685-452e-94bf-a590bcd7efc6",
   "metadata": {},
   "source": [
    "## Tuning hyperparameters of the Pipeline\n",
    "\n",
    "**Parameters**: values learnt by the model <br>\n",
    "**Hyperparameters**: values set by the modeller."
   ]
  },
  {
   "cell_type": "code",
   "execution_count": 95,
   "id": "0b2d692f-9e84-4ae9-9315-b95546abdae2",
   "metadata": {},
   "outputs": [
    {
     "data": {
      "text/plain": [
       "dict_keys(['columntransformer', 'logisticregression'])"
      ]
     },
     "execution_count": 95,
     "metadata": {},
     "output_type": "execute_result"
    }
   ],
   "source": [
    "pipe.named_steps.keys()"
   ]
  },
  {
   "cell_type": "markdown",
   "id": "e73cfdca-fb42-4035-84a2-6ec3ca770f3b",
   "metadata": {},
   "source": [
    "### Tuning LogisticRegression"
   ]
  },
  {
   "cell_type": "code",
   "execution_count": 96,
   "id": "5647c0d5-b9ea-441c-acf3-56f5c9a21f9b",
   "metadata": {},
   "outputs": [],
   "source": [
    "params = {}\n",
    "params['logisticregression__penalty'] = ['l1', 'l2']\n",
    "params['logisticregression__C'] = [0.1, 1, 10]"
   ]
  },
  {
   "cell_type": "code",
   "execution_count": 97,
   "id": "363f539c-c552-4905-9955-bc76bd38bf82",
   "metadata": {},
   "outputs": [],
   "source": [
    "from sklearn.model_selection import GridSearchCV"
   ]
  },
  {
   "cell_type": "code",
   "execution_count": 98,
   "id": "957db18d-c7fc-4699-bd48-54e2742d2d30",
   "metadata": {},
   "outputs": [
    {
     "data": {
      "text/html": [
       "<style>#sk-container-id-8 {color: black;background-color: white;}#sk-container-id-8 pre{padding: 0;}#sk-container-id-8 div.sk-toggleable {background-color: white;}#sk-container-id-8 label.sk-toggleable__label {cursor: pointer;display: block;width: 100%;margin-bottom: 0;padding: 0.3em;box-sizing: border-box;text-align: center;}#sk-container-id-8 label.sk-toggleable__label-arrow:before {content: \"▸\";float: left;margin-right: 0.25em;color: #696969;}#sk-container-id-8 label.sk-toggleable__label-arrow:hover:before {color: black;}#sk-container-id-8 div.sk-estimator:hover label.sk-toggleable__label-arrow:before {color: black;}#sk-container-id-8 div.sk-toggleable__content {max-height: 0;max-width: 0;overflow: hidden;text-align: left;background-color: #f0f8ff;}#sk-container-id-8 div.sk-toggleable__content pre {margin: 0.2em;color: black;border-radius: 0.25em;background-color: #f0f8ff;}#sk-container-id-8 input.sk-toggleable__control:checked~div.sk-toggleable__content {max-height: 200px;max-width: 100%;overflow: auto;}#sk-container-id-8 input.sk-toggleable__control:checked~label.sk-toggleable__label-arrow:before {content: \"▾\";}#sk-container-id-8 div.sk-estimator input.sk-toggleable__control:checked~label.sk-toggleable__label {background-color: #d4ebff;}#sk-container-id-8 div.sk-label input.sk-toggleable__control:checked~label.sk-toggleable__label {background-color: #d4ebff;}#sk-container-id-8 input.sk-hidden--visually {border: 0;clip: rect(1px 1px 1px 1px);clip: rect(1px, 1px, 1px, 1px);height: 1px;margin: -1px;overflow: hidden;padding: 0;position: absolute;width: 1px;}#sk-container-id-8 div.sk-estimator {font-family: monospace;background-color: #f0f8ff;border: 1px dotted black;border-radius: 0.25em;box-sizing: border-box;margin-bottom: 0.5em;}#sk-container-id-8 div.sk-estimator:hover {background-color: #d4ebff;}#sk-container-id-8 div.sk-parallel-item::after {content: \"\";width: 100%;border-bottom: 1px solid gray;flex-grow: 1;}#sk-container-id-8 div.sk-label:hover label.sk-toggleable__label {background-color: #d4ebff;}#sk-container-id-8 div.sk-serial::before {content: \"\";position: absolute;border-left: 1px solid gray;box-sizing: border-box;top: 0;bottom: 0;left: 50%;z-index: 0;}#sk-container-id-8 div.sk-serial {display: flex;flex-direction: column;align-items: center;background-color: white;padding-right: 0.2em;padding-left: 0.2em;position: relative;}#sk-container-id-8 div.sk-item {position: relative;z-index: 1;}#sk-container-id-8 div.sk-parallel {display: flex;align-items: stretch;justify-content: center;background-color: white;position: relative;}#sk-container-id-8 div.sk-item::before, #sk-container-id-8 div.sk-parallel-item::before {content: \"\";position: absolute;border-left: 1px solid gray;box-sizing: border-box;top: 0;bottom: 0;left: 50%;z-index: -1;}#sk-container-id-8 div.sk-parallel-item {display: flex;flex-direction: column;z-index: 1;position: relative;background-color: white;}#sk-container-id-8 div.sk-parallel-item:first-child::after {align-self: flex-end;width: 50%;}#sk-container-id-8 div.sk-parallel-item:last-child::after {align-self: flex-start;width: 50%;}#sk-container-id-8 div.sk-parallel-item:only-child::after {width: 0;}#sk-container-id-8 div.sk-dashed-wrapped {border: 1px dashed gray;margin: 0 0.4em 0.5em 0.4em;box-sizing: border-box;padding-bottom: 0.4em;background-color: white;}#sk-container-id-8 div.sk-label label {font-family: monospace;font-weight: bold;display: inline-block;line-height: 1.2em;}#sk-container-id-8 div.sk-label-container {text-align: center;}#sk-container-id-8 div.sk-container {/* jupyter's `normalize.less` sets `[hidden] { display: none; }` but bootstrap.min.css set `[hidden] { display: none !important; }` so we also need the `!important` here to be able to override the default hidden behavior on the sphinx rendered scikit-learn.org. See: https://github.com/scikit-learn/scikit-learn/issues/21755 */display: inline-block !important;position: relative;}#sk-container-id-8 div.sk-text-repr-fallback {display: none;}</style><div id=\"sk-container-id-8\" class=\"sk-top-container\"><div class=\"sk-text-repr-fallback\"><pre>GridSearchCV(cv=5,\n",
       "             estimator=Pipeline(steps=[(&#x27;columntransformer&#x27;,\n",
       "                                        ColumnTransformer(remainder=&#x27;passthrough&#x27;,\n",
       "                                                          transformers=[(&#x27;pipeline&#x27;,\n",
       "                                                                         Pipeline(steps=[(&#x27;simpleimputer&#x27;,\n",
       "                                                                                          SimpleImputer(fill_value=&#x27;missing&#x27;,\n",
       "                                                                                                        strategy=&#x27;constant&#x27;)),\n",
       "                                                                                         (&#x27;onehotencoder&#x27;,\n",
       "                                                                                          OneHotEncoder())]),\n",
       "                                                                         [&#x27;Embarked&#x27;,\n",
       "                                                                          &#x27;Sex&#x27;]),\n",
       "                                                                        (&#x27;countvectorizer&#x27;,\n",
       "                                                                         CountVectorizer(),\n",
       "                                                                         &#x27;Name&#x27;),\n",
       "                                                                        (&#x27;simpleimputer&#x27;,\n",
       "                                                                         SimpleImputer(),\n",
       "                                                                         [&#x27;Age&#x27;,\n",
       "                                                                          &#x27;Fare&#x27;])])),\n",
       "                                       (&#x27;logisticregression&#x27;,\n",
       "                                        LogisticRegression(random_state=1998,\n",
       "                                                           solver=&#x27;liblinear&#x27;))]),\n",
       "             param_grid={&#x27;logisticregression__C&#x27;: [0.1, 1, 10],\n",
       "                         &#x27;logisticregression__penalty&#x27;: [&#x27;l1&#x27;, &#x27;l2&#x27;]},\n",
       "             scoring=&#x27;accuracy&#x27;)</pre><b>In a Jupyter environment, please rerun this cell to show the HTML representation or trust the notebook. <br />On GitHub, the HTML representation is unable to render, please try loading this page with nbviewer.org.</b></div><div class=\"sk-container\" hidden><div class=\"sk-item sk-dashed-wrapped\"><div class=\"sk-label-container\"><div class=\"sk-label sk-toggleable\"><input class=\"sk-toggleable__control sk-hidden--visually\" id=\"sk-estimator-id-59\" type=\"checkbox\" ><label for=\"sk-estimator-id-59\" class=\"sk-toggleable__label sk-toggleable__label-arrow\">GridSearchCV</label><div class=\"sk-toggleable__content\"><pre>GridSearchCV(cv=5,\n",
       "             estimator=Pipeline(steps=[(&#x27;columntransformer&#x27;,\n",
       "                                        ColumnTransformer(remainder=&#x27;passthrough&#x27;,\n",
       "                                                          transformers=[(&#x27;pipeline&#x27;,\n",
       "                                                                         Pipeline(steps=[(&#x27;simpleimputer&#x27;,\n",
       "                                                                                          SimpleImputer(fill_value=&#x27;missing&#x27;,\n",
       "                                                                                                        strategy=&#x27;constant&#x27;)),\n",
       "                                                                                         (&#x27;onehotencoder&#x27;,\n",
       "                                                                                          OneHotEncoder())]),\n",
       "                                                                         [&#x27;Embarked&#x27;,\n",
       "                                                                          &#x27;Sex&#x27;]),\n",
       "                                                                        (&#x27;countvectorizer&#x27;,\n",
       "                                                                         CountVectorizer(),\n",
       "                                                                         &#x27;Name&#x27;),\n",
       "                                                                        (&#x27;simpleimputer&#x27;,\n",
       "                                                                         SimpleImputer(),\n",
       "                                                                         [&#x27;Age&#x27;,\n",
       "                                                                          &#x27;Fare&#x27;])])),\n",
       "                                       (&#x27;logisticregression&#x27;,\n",
       "                                        LogisticRegression(random_state=1998,\n",
       "                                                           solver=&#x27;liblinear&#x27;))]),\n",
       "             param_grid={&#x27;logisticregression__C&#x27;: [0.1, 1, 10],\n",
       "                         &#x27;logisticregression__penalty&#x27;: [&#x27;l1&#x27;, &#x27;l2&#x27;]},\n",
       "             scoring=&#x27;accuracy&#x27;)</pre></div></div></div><div class=\"sk-parallel\"><div class=\"sk-parallel-item\"><div class=\"sk-item\"><div class=\"sk-label-container\"><div class=\"sk-label sk-toggleable\"><input class=\"sk-toggleable__control sk-hidden--visually\" id=\"sk-estimator-id-60\" type=\"checkbox\" ><label for=\"sk-estimator-id-60\" class=\"sk-toggleable__label sk-toggleable__label-arrow\">estimator: Pipeline</label><div class=\"sk-toggleable__content\"><pre>Pipeline(steps=[(&#x27;columntransformer&#x27;,\n",
       "                 ColumnTransformer(remainder=&#x27;passthrough&#x27;,\n",
       "                                   transformers=[(&#x27;pipeline&#x27;,\n",
       "                                                  Pipeline(steps=[(&#x27;simpleimputer&#x27;,\n",
       "                                                                   SimpleImputer(fill_value=&#x27;missing&#x27;,\n",
       "                                                                                 strategy=&#x27;constant&#x27;)),\n",
       "                                                                  (&#x27;onehotencoder&#x27;,\n",
       "                                                                   OneHotEncoder())]),\n",
       "                                                  [&#x27;Embarked&#x27;, &#x27;Sex&#x27;]),\n",
       "                                                 (&#x27;countvectorizer&#x27;,\n",
       "                                                  CountVectorizer(), &#x27;Name&#x27;),\n",
       "                                                 (&#x27;simpleimputer&#x27;,\n",
       "                                                  SimpleImputer(),\n",
       "                                                  [&#x27;Age&#x27;, &#x27;Fare&#x27;])])),\n",
       "                (&#x27;logisticregression&#x27;,\n",
       "                 LogisticRegression(random_state=1998, solver=&#x27;liblinear&#x27;))])</pre></div></div></div><div class=\"sk-serial\"><div class=\"sk-item\"><div class=\"sk-serial\"><div class=\"sk-item sk-dashed-wrapped\"><div class=\"sk-label-container\"><div class=\"sk-label sk-toggleable\"><input class=\"sk-toggleable__control sk-hidden--visually\" id=\"sk-estimator-id-61\" type=\"checkbox\" ><label for=\"sk-estimator-id-61\" class=\"sk-toggleable__label sk-toggleable__label-arrow\">columntransformer: ColumnTransformer</label><div class=\"sk-toggleable__content\"><pre>ColumnTransformer(remainder=&#x27;passthrough&#x27;,\n",
       "                  transformers=[(&#x27;pipeline&#x27;,\n",
       "                                 Pipeline(steps=[(&#x27;simpleimputer&#x27;,\n",
       "                                                  SimpleImputer(fill_value=&#x27;missing&#x27;,\n",
       "                                                                strategy=&#x27;constant&#x27;)),\n",
       "                                                 (&#x27;onehotencoder&#x27;,\n",
       "                                                  OneHotEncoder())]),\n",
       "                                 [&#x27;Embarked&#x27;, &#x27;Sex&#x27;]),\n",
       "                                (&#x27;countvectorizer&#x27;, CountVectorizer(), &#x27;Name&#x27;),\n",
       "                                (&#x27;simpleimputer&#x27;, SimpleImputer(),\n",
       "                                 [&#x27;Age&#x27;, &#x27;Fare&#x27;])])</pre></div></div></div><div class=\"sk-parallel\"><div class=\"sk-parallel-item\"><div class=\"sk-item\"><div class=\"sk-label-container\"><div class=\"sk-label sk-toggleable\"><input class=\"sk-toggleable__control sk-hidden--visually\" id=\"sk-estimator-id-62\" type=\"checkbox\" ><label for=\"sk-estimator-id-62\" class=\"sk-toggleable__label sk-toggleable__label-arrow\">pipeline</label><div class=\"sk-toggleable__content\"><pre>[&#x27;Embarked&#x27;, &#x27;Sex&#x27;]</pre></div></div></div><div class=\"sk-serial\"><div class=\"sk-item\"><div class=\"sk-serial\"><div class=\"sk-item\"><div class=\"sk-estimator sk-toggleable\"><input class=\"sk-toggleable__control sk-hidden--visually\" id=\"sk-estimator-id-63\" type=\"checkbox\" ><label for=\"sk-estimator-id-63\" class=\"sk-toggleable__label sk-toggleable__label-arrow\">SimpleImputer</label><div class=\"sk-toggleable__content\"><pre>SimpleImputer(fill_value=&#x27;missing&#x27;, strategy=&#x27;constant&#x27;)</pre></div></div></div><div class=\"sk-item\"><div class=\"sk-estimator sk-toggleable\"><input class=\"sk-toggleable__control sk-hidden--visually\" id=\"sk-estimator-id-64\" type=\"checkbox\" ><label for=\"sk-estimator-id-64\" class=\"sk-toggleable__label sk-toggleable__label-arrow\">OneHotEncoder</label><div class=\"sk-toggleable__content\"><pre>OneHotEncoder()</pre></div></div></div></div></div></div></div></div><div class=\"sk-parallel-item\"><div class=\"sk-item\"><div class=\"sk-label-container\"><div class=\"sk-label sk-toggleable\"><input class=\"sk-toggleable__control sk-hidden--visually\" id=\"sk-estimator-id-65\" type=\"checkbox\" ><label for=\"sk-estimator-id-65\" class=\"sk-toggleable__label sk-toggleable__label-arrow\">countvectorizer</label><div class=\"sk-toggleable__content\"><pre>Name</pre></div></div></div><div class=\"sk-serial\"><div class=\"sk-item\"><div class=\"sk-estimator sk-toggleable\"><input class=\"sk-toggleable__control sk-hidden--visually\" id=\"sk-estimator-id-66\" type=\"checkbox\" ><label for=\"sk-estimator-id-66\" class=\"sk-toggleable__label sk-toggleable__label-arrow\">CountVectorizer</label><div class=\"sk-toggleable__content\"><pre>CountVectorizer()</pre></div></div></div></div></div></div><div class=\"sk-parallel-item\"><div class=\"sk-item\"><div class=\"sk-label-container\"><div class=\"sk-label sk-toggleable\"><input class=\"sk-toggleable__control sk-hidden--visually\" id=\"sk-estimator-id-67\" type=\"checkbox\" ><label for=\"sk-estimator-id-67\" class=\"sk-toggleable__label sk-toggleable__label-arrow\">simpleimputer</label><div class=\"sk-toggleable__content\"><pre>[&#x27;Age&#x27;, &#x27;Fare&#x27;]</pre></div></div></div><div class=\"sk-serial\"><div class=\"sk-item\"><div class=\"sk-estimator sk-toggleable\"><input class=\"sk-toggleable__control sk-hidden--visually\" id=\"sk-estimator-id-68\" type=\"checkbox\" ><label for=\"sk-estimator-id-68\" class=\"sk-toggleable__label sk-toggleable__label-arrow\">SimpleImputer</label><div class=\"sk-toggleable__content\"><pre>SimpleImputer()</pre></div></div></div></div></div></div><div class=\"sk-parallel-item\"><div class=\"sk-item\"><div class=\"sk-label-container\"><div class=\"sk-label sk-toggleable\"><input class=\"sk-toggleable__control sk-hidden--visually\" id=\"sk-estimator-id-69\" type=\"checkbox\" ><label for=\"sk-estimator-id-69\" class=\"sk-toggleable__label sk-toggleable__label-arrow\">remainder</label><div class=\"sk-toggleable__content\"><pre>[&#x27;Parch&#x27;]</pre></div></div></div><div class=\"sk-serial\"><div class=\"sk-item\"><div class=\"sk-estimator sk-toggleable\"><input class=\"sk-toggleable__control sk-hidden--visually\" id=\"sk-estimator-id-70\" type=\"checkbox\" ><label for=\"sk-estimator-id-70\" class=\"sk-toggleable__label sk-toggleable__label-arrow\">passthrough</label><div class=\"sk-toggleable__content\"><pre>passthrough</pre></div></div></div></div></div></div></div></div><div class=\"sk-item\"><div class=\"sk-estimator sk-toggleable\"><input class=\"sk-toggleable__control sk-hidden--visually\" id=\"sk-estimator-id-71\" type=\"checkbox\" ><label for=\"sk-estimator-id-71\" class=\"sk-toggleable__label sk-toggleable__label-arrow\">LogisticRegression</label><div class=\"sk-toggleable__content\"><pre>LogisticRegression(random_state=1998, solver=&#x27;liblinear&#x27;)</pre></div></div></div></div></div></div></div></div></div></div></div></div>"
      ],
      "text/plain": [
       "GridSearchCV(cv=5,\n",
       "             estimator=Pipeline(steps=[('columntransformer',\n",
       "                                        ColumnTransformer(remainder='passthrough',\n",
       "                                                          transformers=[('pipeline',\n",
       "                                                                         Pipeline(steps=[('simpleimputer',\n",
       "                                                                                          SimpleImputer(fill_value='missing',\n",
       "                                                                                                        strategy='constant')),\n",
       "                                                                                         ('onehotencoder',\n",
       "                                                                                          OneHotEncoder())]),\n",
       "                                                                         ['Embarked',\n",
       "                                                                          'Sex']),\n",
       "                                                                        ('countvectorizer',\n",
       "                                                                         CountVectorizer(),\n",
       "                                                                         'Name'),\n",
       "                                                                        ('simpleimputer',\n",
       "                                                                         SimpleImputer(),\n",
       "                                                                         ['Age',\n",
       "                                                                          'Fare'])])),\n",
       "                                       ('logisticregression',\n",
       "                                        LogisticRegression(random_state=1998,\n",
       "                                                           solver='liblinear'))]),\n",
       "             param_grid={'logisticregression__C': [0.1, 1, 10],\n",
       "                         'logisticregression__penalty': ['l1', 'l2']},\n",
       "             scoring='accuracy')"
      ]
     },
     "execution_count": 98,
     "metadata": {},
     "output_type": "execute_result"
    }
   ],
   "source": [
    "grid = GridSearchCV(pipe, params, cv=5, scoring='accuracy')\n",
    "grid.fit(X, y)"
   ]
  },
  {
   "cell_type": "code",
   "execution_count": 101,
   "id": "59b46ba5-2bbf-42a5-8412-f3f01716733d",
   "metadata": {},
   "outputs": [
    {
     "data": {
      "text/html": [
       "<div>\n",
       "<style scoped>\n",
       "    .dataframe tbody tr th:only-of-type {\n",
       "        vertical-align: middle;\n",
       "    }\n",
       "\n",
       "    .dataframe tbody tr th {\n",
       "        vertical-align: top;\n",
       "    }\n",
       "\n",
       "    .dataframe thead th {\n",
       "        text-align: right;\n",
       "    }\n",
       "</style>\n",
       "<table border=\"1\" class=\"dataframe\">\n",
       "  <thead>\n",
       "    <tr style=\"text-align: right;\">\n",
       "      <th></th>\n",
       "      <th>mean_fit_time</th>\n",
       "      <th>std_fit_time</th>\n",
       "      <th>mean_score_time</th>\n",
       "      <th>std_score_time</th>\n",
       "      <th>param_logisticregression__C</th>\n",
       "      <th>param_logisticregression__penalty</th>\n",
       "      <th>params</th>\n",
       "      <th>split0_test_score</th>\n",
       "      <th>split1_test_score</th>\n",
       "      <th>split2_test_score</th>\n",
       "      <th>split3_test_score</th>\n",
       "      <th>split4_test_score</th>\n",
       "      <th>mean_test_score</th>\n",
       "      <th>std_test_score</th>\n",
       "      <th>rank_test_score</th>\n",
       "    </tr>\n",
       "  </thead>\n",
       "  <tbody>\n",
       "    <tr>\n",
       "      <th>4</th>\n",
       "      <td>0.017427</td>\n",
       "      <td>0.002110</td>\n",
       "      <td>0.006022</td>\n",
       "      <td>0.000840</td>\n",
       "      <td>10</td>\n",
       "      <td>l1</td>\n",
       "      <td>{'logisticregression__C': 10, 'logisticregress...</td>\n",
       "      <td>0.826816</td>\n",
       "      <td>0.820225</td>\n",
       "      <td>0.820225</td>\n",
       "      <td>0.792135</td>\n",
       "      <td>0.848315</td>\n",
       "      <td>0.821543</td>\n",
       "      <td>0.017960</td>\n",
       "      <td>1</td>\n",
       "    </tr>\n",
       "    <tr>\n",
       "      <th>2</th>\n",
       "      <td>0.013607</td>\n",
       "      <td>0.000771</td>\n",
       "      <td>0.005800</td>\n",
       "      <td>0.000281</td>\n",
       "      <td>1</td>\n",
       "      <td>l1</td>\n",
       "      <td>{'logisticregression__C': 1, 'logisticregressi...</td>\n",
       "      <td>0.815642</td>\n",
       "      <td>0.820225</td>\n",
       "      <td>0.797753</td>\n",
       "      <td>0.792135</td>\n",
       "      <td>0.848315</td>\n",
       "      <td>0.814814</td>\n",
       "      <td>0.019787</td>\n",
       "      <td>2</td>\n",
       "    </tr>\n",
       "  </tbody>\n",
       "</table>\n",
       "</div>"
      ],
      "text/plain": [
       "   mean_fit_time  std_fit_time  mean_score_time  std_score_time  \\\n",
       "4       0.017427      0.002110         0.006022        0.000840   \n",
       "2       0.013607      0.000771         0.005800        0.000281   \n",
       "\n",
       "  param_logisticregression__C param_logisticregression__penalty  \\\n",
       "4                          10                                l1   \n",
       "2                           1                                l1   \n",
       "\n",
       "                                              params  split0_test_score  \\\n",
       "4  {'logisticregression__C': 10, 'logisticregress...           0.826816   \n",
       "2  {'logisticregression__C': 1, 'logisticregressi...           0.815642   \n",
       "\n",
       "   split1_test_score  split2_test_score  split3_test_score  split4_test_score  \\\n",
       "4           0.820225           0.820225           0.792135           0.848315   \n",
       "2           0.820225           0.797753           0.792135           0.848315   \n",
       "\n",
       "   mean_test_score  std_test_score  rank_test_score  \n",
       "4         0.821543        0.017960                1  \n",
       "2         0.814814        0.019787                2  "
      ]
     },
     "execution_count": 101,
     "metadata": {},
     "output_type": "execute_result"
    }
   ],
   "source": [
    "pd.DataFrame(grid.cv_results_).sort_values('rank_test_score')[:2]"
   ]
  },
  {
   "cell_type": "markdown",
   "id": "6371d367-6f19-4ef3-803d-e2ab5e39231e",
   "metadata": {},
   "source": [
    "### Tuning columnTransformer"
   ]
  },
  {
   "cell_type": "code",
   "execution_count": 104,
   "id": "7aae0c90-acd4-46a0-bf8b-0fc01473b6f6",
   "metadata": {},
   "outputs": [
    {
     "data": {
      "text/plain": [
       "{'pipeline': Pipeline(steps=[('simpleimputer',\n",
       "                  SimpleImputer(fill_value='missing', strategy='constant')),\n",
       "                 ('onehotencoder', OneHotEncoder())]),\n",
       " 'countvectorizer': CountVectorizer(),\n",
       " 'simpleimputer': SimpleImputer(),\n",
       " 'remainder': 'passthrough'}"
      ]
     },
     "execution_count": 104,
     "metadata": {},
     "output_type": "execute_result"
    }
   ],
   "source": [
    "pipe.named_steps.columntransformer.named_transformers_"
   ]
  },
  {
   "cell_type": "code",
   "execution_count": 105,
   "id": "1de95fc2-87b2-49c2-80e6-7882a2ddc5a6",
   "metadata": {},
   "outputs": [],
   "source": [
    "# Tuning drop parameter of OHE\n",
    "params['columntransformer__pipeline__onehotencoder__drop'] = [None, 'first']\n",
    "params['columntransformer__countvectorizer__ngram_range'] = [(1, 1), (1, 2)]\n",
    "params['columntransformer__simpleimputer__add_indicator'] = [False, True]"
   ]
  },
  {
   "cell_type": "code",
   "execution_count": 106,
   "id": "27c722bc-1497-46c9-910f-32a3e79c41bc",
   "metadata": {},
   "outputs": [
    {
     "data": {
      "text/html": [
       "<style>#sk-container-id-10 {color: black;background-color: white;}#sk-container-id-10 pre{padding: 0;}#sk-container-id-10 div.sk-toggleable {background-color: white;}#sk-container-id-10 label.sk-toggleable__label {cursor: pointer;display: block;width: 100%;margin-bottom: 0;padding: 0.3em;box-sizing: border-box;text-align: center;}#sk-container-id-10 label.sk-toggleable__label-arrow:before {content: \"▸\";float: left;margin-right: 0.25em;color: #696969;}#sk-container-id-10 label.sk-toggleable__label-arrow:hover:before {color: black;}#sk-container-id-10 div.sk-estimator:hover label.sk-toggleable__label-arrow:before {color: black;}#sk-container-id-10 div.sk-toggleable__content {max-height: 0;max-width: 0;overflow: hidden;text-align: left;background-color: #f0f8ff;}#sk-container-id-10 div.sk-toggleable__content pre {margin: 0.2em;color: black;border-radius: 0.25em;background-color: #f0f8ff;}#sk-container-id-10 input.sk-toggleable__control:checked~div.sk-toggleable__content {max-height: 200px;max-width: 100%;overflow: auto;}#sk-container-id-10 input.sk-toggleable__control:checked~label.sk-toggleable__label-arrow:before {content: \"▾\";}#sk-container-id-10 div.sk-estimator input.sk-toggleable__control:checked~label.sk-toggleable__label {background-color: #d4ebff;}#sk-container-id-10 div.sk-label input.sk-toggleable__control:checked~label.sk-toggleable__label {background-color: #d4ebff;}#sk-container-id-10 input.sk-hidden--visually {border: 0;clip: rect(1px 1px 1px 1px);clip: rect(1px, 1px, 1px, 1px);height: 1px;margin: -1px;overflow: hidden;padding: 0;position: absolute;width: 1px;}#sk-container-id-10 div.sk-estimator {font-family: monospace;background-color: #f0f8ff;border: 1px dotted black;border-radius: 0.25em;box-sizing: border-box;margin-bottom: 0.5em;}#sk-container-id-10 div.sk-estimator:hover {background-color: #d4ebff;}#sk-container-id-10 div.sk-parallel-item::after {content: \"\";width: 100%;border-bottom: 1px solid gray;flex-grow: 1;}#sk-container-id-10 div.sk-label:hover label.sk-toggleable__label {background-color: #d4ebff;}#sk-container-id-10 div.sk-serial::before {content: \"\";position: absolute;border-left: 1px solid gray;box-sizing: border-box;top: 0;bottom: 0;left: 50%;z-index: 0;}#sk-container-id-10 div.sk-serial {display: flex;flex-direction: column;align-items: center;background-color: white;padding-right: 0.2em;padding-left: 0.2em;position: relative;}#sk-container-id-10 div.sk-item {position: relative;z-index: 1;}#sk-container-id-10 div.sk-parallel {display: flex;align-items: stretch;justify-content: center;background-color: white;position: relative;}#sk-container-id-10 div.sk-item::before, #sk-container-id-10 div.sk-parallel-item::before {content: \"\";position: absolute;border-left: 1px solid gray;box-sizing: border-box;top: 0;bottom: 0;left: 50%;z-index: -1;}#sk-container-id-10 div.sk-parallel-item {display: flex;flex-direction: column;z-index: 1;position: relative;background-color: white;}#sk-container-id-10 div.sk-parallel-item:first-child::after {align-self: flex-end;width: 50%;}#sk-container-id-10 div.sk-parallel-item:last-child::after {align-self: flex-start;width: 50%;}#sk-container-id-10 div.sk-parallel-item:only-child::after {width: 0;}#sk-container-id-10 div.sk-dashed-wrapped {border: 1px dashed gray;margin: 0 0.4em 0.5em 0.4em;box-sizing: border-box;padding-bottom: 0.4em;background-color: white;}#sk-container-id-10 div.sk-label label {font-family: monospace;font-weight: bold;display: inline-block;line-height: 1.2em;}#sk-container-id-10 div.sk-label-container {text-align: center;}#sk-container-id-10 div.sk-container {/* jupyter's `normalize.less` sets `[hidden] { display: none; }` but bootstrap.min.css set `[hidden] { display: none !important; }` so we also need the `!important` here to be able to override the default hidden behavior on the sphinx rendered scikit-learn.org. See: https://github.com/scikit-learn/scikit-learn/issues/21755 */display: inline-block !important;position: relative;}#sk-container-id-10 div.sk-text-repr-fallback {display: none;}</style><div id=\"sk-container-id-10\" class=\"sk-top-container\"><div class=\"sk-text-repr-fallback\"><pre>GridSearchCV(cv=5,\n",
       "             estimator=Pipeline(steps=[(&#x27;columntransformer&#x27;,\n",
       "                                        ColumnTransformer(remainder=&#x27;passthrough&#x27;,\n",
       "                                                          transformers=[(&#x27;pipeline&#x27;,\n",
       "                                                                         Pipeline(steps=[(&#x27;simpleimputer&#x27;,\n",
       "                                                                                          SimpleImputer(fill_value=&#x27;missing&#x27;,\n",
       "                                                                                                        strategy=&#x27;constant&#x27;)),\n",
       "                                                                                         (&#x27;onehotencoder&#x27;,\n",
       "                                                                                          OneHotEncoder())]),\n",
       "                                                                         [&#x27;Embarked&#x27;,\n",
       "                                                                          &#x27;Sex&#x27;]),\n",
       "                                                                        (&#x27;countvectorizer&#x27;,\n",
       "                                                                         CountVectorizer(),\n",
       "                                                                         &#x27;Name&#x27;),\n",
       "                                                                        (&#x27;simpleimputer&#x27;,\n",
       "                                                                         SimpleImp...\n",
       "                                        LogisticRegression(random_state=1998,\n",
       "                                                           solver=&#x27;liblinear&#x27;))]),\n",
       "             param_grid={&#x27;columntransformer__countvectorizer__ngram_range&#x27;: [(1,\n",
       "                                                                              1),\n",
       "                                                                             (1,\n",
       "                                                                              2)],\n",
       "                         &#x27;columntransformer__pipeline__onehotencoder__drop&#x27;: [None,\n",
       "                                                                              &#x27;first&#x27;],\n",
       "                         &#x27;columntransformer__simpleimputer__add_indicator&#x27;: [False,\n",
       "                                                                             True],\n",
       "                         &#x27;logisticregression__C&#x27;: [0.1, 1, 10],\n",
       "                         &#x27;logisticregression__penalty&#x27;: [&#x27;l1&#x27;, &#x27;l2&#x27;]},\n",
       "             scoring=&#x27;accuracy&#x27;)</pre><b>In a Jupyter environment, please rerun this cell to show the HTML representation or trust the notebook. <br />On GitHub, the HTML representation is unable to render, please try loading this page with nbviewer.org.</b></div><div class=\"sk-container\" hidden><div class=\"sk-item sk-dashed-wrapped\"><div class=\"sk-label-container\"><div class=\"sk-label sk-toggleable\"><input class=\"sk-toggleable__control sk-hidden--visually\" id=\"sk-estimator-id-82\" type=\"checkbox\" ><label for=\"sk-estimator-id-82\" class=\"sk-toggleable__label sk-toggleable__label-arrow\">GridSearchCV</label><div class=\"sk-toggleable__content\"><pre>GridSearchCV(cv=5,\n",
       "             estimator=Pipeline(steps=[(&#x27;columntransformer&#x27;,\n",
       "                                        ColumnTransformer(remainder=&#x27;passthrough&#x27;,\n",
       "                                                          transformers=[(&#x27;pipeline&#x27;,\n",
       "                                                                         Pipeline(steps=[(&#x27;simpleimputer&#x27;,\n",
       "                                                                                          SimpleImputer(fill_value=&#x27;missing&#x27;,\n",
       "                                                                                                        strategy=&#x27;constant&#x27;)),\n",
       "                                                                                         (&#x27;onehotencoder&#x27;,\n",
       "                                                                                          OneHotEncoder())]),\n",
       "                                                                         [&#x27;Embarked&#x27;,\n",
       "                                                                          &#x27;Sex&#x27;]),\n",
       "                                                                        (&#x27;countvectorizer&#x27;,\n",
       "                                                                         CountVectorizer(),\n",
       "                                                                         &#x27;Name&#x27;),\n",
       "                                                                        (&#x27;simpleimputer&#x27;,\n",
       "                                                                         SimpleImp...\n",
       "                                        LogisticRegression(random_state=1998,\n",
       "                                                           solver=&#x27;liblinear&#x27;))]),\n",
       "             param_grid={&#x27;columntransformer__countvectorizer__ngram_range&#x27;: [(1,\n",
       "                                                                              1),\n",
       "                                                                             (1,\n",
       "                                                                              2)],\n",
       "                         &#x27;columntransformer__pipeline__onehotencoder__drop&#x27;: [None,\n",
       "                                                                              &#x27;first&#x27;],\n",
       "                         &#x27;columntransformer__simpleimputer__add_indicator&#x27;: [False,\n",
       "                                                                             True],\n",
       "                         &#x27;logisticregression__C&#x27;: [0.1, 1, 10],\n",
       "                         &#x27;logisticregression__penalty&#x27;: [&#x27;l1&#x27;, &#x27;l2&#x27;]},\n",
       "             scoring=&#x27;accuracy&#x27;)</pre></div></div></div><div class=\"sk-parallel\"><div class=\"sk-parallel-item\"><div class=\"sk-item\"><div class=\"sk-label-container\"><div class=\"sk-label sk-toggleable\"><input class=\"sk-toggleable__control sk-hidden--visually\" id=\"sk-estimator-id-83\" type=\"checkbox\" ><label for=\"sk-estimator-id-83\" class=\"sk-toggleable__label sk-toggleable__label-arrow\">estimator: Pipeline</label><div class=\"sk-toggleable__content\"><pre>Pipeline(steps=[(&#x27;columntransformer&#x27;,\n",
       "                 ColumnTransformer(remainder=&#x27;passthrough&#x27;,\n",
       "                                   transformers=[(&#x27;pipeline&#x27;,\n",
       "                                                  Pipeline(steps=[(&#x27;simpleimputer&#x27;,\n",
       "                                                                   SimpleImputer(fill_value=&#x27;missing&#x27;,\n",
       "                                                                                 strategy=&#x27;constant&#x27;)),\n",
       "                                                                  (&#x27;onehotencoder&#x27;,\n",
       "                                                                   OneHotEncoder())]),\n",
       "                                                  [&#x27;Embarked&#x27;, &#x27;Sex&#x27;]),\n",
       "                                                 (&#x27;countvectorizer&#x27;,\n",
       "                                                  CountVectorizer(), &#x27;Name&#x27;),\n",
       "                                                 (&#x27;simpleimputer&#x27;,\n",
       "                                                  SimpleImputer(),\n",
       "                                                  [&#x27;Age&#x27;, &#x27;Fare&#x27;])])),\n",
       "                (&#x27;logisticregression&#x27;,\n",
       "                 LogisticRegression(random_state=1998, solver=&#x27;liblinear&#x27;))])</pre></div></div></div><div class=\"sk-serial\"><div class=\"sk-item\"><div class=\"sk-serial\"><div class=\"sk-item sk-dashed-wrapped\"><div class=\"sk-label-container\"><div class=\"sk-label sk-toggleable\"><input class=\"sk-toggleable__control sk-hidden--visually\" id=\"sk-estimator-id-84\" type=\"checkbox\" ><label for=\"sk-estimator-id-84\" class=\"sk-toggleable__label sk-toggleable__label-arrow\">columntransformer: ColumnTransformer</label><div class=\"sk-toggleable__content\"><pre>ColumnTransformer(remainder=&#x27;passthrough&#x27;,\n",
       "                  transformers=[(&#x27;pipeline&#x27;,\n",
       "                                 Pipeline(steps=[(&#x27;simpleimputer&#x27;,\n",
       "                                                  SimpleImputer(fill_value=&#x27;missing&#x27;,\n",
       "                                                                strategy=&#x27;constant&#x27;)),\n",
       "                                                 (&#x27;onehotencoder&#x27;,\n",
       "                                                  OneHotEncoder())]),\n",
       "                                 [&#x27;Embarked&#x27;, &#x27;Sex&#x27;]),\n",
       "                                (&#x27;countvectorizer&#x27;, CountVectorizer(), &#x27;Name&#x27;),\n",
       "                                (&#x27;simpleimputer&#x27;, SimpleImputer(),\n",
       "                                 [&#x27;Age&#x27;, &#x27;Fare&#x27;])])</pre></div></div></div><div class=\"sk-parallel\"><div class=\"sk-parallel-item\"><div class=\"sk-item\"><div class=\"sk-label-container\"><div class=\"sk-label sk-toggleable\"><input class=\"sk-toggleable__control sk-hidden--visually\" id=\"sk-estimator-id-85\" type=\"checkbox\" ><label for=\"sk-estimator-id-85\" class=\"sk-toggleable__label sk-toggleable__label-arrow\">pipeline</label><div class=\"sk-toggleable__content\"><pre>[&#x27;Embarked&#x27;, &#x27;Sex&#x27;]</pre></div></div></div><div class=\"sk-serial\"><div class=\"sk-item\"><div class=\"sk-serial\"><div class=\"sk-item\"><div class=\"sk-estimator sk-toggleable\"><input class=\"sk-toggleable__control sk-hidden--visually\" id=\"sk-estimator-id-86\" type=\"checkbox\" ><label for=\"sk-estimator-id-86\" class=\"sk-toggleable__label sk-toggleable__label-arrow\">SimpleImputer</label><div class=\"sk-toggleable__content\"><pre>SimpleImputer(fill_value=&#x27;missing&#x27;, strategy=&#x27;constant&#x27;)</pre></div></div></div><div class=\"sk-item\"><div class=\"sk-estimator sk-toggleable\"><input class=\"sk-toggleable__control sk-hidden--visually\" id=\"sk-estimator-id-87\" type=\"checkbox\" ><label for=\"sk-estimator-id-87\" class=\"sk-toggleable__label sk-toggleable__label-arrow\">OneHotEncoder</label><div class=\"sk-toggleable__content\"><pre>OneHotEncoder()</pre></div></div></div></div></div></div></div></div><div class=\"sk-parallel-item\"><div class=\"sk-item\"><div class=\"sk-label-container\"><div class=\"sk-label sk-toggleable\"><input class=\"sk-toggleable__control sk-hidden--visually\" id=\"sk-estimator-id-88\" type=\"checkbox\" ><label for=\"sk-estimator-id-88\" class=\"sk-toggleable__label sk-toggleable__label-arrow\">countvectorizer</label><div class=\"sk-toggleable__content\"><pre>Name</pre></div></div></div><div class=\"sk-serial\"><div class=\"sk-item\"><div class=\"sk-estimator sk-toggleable\"><input class=\"sk-toggleable__control sk-hidden--visually\" id=\"sk-estimator-id-89\" type=\"checkbox\" ><label for=\"sk-estimator-id-89\" class=\"sk-toggleable__label sk-toggleable__label-arrow\">CountVectorizer</label><div class=\"sk-toggleable__content\"><pre>CountVectorizer()</pre></div></div></div></div></div></div><div class=\"sk-parallel-item\"><div class=\"sk-item\"><div class=\"sk-label-container\"><div class=\"sk-label sk-toggleable\"><input class=\"sk-toggleable__control sk-hidden--visually\" id=\"sk-estimator-id-90\" type=\"checkbox\" ><label for=\"sk-estimator-id-90\" class=\"sk-toggleable__label sk-toggleable__label-arrow\">simpleimputer</label><div class=\"sk-toggleable__content\"><pre>[&#x27;Age&#x27;, &#x27;Fare&#x27;]</pre></div></div></div><div class=\"sk-serial\"><div class=\"sk-item\"><div class=\"sk-estimator sk-toggleable\"><input class=\"sk-toggleable__control sk-hidden--visually\" id=\"sk-estimator-id-91\" type=\"checkbox\" ><label for=\"sk-estimator-id-91\" class=\"sk-toggleable__label sk-toggleable__label-arrow\">SimpleImputer</label><div class=\"sk-toggleable__content\"><pre>SimpleImputer()</pre></div></div></div></div></div></div><div class=\"sk-parallel-item\"><div class=\"sk-item\"><div class=\"sk-label-container\"><div class=\"sk-label sk-toggleable\"><input class=\"sk-toggleable__control sk-hidden--visually\" id=\"sk-estimator-id-92\" type=\"checkbox\" ><label for=\"sk-estimator-id-92\" class=\"sk-toggleable__label sk-toggleable__label-arrow\">remainder</label><div class=\"sk-toggleable__content\"><pre>[&#x27;Parch&#x27;]</pre></div></div></div><div class=\"sk-serial\"><div class=\"sk-item\"><div class=\"sk-estimator sk-toggleable\"><input class=\"sk-toggleable__control sk-hidden--visually\" id=\"sk-estimator-id-93\" type=\"checkbox\" ><label for=\"sk-estimator-id-93\" class=\"sk-toggleable__label sk-toggleable__label-arrow\">passthrough</label><div class=\"sk-toggleable__content\"><pre>passthrough</pre></div></div></div></div></div></div></div></div><div class=\"sk-item\"><div class=\"sk-estimator sk-toggleable\"><input class=\"sk-toggleable__control sk-hidden--visually\" id=\"sk-estimator-id-94\" type=\"checkbox\" ><label for=\"sk-estimator-id-94\" class=\"sk-toggleable__label sk-toggleable__label-arrow\">LogisticRegression</label><div class=\"sk-toggleable__content\"><pre>LogisticRegression(random_state=1998, solver=&#x27;liblinear&#x27;)</pre></div></div></div></div></div></div></div></div></div></div></div></div>"
      ],
      "text/plain": [
       "GridSearchCV(cv=5,\n",
       "             estimator=Pipeline(steps=[('columntransformer',\n",
       "                                        ColumnTransformer(remainder='passthrough',\n",
       "                                                          transformers=[('pipeline',\n",
       "                                                                         Pipeline(steps=[('simpleimputer',\n",
       "                                                                                          SimpleImputer(fill_value='missing',\n",
       "                                                                                                        strategy='constant')),\n",
       "                                                                                         ('onehotencoder',\n",
       "                                                                                          OneHotEncoder())]),\n",
       "                                                                         ['Embarked',\n",
       "                                                                          'Sex']),\n",
       "                                                                        ('countvectorizer',\n",
       "                                                                         CountVectorizer(),\n",
       "                                                                         'Name'),\n",
       "                                                                        ('simpleimputer',\n",
       "                                                                         SimpleImp...\n",
       "                                        LogisticRegression(random_state=1998,\n",
       "                                                           solver='liblinear'))]),\n",
       "             param_grid={'columntransformer__countvectorizer__ngram_range': [(1,\n",
       "                                                                              1),\n",
       "                                                                             (1,\n",
       "                                                                              2)],\n",
       "                         'columntransformer__pipeline__onehotencoder__drop': [None,\n",
       "                                                                              'first'],\n",
       "                         'columntransformer__simpleimputer__add_indicator': [False,\n",
       "                                                                             True],\n",
       "                         'logisticregression__C': [0.1, 1, 10],\n",
       "                         'logisticregression__penalty': ['l1', 'l2']},\n",
       "             scoring='accuracy')"
      ]
     },
     "execution_count": 106,
     "metadata": {},
     "output_type": "execute_result"
    }
   ],
   "source": [
    "grid = GridSearchCV(pipe, params, cv=5, scoring='accuracy')\n",
    "grid.fit(X, y)"
   ]
  },
  {
   "cell_type": "code",
   "execution_count": 107,
   "id": "9df51b9a-eaab-4756-a17c-4895c7934be0",
   "metadata": {},
   "outputs": [
    {
     "data": {
      "text/html": [
       "<div>\n",
       "<style scoped>\n",
       "    .dataframe tbody tr th:only-of-type {\n",
       "        vertical-align: middle;\n",
       "    }\n",
       "\n",
       "    .dataframe tbody tr th {\n",
       "        vertical-align: top;\n",
       "    }\n",
       "\n",
       "    .dataframe thead th {\n",
       "        text-align: right;\n",
       "    }\n",
       "</style>\n",
       "<table border=\"1\" class=\"dataframe\">\n",
       "  <thead>\n",
       "    <tr style=\"text-align: right;\">\n",
       "      <th></th>\n",
       "      <th>mean_fit_time</th>\n",
       "      <th>std_fit_time</th>\n",
       "      <th>mean_score_time</th>\n",
       "      <th>std_score_time</th>\n",
       "      <th>param_columntransformer__countvectorizer__ngram_range</th>\n",
       "      <th>param_columntransformer__pipeline__onehotencoder__drop</th>\n",
       "      <th>param_columntransformer__simpleimputer__add_indicator</th>\n",
       "      <th>param_logisticregression__C</th>\n",
       "      <th>param_logisticregression__penalty</th>\n",
       "      <th>params</th>\n",
       "      <th>split0_test_score</th>\n",
       "      <th>split1_test_score</th>\n",
       "      <th>split2_test_score</th>\n",
       "      <th>split3_test_score</th>\n",
       "      <th>split4_test_score</th>\n",
       "      <th>mean_test_score</th>\n",
       "      <th>std_test_score</th>\n",
       "      <th>rank_test_score</th>\n",
       "    </tr>\n",
       "  </thead>\n",
       "  <tbody>\n",
       "    <tr>\n",
       "      <th>28</th>\n",
       "      <td>0.023085</td>\n",
       "      <td>0.001123</td>\n",
       "      <td>0.005985</td>\n",
       "      <td>0.000264</td>\n",
       "      <td>(1, 2)</td>\n",
       "      <td>None</td>\n",
       "      <td>False</td>\n",
       "      <td>10</td>\n",
       "      <td>l1</td>\n",
       "      <td>{'columntransformer__countvectorizer__ngram_ra...</td>\n",
       "      <td>0.843575</td>\n",
       "      <td>0.825843</td>\n",
       "      <td>0.825843</td>\n",
       "      <td>0.786517</td>\n",
       "      <td>0.853933</td>\n",
       "      <td>0.827142</td>\n",
       "      <td>0.022985</td>\n",
       "      <td>1</td>\n",
       "    </tr>\n",
       "    <tr>\n",
       "      <th>40</th>\n",
       "      <td>0.027629</td>\n",
       "      <td>0.002980</td>\n",
       "      <td>0.006493</td>\n",
       "      <td>0.000253</td>\n",
       "      <td>(1, 2)</td>\n",
       "      <td>first</td>\n",
       "      <td>False</td>\n",
       "      <td>10</td>\n",
       "      <td>l1</td>\n",
       "      <td>{'columntransformer__countvectorizer__ngram_ra...</td>\n",
       "      <td>0.849162</td>\n",
       "      <td>0.825843</td>\n",
       "      <td>0.820225</td>\n",
       "      <td>0.780899</td>\n",
       "      <td>0.859551</td>\n",
       "      <td>0.827136</td>\n",
       "      <td>0.027288</td>\n",
       "      <td>2</td>\n",
       "    </tr>\n",
       "  </tbody>\n",
       "</table>\n",
       "</div>"
      ],
      "text/plain": [
       "    mean_fit_time  std_fit_time  mean_score_time  std_score_time  \\\n",
       "28       0.023085      0.001123         0.005985        0.000264   \n",
       "40       0.027629      0.002980         0.006493        0.000253   \n",
       "\n",
       "   param_columntransformer__countvectorizer__ngram_range  \\\n",
       "28                                             (1, 2)      \n",
       "40                                             (1, 2)      \n",
       "\n",
       "   param_columntransformer__pipeline__onehotencoder__drop  \\\n",
       "28                                               None       \n",
       "40                                              first       \n",
       "\n",
       "   param_columntransformer__simpleimputer__add_indicator  \\\n",
       "28                                              False      \n",
       "40                                              False      \n",
       "\n",
       "   param_logisticregression__C param_logisticregression__penalty  \\\n",
       "28                          10                                l1   \n",
       "40                          10                                l1   \n",
       "\n",
       "                                               params  split0_test_score  \\\n",
       "28  {'columntransformer__countvectorizer__ngram_ra...           0.843575   \n",
       "40  {'columntransformer__countvectorizer__ngram_ra...           0.849162   \n",
       "\n",
       "    split1_test_score  split2_test_score  split3_test_score  \\\n",
       "28           0.825843           0.825843           0.786517   \n",
       "40           0.825843           0.820225           0.780899   \n",
       "\n",
       "    split4_test_score  mean_test_score  std_test_score  rank_test_score  \n",
       "28           0.853933         0.827142        0.022985                1  \n",
       "40           0.859551         0.827136        0.027288                2  "
      ]
     },
     "execution_count": 107,
     "metadata": {},
     "output_type": "execute_result"
    }
   ],
   "source": [
    "pd.DataFrame(grid.cv_results_).sort_values(by='rank_test_score')[:2]"
   ]
  },
  {
   "cell_type": "code",
   "execution_count": 108,
   "id": "5d5df436-ce60-4a2a-8cd9-e031fa0bf7e0",
   "metadata": {},
   "outputs": [
    {
     "data": {
      "text/plain": [
       "(0.8271420500910176,\n",
       " {'columntransformer__countvectorizer__ngram_range': (1, 2),\n",
       "  'columntransformer__pipeline__onehotencoder__drop': None,\n",
       "  'columntransformer__simpleimputer__add_indicator': False,\n",
       "  'logisticregression__C': 10,\n",
       "  'logisticregression__penalty': 'l1'})"
      ]
     },
     "execution_count": 108,
     "metadata": {},
     "output_type": "execute_result"
    }
   ],
   "source": [
    "grid.best_score_, grid.best_params_"
   ]
  },
  {
   "cell_type": "markdown",
   "id": "0320c9e3-978e-4df3-b565-e6e9e184b5ca",
   "metadata": {},
   "source": [
    "#### Note: grid object refits the model on all data using the best set of parameters. So you can directly make your predictions"
   ]
  },
  {
   "cell_type": "code",
   "execution_count": 109,
   "id": "11009d27-37f5-4f6d-90aa-96dd4ed4818e",
   "metadata": {},
   "outputs": [
    {
     "data": {
      "text/plain": [
       "array([0, 1, 0, 0, 1, 0, 1, 0, 1, 0, 0, 0, 1, 0, 1, 1, 0, 0, 1, 1, 0, 1,\n",
       "       1, 0, 1, 0, 1, 0, 0, 0, 0, 0, 1, 1, 0, 0, 1, 1, 0, 0, 0, 0, 0, 1,\n",
       "       1, 0, 0, 0, 1, 1, 0, 0, 1, 1, 0, 0, 0, 0, 0, 1, 0, 0, 0, 1, 1, 1,\n",
       "       1, 0, 0, 1, 1, 0, 1, 0, 1, 0, 0, 1, 0, 1, 0, 0, 0, 0, 0, 0, 1, 1,\n",
       "       1, 1, 0, 0, 1, 0, 0, 0, 1, 0, 0, 0, 1, 0, 0, 0, 1, 0, 0, 0, 0, 0,\n",
       "       0, 0, 1, 1, 1, 0, 0, 1, 0, 1, 1, 0, 1, 0, 0, 1, 0, 1, 0, 0, 0, 0,\n",
       "       0, 0, 0, 1, 0, 0, 1, 0, 0, 1, 0, 0, 0, 0, 0, 0, 0, 0, 1, 0, 0, 1,\n",
       "       1, 0, 1, 1, 0, 1, 1, 1, 1, 0, 0, 1, 0, 0, 1, 0, 0, 0, 0, 0, 0, 1,\n",
       "       1, 0, 1, 1, 0, 0, 1, 0, 1, 0, 1, 0, 0, 0, 0, 0, 0, 0, 1, 0, 1, 1,\n",
       "       0, 1, 1, 1, 0, 1, 0, 0, 1, 0, 1, 0, 0, 0, 0, 1, 0, 0, 1, 0, 1, 0,\n",
       "       1, 0, 1, 0, 1, 1, 0, 1, 0, 0, 0, 1, 0, 0, 1, 0, 0, 0, 1, 1, 1, 1,\n",
       "       1, 0, 0, 0, 1, 0, 1, 0, 0, 0, 0, 0, 0, 0, 0, 0, 1, 0, 0, 0, 1, 1,\n",
       "       0, 0, 0, 0, 1, 0, 0, 0, 1, 1, 0, 1, 0, 0, 0, 0, 1, 1, 1, 0, 1, 0,\n",
       "       0, 0, 0, 0, 0, 1, 0, 0, 0, 0, 1, 1, 0, 0, 0, 0, 0, 0, 1, 1, 0, 1,\n",
       "       0, 1, 0, 0, 0, 1, 1, 1, 1, 0, 0, 0, 0, 0, 0, 0, 1, 1, 1, 0, 0, 0,\n",
       "       1, 0, 0, 1, 0, 0, 0, 0, 0, 1, 0, 0, 0, 1, 0, 1, 0, 1, 0, 1, 1, 0,\n",
       "       0, 0, 1, 1, 1, 0, 0, 1, 0, 1, 1, 0, 1, 0, 0, 1, 1, 0, 0, 1, 0, 0,\n",
       "       1, 1, 0, 0, 0, 1, 0, 0, 1, 1, 0, 1, 0, 0, 0, 0, 0, 1, 1, 0, 0, 1,\n",
       "       0, 1, 0, 0, 1, 0, 1, 0, 0, 0, 0, 0, 1, 1, 1, 1, 1, 0, 1, 0, 0, 1],\n",
       "      dtype=int64)"
      ]
     },
     "execution_count": 109,
     "metadata": {},
     "output_type": "execute_result"
    }
   ],
   "source": [
    "grid.predict(X_new)"
   ]
  },
  {
   "cell_type": "markdown",
   "id": "c73ab5a3-a989-48b4-9387-0a6f856293f3",
   "metadata": {},
   "source": [
    "# QnA"
   ]
  },
  {
   "cell_type": "markdown",
   "id": "5f44e264-d23c-4257-ba47-45c7c21c58a9",
   "metadata": {},
   "source": [
    "### Why is it important to select a Series instead of a Dataframe for the target variable?\n",
    "\n",
    "Accessing using single brackets to return a series gives you a 1D output whereas using double brackets gives you a 2D output. (see below)\n",
    "\n",
    "Sklearn wants a 1D array for the target. Notice the output once we convert the column to a numpy array.\n",
    "\n",
    "Reason: Sklearn supports multilabel classification(different form multiclass, where each observation can have multiple labels simultaneously). In case of MC, the target will be a 2D array. 2D signals sklearn to a multilabel problem which is not the case with this example."
   ]
  },
  {
   "cell_type": "markdown",
   "id": "614fd5e5-918e-4a90-838e-5e153dccad54",
   "metadata": {},
   "source": [
    "**Series**"
   ]
  },
  {
   "cell_type": "code",
   "execution_count": 37,
   "id": "d60eaf7f-b14e-4b7f-a9c5-8efca8617fa2",
   "metadata": {},
   "outputs": [
    {
     "data": {
      "text/plain": [
       "(0    0\n",
       " 1    1\n",
       " 2    1\n",
       " 3    1\n",
       " 4    0\n",
       " 5    0\n",
       " 6    0\n",
       " 7    0\n",
       " 8    1\n",
       " 9    1\n",
       " Name: Survived, dtype: int64,\n",
       " (10,))"
      ]
     },
     "execution_count": 37,
     "metadata": {},
     "output_type": "execute_result"
    }
   ],
   "source": [
    "df['Survived'], df['Survived'].shape "
   ]
  },
  {
   "cell_type": "code",
   "execution_count": 38,
   "id": "25bb4ab0-0e67-4978-bef5-f438495a6391",
   "metadata": {},
   "outputs": [
    {
     "data": {
      "text/plain": [
       "array([0, 1, 1, 1, 0, 0, 0, 0, 1, 1], dtype=int64)"
      ]
     },
     "execution_count": 38,
     "metadata": {},
     "output_type": "execute_result"
    }
   ],
   "source": [
    "df['Survived'].to_numpy()"
   ]
  },
  {
   "cell_type": "markdown",
   "id": "02fc020d-da54-49bf-b359-56b77dd52202",
   "metadata": {},
   "source": [
    "**Dataframe**"
   ]
  },
  {
   "cell_type": "code",
   "execution_count": 39,
   "id": "301c1cd2-543c-4f12-96b3-4bfde364dbf6",
   "metadata": {},
   "outputs": [
    {
     "data": {
      "text/plain": [
       "(   Survived\n",
       " 0         0\n",
       " 1         1\n",
       " 2         1\n",
       " 3         1\n",
       " 4         0\n",
       " 5         0\n",
       " 6         0\n",
       " 7         0\n",
       " 8         1\n",
       " 9         1,\n",
       " (10, 1))"
      ]
     },
     "execution_count": 39,
     "metadata": {},
     "output_type": "execute_result"
    }
   ],
   "source": [
    "df[['Survived']], df[['Survived']].shape"
   ]
  },
  {
   "cell_type": "code",
   "execution_count": 40,
   "id": "913b9178-8678-4a87-9314-43872f8ffea2",
   "metadata": {},
   "outputs": [
    {
     "data": {
      "text/plain": [
       "array([[0],\n",
       "       [1],\n",
       "       [1],\n",
       "       [1],\n",
       "       [0],\n",
       "       [0],\n",
       "       [0],\n",
       "       [0],\n",
       "       [1],\n",
       "       [1]], dtype=int64)"
      ]
     },
     "execution_count": 40,
     "metadata": {},
     "output_type": "execute_result"
    }
   ],
   "source": [
    "df[['Survived']].to_numpy()"
   ]
  },
  {
   "cell_type": "markdown",
   "id": "b8ab2328-b5d5-4358-992a-66a6d675ef88",
   "metadata": {},
   "source": [
    "### Why us LogisticRegression instead of LogisticRegressionCV, which has a built-in cross-validation?\n",
    "\n",
    "LRcv is a variation of LR class and it makes it easy on you to allow you to tune parameters without using GridSearch. But, it does not fit very well with the workflow. LRCv is super specific and covers one specific use case and is not very flexible. Especially when you want to experiment with multiple models."
   ]
  },
  {
   "cell_type": "markdown",
   "id": "b5aa3da7-7e32-4013-a087-f740b5783596",
   "metadata": {},
   "source": [
    "### When OHE, what happens if the testing data has a new category that was not in the training data?"
   ]
  },
  {
   "cell_type": "markdown",
   "id": "773e6b1d-20c0-45a0-92c0-f156d57a03ac",
   "metadata": {},
   "source": [
    "**Training OHE**"
   ]
  },
  {
   "cell_type": "code",
   "execution_count": 41,
   "id": "b3a0988e-bfa8-49d4-9e39-18c1fd255386",
   "metadata": {},
   "outputs": [
    {
     "data": {
      "text/html": [
       "<div>\n",
       "<style scoped>\n",
       "    .dataframe tbody tr th:only-of-type {\n",
       "        vertical-align: middle;\n",
       "    }\n",
       "\n",
       "    .dataframe tbody tr th {\n",
       "        vertical-align: top;\n",
       "    }\n",
       "\n",
       "    .dataframe thead th {\n",
       "        text-align: right;\n",
       "    }\n",
       "</style>\n",
       "<table border=\"1\" class=\"dataframe\">\n",
       "  <thead>\n",
       "    <tr style=\"text-align: right;\">\n",
       "      <th></th>\n",
       "      <th>letter</th>\n",
       "    </tr>\n",
       "  </thead>\n",
       "  <tbody>\n",
       "    <tr>\n",
       "      <th>0</th>\n",
       "      <td>A</td>\n",
       "    </tr>\n",
       "    <tr>\n",
       "      <th>1</th>\n",
       "      <td>B</td>\n",
       "    </tr>\n",
       "    <tr>\n",
       "      <th>2</th>\n",
       "      <td>C</td>\n",
       "    </tr>\n",
       "    <tr>\n",
       "      <th>3</th>\n",
       "      <td>A</td>\n",
       "    </tr>\n",
       "  </tbody>\n",
       "</table>\n",
       "</div>"
      ],
      "text/plain": [
       "  letter\n",
       "0      A\n",
       "1      B\n",
       "2      C\n",
       "3      A"
      ]
     },
     "execution_count": 41,
     "metadata": {},
     "output_type": "execute_result"
    }
   ],
   "source": [
    "demo_train = pd.DataFrame({'letter': ['A', 'B', 'C', 'A']})\n",
    "demo_train"
   ]
  },
  {
   "cell_type": "code",
   "execution_count": 42,
   "id": "cc473f04-36ab-4bef-b7ac-04156ab62e27",
   "metadata": {},
   "outputs": [
    {
     "data": {
      "text/plain": [
       "array([[1., 0., 0.],\n",
       "       [0., 1., 0.],\n",
       "       [0., 0., 1.],\n",
       "       [1., 0., 0.]])"
      ]
     },
     "execution_count": 42,
     "metadata": {},
     "output_type": "execute_result"
    }
   ],
   "source": [
    "ohe = OneHotEncoder(sparse=False)\n",
    "ohe.fit_transform(demo_train[['letter']])"
   ]
  },
  {
   "cell_type": "markdown",
   "id": "a031cbd7-7ecb-40ed-b924-c2c41f366ed4",
   "metadata": {},
   "source": [
    "**Testing OHE - I**"
   ]
  },
  {
   "cell_type": "code",
   "execution_count": 43,
   "id": "86073467-d877-4f59-804c-372770d9828b",
   "metadata": {},
   "outputs": [
    {
     "data": {
      "text/html": [
       "<div>\n",
       "<style scoped>\n",
       "    .dataframe tbody tr th:only-of-type {\n",
       "        vertical-align: middle;\n",
       "    }\n",
       "\n",
       "    .dataframe tbody tr th {\n",
       "        vertical-align: top;\n",
       "    }\n",
       "\n",
       "    .dataframe thead th {\n",
       "        text-align: right;\n",
       "    }\n",
       "</style>\n",
       "<table border=\"1\" class=\"dataframe\">\n",
       "  <thead>\n",
       "    <tr style=\"text-align: right;\">\n",
       "      <th></th>\n",
       "      <th>letter</th>\n",
       "    </tr>\n",
       "  </thead>\n",
       "  <tbody>\n",
       "    <tr>\n",
       "      <th>0</th>\n",
       "      <td>A</td>\n",
       "    </tr>\n",
       "    <tr>\n",
       "      <th>1</th>\n",
       "      <td>C</td>\n",
       "    </tr>\n",
       "    <tr>\n",
       "      <th>2</th>\n",
       "      <td>A</td>\n",
       "    </tr>\n",
       "  </tbody>\n",
       "</table>\n",
       "</div>"
      ],
      "text/plain": [
       "  letter\n",
       "0      A\n",
       "1      C\n",
       "2      A"
      ]
     },
     "execution_count": 43,
     "metadata": {},
     "output_type": "execute_result"
    }
   ],
   "source": [
    "demo_test = pd.DataFrame({'letter': ['A', 'C', 'A']})\n",
    "demo_test"
   ]
  },
  {
   "cell_type": "code",
   "execution_count": 44,
   "id": "e3a29c7b-8e15-4757-a6c4-36e36130a533",
   "metadata": {},
   "outputs": [
    {
     "data": {
      "text/plain": [
       "array([[1., 0., 0.],\n",
       "       [0., 0., 1.],\n",
       "       [1., 0., 0.]])"
      ]
     },
     "execution_count": 44,
     "metadata": {},
     "output_type": "execute_result"
    }
   ],
   "source": [
    "ohe.transform(demo_test[['letter']])"
   ]
  },
  {
   "cell_type": "markdown",
   "id": "17ef9bd5-fa10-4d03-a748-61865e73d418",
   "metadata": {},
   "source": [
    "**Testing OHE - II**"
   ]
  },
  {
   "cell_type": "code",
   "execution_count": 45,
   "id": "d810c119-d25d-4e56-b049-f19009a9931a",
   "metadata": {},
   "outputs": [
    {
     "data": {
      "text/html": [
       "<div>\n",
       "<style scoped>\n",
       "    .dataframe tbody tr th:only-of-type {\n",
       "        vertical-align: middle;\n",
       "    }\n",
       "\n",
       "    .dataframe tbody tr th {\n",
       "        vertical-align: top;\n",
       "    }\n",
       "\n",
       "    .dataframe thead th {\n",
       "        text-align: right;\n",
       "    }\n",
       "</style>\n",
       "<table border=\"1\" class=\"dataframe\">\n",
       "  <thead>\n",
       "    <tr style=\"text-align: right;\">\n",
       "      <th></th>\n",
       "      <th>letter</th>\n",
       "    </tr>\n",
       "  </thead>\n",
       "  <tbody>\n",
       "    <tr>\n",
       "      <th>0</th>\n",
       "      <td>A</td>\n",
       "    </tr>\n",
       "    <tr>\n",
       "      <th>1</th>\n",
       "      <td>C</td>\n",
       "    </tr>\n",
       "    <tr>\n",
       "      <th>2</th>\n",
       "      <td>D</td>\n",
       "    </tr>\n",
       "  </tbody>\n",
       "</table>\n",
       "</div>"
      ],
      "text/plain": [
       "  letter\n",
       "0      A\n",
       "1      C\n",
       "2      D"
      ]
     },
     "execution_count": 45,
     "metadata": {},
     "output_type": "execute_result"
    }
   ],
   "source": [
    "demo_test_unseen = pd.DataFrame({'letter': ['A', 'C', 'D']})\n",
    "demo_test_unseen"
   ]
  },
  {
   "cell_type": "code",
   "execution_count": 47,
   "id": "7d0e50cb-5f9e-4c46-8f7b-7d86e2d59998",
   "metadata": {},
   "outputs": [],
   "source": [
    "# ohe.transform(demo_test_unseen[['letter']])\n",
    "# ValueError: Found unknown categories ['D'] in column 0 during transform"
   ]
  },
  {
   "cell_type": "code",
   "execution_count": 48,
   "id": "42fc40d6-38cf-4b97-b90e-c1db47705cd0",
   "metadata": {},
   "outputs": [
    {
     "data": {
      "text/plain": [
       "array([[1., 0., 0.],\n",
       "       [0., 1., 0.],\n",
       "       [0., 0., 1.],\n",
       "       [1., 0., 0.]])"
      ]
     },
     "execution_count": 48,
     "metadata": {},
     "output_type": "execute_result"
    }
   ],
   "source": [
    "ohe = OneHotEncoder(sparse=False, handle_unknown='ignore')\n",
    "ohe.fit_transform(demo_train[['letter']])"
   ]
  },
  {
   "cell_type": "code",
   "execution_count": 50,
   "id": "89f62c28-cb25-4ddd-a6a9-d76793846bad",
   "metadata": {},
   "outputs": [
    {
     "data": {
      "text/plain": [
       "array([[1., 0., 0.],\n",
       "       [0., 0., 1.],\n",
       "       [0., 0., 0.]])"
      ]
     },
     "execution_count": 50,
     "metadata": {},
     "output_type": "execute_result"
    }
   ],
   "source": [
    "ohe.transform(demo_test_unseen[['letter']])"
   ]
  },
  {
   "cell_type": "markdown",
   "id": "ab1cc5bf-f5c2-4a65-804a-8b25235757fc",
   "metadata": {},
   "source": [
    "### Should we drop one of the OHE features, since some models (like linear regression) do not like collinearity between features?\n",
    "\n",
    "- Contrary to theoretical standards, multicollinearity is rarely a problem with most sklearn models.\n",
    "\n",
    "- Dropping a column encodes one of the category as [0 0 0 ...0]. But, if you encounter an unknown category in production with appropriate OHE parameters, it will also encode this new category as [0 0 0 ... 0]. In short, drop='first' cannot be used with handle_unknown='ignore.\n",
    "\n",
    "- If using regularization or Standardization, using OHE with drop='first' does not make a lot of sense, theoretically.  "
   ]
  },
  {
   "cell_type": "markdown",
   "id": "5c3b7794-67b3-42e5-9a99-6e2dd373eca5",
   "metadata": {},
   "source": [
    "### What's the difference between OHE, OrdinalEncoder and LabelEncoder?\n",
    "\n",
    "- OHE is used for **unordered** categorical data.\n",
    "\n",
    "- Ordinal Encoder is used for **ordered** categorical data. It is for the features.\n",
    "\n",
    "- Label Encoder similar to OrdinalEncoder except for a few differences. a) OE is used for features, LE is used for labels(target). b) OE allows you to define the categorical ordering, LE does not it encodes alphabetically. c) OE works for multiple features, LE assumes you only have 1 target and therefore works only for 1 feature.\n",
    "\n",
    "Sklearn models now all can handle string based **target** so there is no true need of Label Encoder anymore."
   ]
  },
  {
   "cell_type": "markdown",
   "id": "4687ab6f-6315-4a3b-99a9-44412ed9a8f8",
   "metadata": {},
   "source": [
    "### In a ColumnTransformer, what are the options for \"remainder\"?"
   ]
  },
  {
   "cell_type": "markdown",
   "id": "8fce492a-cf28-4f0c-b060-20e821cbe95e",
   "metadata": {},
   "source": [
    "**passthrough lets the unmarked columns go as is.**"
   ]
  },
  {
   "cell_type": "code",
   "execution_count": 52,
   "id": "2b8d741f-f3e5-4872-9fee-c48b9850da5c",
   "metadata": {},
   "outputs": [],
   "source": [
    "ohe = OneHotEncoder()\n",
    "\n",
    "ct = make_column_transformer(\n",
    "    (ohe, ['Embarked', 'Sex']),\n",
    "    (vect, 'Name'),\n",
    "    remainder='passthrough'\n",
    ")"
   ]
  },
  {
   "cell_type": "code",
   "execution_count": 54,
   "id": "fc69f493-1ca5-4df2-9f79-2e544c259885",
   "metadata": {},
   "outputs": [
    {
     "data": {
      "text/plain": [
       "Index(['Parch', 'Fare', 'Embarked', 'Sex', 'Name'], dtype='object')"
      ]
     },
     "execution_count": 54,
     "metadata": {},
     "output_type": "execute_result"
    }
   ],
   "source": [
    "X.columns"
   ]
  },
  {
   "cell_type": "code",
   "execution_count": 55,
   "id": "f30f6467-ee8b-47e0-993d-df9552ffd791",
   "metadata": {},
   "outputs": [
    {
     "data": {
      "text/plain": [
       "<10x47 sparse matrix of type '<class 'numpy.float64'>'\n",
       "\twith 78 stored elements in Compressed Sparse Row format>"
      ]
     },
     "execution_count": 55,
     "metadata": {},
     "output_type": "execute_result"
    }
   ],
   "source": [
    "ct.fit_transform(X)"
   ]
  },
  {
   "cell_type": "markdown",
   "id": "a9f45c4a-ab9e-4d5b-ae0f-f72532f7563d",
   "metadata": {},
   "source": [
    "**drop removes the unmarked columns**"
   ]
  },
  {
   "cell_type": "code",
   "execution_count": 56,
   "id": "91294a2d-50ab-465c-91cd-5f5ee12ae722",
   "metadata": {},
   "outputs": [],
   "source": [
    "ohe = OneHotEncoder()\n",
    "\n",
    "ct = make_column_transformer(\n",
    "    (ohe, ['Embarked', 'Sex']),\n",
    "    (vect, 'Name'),\n",
    "    remainder='drop'\n",
    ")"
   ]
  },
  {
   "cell_type": "code",
   "execution_count": 57,
   "id": "aec66d3f-2f7e-4ef6-99e7-dae64b32210d",
   "metadata": {},
   "outputs": [
    {
     "data": {
      "text/plain": [
       "Index(['Parch', 'Fare', 'Embarked', 'Sex', 'Name'], dtype='object')"
      ]
     },
     "execution_count": 57,
     "metadata": {},
     "output_type": "execute_result"
    }
   ],
   "source": [
    "X.columns"
   ]
  },
  {
   "cell_type": "code",
   "execution_count": 58,
   "id": "26b6e23e-edaa-4761-9cc1-8ae78afc0b21",
   "metadata": {},
   "outputs": [
    {
     "data": {
      "text/plain": [
       "<10x45 sparse matrix of type '<class 'numpy.float64'>'\n",
       "\twith 66 stored elements in Compressed Sparse Row format>"
      ]
     },
     "execution_count": 58,
     "metadata": {},
     "output_type": "execute_result"
    }
   ],
   "source": [
    "ct.fit_transform(X)"
   ]
  },
  {
   "cell_type": "markdown",
   "id": "51fce163-da08-41a5-a1e3-447ccae8cd04",
   "metadata": {},
   "source": [
    "**getting the names of columns**"
   ]
  },
  {
   "cell_type": "code",
   "execution_count": 59,
   "id": "115dfae3-f70e-4dfc-8d65-991a87637912",
   "metadata": {},
   "outputs": [
    {
     "data": {
      "text/plain": [
       "array(['onehotencoder__Embarked_C', 'onehotencoder__Embarked_Q',\n",
       "       'onehotencoder__Embarked_S', 'onehotencoder__Sex_female',\n",
       "       'onehotencoder__Sex_male', 'countvectorizer__achem',\n",
       "       'countvectorizer__adele', 'countvectorizer__allen',\n",
       "       'countvectorizer__berg', 'countvectorizer__bradley',\n",
       "       'countvectorizer__braund', 'countvectorizer__briggs',\n",
       "       'countvectorizer__cumings', 'countvectorizer__elisabeth',\n",
       "       'countvectorizer__florence', 'countvectorizer__futrelle',\n",
       "       'countvectorizer__gosta', 'countvectorizer__harris',\n",
       "       'countvectorizer__heath', 'countvectorizer__heikkinen',\n",
       "       'countvectorizer__henry', 'countvectorizer__jacques',\n",
       "       'countvectorizer__james', 'countvectorizer__john',\n",
       "       'countvectorizer__johnson'], dtype=object)"
      ]
     },
     "execution_count": 59,
     "metadata": {},
     "output_type": "execute_result"
    }
   ],
   "source": [
    "ct.get_feature_names_out()[:25]"
   ]
  },
  {
   "cell_type": "markdown",
   "id": "e5a2ab48-452a-4af8-a752-0c6a02f85f66",
   "metadata": {},
   "source": [
    "### Is there a more efficient way to specify columns for a ColumnTransformer than listing them one-by-one?"
   ]
  },
  {
   "cell_type": "code",
   "execution_count": 61,
   "id": "aaf02221-d5e4-4cd4-b1c0-03204905cd5c",
   "metadata": {},
   "outputs": [],
   "source": [
    "# specify by position\n",
    "ct = make_column_transformer(\n",
    "    (ohe, [2, 3]),\n",
    "    (vect, 4),\n",
    "    remainder='passthrough'\n",
    ")\n",
    "\n",
    "# specify by slice\n",
    "ct = make_column_transformer(\n",
    "    (ohe, slice(2, 4)),\n",
    "    (vect, 4),\n",
    "    remainder='passthrough'\n",
    ")\n",
    "\n",
    "# specify using make_column_selector\n",
    "from sklearn.compose import make_column_selector\n",
    "cs = make_column_selector(pattern='E|S')\n",
    "ct = make_column_transformer(\n",
    "    (ohe, cs),\n",
    "    (vect, 4),\n",
    "    remainder='passthrough'\n",
    ")"
   ]
  },
  {
   "cell_type": "markdown",
   "id": "463486ba-5691-430a-9365-79ae1861172a",
   "metadata": {},
   "source": [
    "### Does pipe.fit() modify the underlying objects (ct, logreg) passed to it or use them as a template?"
   ]
  },
  {
   "cell_type": "code",
   "execution_count": 62,
   "id": "b97845aa-4ffa-404e-8370-1cadbf86d44b",
   "metadata": {},
   "outputs": [
    {
     "data": {
      "text/html": [
       "<style>#sk-container-id-4 {color: black;background-color: white;}#sk-container-id-4 pre{padding: 0;}#sk-container-id-4 div.sk-toggleable {background-color: white;}#sk-container-id-4 label.sk-toggleable__label {cursor: pointer;display: block;width: 100%;margin-bottom: 0;padding: 0.3em;box-sizing: border-box;text-align: center;}#sk-container-id-4 label.sk-toggleable__label-arrow:before {content: \"▸\";float: left;margin-right: 0.25em;color: #696969;}#sk-container-id-4 label.sk-toggleable__label-arrow:hover:before {color: black;}#sk-container-id-4 div.sk-estimator:hover label.sk-toggleable__label-arrow:before {color: black;}#sk-container-id-4 div.sk-toggleable__content {max-height: 0;max-width: 0;overflow: hidden;text-align: left;background-color: #f0f8ff;}#sk-container-id-4 div.sk-toggleable__content pre {margin: 0.2em;color: black;border-radius: 0.25em;background-color: #f0f8ff;}#sk-container-id-4 input.sk-toggleable__control:checked~div.sk-toggleable__content {max-height: 200px;max-width: 100%;overflow: auto;}#sk-container-id-4 input.sk-toggleable__control:checked~label.sk-toggleable__label-arrow:before {content: \"▾\";}#sk-container-id-4 div.sk-estimator input.sk-toggleable__control:checked~label.sk-toggleable__label {background-color: #d4ebff;}#sk-container-id-4 div.sk-label input.sk-toggleable__control:checked~label.sk-toggleable__label {background-color: #d4ebff;}#sk-container-id-4 input.sk-hidden--visually {border: 0;clip: rect(1px 1px 1px 1px);clip: rect(1px, 1px, 1px, 1px);height: 1px;margin: -1px;overflow: hidden;padding: 0;position: absolute;width: 1px;}#sk-container-id-4 div.sk-estimator {font-family: monospace;background-color: #f0f8ff;border: 1px dotted black;border-radius: 0.25em;box-sizing: border-box;margin-bottom: 0.5em;}#sk-container-id-4 div.sk-estimator:hover {background-color: #d4ebff;}#sk-container-id-4 div.sk-parallel-item::after {content: \"\";width: 100%;border-bottom: 1px solid gray;flex-grow: 1;}#sk-container-id-4 div.sk-label:hover label.sk-toggleable__label {background-color: #d4ebff;}#sk-container-id-4 div.sk-serial::before {content: \"\";position: absolute;border-left: 1px solid gray;box-sizing: border-box;top: 0;bottom: 0;left: 50%;z-index: 0;}#sk-container-id-4 div.sk-serial {display: flex;flex-direction: column;align-items: center;background-color: white;padding-right: 0.2em;padding-left: 0.2em;position: relative;}#sk-container-id-4 div.sk-item {position: relative;z-index: 1;}#sk-container-id-4 div.sk-parallel {display: flex;align-items: stretch;justify-content: center;background-color: white;position: relative;}#sk-container-id-4 div.sk-item::before, #sk-container-id-4 div.sk-parallel-item::before {content: \"\";position: absolute;border-left: 1px solid gray;box-sizing: border-box;top: 0;bottom: 0;left: 50%;z-index: -1;}#sk-container-id-4 div.sk-parallel-item {display: flex;flex-direction: column;z-index: 1;position: relative;background-color: white;}#sk-container-id-4 div.sk-parallel-item:first-child::after {align-self: flex-end;width: 50%;}#sk-container-id-4 div.sk-parallel-item:last-child::after {align-self: flex-start;width: 50%;}#sk-container-id-4 div.sk-parallel-item:only-child::after {width: 0;}#sk-container-id-4 div.sk-dashed-wrapped {border: 1px dashed gray;margin: 0 0.4em 0.5em 0.4em;box-sizing: border-box;padding-bottom: 0.4em;background-color: white;}#sk-container-id-4 div.sk-label label {font-family: monospace;font-weight: bold;display: inline-block;line-height: 1.2em;}#sk-container-id-4 div.sk-label-container {text-align: center;}#sk-container-id-4 div.sk-container {/* jupyter's `normalize.less` sets `[hidden] { display: none; }` but bootstrap.min.css set `[hidden] { display: none !important; }` so we also need the `!important` here to be able to override the default hidden behavior on the sphinx rendered scikit-learn.org. See: https://github.com/scikit-learn/scikit-learn/issues/21755 */display: inline-block !important;position: relative;}#sk-container-id-4 div.sk-text-repr-fallback {display: none;}</style><div id=\"sk-container-id-4\" class=\"sk-top-container\"><div class=\"sk-text-repr-fallback\"><pre>Pipeline(steps=[(&#x27;columntransformer&#x27;,\n",
       "                 ColumnTransformer(remainder=&#x27;passthrough&#x27;,\n",
       "                                   transformers=[(&#x27;onehotencoder&#x27;,\n",
       "                                                  OneHotEncoder(),\n",
       "                                                  &lt;sklearn.compose._column_transformer.make_column_selector object at 0x00000213B4E263E0&gt;),\n",
       "                                                 (&#x27;countvectorizer&#x27;,\n",
       "                                                  CountVectorizer(), 4)])),\n",
       "                (&#x27;logisticregression&#x27;,\n",
       "                 LogisticRegression(random_state=1998, solver=&#x27;liblinear&#x27;))])</pre><b>In a Jupyter environment, please rerun this cell to show the HTML representation or trust the notebook. <br />On GitHub, the HTML representation is unable to render, please try loading this page with nbviewer.org.</b></div><div class=\"sk-container\" hidden><div class=\"sk-item sk-dashed-wrapped\"><div class=\"sk-label-container\"><div class=\"sk-label sk-toggleable\"><input class=\"sk-toggleable__control sk-hidden--visually\" id=\"sk-estimator-id-18\" type=\"checkbox\" ><label for=\"sk-estimator-id-18\" class=\"sk-toggleable__label sk-toggleable__label-arrow\">Pipeline</label><div class=\"sk-toggleable__content\"><pre>Pipeline(steps=[(&#x27;columntransformer&#x27;,\n",
       "                 ColumnTransformer(remainder=&#x27;passthrough&#x27;,\n",
       "                                   transformers=[(&#x27;onehotencoder&#x27;,\n",
       "                                                  OneHotEncoder(),\n",
       "                                                  &lt;sklearn.compose._column_transformer.make_column_selector object at 0x00000213B4E263E0&gt;),\n",
       "                                                 (&#x27;countvectorizer&#x27;,\n",
       "                                                  CountVectorizer(), 4)])),\n",
       "                (&#x27;logisticregression&#x27;,\n",
       "                 LogisticRegression(random_state=1998, solver=&#x27;liblinear&#x27;))])</pre></div></div></div><div class=\"sk-serial\"><div class=\"sk-item sk-dashed-wrapped\"><div class=\"sk-label-container\"><div class=\"sk-label sk-toggleable\"><input class=\"sk-toggleable__control sk-hidden--visually\" id=\"sk-estimator-id-19\" type=\"checkbox\" ><label for=\"sk-estimator-id-19\" class=\"sk-toggleable__label sk-toggleable__label-arrow\">columntransformer: ColumnTransformer</label><div class=\"sk-toggleable__content\"><pre>ColumnTransformer(remainder=&#x27;passthrough&#x27;,\n",
       "                  transformers=[(&#x27;onehotencoder&#x27;, OneHotEncoder(),\n",
       "                                 &lt;sklearn.compose._column_transformer.make_column_selector object at 0x00000213B4E263E0&gt;),\n",
       "                                (&#x27;countvectorizer&#x27;, CountVectorizer(), 4)])</pre></div></div></div><div class=\"sk-parallel\"><div class=\"sk-parallel-item\"><div class=\"sk-item\"><div class=\"sk-label-container\"><div class=\"sk-label sk-toggleable\"><input class=\"sk-toggleable__control sk-hidden--visually\" id=\"sk-estimator-id-20\" type=\"checkbox\" ><label for=\"sk-estimator-id-20\" class=\"sk-toggleable__label sk-toggleable__label-arrow\">onehotencoder</label><div class=\"sk-toggleable__content\"><pre>&lt;sklearn.compose._column_transformer.make_column_selector object at 0x00000213B4E263E0&gt;</pre></div></div></div><div class=\"sk-serial\"><div class=\"sk-item\"><div class=\"sk-estimator sk-toggleable\"><input class=\"sk-toggleable__control sk-hidden--visually\" id=\"sk-estimator-id-21\" type=\"checkbox\" ><label for=\"sk-estimator-id-21\" class=\"sk-toggleable__label sk-toggleable__label-arrow\">OneHotEncoder</label><div class=\"sk-toggleable__content\"><pre>OneHotEncoder()</pre></div></div></div></div></div></div><div class=\"sk-parallel-item\"><div class=\"sk-item\"><div class=\"sk-label-container\"><div class=\"sk-label sk-toggleable\"><input class=\"sk-toggleable__control sk-hidden--visually\" id=\"sk-estimator-id-22\" type=\"checkbox\" ><label for=\"sk-estimator-id-22\" class=\"sk-toggleable__label sk-toggleable__label-arrow\">countvectorizer</label><div class=\"sk-toggleable__content\"><pre>4</pre></div></div></div><div class=\"sk-serial\"><div class=\"sk-item\"><div class=\"sk-estimator sk-toggleable\"><input class=\"sk-toggleable__control sk-hidden--visually\" id=\"sk-estimator-id-23\" type=\"checkbox\" ><label for=\"sk-estimator-id-23\" class=\"sk-toggleable__label sk-toggleable__label-arrow\">CountVectorizer</label><div class=\"sk-toggleable__content\"><pre>CountVectorizer()</pre></div></div></div></div></div></div><div class=\"sk-parallel-item\"><div class=\"sk-item\"><div class=\"sk-label-container\"><div class=\"sk-label sk-toggleable\"><input class=\"sk-toggleable__control sk-hidden--visually\" id=\"sk-estimator-id-24\" type=\"checkbox\" ><label for=\"sk-estimator-id-24\" class=\"sk-toggleable__label sk-toggleable__label-arrow\">remainder</label><div class=\"sk-toggleable__content\"><pre>[&#x27;Parch&#x27;, &#x27;Fare&#x27;]</pre></div></div></div><div class=\"sk-serial\"><div class=\"sk-item\"><div class=\"sk-estimator sk-toggleable\"><input class=\"sk-toggleable__control sk-hidden--visually\" id=\"sk-estimator-id-25\" type=\"checkbox\" ><label for=\"sk-estimator-id-25\" class=\"sk-toggleable__label sk-toggleable__label-arrow\">passthrough</label><div class=\"sk-toggleable__content\"><pre>passthrough</pre></div></div></div></div></div></div></div></div><div class=\"sk-item\"><div class=\"sk-estimator sk-toggleable\"><input class=\"sk-toggleable__control sk-hidden--visually\" id=\"sk-estimator-id-26\" type=\"checkbox\" ><label for=\"sk-estimator-id-26\" class=\"sk-toggleable__label sk-toggleable__label-arrow\">LogisticRegression</label><div class=\"sk-toggleable__content\"><pre>LogisticRegression(random_state=1998, solver=&#x27;liblinear&#x27;)</pre></div></div></div></div></div></div></div>"
      ],
      "text/plain": [
       "Pipeline(steps=[('columntransformer',\n",
       "                 ColumnTransformer(remainder='passthrough',\n",
       "                                   transformers=[('onehotencoder',\n",
       "                                                  OneHotEncoder(),\n",
       "                                                  <sklearn.compose._column_transformer.make_column_selector object at 0x00000213B4E263E0>),\n",
       "                                                 ('countvectorizer',\n",
       "                                                  CountVectorizer(), 4)])),\n",
       "                ('logisticregression',\n",
       "                 LogisticRegression(random_state=1998, solver='liblinear'))])"
      ]
     },
     "execution_count": 62,
     "metadata": {},
     "output_type": "execute_result"
    }
   ],
   "source": [
    "pipe = make_pipeline(ct, logreg)\n",
    "pipe.fit(X, y)"
   ]
  },
  {
   "cell_type": "code",
   "execution_count": 63,
   "id": "4e82cefd-1c98-4e77-804e-9946ed9a883f",
   "metadata": {},
   "outputs": [
    {
     "data": {
      "text/plain": [
       "array([[ 0.18828769, -0.14100295, -0.16593861,  0.66504677, -0.78370063,\n",
       "         0.11596792,  0.11596792, -0.1262833 ,  0.13845919,  0.07231978,\n",
       "        -0.12539973,  0.07231978,  0.07231978,  0.13845919,  0.07231978,\n",
       "         0.10454614, -0.18913104, -0.12539973,  0.10454614,  0.23375375,\n",
       "        -0.1262833 ,  0.10454614, -0.14100295,  0.07231978,  0.13845919,\n",
       "         0.23375375, -0.18913104,  0.10454614, -0.18913104,  0.10454614,\n",
       "        -0.20188362,  0.23375375, -0.14100295, -0.5945696 ,  0.43129302,\n",
       "         0.11596792,  0.11596792,  0.13845919, -0.12539973, -0.18913104,\n",
       "         0.10454614,  0.07231978, -0.20188362,  0.13845919, -0.1262833 ,\n",
       "         0.08778734,  0.01334678]])"
      ]
     },
     "execution_count": 63,
     "metadata": {},
     "output_type": "execute_result"
    }
   ],
   "source": [
    "pipe.named_steps.logisticregression.coef_"
   ]
  },
  {
   "cell_type": "code",
   "execution_count": 64,
   "id": "d0693050-6a87-4874-aa99-fc5cfdbc4ea9",
   "metadata": {},
   "outputs": [
    {
     "data": {
      "text/plain": [
       "array([[ 0.18828769, -0.14100295, -0.16593861,  0.66504677, -0.78370063,\n",
       "         0.11596792,  0.11596792, -0.1262833 ,  0.13845919,  0.07231978,\n",
       "        -0.12539973,  0.07231978,  0.07231978,  0.13845919,  0.07231978,\n",
       "         0.10454614, -0.18913104, -0.12539973,  0.10454614,  0.23375375,\n",
       "        -0.1262833 ,  0.10454614, -0.14100295,  0.07231978,  0.13845919,\n",
       "         0.23375375, -0.18913104,  0.10454614, -0.18913104,  0.10454614,\n",
       "        -0.20188362,  0.23375375, -0.14100295, -0.5945696 ,  0.43129302,\n",
       "         0.11596792,  0.11596792,  0.13845919, -0.12539973, -0.18913104,\n",
       "         0.10454614,  0.07231978, -0.20188362,  0.13845919, -0.1262833 ,\n",
       "         0.08778734,  0.01334678]])"
      ]
     },
     "execution_count": 64,
     "metadata": {},
     "output_type": "execute_result"
    }
   ],
   "source": [
    "logreg.coef_"
   ]
  },
  {
   "cell_type": "markdown",
   "id": "d4bd0f32-0b63-4521-b7bf-c47c64e64094",
   "metadata": {},
   "source": [
    "**they match**"
   ]
  },
  {
   "cell_type": "markdown",
   "id": "e83e0d75-5e1b-4750-bb71-65357aae8261",
   "metadata": {},
   "source": [
    "### Why did we create the ```imp_ohe``` pipeline? Why didn't we use imp_constant to the ColumnTransformer?"
   ]
  },
  {
   "cell_type": "code",
   "execution_count": 112,
   "id": "1fbcd97e-e24b-49f0-b3f7-d05fe5bcaadd",
   "metadata": {},
   "outputs": [],
   "source": [
    "# Transformer only pipeline: imputation + ohe\n",
    "imp_ohe = make_pipeline(imp_constant, ohe)\n",
    "\n",
    "# New column transformer\n",
    "ct = make_column_transformer(\n",
    "    (imp_ohe, ['Embarked', 'Sex']),\n",
    "    (vect, 'Name'),\n",
    "    (imp, ['Age', 'Fare']),\n",
    "    remainder='passthrough'\n",
    ")"
   ]
  },
  {
   "cell_type": "code",
   "execution_count": 113,
   "id": "d15e60a4-300c-4628-bbc8-4606c911e112",
   "metadata": {},
   "outputs": [],
   "source": [
    "ct_suggestion = make_column_transformer(\n",
    "    (imp_constant, ['Embarked', 'Sex']),\n",
    "    (ohe, ['Embarked', 'Sex']),\n",
    "    (vect, 'Name'),\n",
    "    (imp, ['Age', 'Fare']),\n",
    "    remainder='passthrough'\n",
    ")"
   ]
  },
  {
   "cell_type": "code",
   "execution_count": 115,
   "id": "d512de32-53e4-4568-810c-a49a8f18a924",
   "metadata": {},
   "outputs": [
    {
     "data": {
      "text/html": [
       "<div>\n",
       "<style scoped>\n",
       "    .dataframe tbody tr th:only-of-type {\n",
       "        vertical-align: middle;\n",
       "    }\n",
       "\n",
       "    .dataframe tbody tr th {\n",
       "        vertical-align: top;\n",
       "    }\n",
       "\n",
       "    .dataframe thead th {\n",
       "        text-align: right;\n",
       "    }\n",
       "</style>\n",
       "<table border=\"1\" class=\"dataframe\">\n",
       "  <thead>\n",
       "    <tr style=\"text-align: right;\">\n",
       "      <th></th>\n",
       "      <th>PassengerId</th>\n",
       "      <th>Survived</th>\n",
       "      <th>Pclass</th>\n",
       "      <th>Name</th>\n",
       "      <th>Sex</th>\n",
       "      <th>Age</th>\n",
       "      <th>SibSp</th>\n",
       "      <th>Parch</th>\n",
       "      <th>Ticket</th>\n",
       "      <th>Fare</th>\n",
       "      <th>Cabin</th>\n",
       "      <th>Embarked</th>\n",
       "    </tr>\n",
       "  </thead>\n",
       "  <tbody>\n",
       "    <tr>\n",
       "      <th>0</th>\n",
       "      <td>1</td>\n",
       "      <td>0</td>\n",
       "      <td>3</td>\n",
       "      <td>Braund, Mr. Owen Harris</td>\n",
       "      <td>male</td>\n",
       "      <td>22.0</td>\n",
       "      <td>1</td>\n",
       "      <td>0</td>\n",
       "      <td>A/5 21171</td>\n",
       "      <td>7.25</td>\n",
       "      <td>NaN</td>\n",
       "      <td>S</td>\n",
       "    </tr>\n",
       "  </tbody>\n",
       "</table>\n",
       "</div>"
      ],
      "text/plain": [
       "   PassengerId  Survived  Pclass                     Name   Sex   Age  SibSp  \\\n",
       "0            1         0       3  Braund, Mr. Owen Harris  male  22.0      1   \n",
       "\n",
       "   Parch     Ticket  Fare Cabin Embarked  \n",
       "0      0  A/5 21171  7.25   NaN        S  "
      ]
     },
     "execution_count": 115,
     "metadata": {},
     "output_type": "execute_result"
    }
   ],
   "source": [
    "df_tiny = df.head(10).copy()\n",
    "df_tiny.sample()"
   ]
  },
  {
   "cell_type": "code",
   "execution_count": 116,
   "id": "90cd0a5f-d9ae-477c-8e52-0f9f490666fc",
   "metadata": {},
   "outputs": [],
   "source": [
    "X_tiny = df_tiny[cols]"
   ]
  },
  {
   "cell_type": "markdown",
   "id": "cec302a1-f474-4a7a-bc55-dd995af51822",
   "metadata": {},
   "source": [
    "**Testing if the suggested column transformer works**"
   ]
  },
  {
   "cell_type": "code",
   "execution_count": 117,
   "id": "5d5de06b-4d61-4a3c-b14d-4fb727933a09",
   "metadata": {},
   "outputs": [
    {
     "data": {
      "text/plain": [
       "array([[0., 0., 1.],\n",
       "       [1., 0., 0.],\n",
       "       [0., 0., 1.],\n",
       "       [0., 0., 1.],\n",
       "       [0., 0., 1.],\n",
       "       [0., 1., 0.],\n",
       "       [0., 0., 1.],\n",
       "       [0., 0., 1.],\n",
       "       [0., 0., 1.],\n",
       "       [1., 0., 0.]])"
      ]
     },
     "execution_count": 117,
     "metadata": {},
     "output_type": "execute_result"
    }
   ],
   "source": [
    "# original\n",
    "make_column_transformer(\n",
    "    (imp_ohe, ['Embarked']),\n",
    "    remainder='drop'\n",
    ").fit_transform(X_tiny)"
   ]
  },
  {
   "cell_type": "code",
   "execution_count": 118,
   "id": "542cdc92-9e4d-42df-802b-5b31ac685f10",
   "metadata": {},
   "outputs": [
    {
     "data": {
      "text/plain": [
       "array([['S', 0.0, 0.0, 1.0],\n",
       "       ['C', 1.0, 0.0, 0.0],\n",
       "       ['S', 0.0, 0.0, 1.0],\n",
       "       ['S', 0.0, 0.0, 1.0],\n",
       "       ['S', 0.0, 0.0, 1.0],\n",
       "       ['Q', 0.0, 1.0, 0.0],\n",
       "       ['S', 0.0, 0.0, 1.0],\n",
       "       ['S', 0.0, 0.0, 1.0],\n",
       "       ['S', 0.0, 0.0, 1.0],\n",
       "       ['C', 1.0, 0.0, 0.0]], dtype=object)"
      ]
     },
     "execution_count": 118,
     "metadata": {},
     "output_type": "execute_result"
    }
   ],
   "source": [
    "# suggested\n",
    "make_column_transformer(\n",
    "    (imp_constant, ['Embarked']),\n",
    "    (ohe, ['Embarked']),\n",
    "    remainder='drop'\n",
    ").fit_transform(X_tiny)"
   ]
  },
  {
   "cell_type": "code",
   "execution_count": 119,
   "id": "1d71d8b6-fe98-4d82-9885-0c7abf1ecabf",
   "metadata": {},
   "outputs": [
    {
     "data": {
      "text/plain": [
       "array([[0.0, 0.0, 1.0, 'S'],\n",
       "       [1.0, 0.0, 0.0, 'C'],\n",
       "       [0.0, 0.0, 1.0, 'S'],\n",
       "       [0.0, 0.0, 1.0, 'S'],\n",
       "       [0.0, 0.0, 1.0, 'S'],\n",
       "       [0.0, 1.0, 0.0, 'Q'],\n",
       "       [0.0, 0.0, 1.0, 'S'],\n",
       "       [0.0, 0.0, 1.0, 'S'],\n",
       "       [0.0, 0.0, 1.0, 'S'],\n",
       "       [1.0, 0.0, 0.0, 'C']], dtype=object)"
      ]
     },
     "execution_count": 119,
     "metadata": {},
     "output_type": "execute_result"
    }
   ],
   "source": [
    "# modification of suggestion\n",
    "make_column_transformer(\n",
    "    (ohe, ['Embarked']),\n",
    "    (imp_constant, ['Embarked']),\n",
    "    remainder='drop'\n",
    ").fit_transform(X_tiny)"
   ]
  },
  {
   "cell_type": "markdown",
   "id": "514a687a-c40b-4347-abdb-4f19fc354160",
   "metadata": {},
   "source": [
    "**Key:** Output of step 1 is input to step 2 in the column transformer."
   ]
  },
  {
   "cell_type": "markdown",
   "id": "4f742317-c052-44ac-b600-d82e3b656735",
   "metadata": {},
   "source": [
    "### What about Stratified-Kfold?"
   ]
  },
  {
   "cell_type": "code",
   "execution_count": 121,
   "id": "1cfa89f7-6a27-49e6-be75-c7f5ab8fbdb0",
   "metadata": {},
   "outputs": [],
   "source": [
    "\n",
    "# Fill value with the word: 'missing'. To treat missing value as 4th category.\n",
    "imp_constant = SimpleImputer(strategy='constant', fill_value='missing')\n",
    "\n",
    "# Transformer only pipeline: imputation + ohe\n",
    "imp_ohe = make_pipeline(imp_constant, ohe)\n",
    "\n",
    "# New column transformer\n",
    "ct = make_column_transformer(\n",
    "    (imp_ohe, ['Embarked', 'Sex']),\n",
    "    (vect, 'Name'),\n",
    "    (imp, ['Age', 'Fare']),\n",
    "    remainder='passthrough'\n",
    ")\n",
    "\n",
    "pipe = make_pipeline(ct, logreg)"
   ]
  },
  {
   "cell_type": "code",
   "execution_count": 122,
   "id": "414b0e38-839a-477a-b63b-30ff458cadce",
   "metadata": {},
   "outputs": [
    {
     "data": {
      "text/plain": [
       "array([0.79888268, 0.8258427 , 0.80337079, 0.78651685, 0.84269663])"
      ]
     },
     "execution_count": 122,
     "metadata": {},
     "output_type": "execute_result"
    }
   ],
   "source": [
    "cross_val_score(pipe, X, y, cv=5, scoring='accuracy')"
   ]
  },
  {
   "cell_type": "markdown",
   "id": "884a6b2c-fa5f-4d11-98e3-efe406b0209f",
   "metadata": {},
   "source": [
    "**SKFold ensures that the distribution of target is similar in each fold. In this case roughly 38% survived should exist both in the training and testing folds.**"
   ]
  },
  {
   "cell_type": "code",
   "execution_count": 123,
   "id": "a626c0a7-a02a-412d-a0bf-78ee3ac975fa",
   "metadata": {},
   "outputs": [
    {
     "data": {
      "text/plain": [
       "array([0.79888268, 0.8258427 , 0.80337079, 0.78651685, 0.84269663])"
      ]
     },
     "execution_count": 123,
     "metadata": {},
     "output_type": "execute_result"
    }
   ],
   "source": [
    "from sklearn.model_selection import StratifiedKFold\n",
    "kf = StratifiedKFold(5)\n",
    "cross_val_score(pipe, X, y, cv=kf, scoring='accuracy')"
   ]
  },
  {
   "cell_type": "code",
   "execution_count": 129,
   "id": "6a13b985-c0d6-4b0c-95ed-54173a67f366",
   "metadata": {},
   "outputs": [
    {
     "data": {
      "text/plain": [
       "(array([168, 169, 170, 171, 173, 174, 175, 176, 177, 178, 179, 180, 181,\n",
       "        182, 185, 188, 189, 191, 196, 197, 199, 200, 201, 202, 203, 204,\n",
       "        205, 206, 207, 208, 209, 210, 211, 212, 213, 214, 215, 216, 217,\n",
       "        218, 219, 220, 221, 222, 223, 224, 225, 226, 227, 228, 229, 230,\n",
       "        231, 232, 233, 234, 235, 236, 237, 238, 239, 240, 241, 242, 243,\n",
       "        244, 245, 246, 247, 248, 249, 250, 251, 252, 253, 254, 255, 256,\n",
       "        257, 258, 259, 260, 261, 262, 263, 264, 265, 266, 267, 268, 269,\n",
       "        270, 271, 272, 273, 274, 275, 276, 277, 278, 279, 280, 281, 282,\n",
       "        283, 284, 285, 286, 287, 288, 289, 290, 291, 292, 293, 294, 295,\n",
       "        296, 297, 298, 299, 300, 301, 302, 303, 304, 305, 306, 307, 308,\n",
       "        309, 310, 311, 312, 313, 314, 315, 316, 317, 318, 319, 320, 321,\n",
       "        322, 323, 324, 325, 326, 327, 328, 329, 330, 331, 332, 333, 334,\n",
       "        335, 336, 337, 338, 339, 340, 341, 342, 343, 344, 345, 346, 347,\n",
       "        348, 349, 350, 351, 352, 353, 354, 355, 356, 357, 358, 359, 360,\n",
       "        361, 362, 363, 364, 365, 366, 367, 368, 369, 370, 371, 372, 373,\n",
       "        374, 375, 376, 377, 378, 379, 380, 381, 382, 383, 384, 385, 386,\n",
       "        387, 388, 389, 390, 391, 392, 393, 394, 395, 396, 397, 398, 399,\n",
       "        400, 401, 402, 403, 404, 405, 406, 407, 408, 409, 410, 411, 412,\n",
       "        413, 414, 415, 416, 417, 418, 419, 420, 421, 422, 423, 424, 425,\n",
       "        426, 427, 428, 429, 430, 431, 432, 433, 434, 435, 436, 437, 438,\n",
       "        439, 440, 441, 442, 443, 444, 445, 446, 447, 448, 449, 450, 451,\n",
       "        452, 453, 454, 455, 456, 457, 458, 459, 460, 461, 462, 463, 464,\n",
       "        465, 466, 467, 468, 469, 470, 471, 472, 473, 474, 475, 476, 477,\n",
       "        478, 479, 480, 481, 482, 483, 484, 485, 486, 487, 488, 489, 490,\n",
       "        491, 492, 493, 494, 495, 496, 497, 498, 499, 500, 501, 502, 503,\n",
       "        504, 505, 506, 507, 508, 509, 510, 511, 512, 513, 514, 515, 516,\n",
       "        517, 518, 519, 520, 521, 522, 523, 524, 525, 526, 527, 528, 529,\n",
       "        530, 531, 532, 533, 534, 535, 536, 537, 538, 539, 540, 541, 542,\n",
       "        543, 544, 545, 546, 547, 548, 549, 550, 551, 552, 553, 554, 555,\n",
       "        556, 557, 558, 559, 560, 561, 562, 563, 564, 565, 566, 567, 568,\n",
       "        569, 570, 571, 572, 573, 574, 575, 576, 577, 578, 579, 580, 581,\n",
       "        582, 583, 584, 585, 586, 587, 588, 589, 590, 591, 592, 593, 594,\n",
       "        595, 596, 597, 598, 599, 600, 601, 602, 603, 604, 605, 606, 607,\n",
       "        608, 609, 610, 611, 612, 613, 614, 615, 616, 617, 618, 619, 620,\n",
       "        621, 622, 623, 624, 625, 626, 627, 628, 629, 630, 631, 632, 633,\n",
       "        634, 635, 636, 637, 638, 639, 640, 641, 642, 643, 644, 645, 646,\n",
       "        647, 648, 649, 650, 651, 652, 653, 654, 655, 656, 657, 658, 659,\n",
       "        660, 661, 662, 663, 664, 665, 666, 667, 668, 669, 670, 671, 672,\n",
       "        673, 674, 675, 676, 677, 678, 679, 680, 681, 682, 683, 684, 685,\n",
       "        686, 687, 688, 689, 690, 691, 692, 693, 694, 695, 696, 697, 698,\n",
       "        699, 700, 701, 702, 703, 704, 705, 706, 707, 708, 709, 710, 711,\n",
       "        712, 713, 714, 715, 716, 717, 718, 719, 720, 721, 722, 723, 724,\n",
       "        725, 726, 727, 728, 729, 730, 731, 732, 733, 734, 735, 736, 737,\n",
       "        738, 739, 740, 741, 742, 743, 744, 745, 746, 747, 748, 749, 750,\n",
       "        751, 752, 753, 754, 755, 756, 757, 758, 759, 760, 761, 762, 763,\n",
       "        764, 765, 766, 767, 768, 769, 770, 771, 772, 773, 774, 775, 776,\n",
       "        777, 778, 779, 780, 781, 782, 783, 784, 785, 786, 787, 788, 789,\n",
       "        790, 791, 792, 793, 794, 795, 796, 797, 798, 799, 800, 801, 802,\n",
       "        803, 804, 805, 806, 807, 808, 809, 810, 811, 812, 813, 814, 815,\n",
       "        816, 817, 818, 819, 820, 821, 822, 823, 824, 825, 826, 827, 828,\n",
       "        829, 830, 831, 832, 833, 834, 835, 836, 837, 838, 839, 840, 841,\n",
       "        842, 843, 844, 845, 846, 847, 848, 849, 850, 851, 852, 853, 854,\n",
       "        855, 856, 857, 858, 859, 860, 861, 862, 863, 864, 865, 866, 867,\n",
       "        868, 869, 870, 871, 872, 873, 874, 875, 876, 877, 878, 879, 880,\n",
       "        881, 882, 883, 884, 885, 886, 887, 888, 889, 890]),\n",
       " array([  0,   1,   2,   3,   4,   5,   6,   7,   8,   9,  10,  11,  12,\n",
       "         13,  14,  15,  16,  17,  18,  19,  20,  21,  22,  23,  24,  25,\n",
       "         26,  27,  28,  29,  30,  31,  32,  33,  34,  35,  36,  37,  38,\n",
       "         39,  40,  41,  42,  43,  44,  45,  46,  47,  48,  49,  50,  51,\n",
       "         52,  53,  54,  55,  56,  57,  58,  59,  60,  61,  62,  63,  64,\n",
       "         65,  66,  67,  68,  69,  70,  71,  72,  73,  74,  75,  76,  77,\n",
       "         78,  79,  80,  81,  82,  83,  84,  85,  86,  87,  88,  89,  90,\n",
       "         91,  92,  93,  94,  95,  96,  97,  98,  99, 100, 101, 102, 103,\n",
       "        104, 105, 106, 107, 108, 109, 110, 111, 112, 113, 114, 115, 116,\n",
       "        117, 118, 119, 120, 121, 122, 123, 124, 125, 126, 127, 128, 129,\n",
       "        130, 131, 132, 133, 134, 135, 136, 137, 138, 139, 140, 141, 142,\n",
       "        143, 144, 145, 146, 147, 148, 149, 150, 151, 152, 153, 154, 155,\n",
       "        156, 157, 158, 159, 160, 161, 162, 163, 164, 165, 166, 167, 172,\n",
       "        183, 184, 186, 187, 190, 192, 193, 194, 195, 198]))"
      ]
     },
     "execution_count": 129,
     "metadata": {},
     "output_type": "execute_result"
    }
   ],
   "source": [
    "# indices used to split: 80% training, 20% testing\n",
    "list(kf.split(X, y))[0]"
   ]
  },
  {
   "cell_type": "markdown",
   "id": "11576952-4a82-4e95-83dd-e2ea9d299dd5",
   "metadata": {},
   "source": [
    "**Notice that the row indices are not shuffled. By extension, cv does not shuffle. Therefore, cv and GridSearch do not have a random state. Becuase there is no randomness.**\n",
    "\n",
    "If the ordering of the rows is arbitrary, don't shuffle the rows. If not, shuffle. With shuffle, can set random state."
   ]
  },
  {
   "cell_type": "code",
   "execution_count": 130,
   "id": "f6b0535f-1215-4798-af1a-553c5d7837ed",
   "metadata": {},
   "outputs": [],
   "source": [
    "kf = StratifiedKFold(5, shuffle=True, random_state=seed)"
   ]
  },
  {
   "cell_type": "markdown",
   "id": "dc912c05-ec80-4fe6-9508-28c5556a8911",
   "metadata": {},
   "source": [
    "### Should you use a validation set when tuning the model's hyperparameters?\n",
    "\n",
    "The terminology between when people call something a testing set vs validation set is a little fuzzy."
   ]
  },
  {
   "cell_type": "markdown",
   "id": "cd20bc7d-a62d-4632-867b-be7b6314624a",
   "metadata": {},
   "source": [
    "There are two jobs we are trying to do:\n",
    "- Tuning the models hyperparameters.\n",
    "- Estimating its future performance.\n",
    "\n",
    "If you use the same dataset to do both (cv + evaluation), you are making the model biased towards that specific data. To make the representation more realistic and if you have enough data to spare, you split the entire dataset into two splits called training and validation (also called testing). Do the cross validation on training and evaluate on validation.\n",
    "\n",
    "If you **do not have enough data** to spare for a validation set, you can use nested cross validation. The inner loop does the parameter tuning using grid search and the outer loop estimates model performance using cross validation. To get the most realistic estimate of performance of your model, one need to *add complexity*. There is no workaround."
   ]
  },
  {
   "cell_type": "markdown",
   "id": "5cdd44c9-fdf9-4ab3-b867-029657f075c0",
   "metadata": {},
   "source": [
    "### What is the difference between FeatureUnion and ColumnTransformer?"
   ]
  },
  {
   "cell_type": "code",
   "execution_count": 131,
   "id": "62cc4139-6f28-442b-bc17-900d5d85bfc6",
   "metadata": {},
   "outputs": [
    {
     "data": {
      "text/plain": [
       "array([[22.        ,  0.        ],\n",
       "       [38.        ,  0.        ],\n",
       "       [26.        ,  0.        ],\n",
       "       [35.        ,  0.        ],\n",
       "       [35.        ,  0.        ],\n",
       "       [28.11111111,  1.        ],\n",
       "       [54.        ,  0.        ],\n",
       "       [ 2.        ,  0.        ],\n",
       "       [27.        ,  0.        ],\n",
       "       [14.        ,  0.        ]])"
      ]
     },
     "execution_count": 131,
     "metadata": {},
     "output_type": "execute_result"
    }
   ],
   "source": [
    "SimpleImputer(add_indicator=True).fit_transform(X_tiny[['Age']])"
   ]
  },
  {
   "cell_type": "markdown",
   "id": "5595e6c6-42f7-4be3-b449-b48ea3de8de5",
   "metadata": {},
   "source": [
    "**Q) How do we replicate the above without using ```add_indicator```?**"
   ]
  },
  {
   "cell_type": "code",
   "execution_count": 134,
   "id": "948b422f-bb00-4624-9231-321711d769ac",
   "metadata": {},
   "outputs": [
    {
     "data": {
      "text/plain": [
       "array([[0],\n",
       "       [0],\n",
       "       [0],\n",
       "       [0],\n",
       "       [0],\n",
       "       [1],\n",
       "       [0],\n",
       "       [0],\n",
       "       [0],\n",
       "       [0]])"
      ]
     },
     "execution_count": 134,
     "metadata": {},
     "output_type": "execute_result"
    }
   ],
   "source": [
    "from sklearn.impute import MissingIndicator\n",
    "indic = MissingIndicator()\n",
    "indic.fit_transform(X_tiny[['Age']])        # for numerical: use .astype(int)"
   ]
  },
  {
   "cell_type": "markdown",
   "id": "8bb566c9-1082-4751-9170-21f5a16cd190",
   "metadata": {},
   "source": [
    "**How to stack the above next to the Age feature?**"
   ]
  },
  {
   "cell_type": "code",
   "execution_count": 135,
   "id": "12c7a759-8c6e-4b34-bf1f-675d78ec6f0e",
   "metadata": {},
   "outputs": [
    {
     "data": {
      "text/plain": [
       "array([[22.        ,  0.        ],\n",
       "       [38.        ,  0.        ],\n",
       "       [26.        ,  0.        ],\n",
       "       [35.        ,  0.        ],\n",
       "       [35.        ,  0.        ],\n",
       "       [28.11111111,  1.        ],\n",
       "       [54.        ,  0.        ],\n",
       "       [ 2.        ,  0.        ],\n",
       "       [27.        ,  0.        ],\n",
       "       [14.        ,  0.        ]])"
      ]
     },
     "execution_count": 135,
     "metadata": {},
     "output_type": "execute_result"
    }
   ],
   "source": [
    "from sklearn.pipeline import make_union\n",
    "imp_indic = make_union(imp, indic)\n",
    "imp_indic.fit_transform(X_tiny[['Age']])"
   ]
  },
  {
   "cell_type": "markdown",
   "id": "15480854-a00a-480e-b95b-386c92ae95d8",
   "metadata": {},
   "source": [
    "- Feature union applies multiple transformations to a single input column and stacks the result side-by-side.\n",
    "\n",
    "- ColumnTransformer applies a different transformations to each input column and stacks the result side-by-side."
   ]
  },
  {
   "cell_type": "code",
   "execution_count": 136,
   "id": "ce600210-335b-4c1c-aba7-da1fe961152d",
   "metadata": {},
   "outputs": [
    {
     "data": {
      "text/plain": [
       "array([[22.        ,  0.        ],\n",
       "       [38.        ,  0.        ],\n",
       "       [26.        ,  0.        ],\n",
       "       [35.        ,  0.        ],\n",
       "       [35.        ,  0.        ],\n",
       "       [28.11111111,  1.        ],\n",
       "       [54.        ,  0.        ],\n",
       "       [ 2.        ,  0.        ],\n",
       "       [27.        ,  0.        ],\n",
       "       [14.        ,  0.        ]])"
      ]
     },
     "execution_count": 136,
     "metadata": {},
     "output_type": "execute_result"
    }
   ],
   "source": [
    "make_column_transformer(\n",
    "    (imp_indic, ['Age']),\n",
    "    remainder='drop'\n",
    ").fit_transform(X_tiny)"
   ]
  },
  {
   "cell_type": "markdown",
   "id": "225d9de2-ab74-4c0f-8a91-889bcc581a95",
   "metadata": {},
   "source": [
    "### How would you add feature selection to our Pipeline?"
   ]
  },
  {
   "cell_type": "code",
   "execution_count": 137,
   "id": "ca413da5-5888-49e5-aa31-80e42148a630",
   "metadata": {},
   "outputs": [
    {
     "data": {
      "text/plain": [
       "0.8114619295712762"
      ]
     },
     "execution_count": 137,
     "metadata": {},
     "output_type": "execute_result"
    }
   ],
   "source": [
    "cross_val_score(pipe, X, y, cv=5, scoring='accuracy').mean()"
   ]
  },
  {
   "cell_type": "markdown",
   "id": "c71deae4-5a25-4594-a1e8-a95f1e574571",
   "metadata": {},
   "source": [
    "#### Selection from percentile"
   ]
  },
  {
   "cell_type": "code",
   "execution_count": 138,
   "id": "3be2631e-0e44-457d-8ffb-e4ece2ab432b",
   "metadata": {},
   "outputs": [],
   "source": [
    "from sklearn.feature_selection import SelectPercentile, chi2\n",
    "# You pass a statistical test (chi2 in this case) and percentile of features\n",
    "# to keep.\n",
    "selection = SelectPercentile(chi2, percentile=50)"
   ]
  },
  {
   "cell_type": "code",
   "execution_count": 139,
   "id": "8e9ce3fd-1954-44ee-a9f4-d2b18424f4e4",
   "metadata": {},
   "outputs": [
    {
     "data": {
      "text/plain": [
       "0.8193019898311469"
      ]
     },
     "execution_count": 139,
     "metadata": {},
     "output_type": "execute_result"
    }
   ],
   "source": [
    "pipe_selection = make_pipeline(ct, selection, logreg)\n",
    "cross_val_score(pipe_selection, X, y, cv=5, scoring='accuracy').mean()"
   ]
  },
  {
   "cell_type": "markdown",
   "id": "4f094be4-bdb1-41c4-83c6-9f5f25a9984e",
   "metadata": {},
   "source": [
    "**Performance goes up!!!**"
   ]
  },
  {
   "cell_type": "markdown",
   "id": "d63ba27c-c1c2-410e-9fa0-35a2a6c0bd7f",
   "metadata": {},
   "source": [
    "#### Selection from model\n",
    "\n",
    "- Uses coefficients (coef_) or the feature importances attribute of a model as the score.\n",
    "\n",
    "- Threshold can be the mean or median of the scores that you can optionally include as a scaling parameter. Say, 0.5*Mean"
   ]
  },
  {
   "cell_type": "code",
   "execution_count": 140,
   "id": "de1e814f-c87f-4b49-ac7d-444d8da6b45b",
   "metadata": {},
   "outputs": [],
   "source": [
    "logreg_selection = LogisticRegression(solver='liblinear', penalty='l1',  random_state=seed)\n",
    "\n",
    "from sklearn.feature_selection import SelectFromModel\n",
    "selection = SelectFromModel(logreg_selection, threshold='mean')"
   ]
  },
  {
   "cell_type": "code",
   "execution_count": 141,
   "id": "13233104-51f3-41dd-8bbf-79c08d2098ce",
   "metadata": {},
   "outputs": [
    {
     "data": {
      "text/plain": [
       "0.8260121775155358"
      ]
     },
     "execution_count": 141,
     "metadata": {},
     "output_type": "execute_result"
    }
   ],
   "source": [
    "pipe_selection = make_pipeline(ct, selection, logreg)\n",
    "cross_val_score(pipe_selection, X, y, cv=5, scoring='accuracy').mean()"
   ]
  },
  {
   "cell_type": "markdown",
   "id": "391cdd84-a265-4272-87fb-adeb33323735",
   "metadata": {},
   "source": [
    "**Performance goes up!!!**"
   ]
  },
  {
   "cell_type": "markdown",
   "id": "920c591c-b081-45cf-9975-112afc7cc7eb",
   "metadata": {},
   "source": [
    "### Scaling all features in a Pipeline.\n",
    "\n",
    "**Note**: Don't use StandardScaler when the output of a columntransformer is a sparse matrix because it will get rid of the zeros and the memory of the resultant matrix will blow out of proportions."
   ]
  },
  {
   "cell_type": "code",
   "execution_count": 142,
   "id": "d6b70772-156a-403d-93e9-812625a4bcd6",
   "metadata": {},
   "outputs": [],
   "source": [
    "from sklearn.preprocessing import MaxAbsScaler # preserves sparsity\n",
    "scaler = MaxAbsScaler()"
   ]
  },
  {
   "cell_type": "code",
   "execution_count": 144,
   "id": "e263e8b6-99fb-4611-844b-bd854a90cfed",
   "metadata": {},
   "outputs": [
    {
     "data": {
      "text/plain": [
       "0.8114556525014123"
      ]
     },
     "execution_count": 144,
     "metadata": {},
     "output_type": "execute_result"
    }
   ],
   "source": [
    "pipe_scaled = make_pipeline(ct, scaler, logreg)\n",
    "cross_val_score(pipe_scaled, X, y, scoring='accuracy').mean()"
   ]
  },
  {
   "cell_type": "markdown",
   "id": "e72f23e0-3505-42a9-80f0-e12e59f1f475",
   "metadata": {},
   "source": [
    "***Scaling did very little here. The solver liblinear is very robust to different feature scales and usually scaling is not required with this.***"
   ]
  },
  {
   "cell_type": "markdown",
   "id": "b2bc8532-a349-4bf7-a418-7df18408ef0c",
   "metadata": {},
   "source": [
    "#### Should you scale all features or the ones that were originally numerical?"
   ]
  },
  {
   "cell_type": "markdown",
   "id": "06b119dd-335f-4be3-ba26-8f8db68963da",
   "metadata": {},
   "source": [
    "_Ans:_ Try both! Experiment."
   ]
  },
  {
   "cell_type": "markdown",
   "id": "730c70c4-4374-4928-b121-5e6e6148f917",
   "metadata": {},
   "source": [
    "### Adding Outlier handling to our Pipeline.\n",
    "\n",
    "- Try Scaling techniques robust to outliers like RobustScaler.\n",
    "```python\n",
    "from sklearn.preprocessing import RobustScaler\n",
    "```\n",
    "\n",
    "- Identify and remove them from training data (if removal is necessary at all).\n",
    "\n",
    "**Sklearn does not support any transformers currently that removes rows.** All transformers sometimes make more columns, sometimes retain the same number of columns."
   ]
  },
  {
   "cell_type": "markdown",
   "id": "65257def-6067-407e-ad06-810adb585a9b",
   "metadata": {},
   "source": [
    "### How to include custom transformations for feature engineering within a Pipeline?"
   ]
  },
  {
   "cell_type": "code",
   "execution_count": 146,
   "id": "775820ef-be12-4ed0-b5e2-ace8b45f2632",
   "metadata": {},
   "outputs": [
    {
     "data": {
      "text/html": [
       "<div>\n",
       "<style scoped>\n",
       "    .dataframe tbody tr th:only-of-type {\n",
       "        vertical-align: middle;\n",
       "    }\n",
       "\n",
       "    .dataframe tbody tr th {\n",
       "        vertical-align: top;\n",
       "    }\n",
       "\n",
       "    .dataframe thead th {\n",
       "        text-align: right;\n",
       "    }\n",
       "</style>\n",
       "<table border=\"1\" class=\"dataframe\">\n",
       "  <thead>\n",
       "    <tr style=\"text-align: right;\">\n",
       "      <th></th>\n",
       "      <th>PassengerId</th>\n",
       "      <th>Survived</th>\n",
       "      <th>Pclass</th>\n",
       "      <th>Name</th>\n",
       "      <th>Sex</th>\n",
       "      <th>Age</th>\n",
       "      <th>SibSp</th>\n",
       "      <th>Parch</th>\n",
       "      <th>Ticket</th>\n",
       "      <th>Fare</th>\n",
       "      <th>Cabin</th>\n",
       "      <th>Embarked</th>\n",
       "    </tr>\n",
       "  </thead>\n",
       "  <tbody>\n",
       "    <tr>\n",
       "      <th>3</th>\n",
       "      <td>4</td>\n",
       "      <td>1</td>\n",
       "      <td>1</td>\n",
       "      <td>Futrelle, Mrs. Jacques Heath (Lily May Peel)</td>\n",
       "      <td>female</td>\n",
       "      <td>35.0</td>\n",
       "      <td>1</td>\n",
       "      <td>0</td>\n",
       "      <td>113803</td>\n",
       "      <td>53.1</td>\n",
       "      <td>C123</td>\n",
       "      <td>S</td>\n",
       "    </tr>\n",
       "  </tbody>\n",
       "</table>\n",
       "</div>"
      ],
      "text/plain": [
       "   PassengerId  Survived  Pclass  \\\n",
       "3            4         1       1   \n",
       "\n",
       "                                           Name     Sex   Age  SibSp  Parch  \\\n",
       "3  Futrelle, Mrs. Jacques Heath (Lily May Peel)  female  35.0      1      0   \n",
       "\n",
       "   Ticket  Fare Cabin Embarked  \n",
       "3  113803  53.1  C123        S  "
      ]
     },
     "execution_count": 146,
     "metadata": {},
     "output_type": "execute_result"
    }
   ],
   "source": [
    "df_tiny.sample()"
   ]
  },
  {
   "cell_type": "markdown",
   "id": "6ec19803-e819-494b-a155-03ebcb4d2fbd",
   "metadata": {},
   "source": [
    "**Engineering ideas:**\n",
    "\n",
    "1. Age and fare will be better features if we floor them.\n",
    "\n",
    "2. Cabin name starts with a letter, which may represent the deck of the ship. Maybe the deck of the ship is a predictive feature.\n",
    "\n",
    "3. We want to get the sum of SibSp and Parch. Maybe total number of features aboard is more predictive that SibSp and Parch."
   ]
  },
  {
   "cell_type": "markdown",
   "id": "7bf5c222-d229-4ea8-88d5-b0a5014b88bf",
   "metadata": {},
   "source": [
    "#### Idea 1:"
   ]
  },
  {
   "cell_type": "code",
   "execution_count": 147,
   "id": "3bf5cd61-1697-4432-8d0a-0bb94dd9d5b8",
   "metadata": {},
   "outputs": [
    {
     "data": {
      "text/html": [
       "<div>\n",
       "<style scoped>\n",
       "    .dataframe tbody tr th:only-of-type {\n",
       "        vertical-align: middle;\n",
       "    }\n",
       "\n",
       "    .dataframe tbody tr th {\n",
       "        vertical-align: top;\n",
       "    }\n",
       "\n",
       "    .dataframe thead th {\n",
       "        text-align: right;\n",
       "    }\n",
       "</style>\n",
       "<table border=\"1\" class=\"dataframe\">\n",
       "  <thead>\n",
       "    <tr style=\"text-align: right;\">\n",
       "      <th></th>\n",
       "      <th>Age</th>\n",
       "      <th>Fare</th>\n",
       "    </tr>\n",
       "  </thead>\n",
       "  <tbody>\n",
       "    <tr>\n",
       "      <th>0</th>\n",
       "      <td>22.0</td>\n",
       "      <td>7.0</td>\n",
       "    </tr>\n",
       "    <tr>\n",
       "      <th>1</th>\n",
       "      <td>38.0</td>\n",
       "      <td>71.0</td>\n",
       "    </tr>\n",
       "    <tr>\n",
       "      <th>2</th>\n",
       "      <td>26.0</td>\n",
       "      <td>7.0</td>\n",
       "    </tr>\n",
       "    <tr>\n",
       "      <th>3</th>\n",
       "      <td>35.0</td>\n",
       "      <td>53.0</td>\n",
       "    </tr>\n",
       "    <tr>\n",
       "      <th>4</th>\n",
       "      <td>35.0</td>\n",
       "      <td>8.0</td>\n",
       "    </tr>\n",
       "    <tr>\n",
       "      <th>5</th>\n",
       "      <td>NaN</td>\n",
       "      <td>8.0</td>\n",
       "    </tr>\n",
       "    <tr>\n",
       "      <th>6</th>\n",
       "      <td>54.0</td>\n",
       "      <td>51.0</td>\n",
       "    </tr>\n",
       "    <tr>\n",
       "      <th>7</th>\n",
       "      <td>2.0</td>\n",
       "      <td>21.0</td>\n",
       "    </tr>\n",
       "    <tr>\n",
       "      <th>8</th>\n",
       "      <td>27.0</td>\n",
       "      <td>11.0</td>\n",
       "    </tr>\n",
       "    <tr>\n",
       "      <th>9</th>\n",
       "      <td>14.0</td>\n",
       "      <td>30.0</td>\n",
       "    </tr>\n",
       "  </tbody>\n",
       "</table>\n",
       "</div>"
      ],
      "text/plain": [
       "    Age  Fare\n",
       "0  22.0   7.0\n",
       "1  38.0  71.0\n",
       "2  26.0   7.0\n",
       "3  35.0  53.0\n",
       "4  35.0   8.0\n",
       "5   NaN   8.0\n",
       "6  54.0  51.0\n",
       "7   2.0  21.0\n",
       "8  27.0  11.0\n",
       "9  14.0  30.0"
      ]
     },
     "execution_count": 147,
     "metadata": {},
     "output_type": "execute_result"
    }
   ],
   "source": [
    "import numpy as np\n",
    "np.floor(df_tiny[['Age', 'Fare']])"
   ]
  },
  {
   "cell_type": "markdown",
   "id": "08ca53b1-3812-4629-9951-191120af264e",
   "metadata": {},
   "source": [
    "**To include this in sklearn, we need a transformer i.e. we need np.floor to behave as a transformer.**"
   ]
  },
  {
   "cell_type": "code",
   "execution_count": 148,
   "id": "5312b3fa-6693-4319-a12c-2decbbfcc558",
   "metadata": {},
   "outputs": [],
   "source": [
    "from sklearn.preprocessing import FunctionTransformer"
   ]
  },
  {
   "cell_type": "code",
   "execution_count": 149,
   "id": "b3daca12-5977-4c95-9408-1cc3f48cb813",
   "metadata": {},
   "outputs": [
    {
     "data": {
      "text/html": [
       "<div>\n",
       "<style scoped>\n",
       "    .dataframe tbody tr th:only-of-type {\n",
       "        vertical-align: middle;\n",
       "    }\n",
       "\n",
       "    .dataframe tbody tr th {\n",
       "        vertical-align: top;\n",
       "    }\n",
       "\n",
       "    .dataframe thead th {\n",
       "        text-align: right;\n",
       "    }\n",
       "</style>\n",
       "<table border=\"1\" class=\"dataframe\">\n",
       "  <thead>\n",
       "    <tr style=\"text-align: right;\">\n",
       "      <th></th>\n",
       "      <th>Age</th>\n",
       "      <th>Fare</th>\n",
       "    </tr>\n",
       "  </thead>\n",
       "  <tbody>\n",
       "    <tr>\n",
       "      <th>0</th>\n",
       "      <td>22.0</td>\n",
       "      <td>7.0</td>\n",
       "    </tr>\n",
       "    <tr>\n",
       "      <th>1</th>\n",
       "      <td>38.0</td>\n",
       "      <td>71.0</td>\n",
       "    </tr>\n",
       "    <tr>\n",
       "      <th>2</th>\n",
       "      <td>26.0</td>\n",
       "      <td>7.0</td>\n",
       "    </tr>\n",
       "    <tr>\n",
       "      <th>3</th>\n",
       "      <td>35.0</td>\n",
       "      <td>53.0</td>\n",
       "    </tr>\n",
       "    <tr>\n",
       "      <th>4</th>\n",
       "      <td>35.0</td>\n",
       "      <td>8.0</td>\n",
       "    </tr>\n",
       "    <tr>\n",
       "      <th>5</th>\n",
       "      <td>NaN</td>\n",
       "      <td>8.0</td>\n",
       "    </tr>\n",
       "    <tr>\n",
       "      <th>6</th>\n",
       "      <td>54.0</td>\n",
       "      <td>51.0</td>\n",
       "    </tr>\n",
       "    <tr>\n",
       "      <th>7</th>\n",
       "      <td>2.0</td>\n",
       "      <td>21.0</td>\n",
       "    </tr>\n",
       "    <tr>\n",
       "      <th>8</th>\n",
       "      <td>27.0</td>\n",
       "      <td>11.0</td>\n",
       "    </tr>\n",
       "    <tr>\n",
       "      <th>9</th>\n",
       "      <td>14.0</td>\n",
       "      <td>30.0</td>\n",
       "    </tr>\n",
       "  </tbody>\n",
       "</table>\n",
       "</div>"
      ],
      "text/plain": [
       "    Age  Fare\n",
       "0  22.0   7.0\n",
       "1  38.0  71.0\n",
       "2  26.0   7.0\n",
       "3  35.0  53.0\n",
       "4  35.0   8.0\n",
       "5   NaN   8.0\n",
       "6  54.0  51.0\n",
       "7   2.0  21.0\n",
       "8  27.0  11.0\n",
       "9  14.0  30.0"
      ]
     },
     "execution_count": 149,
     "metadata": {},
     "output_type": "execute_result"
    }
   ],
   "source": [
    "get_floor = FunctionTransformer(np.floor)\n",
    "\n",
    "get_floor.fit_transform(df_tiny[['Age', 'Fare']])"
   ]
  },
  {
   "cell_type": "code",
   "execution_count": 150,
   "id": "279b532d-6c2c-4e2d-9025-0d147d573702",
   "metadata": {},
   "outputs": [
    {
     "data": {
      "text/plain": [
       "array([[22.,  7.],\n",
       "       [38., 71.],\n",
       "       [26.,  7.],\n",
       "       [35., 53.],\n",
       "       [35.,  8.],\n",
       "       [nan,  8.],\n",
       "       [54., 51.],\n",
       "       [ 2., 21.],\n",
       "       [27., 11.],\n",
       "       [14., 30.]])"
      ]
     },
     "execution_count": 150,
     "metadata": {},
     "output_type": "execute_result"
    }
   ],
   "source": [
    "make_column_transformer(\n",
    "    (get_floor, ['Age', 'Fare']),\n",
    "    remainder='drop'\n",
    ").fit_transform(df_tiny)"
   ]
  },
  {
   "cell_type": "markdown",
   "id": "130dbcfe-4bf5-4241-955e-05123afd5bd4",
   "metadata": {},
   "source": [
    "#### Idea 2:"
   ]
  },
  {
   "cell_type": "code",
   "execution_count": 152,
   "id": "223bf4f8-50dd-4abf-ab2b-46bf57654969",
   "metadata": {},
   "outputs": [
    {
     "data": {
      "text/html": [
       "<div>\n",
       "<style scoped>\n",
       "    .dataframe tbody tr th:only-of-type {\n",
       "        vertical-align: middle;\n",
       "    }\n",
       "\n",
       "    .dataframe tbody tr th {\n",
       "        vertical-align: top;\n",
       "    }\n",
       "\n",
       "    .dataframe thead th {\n",
       "        text-align: right;\n",
       "    }\n",
       "</style>\n",
       "<table border=\"1\" class=\"dataframe\">\n",
       "  <thead>\n",
       "    <tr style=\"text-align: right;\">\n",
       "      <th></th>\n",
       "      <th>Cabin</th>\n",
       "    </tr>\n",
       "  </thead>\n",
       "  <tbody>\n",
       "    <tr>\n",
       "      <th>0</th>\n",
       "      <td>NaN</td>\n",
       "    </tr>\n",
       "    <tr>\n",
       "      <th>1</th>\n",
       "      <td>C</td>\n",
       "    </tr>\n",
       "    <tr>\n",
       "      <th>2</th>\n",
       "      <td>NaN</td>\n",
       "    </tr>\n",
       "    <tr>\n",
       "      <th>3</th>\n",
       "      <td>C</td>\n",
       "    </tr>\n",
       "    <tr>\n",
       "      <th>4</th>\n",
       "      <td>NaN</td>\n",
       "    </tr>\n",
       "    <tr>\n",
       "      <th>5</th>\n",
       "      <td>NaN</td>\n",
       "    </tr>\n",
       "    <tr>\n",
       "      <th>6</th>\n",
       "      <td>E</td>\n",
       "    </tr>\n",
       "    <tr>\n",
       "      <th>7</th>\n",
       "      <td>NaN</td>\n",
       "    </tr>\n",
       "    <tr>\n",
       "      <th>8</th>\n",
       "      <td>NaN</td>\n",
       "    </tr>\n",
       "    <tr>\n",
       "      <th>9</th>\n",
       "      <td>NaN</td>\n",
       "    </tr>\n",
       "  </tbody>\n",
       "</table>\n",
       "</div>"
      ],
      "text/plain": [
       "  Cabin\n",
       "0   NaN\n",
       "1     C\n",
       "2   NaN\n",
       "3     C\n",
       "4   NaN\n",
       "5   NaN\n",
       "6     E\n",
       "7   NaN\n",
       "8   NaN\n",
       "9   NaN"
      ]
     },
     "execution_count": 152,
     "metadata": {},
     "output_type": "execute_result"
    }
   ],
   "source": [
    "df_tiny[['Cabin']].apply(lambda x: x.str.slice(0, 1))"
   ]
  },
  {
   "cell_type": "code",
   "execution_count": 154,
   "id": "c183057c-19a8-474f-bc5e-d5f404db3e4d",
   "metadata": {},
   "outputs": [],
   "source": [
    "def cabin_first_letter(df):\n",
    "    \"\"\"\n",
    "    The input is planned to be a dataframe. However, the input could be a numpy array:\n",
    "        1. Because you can pass a numpy array to a column transformer.\n",
    "        2. If this column transformer becomes the second step of a pipeline, the first\n",
    "        step will return a numpy so there could be problems.\n",
    "    \n",
    "    Therefore, we make sure to convert df into DataFrame.\n",
    "    \"\"\"\n",
    "    return pd.DataFrame(df).apply(lambda x: x.str.slice(0, 1))"
   ]
  },
  {
   "cell_type": "code",
   "execution_count": 155,
   "id": "18f1ddc0-409b-4854-bc4e-fdc2e8305b47",
   "metadata": {},
   "outputs": [],
   "source": [
    "get_first_letter = FunctionTransformer(cabin_first_letter)"
   ]
  },
  {
   "cell_type": "code",
   "execution_count": 156,
   "id": "b6d70440-d161-459f-ac68-d75c6fa6dcef",
   "metadata": {},
   "outputs": [
    {
     "data": {
      "text/plain": [
       "array([[22.0, 7.0, nan],\n",
       "       [38.0, 71.0, 'C'],\n",
       "       [26.0, 7.0, nan],\n",
       "       [35.0, 53.0, 'C'],\n",
       "       [35.0, 8.0, nan],\n",
       "       [nan, 8.0, nan],\n",
       "       [54.0, 51.0, 'E'],\n",
       "       [2.0, 21.0, nan],\n",
       "       [27.0, 11.0, nan],\n",
       "       [14.0, 30.0, nan]], dtype=object)"
      ]
     },
     "execution_count": 156,
     "metadata": {},
     "output_type": "execute_result"
    }
   ],
   "source": [
    "make_column_transformer(\n",
    "    (get_floor, ['Age', 'Fare']),\n",
    "    (get_first_letter, ['Cabin']),\n",
    "    remainder='drop'\n",
    ").fit_transform(df_tiny)"
   ]
  },
  {
   "cell_type": "markdown",
   "id": "510e848e-f5b3-47fa-b311-be88fdaa5100",
   "metadata": {},
   "source": [
    "When you write functions that are going to be transformed and used in a column transformer, there are two shape considerations to make:\n",
    "\n",
    "- Function does not have to accept 2D input but it's better if it does. This allows you to pass multiple columns simultaneously.\n",
    "\n",
    "- CT requires that all transformers (your custom function) output 2D output."
   ]
  },
  {
   "cell_type": "markdown",
   "id": "2afc2ae0-6756-420e-952d-105c48f4cc5d",
   "metadata": {},
   "source": [
    "#### Idea 3:"
   ]
  },
  {
   "cell_type": "code",
   "execution_count": 157,
   "id": "7812f7bf-f746-4839-ac87-0be345497e89",
   "metadata": {},
   "outputs": [
    {
     "data": {
      "text/plain": [
       "0    1\n",
       "1    1\n",
       "2    0\n",
       "3    1\n",
       "4    0\n",
       "5    0\n",
       "6    0\n",
       "7    4\n",
       "8    2\n",
       "9    1\n",
       "dtype: int64"
      ]
     },
     "execution_count": 157,
     "metadata": {},
     "output_type": "execute_result"
    }
   ],
   "source": [
    "df_tiny[['SibSp', 'Parch']].sum(axis=1)"
   ]
  },
  {
   "cell_type": "code",
   "execution_count": 158,
   "id": "83295bc4-3421-451f-affc-40fb8eabfdbd",
   "metadata": {},
   "outputs": [],
   "source": [
    "def sum_cols(df):\n",
    "    \"\"\"\n",
    "    Input might be a dataframe or a numpy array.\n",
    "    \n",
    "    Summing over the columns axis returns a 1D object (see previous cell).\n",
    "    Therefore, we convert at the end the object to 2D which is a requirement\n",
    "    of a columntransformer function.\n",
    "    \n",
    "    reshape(-1, 1): First dimension of the object should be inferred. Second dimension\n",
    "    of the object should be 1.\n",
    "    \"\"\"\n",
    "    return np.array(df).sum(axis=1).reshape(-1, 1)"
   ]
  },
  {
   "cell_type": "code",
   "execution_count": 159,
   "id": "e0f73a1d-7321-4ece-9d17-4f55f1b2cb21",
   "metadata": {},
   "outputs": [
    {
     "data": {
      "text/plain": [
       "array([[1],\n",
       "       [1],\n",
       "       [0],\n",
       "       [1],\n",
       "       [0],\n",
       "       [0],\n",
       "       [0],\n",
       "       [4],\n",
       "       [2],\n",
       "       [1]], dtype=int64)"
      ]
     },
     "execution_count": 159,
     "metadata": {},
     "output_type": "execute_result"
    }
   ],
   "source": [
    "sum_cols(df_tiny[['SibSp', 'Parch']])"
   ]
  },
  {
   "cell_type": "code",
   "execution_count": 160,
   "id": "8065333b-c4db-4e47-a258-228e8189a0c8",
   "metadata": {},
   "outputs": [
    {
     "data": {
      "text/plain": [
       "array([[22.0, 7.0, nan, 1],\n",
       "       [38.0, 71.0, 'C', 1],\n",
       "       [26.0, 7.0, nan, 0],\n",
       "       [35.0, 53.0, 'C', 1],\n",
       "       [35.0, 8.0, nan, 0],\n",
       "       [nan, 8.0, nan, 0],\n",
       "       [54.0, 51.0, 'E', 0],\n",
       "       [2.0, 21.0, nan, 4],\n",
       "       [27.0, 11.0, nan, 2],\n",
       "       [14.0, 30.0, nan, 1]], dtype=object)"
      ]
     },
     "execution_count": 160,
     "metadata": {},
     "output_type": "execute_result"
    }
   ],
   "source": [
    "get_sum = FunctionTransformer(sum_cols)\n",
    "\n",
    "make_column_transformer(\n",
    "    (get_floor, ['Age', 'Fare']),\n",
    "    (get_first_letter, ['Cabin']),\n",
    "    (get_sum, ['SibSp', 'Parch']),\n",
    "    remainder='drop'\n",
    ").fit_transform(df_tiny)"
   ]
  },
  {
   "cell_type": "code",
   "execution_count": 161,
   "id": "46452a72-8fcb-44c4-b601-a3aab3d7270f",
   "metadata": {},
   "outputs": [
    {
     "data": {
      "text/plain": [
       "['Parch', 'Fare', 'Embarked', 'Sex', 'Name', 'Age']"
      ]
     },
     "execution_count": 161,
     "metadata": {},
     "output_type": "execute_result"
    }
   ],
   "source": [
    "cols"
   ]
  },
  {
   "cell_type": "code",
   "execution_count": 162,
   "id": "db9d3768-fa83-4871-8d2f-11c87e5830e0",
   "metadata": {},
   "outputs": [],
   "source": [
    "cols.extend(['Cabin', 'SibSp'])"
   ]
  },
  {
   "cell_type": "code",
   "execution_count": 163,
   "id": "0ef47880-ad3d-4ce1-9b1e-2c89875de9f3",
   "metadata": {},
   "outputs": [],
   "source": [
    "X, X_new = df[cols], df_new[cols]"
   ]
  },
  {
   "cell_type": "code",
   "execution_count": 164,
   "id": "9bdb90dc-66c9-4932-9bda-7cb524480b6c",
   "metadata": {},
   "outputs": [],
   "source": [
    "# Impute: Age, Fare\n",
    "imp_floor = make_pipeline(imp, get_floor)"
   ]
  },
  {
   "cell_type": "code",
   "execution_count": 166,
   "id": "40346fba-36a5-423c-ac9b-879ee020c806",
   "metadata": {},
   "outputs": [
    {
     "data": {
      "text/plain": [
       "NaN    687\n",
       "C       59\n",
       "B       47\n",
       "D       33\n",
       "E       32\n",
       "A       15\n",
       "F       13\n",
       "G        4\n",
       "T        1\n",
       "Name: Cabin, dtype: int64"
      ]
     },
     "execution_count": 166,
     "metadata": {},
     "output_type": "execute_result"
    }
   ],
   "source": [
    "X['Cabin'].str.slice(0, 1).value_counts(dropna=False)"
   ]
  },
  {
   "cell_type": "markdown",
   "id": "4bd636d5-6dfe-495c-9c35-7d2f3bd968ac",
   "metadata": {},
   "source": [
    "Problems: \n",
    "\n",
    "- get_first_letter introduces Nan to the column which needs to be imputed.\n",
    "\n",
    "- the ouput is a string which needs to be encoded to numeric.\n",
    "\n",
    "- some categories (G, T) are very rare. Problem with cross validation because all categories might show up in the same fold repeatedly."
   ]
  },
  {
   "cell_type": "code",
   "execution_count": 168,
   "id": "535a9240-d0b4-4588-ae2a-ccfd580f8336",
   "metadata": {},
   "outputs": [],
   "source": [
    "# setting handle_unknown to handle the problem\n",
    "ohe_ignore = OneHotEncoder(handle_unknown='ignore')\n",
    "letter_imp_ohe = make_pipeline(get_first_letter, imp_constant, ohe_ignore)"
   ]
  },
  {
   "cell_type": "code",
   "execution_count": 169,
   "id": "24f754bc-65f1-4695-ae5f-73dc10e0c9ed",
   "metadata": {},
   "outputs": [],
   "source": [
    "# setting up final ct\n",
    "ct = make_column_transformer(\n",
    "    (imp_ohe, ['Embarked', 'Sex']),\n",
    "    (vect, 'Name'),\n",
    "    (imp_floor, ['Age', 'Fare']),\n",
    "    (letter_imp_ohe, ['Cabin']),\n",
    "    (get_sum, ['SibSp', 'Parch']),\n",
    "    remainder='drop'\n",
    ")"
   ]
  },
  {
   "cell_type": "code",
   "execution_count": 170,
   "id": "97875c17-02ca-4787-83f8-23c1bce0a21e",
   "metadata": {},
   "outputs": [
    {
     "data": {
      "text/plain": [
       "array([0, 0, 0, 0, 0, 0, 1, 0, 1, 0], dtype=int64)"
      ]
     },
     "execution_count": 170,
     "metadata": {},
     "output_type": "execute_result"
    }
   ],
   "source": [
    "pipe = make_pipeline(ct, logreg)\n",
    "pipe.fit(X, y)\n",
    "pipe.predict(X_new)"
   ]
  },
  {
   "cell_type": "code",
   "execution_count": 171,
   "id": "9edc37ae-e9a8-41b0-900c-48b95356eab5",
   "metadata": {},
   "outputs": [
    {
     "data": {
      "text/plain": [
       "0.8271420500910175"
      ]
     },
     "execution_count": 171,
     "metadata": {},
     "output_type": "execute_result"
    }
   ],
   "source": [
    "cross_val_score(pipe, X, y, cv=5, scoring='accuracy').mean()"
   ]
  },
  {
   "cell_type": "markdown",
   "id": "a6107baa-fc01-495e-bfa3-005add3f8f65",
   "metadata": {},
   "source": [
    "---"
   ]
  }
 ],
 "metadata": {
  "kernelspec": {
   "display_name": "Python 3 (ipykernel)",
   "language": "python",
   "name": "python3"
  },
  "language_info": {
   "codemirror_mode": {
    "name": "ipython",
    "version": 3
   },
   "file_extension": ".py",
   "mimetype": "text/x-python",
   "name": "python",
   "nbconvert_exporter": "python",
   "pygments_lexer": "ipython3",
   "version": "3.10.8"
  },
  "toc-autonumbering": true
 },
 "nbformat": 4,
 "nbformat_minor": 5
}
