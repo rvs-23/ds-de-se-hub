{
 "cells": [
  {
   "cell_type": "code",
   "execution_count": 1,
   "id": "06f986a1-56c3-440a-93bc-e11bb78ec6d9",
   "metadata": {},
   "outputs": [],
   "source": [
    "import random\n",
    "\n",
    "class Practice:\n",
    "    \n",
    "    natural_notes = list(\"ABCDEFG\")\n",
    "    chromatice_notes = []\n",
    "    \n",
    "    def __init__(self):\n",
    "        for note in self.natural_notes:\n",
    "            self.chromatice_notes.append(note)\n",
    "            if note in ['B', 'E']:\n",
    "                continue\n",
    "            self.chromatice_notes.append(note+\"#\")\n",
    "        \n",
    "        self.major_formula = \"WWHWWWH\"\n",
    "        self.root_note = random.choice(self.chromatice_notes)\n",
    "    \n",
    "    def major_scale(self, root_note=False):\n",
    "        \n",
    "        if not root_note:\n",
    "            root_note = self.root_note\n",
    "        \n",
    "        scale = []\n",
    "        scale.append(root_note)\n",
    "        start_index = self.chromatice_notes.index(root_note)\n",
    "        \n",
    "        for step in self.major_formula:\n",
    "            if step==\"W\":\n",
    "                start_index += 2\n",
    "            elif step==\"H\":\n",
    "                start_index += 1\n",
    "                \n",
    "            if start_index>=len(self.chromatice_notes):\n",
    "                start_index -= len(self.chromatice_notes)\n",
    "                \n",
    "            scale.append(self.chromatice_notes[start_index])\n",
    "            \n",
    "        return scale\n",
    "    \n",
    "    def major_minor_triads(self, key=False):\n",
    "        if not key:\n",
    "            key = self.root_note\n",
    "        \n",
    "        major_scale = self.major_scale(root_note=key)\n",
    "        \n",
    "        major_triad = [major_scale[0], major_scale[2], major_scale[4]]\n",
    "        third_flat = self.chromatice_notes[self.chromatice_notes.index(major_scale[2]) - 1]\n",
    "        minor_triad = [major_scale[0], third_flat, major_scale[4]]\n",
    "        \n",
    "        return major_triad, minor_triad"
   ]
  },
  {
   "cell_type": "markdown",
   "id": "eb3c3f7e-c113-48f2-812a-b01d67e146f9",
   "metadata": {},
   "source": [
    " "
   ]
  },
  {
   "cell_type": "code",
   "execution_count": 2,
   "id": "f26fc223-ed63-44c4-b57c-e67f104f15aa",
   "metadata": {},
   "outputs": [
    {
     "name": "stdout",
     "output_type": "stream",
     "text": [
      "Chosen key: G#\n",
      "G# major scale: ['G#', 'A#', 'C', 'C#', 'D#', 'F', 'G', 'G#']\n",
      "Major chord notes: ['G#', 'C', 'D#']\n",
      "Minor chord notes: ['G#', 'B', 'D#']\n"
     ]
    }
   ],
   "source": [
    "def practice():\n",
    "    p = Practice()\n",
    "    print(f\"Chosen key: {p.root_note}\")\n",
    "    print(f\"{p.root_note} major scale: {p.major_scale()}\")\n",
    "    Mm = p.major_minor_triads()\n",
    "    print(f\"Major chord notes: {Mm[0]}\")\n",
    "    print(f\"Minor chord notes: {Mm[1]}\")\n",
    "    \n",
    "practice()"
   ]
  },
  {
   "cell_type": "code",
   "execution_count": null,
   "id": "6ccfba6e-95a0-4375-ab21-5d6be22a1369",
   "metadata": {},
   "outputs": [],
   "source": []
  }
 ],
 "metadata": {
  "kernelspec": {
   "display_name": "Python 3 (ipykernel)",
   "language": "python",
   "name": "python3"
  },
  "language_info": {
   "codemirror_mode": {
    "name": "ipython",
    "version": 3
   },
   "file_extension": ".py",
   "mimetype": "text/x-python",
   "name": "python",
   "nbconvert_exporter": "python",
   "pygments_lexer": "ipython3",
   "version": "3.8.8"
  }
 },
 "nbformat": 4,
 "nbformat_minor": 5
}
