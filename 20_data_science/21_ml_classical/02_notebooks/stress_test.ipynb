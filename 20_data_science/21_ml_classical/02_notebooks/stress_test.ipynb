{
 "cells": [
  {
   "cell_type": "code",
   "execution_count": 1,
   "id": "8afea89f-1da0-4294-a4a6-8423b55ab051",
   "metadata": {},
   "outputs": [
    {
     "name": "stdout",
     "output_type": "stream",
     "text": [
      "Beginning test at 2022-10-25 22:33:11.426088\n",
      "    Fact Total_t\n",
      "0  99917   2.899\n",
      "1  99956   2.849\n",
      "2  99986   2.921\n",
      "3  99917   2.859\n",
      "4  99999   2.845\n",
      "Ending test at: 2022-10-25 22:33:25.805084\n"
     ]
    }
   ],
   "source": [
    "import pandas as pd\n",
    "import datetime\n",
    "import random\n",
    "\n",
    "def stress_test():\n",
    "    def fact(n):\n",
    "        fac = 2\n",
    "        for i in range(3, n+1):\n",
    "            fac *= i\n",
    "    \n",
    "    def stress():\n",
    "        s = pd.DataFrame(columns=['Fact', 'Total_t'])\n",
    "        for i in range(5):\n",
    "            start_time = datetime.datetime.now()\n",
    "            n = random.randint(99900, 100000)\n",
    "            res = fact(n)\n",
    "            end_time = datetime.datetime.now()\n",
    "            s.loc[i, 'Fact'] = n\n",
    "            s.loc[i, 'Total_t'] = round((end_time - start_time).total_seconds(), 3)\n",
    "            \n",
    "        return s\n",
    "    \n",
    "    print(f\"Beginning test at {datetime.datetime.now()}\")\n",
    "    df = stress()\n",
    "    print(df.to_string())\n",
    "    print(f\"Ending test at: {datetime.datetime.now()}\")\n",
    "\n",
    "stress_test()"
   ]
  },
  {
   "cell_type": "markdown",
   "id": "eca19f87-091a-41b3-85af-3c83a65724a6",
   "metadata": {},
   "source": [
    "---"
   ]
  }
 ],
 "metadata": {
  "kernelspec": {
   "display_name": "Python 3 (ipykernel)",
   "language": "python",
   "name": "python3"
  },
  "language_info": {
   "codemirror_mode": {
    "name": "ipython",
    "version": 3
   },
   "file_extension": ".py",
   "mimetype": "text/x-python",
   "name": "python",
   "nbconvert_exporter": "python",
   "pygments_lexer": "ipython3",
   "version": "3.9.13"
  }
 },
 "nbformat": 4,
 "nbformat_minor": 5
}
