{
 "cells": [
  {
   "cell_type": "markdown",
   "id": "7642ed9d-54d3-450d-a306-81907300d687",
   "metadata": {},
   "source": [
    "### Dice Simulator\n",
    "Rishav Sharma<br>\n",
    "CodeYoung"
   ]
  },
  {
   "cell_type": "code",
   "execution_count": 1,
   "id": "dd1d7fab",
   "metadata": {},
   "outputs": [],
   "source": [
    "#required module \n",
    "from tkinter import *\n",
    "import random \n",
    "\n",
    "#Setting the window\n",
    "root=Tk()\n",
    "root.title(\"Roll Dice\")\n",
    "root.geometry(\"500x400\")\n",
    "\n",
    "#Creating a label for showing the dice value\n",
    "label=Label(root,font=('helvetica',250,'bold'),text='')\n",
    "\n",
    "\n",
    "#Function to change the value of dice as per button click \n",
    "def rolldice():\n",
    "        \n",
    "\tdice=['\\u2680','\\u2681','\\u2682','\\u2683','\\u2684','\\u2685']\n",
    "\tlabel.configure(text=f'{random.choice(dice)}')\t\n",
    "\tlabel.pack()\n",
    "\n",
    "#creating button for clicking \n",
    "button=Button(root,font=('helvetica',25,'bold'),text='roll dice',command=rolldice,bg=\"skyblue\")\n",
    "button.pack()\n",
    "\n",
    "root.mainloop()"
   ]
  },
  {
   "cell_type": "code",
   "execution_count": null,
   "id": "37240a6f",
   "metadata": {},
   "outputs": [],
   "source": []
  }
 ],
 "metadata": {
  "kernelspec": {
   "display_name": "Python 3",
   "language": "python",
   "name": "python3"
  },
  "language_info": {
   "codemirror_mode": {
    "name": "ipython",
    "version": 3
   },
   "file_extension": ".py",
   "mimetype": "text/x-python",
   "name": "python",
   "nbconvert_exporter": "python",
   "pygments_lexer": "ipython3",
   "version": "3.8.5"
  }
 },
 "nbformat": 4,
 "nbformat_minor": 5
}
